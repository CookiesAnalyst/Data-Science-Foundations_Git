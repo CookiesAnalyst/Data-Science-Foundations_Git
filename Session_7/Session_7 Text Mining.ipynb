{
 "cells": [
  {
   "cell_type": "markdown",
   "metadata": {},
   "source": [
    "### TFIDF SKLEARN "
   ]
  },
  {
   "cell_type": "code",
   "execution_count": 2,
   "metadata": {},
   "outputs": [
    {
     "name": "stdout",
     "output_type": "stream",
     "text": [
      "[0.0, 0.31019096605521496, 0.0, 0.0, 0.0, 0.0, 0.0, 0.0, 0.0, 0.0, 0.0, 0.0, 0.0, 0.0, 0.0, 0.18320378146489946, 0.0, 0.18320378146489946, 0.0, 0.0, 0.0, 0.0, 0.0, 0.0, 0.23957330918096045, 0.0, 0.0, 0.0, 0.18320378146489946, 0.0, 0.23957330918096045, 0.0, 0.0, 0.0, 0.0, 0.0, 0.0, 0.23957330918096045, 0.0, 0.23957330918096045, 0.23957330918096045, 0.0, 0.15022972156764192, 0.0, 0.0, 0.0, 0.0, 0.23957330918096045, 0.0, 0.0, 0.15022972156764192, 0.23957330918096045, 0.0, 0.0, 0.0, 0.0, 0.0, 0.0, 0.0, 0.23957330918096045, 0.0, 0.23957330918096045, 0.0, 0.0, 0.0, 0.23957330918096045, 0.0, 0.0, 0.0, 0.0, 0.0, 0.0, 0.0, 0.0, 0.0, 0.0, 0.0, 0.23957330918096045, 0.23957330918096045, 0.10868731908150663, 0.0, 0.0, 0.0, 0.0, 0.0, 0.0, 0.23957330918096045, 0.0, 0.0, 0.0, 0.0, 0.0, 0.0, 0.0, 0.0, 0.0, 0.0, 0.0]\n",
      "China has a strong economy that is growing at a rapid pace. However politically it differs greatly from the US Economy.\n"
     ]
    }
   ],
   "source": [
    "from __future__ import division\n",
    "import string\n",
    "import math\n",
    "\n",
    "tokenize = lambda doc: doc.lower().split(\" \")\n",
    "\n",
    "document_0 = \"China has a strong economy that is growing at a rapid pace. However politically it differs greatly from the US Economy.\"\n",
    "document_1 = \"At last, China seems serious about confronting an endemic problem: domestic violence and corruption.\"\n",
    "document_2 = \"Japan's prime minister, Shinzo Abe, is working towards healing the economic turmoil in his own country for his view on the future of his people.\"\n",
    "document_3 = \"Vladimir Putin is working hard to fix the economy in Russia as the Ruble has tumbled.\"\n",
    "document_4 = \"What's the future of Abenomics? We asked Shinzo Abe for his views.\"\n",
    "document_5 = \"Obama has eased sanctions on Cuba while accelerating those against the Russian Economy, even as the Ruble's value falls almost daily.\"\n",
    "document_6 = \"Vladimir Putin was found to be riding a horse, again, without a shirt on while hunting deer. Vladimir Putin always seems so serious about things - even riding horses.\"\n",
    "\n",
    "all_documents = [document_0, document_1, document_2, document_3, document_4, document_5, document_6]\n",
    "\n",
    "tokenized_documents = [tokenize(d) for d in all_documents] #tokenized docs\n",
    "\n",
    "all_tokens_set = set ([item for sublist in tokenized_documents for item in sublist])\n",
    "\n",
    "from sklearn.feature_extraction.text import TfidfVectorizer\n",
    "\n",
    "#norm is an L not a 1.\n",
    "\n",
    "sklearn_tfidf = TfidfVectorizer(norm='l2', min_df=0, use_idf=True, smooth_idf=False, sublinear_tf=True, tokenizer=tokenize)\n",
    "\n",
    "sklearn_representation = sklearn_tfidf.fit_transform(all_documents)\n",
    "\n",
    "print(sklearn_representation.toarray()[0].tolist())\n",
    "\n",
    "print (document_0)"
   ]
  },
  {
   "cell_type": "markdown",
   "metadata": {},
   "source": [
    "#### 0.0 means that the word doesn't exist in the document analysed."
   ]
  },
  {
   "cell_type": "markdown",
   "metadata": {},
   "source": [
    "### Cosine Similarity"
   ]
  },
  {
   "cell_type": "code",
   "execution_count": 3,
   "metadata": {
    "collapsed": true
   },
   "outputs": [],
   "source": [
    "def cosine_similarity (vector1, vector2):\n",
    "    dot_product = sum (p*q for p,q in zip(vector1, vector2))\n",
    "    magnitude = math.sqrt (sum([val**2 for val in vector1])) * math.sqrt(sum([val**2 for val in vector2]))\n",
    "    if not magnitude:\n",
    "        return 0\n",
    "    return dot_product/magnitude"
   ]
  },
  {
   "cell_type": "markdown",
   "metadata": {},
   "source": [
    "### Digression: how the zip function works"
   ]
  },
  {
   "cell_type": "code",
   "execution_count": 4,
   "metadata": {},
   "outputs": [
    {
     "name": "stdout",
     "output_type": "stream",
     "text": [
      "[(1, 4), (2, 5), (3, 6)]\n",
      "4\n",
      "10\n",
      "18\n"
     ]
    }
   ],
   "source": [
    "#multiplies pairs of vectors\n",
    "\n",
    "x = [1,2,3]\n",
    "y = [4,5,6]\n",
    "\n",
    "zipped = zip (x,y)\n",
    "print (list(zipped))\n",
    "for p,q in zip (x,y):\n",
    "    print (p*q)"
   ]
  },
  {
   "cell_type": "markdown",
   "metadata": {},
   "source": [
    "### Now that we have a vector representation and a way to compare different vectors we can put it to good use."
   ]
  },
  {
   "cell_type": "code",
   "execution_count": 19,
   "metadata": {},
   "outputs": [
    {
     "data": {
      "text/plain": [
       "0.081143050524630528"
      ]
     },
     "execution_count": 19,
     "metadata": {},
     "output_type": "execute_result"
    }
   ],
   "source": [
    "cosine_similarity (sklearn_representation.toarray()[0],sklearn_representation.toarray()[1])"
   ]
  },
  {
   "cell_type": "code",
   "execution_count": 20,
   "metadata": {},
   "outputs": [
    {
     "name": "stdout",
     "output_type": "stream",
     "text": [
      "[0.0, 0.0, 0.08028860562713344, 0.0, 0.0, 0.0, 0.0, 0.0, 0.0, 0.0, 0.0, 0.08028860562713344, 0.04614547605678448, 0.08028860562713344, 0.0, 0.08028860562713344, 0.0, 0.0, 0.0, 0.0, 0.0, 0.0, 0.0, 0.0, 0.0, 0.0, 0.0, 0.0, 0.04614547605678448, 0.0, 0.0, 0.0, 0.0, 0.05034673899882435, 0.0, 0.0, 0.0, 0.0, 0.08028860562713344, 0.08028860562713344, 0.0, 0.0, 0.0, 0.0, 0.0, 0.0, 0.0, 0.0, 0.02725426152351598, 0.0, 0.08028860562713344, 0.0, 0.061397391093864946, 0.08028860562713344, 0.0, 0.0, 0.0, 0.0, 0.0, 0.0, 0.0, 0.0, 0.0, 0.0, 0.0, 0.0, 0.0, 0.031455524465555856, 0.07111830329485656, 0.08028860562713344, 0.0, 0.0, 0.0, 0.0, 0.0, 0.0, 0.0, 0.08028860562713344, 0.0, 0.08028860562713344, 0.061397391093864946, 0.0, 0.0, 0.0, 0.0, 0.0, 0.0, 0.0, 0.08028860562713344, 0.05719612815182508, 0.0869197313353299, 0.0, 0.0, 0.08524443918624691, 0.0, 0.0, 0.0, 0.0, 0.0, 0.0, 0.08028860562713344, 0.042506176560596444, 0.0, 0.0, 0.0, 0.0, 0.0, 0.0, 0.0, 0.0, 0.0, 0.08028860562713344, 0.0, 0.0, 0.0, 0.0, 0.03642456385579287, 0.0, 0.0, 0.0, 0.0, 0.0, 0.0, 0.0, 0.061397391093864946, 0.08028860562713344, 0.0, 0.0, 0.0, 0.0, 0.0, 0.031455524465555856, 0.0, 0.0, 0.0, 0.0, 0.08028860562713344, 0.0, 0.0, 0.0, 0.0, 0.031455524465555856, 0.08028860562713344, 0.0, 0.02725426152351598, 0.0, 0.0, 0.10395481962431374, 0.0, 0.0, 0.0, 0.0, 0.0, 0.08028860562713344, 0.0, 0.0, 0.08028860562713344, 0.06167214759556138, 0.0, 0.0, 0.0, 0.0, 0.0, 0.0, 0.0, 0.0, 0.0, 0.0, 0.0, 0.0, 0.0, 0.0, 0.08028860562713344, 0.0, 0.0, 0.0, 0.08028860562713344, 0.0, 0.0, 0.0, 0.0, 0.0, 0.0, 0.0, 0.0, 0.0, 0.0, 0.0, 0.042506176560596444, 0.0, 0.0, 0.0, 0.0, 0.0, 0.0, 0.0, 0.0, 0.08028860562713344, 0.0, 0.0, 0.08028860562713344, 0.0, 0.0, 0.0, 0.08028860562713344, 0.0, 0.0, 0.0, 0.0, 0.0, 0.0, 0.0, 0.0, 0.0, 0.0, 0.0, 0.0, 0.0, 0.0, 0.0, 0.061397391093864946, 0.0, 0.031455524465555856, 0.0, 0.0, 0.0, 0.0, 0.13594042624867037, 0.0, 0.0, 0.0, 0.053258832561890276, 0.0, 0.0, 0.0, 0.0, 0.0, 0.0, 0.0, 0.0, 0.0, 0.0, 0.0, 0.0, 0.0, 0.05034673899882435, 0.0, 0.0, 0.0, 0.0, 0.0, 0.0, 0.03642456385579287, 0.0, 0.061397391093864946, 0.0, 0.0, 0.0, 0.0, 0.08028860562713344, 0.0, 0.0, 0.08028860562713344, 0.0, 0.0, 0.0, 0.05034673899882435, 0.0, 0.0, 0.0, 0.0, 0.061397391093864946, 0.0, 0.0, 0.0, 0.0, 0.0, 0.0, 0.0, 0.0, 0.0, 0.0, 0.0, 0.08028860562713344, 0.08028860562713344, 0.0, 0.0, 0.08028860562713344, 0.08028860562713344, 0.08028860562713344, 0.0, 0.0, 0.0, 0.0, 0.0, 0.08028860562713344, 0.0, 0.0, 0.08028860562713344, 0.08028860562713344, 0.0, 0.0, 0.0, 0.0, 0.0, 0.0, 0.0, 0.0, 0.0, 0.0, 0.0, 0.0, 0.08028860562713344, 0.0, 0.0, 0.0, 0.0, 0.0, 0.0, 0.0, 0.0, 0.05719612815182508, 0.0, 0.0, 0.0, 0.0, 0.0, 0.0, 0.0, 0.0, 0.0, 0.0, 0.0, 0.0, 0.0, 0.053258832561890276, 0.08028860562713344, 0.061397391093864946, 0.0, 0.0, 0.0, 0.0, 0.0, 0.03642456385579287, 0.061397391093864946, 0.0, 0.0, 0.0, 0.0750621406582247, 0.0, 0.0, 0.0, 0.08028860562713344, 0.08028860562713344, 0.0, 0.0, 0.0, 0.0, 0.08028860562713344, 0.0, 0.0, 0.07644103731714318, 0.03642456385579287, 0.0, 0.0750621406582247, 0.0, 0.0, 0.0, 0.0, 0.08028860562713344, 0.0, 0.05034673899882435, 0.0, 0.0, 0.0, 0.0, 0.0, 0.08028860562713344, 0.08028860562713344, 0.0, 0.0, 0.0, 0.08028860562713344, 0.08028860562713344, 0.08028860562713344, 0.08028860562713344, 0.05719612815182508, 0.061397391093864946, 0.0, 0.0, 0.0, 0.0, 0.0, 0.0, 0.0, 0.0, 0.0750621406582247, 0.0, 0.0, 0.02725426152351598, 0.0, 0.031455524465555856, 0.0, 0.0, 0.0, 0.0, 0.0, 0.0, 0.0, 0.0, 0.0, 0.0, 0.0, 0.08028860562713344, 0.08028860562713344, 0.0, 0.0, 0.05034673899882435, 0.0, 0.0, 0.0, 0.053258832561890276, 0.08028860562713344, 0.0, 0.0, 0.04614547605678448, 0.0, 0.0, 0.08028860562713344, 0.0, 0.08028860562713344, 0.0, 0.0, 0.08028860562713344, 0.0, 0.0, 0.0, 0.0, 0.0, 0.0, 0.0, 0.0, 0.0, 0.0, 0.0, 0.0, 0.0, 0.0, 0.08028860562713344, 0.0, 0.0, 0.08028860562713344, 0.13594042624867037, 0.0, 0.08028860562713344, 0.0, 0.10395481962431374, 0.0, 0.0, 0.0, 0.0, 0.0, 0.0, 0.0, 0.0, 0.061397391093864946, 0.03642456385579287, 0.061397391093864946, 0.0, 0.13594042624867037, 0.0, 0.0, 0.0, 0.0, 0.0, 0.042506176560596444, 0.13594042624867037, 0.0, 0.0, 0.0, 0.0, 0.0, 0.0, 0.0, 0.0, 0.0, 0.08028860562713344, 0.0, 0.08028860562713344, 0.0, 0.0, 0.0, 0.0, 0.0, 0.0, 0.0, 0.0, 0.0, 0.0, 0.0, 0.05034673899882435, 0.0, 0.08028860562713344, 0.0, 0.0, 0.0, 0.0, 0.0, 0.0, 0.0, 0.0, 0.0, 0.0, 0.0, 0.061397391093864946, 0.0, 0.0, 0.08392790512332148, 0.0, 0.08028860562713344, 0.0, 0.0, 0.08028860562713344, 0.0, 0.0, 0.0, 0.061397391093864946, 0.0, 0.02725426152351598, 0.08028860562713344, 0.042506176560596444, 0.0, 0.0, 0.0, 0.0, 0.0, 0.0, 0.0, 0.0, 0.0, 0.0, 0.0, 0.05034673899882435, 0.0, 0.0, 0.0, 0.0, 0.031455524465555856, 0.0, 0.0, 0.0, 0.0, 0.07196921299995711, 0.08028860562713344, 0.08028860562713344, 0.0, 0.061397391093864946, 0.08028860562713344, 0.0, 0.0, 0.0, 0.0, 0.061397391093864946, 0.0, 0.061397391093864946, 0.0, 0.0, 0.0, 0.0, 0.0, 0.0, 0.0, 0.0, 0.0, 0.0, 0.0, 0.0, 0.0, 0.0, 0.0, 0.0, 0.0, 0.0, 0.0, 0.0, 0.0, 0.0, 0.0, 0.0, 0.0, 0.08028860562713344, 0.0, 0.042506176560596444, 0.061397391093864946, 0.0, 0.0, 0.0, 0.0, 0.0, 0.0, 0.0, 0.0, 0.0, 0.0, 0.0, 0.0, 0.0, 0.0, 0.0, 0.0, 0.0, 0.0, 0.08208123809591984, 0.042506176560596444, 0.0, 0.0, 0.0, 0.0, 0.0, 0.0, 0.05034673899882435, 0.0, 0.0, 0.0, 0.0, 0.0, 0.0, 0.0, 0.0, 0.03642456385579287, 0.05034673899882435, 0.0, 0.0, 0.0, 0.0, 0.0, 0.0, 0.0, 0.0, 0.0, 0.0, 0.0, 0.0, 0.0, 0.08028860562713344, 0.08028860562713344, 0.0, 0.0, 0.0, 0.0, 0.0, 0.0, 0.0, 0.0, 0.0, 0.0, 0.0, 0.0, 0.0, 0.0, 0.0, 0.0, 0.0, 0.0, 0.08028860562713344, 0.0, 0.0, 0.061397391093864946, 0.0, 0.0, 0.08028860562713344, 0.0, 0.0, 0.0, 0.0, 0.0, 0.0, 0.0, 0.0, 0.08028860562713344, 0.0, 0.031455524465555856, 0.0, 0.061397391093864946, 0.0, 0.0, 0.061397391093864946, 0.08028860562713344, 0.08028860562713344, 0.0, 0.0, 0.0, 0.0, 0.0, 0.0, 0.0, 0.0, 0.0, 0.0, 0.0, 0.0, 0.0, 0.0, 0.0, 0.0, 0.0, 0.0, 0.0, 0.0, 0.0, 0.0, 0.0, 0.08028860562713344, 0.0, 0.0, 0.0, 0.0, 0.08028860562713344, 0.0, 0.0, 0.0, 0.0, 0.0, 0.0, 0.0, 0.08028860562713344, 0.0, 0.031455524465555856, 0.0, 0.0, 0.0, 0.0, 0.0, 0.0, 0.0, 0.0660129501899159, 0.0, 0.08028860562713344, 0.0, 0.0, 0.0, 0.0, 0.0, 0.0, 0.0, 0.0, 0.0, 0.0, 0.05034673899882435, 0.0, 0.042506176560596444, 0.0, 0.0, 0.0, 0.0, 0.0, 0.0, 0.08028860562713344, 0.0, 0.061397391093864946, 0.0, 0.0, 0.0, 0.0, 0.10565828515729878, 0.0, 0.0, 0.0, 0.0, 0.0, 0.0, 0.0, 0.0, 0.0, 0.0, 0.0, 0.08028860562713344, 0.0, 0.0, 0.08208123809591984, 0.08028860562713344, 0.12084504686296169, 0.08524443918624691, 0.0, 0.0, 0.13594042624867037, 0.08028860562713344, 0.12884931944174696, 0.0, 0.0, 0.0, 0.0, 0.0, 0.0, 0.0, 0.0, 0.061397391093864946, 0.08028860562713344, 0.09497855721836207, 0.061397391093864946, 0.061397391093864946, 0.0, 0.0, 0.08028860562713344, 0.0, 0.0, 0.0, 0.08028860562713344, 0.0, 0.0, 0.0, 0.0, 0.0, 0.0, 0.0, 0.0, 0.0, 0.0, 0.0, 0.08028860562713344, 0.0, 0.0, 0.0, 0.08028860562713344, 0.0, 0.0, 0.0, 0.0, 0.0, 0.0, 0.0, 0.0, 0.0, 0.0, 0.0, 0.0, 0.0, 0.0, 0.0, 0.0, 0.0, 0.0, 0.0, 0.0, 0.0, 0.0, 0.0, 0.0, 0.0, 0.0, 0.042506176560596444, 0.05034673899882435, 0.0, 0.0, 0.0, 0.042506176560596444, 0.0, 0.05719612815182508, 0.0, 0.0, 0.0, 0.0, 0.0, 0.0, 0.0, 0.08028860562713344, 0.08028860562713344, 0.0, 0.0, 0.04614547605678448, 0.08028860562713344, 0.0, 0.0, 0.0, 0.0, 0.0, 0.0, 0.0, 0.0, 0.0, 0.0, 0.0, 0.0, 0.0, 0.0, 0.0, 0.0, 0.0, 0.0, 0.0, 0.0, 0.0]\n",
      "Puigdemont to unsuspend independence if Spain intervenes in Catalonia's autonomy. Catalan president, Carles Puigdemont, has told the national council of PDeCAT (Catalan European Democratic Party) that, if the Spanish state decides to employ article 155 of the Spanish Constitution and intervene in Catalonia's autonomy, it will mean that the central government has categorically rejected their offer of dialogue and, as such, he will have to apply the result of the 1st October referendum and lift the suspension on the declaration of independence. Puigdemont made this statement after the party's general coordinator, Marta Pascal, guaranteed him full complicity from the party in lifting the suspension if Mariano Rajoy's government activates article 155. The party has thus shown their support hours before the deadline to revoke the declaration runs out at 10am this Thursday. Puigdemont and Pascal were the only ones to speak during the meeting, and both highlighted the need to fulfil the mandate from the referendum, as long as the central government decides to reject offers of dialogue. They didn't discuss elections, but agreed that the activation of article 155 would give grounds for calling Parliament in the coming days to agree an official response. The president even joked, according to people present at the meeting, that he wouldn't do the same thing as the king emeritus, Juan Carlos I, who famously apologised for a controversial elephant hunting trip he took to Botswana, saying I'm sorry, I made a mistake. It won't happen again. Puigdemont said that this is what the Spanish government is hoping he will say.That isn't to say they ignored the seriousness of the moment, emphasising that lifting the suspension would mean entering into unknown territory. Puigdemont arrived and left Barcelona's World Trade Center for the meeting to applause.\n"
     ]
    }
   ],
   "source": [
    "from __future__ import division\n",
    "import string\n",
    "import math\n",
    "\n",
    "tokenize = lambda doc: doc.lower().split(\" \")\n",
    "\n",
    "document_0 = \"Puigdemont to unsuspend independence if Spain intervenes in Catalonia's autonomy. Catalan president, Carles Puigdemont, has told the national council of PDeCAT (Catalan European Democratic Party) that, if the Spanish state decides to employ article 155 of the Spanish Constitution and intervene in Catalonia's autonomy, it will mean that the central government has categorically rejected their offer of dialogue and, as such, he will have to apply the result of the 1st October referendum and lift the suspension on the declaration of independence. Puigdemont made this statement after the party's general coordinator, Marta Pascal, guaranteed him \"\"full complicity\"\" from the party in lifting the suspension if Mariano Rajoy's government activates article 155. The party has thus shown their support hours before the deadline to revoke the declaration runs out at 10am this Thursday. Puigdemont and Pascal were the only ones to speak during the meeting, and both highlighted the need to fulfil the mandate from the referendum, as long as the central government decides to reject offers of dialogue. They didn't discuss elections, but agreed that the activation of article 155 would give grounds for calling Parliament in the coming days to agree an official response. The president even joked, according to people present at the meeting, that he wouldn't do the same thing as the king emeritus, Juan Carlos I, who famously apologised for a controversial elephant hunting trip he took to Botswana, saying \"\"I'm sorry, I made a mistake. It won't happen again\"\". Puigdemont said that this is what the Spanish government is hoping he will say.That isn't to say they ignored the seriousness of the moment, emphasising that lifting the suspension would mean entering into \"\"unknown territory\"\". Puigdemont arrived and left Barcelona's World Trade Center for the meeting to applause.\"\n",
    "document_1 = \"Spain moves to suspend Catalan autonomy. Spain is to start suspending Catalonian autonomy on Saturday, after its leader threatened to declare independence. The PM's office said ministers would meet to activate Article 155 of the constitution, allowing it to take over running of the region. Catalonia's leader said earlier the region's parliament would vote on independence, backed in a disputed referendum on 1 October, if Spain \"\"continues repression\"\".Some fear the moves could spark unrest. \"\"The Spanish government will continue with the procedures outlined in Article 155 of the Constitution to restore legality in Catalonia's self-government,\"\" Prime Minister Mariano Rajoy's statement said. Article 155 of Spain's 1978 constitution, which cemented democratic rule after the death of dictator General Franco three years earlier, allows Madrid to impose direct rule in a crisis but it has never been invoked. Political leaders in Madrid and Barcelona have been engaged in a tense stand-off since the disputed referendum, which Catalan leaders say resulted in a \"\"Yes\"\" vote for independence but which the central government regards as illegal.\"\n",
    "document_2 = \"Spain to trigger direct rule on Catalonia over independence bid. The Spanish government said Thursday it would begin the process to impose direct rule on Catalonia in an unprecedented move to crush the region's independence bid. In a statement from Madrid, the government of Prime Minister Mariano Rajoy said it would invoke Article 155 of the constitution, a provision that allows the central government to suspend the autonomy of the Catalan regional administration. The statement did not spell out exactly what steps it would take. Spain's Senate, controlled by Spanish Prime Minister Mariano Rajoy's Popular Party, would have to vote to approve Article 155 before it could be brought into effect in Catalonia. The announcement came minutes after Catalan President Carles Puigdemont threatened that the region could formally declare independence if the Spanish government does not engage in dialogue. Puigdemont also demanded Spain end its \"\"repression\"\" of Catalan independence leaders, in a letter sent shortly before a Madrid-imposed deadline for the region to drop its independence bid. \"\"The decision of triggering Article 155 falls to the Spanish Government, with the authorization of the Senate,\"\" he wrote. \"\"Despite all our efforts and our will for dialogue, the fact that your only answer is canceling our autonomy indicates that that you do not understand the problem and do not wish to talk.\"\" Finally, if the Spanish Government insists in avoiding dialogue and continuing with oppressive measures, the Catalan Parliament will have the right, if thought necessary, to vote a formal declaration of independence, which was not voted on 10 October.\"\" Under Spain's 1978 constitution, Catalonia and other regions such as the Basque country enjoy wide autonomy.\"\n",
    "document_3 = \"Spain Sets Stage to Take Control of Catalonia. The Spanish government is preparing emergency measures to halt Catalan secessionism in its tracks after the region’s leader warned on Thursday that lawmakers in the region could vote in favor of a declaration of independence. Facing an ultimatum to state Catalonia’s intentions in a territorial conflict with Spain, Carles Puigdemont, the Catalan leader, warned Spain’s central government in a letter earlier in the day that the Catalan Parliament could vote in favor of independence if Madrid decided to take administrative control of his region. But far from withdrawing his secessionist plan, as demanded by Madrid, Mr. Puigdemont said that the separatists were prepared to press ahead with independence from Spain if the national government used emergency powers in the region, according to a copy of a letter Mr. Puigdemont sent to Prime Minister Mariano Rajoy of Spain. The Spanish government said it would convene an emergency cabinet meeting on Saturday “to defend the general interest of Spaniards, among them the citizens of Catalonia, and take the measures to reestablish the constitutional order in Catalonia.” Mr. Puigdemont blamed Mr. Rajoy for escalating the conflict by refusing to meet and negotiate, “despite all our efforts and our will to dialogue.” The Catalan leader concluded his letter with a clear threat of a breakup threat: “If the government continues to prevent dialogue and maintains the repression, the Parliament of Catalonia could go ahead, if it deems it opportune, and vote the formal declaration of independence that wasn’t voted on Oct. 10.” The letter was sent shortly before the 10 a.m. Thursday deadline that Mr. Rajoy had set for Mr. Puigdemont to clarify whether Catalonia had declared independence. The question arose after Mr. Puigdemont delivered a perplexing speech before Catalonia’s regional Parliament on Oct. 10, in which he appeared to declare independence but then immediately suspended the decision. Separatist lawmakers then signed a declaration of independence, but without first voting on the text, as had been expected. In recent days, government officials in Madrid have repeatedly warned that Mr. Rajoy would consider anything short of a clear withdrawal of the declaration of independence to be unacceptable blackmail, after what he deemed an unsatisfactory response from Mr. Puigdemont on Monday. Catalonia voted on independence despite opposition from Spain's government. What are the origins of the secessionist movement, and what happens now? Mr. Rajoy initiated a request last week to invoke Article 155 of the Spanish Constitution — a broad, forceful tool that has never been used — that would allow him to take control of Catalonia. The article would give Madrid the authority to suspend Mr. Puigdemont and other Catalan lawmakers, and to take charge of the region’s autonomous administration, although Mr. Rajoy has not publicly committed to an emergency intervention. It is unclear what Mr. Rajoy will propose to his cabinet on Saturday, but he may try to gradually raise pressure on the fragile coalition of Catalan separatists, rather than risk a forceful intervention that could backfire and galvanize the independence movement. Politicians in Madrid have also recently demanded that Catalonia hold regional elections as soon as possible, but Mr. Puigdemont made no mention of such a vote in his letter on Thursday. The separatist leaders of Catalonia are already claiming that Madrid has used disproportionate means to push them out of office, with the help of Spanish police officers and the courts. On Tuesday evening, about 200,000 demonstrators gathered in central Barcelona, according to the local police, to demand the release of two separatist leaders who were sent to prison without bail, pending a trial on sedition charges. In his letter on Thursday, Mr. Puigdemont mentioned the arrest of the two leaders as evidence of Spain’s repressive stance. Mr. Puigdemont is committed to honoring the result of a highly divisive referendum on independence, which went ahead on Oct. 1 despite having been declared illegal by the Constitutional Court and despite a violent crackdown by the Spanish police. Almost 2.3 million people cast ballots, and 90 percent voted for independence, according to the Catalan government. But the threat of declaring independence then prompted hundreds of companies to relocate their headquarters outside Catalonia, further straining the unwieldy separatist coalition that holds a majority of the seats in the regional Parliament. Hard-line secessionists want an abrupt and unilateral rupture with the central government in Madrid, while conservative and more moderate separatists are increasingly worried about the economic consequences for Catalonia if companies leave the region. Mr. Puigdemont sent his latest letter after an emergency meeting of his conservative party late Wednesday, during which party lawmakers gave clear support for not withdrawing the declaration of independence, according to local news reports. Using constitutional powers, Mr. Rajoy could appoint a caretaker administration in Catalonia. Mr. Puigdemont, on the other hand, could face sedition charges and ultimately a heavy prison sentence for presenting a unilateral declaration of independence that violates Spain’s Constitution.\"\n",
    "document_4 = \"The Latest: Spain to hold Cabinet meeting on Catalonia. 10:20 a.m. Spain’s government says the prime minister will hold a special Cabinet meeting on Saturday to trigger the process to take some or full control of Catalonia’s semi-autonomous powers. The government was responding to a letter from Catalan president Carles Puigdemont who threatened to explicitly declare independence from Spain if no talks are offered. Puigdemont said in the letter that if Spain’s government continues to “impede dialogue and continues its repression,” Catalonia’s parliament will proceed to hold a vote on declaring independence from Spain. Spain replied that the government would hold the special Cabinet meeting and “approve the measures that will be sent to the Senate to protect the general interest of all Spaniards.” The measure falls under Article 155 of Spain’s 1978 Constitution, but has never been used in the four decades since democracy was restored at the end of Gen. Francisco Franco’s dictatorship. 9:50 a.m. Catalonia’s leader has threatened to explicitly declare independence from Spain if no talks are offered and central authorities follow through on a threat to take control of the region’s semi-autonomous powers. Carles Puigdemont’s warning came in a letter to Spain’s leader minutes before the expiration of a deadline to back down on the independence bid. Puigdemont said in the letter that if Spain’s government continues to “impede dialogue and continues its repression,” Catalonia’s parliament will proceed to hold a vote on declaring independence from Spain. Puigdemont, in an address to the regional parliament last week, declared independence but then immediately suspended it and challenged Spain to hold negotiations. A Spanish government official said the letter didn’t answer the call for Puigdemont to clarify whether Puigdemont had already declared independence. The official said on customary condition of anonymity that the government plans to trigger Article 155 of the Constitution. 8:50 a.m. Catalonia’s separatist leader is facing an imminent deadline to withdraw a bid to secede from Spain. But an official from Carles Puigdemont’s party says that he has no intention of doing that and he plans to make a full declaration of independence in the next few days if Spain’s government resorts to taking over control of Catalonia’s semi-autonomous powers. PDECat party coordinator Marta Pascal outlined Puigdemont’s plans after a meeting late Wednesday. Spain has threatened to take direct control of the autonomous region if Puigdemont fails to meet the 0800 GMT (4 a.m. EDT) Thursday cutoff. Spain’s government says it would be willing to hold off on doing that if the Catalan government were to call a snap regional election. But a Catalan official has ruled that out.\"\n",
    "document_5 = \"Spain to trigger direct rule over Catalonia as deadline passes. Madrid says it will press ahead with suspending Catalan autonomy on Saturday after region’s president refuses to abandon secession plans. The Spanish government is to suspend Catalonia’s autonomy and impose direct rule after the region’s president refused to abandon the push for independence that has pitched Spain into its worst political crisis for 40 years. The announcement of the unprecedented measure came after the Catalan president, Carles Puigdemont, threatened a unilateral declaration of independence if the Spanish government did not agree to talks on the issue. In a letter sent on Thursday morning to the Spanish prime minister, Mariano Rajoy, Puigdemont said talks were the only way to avert the crisis, as the deadline set by Madrid for the region to abandon its independence plans passed. The Catalan leader also accused the Spanish authorities of seeking to repress the independence movement after two of its leaders were denied bail by a national court judge earlier this week and said that using article 155 of the constitution to impose direct rule from Madrid would force his hand. “The suspension [of the independence declaration] is still in place,” he wrote. “The [Spanish] state is entitled to decide to apply article 155 if it secures the senate’s approval. But despite all our efforts and our desire for dialogue, the fact that the only reply we have been given is that autnonomy will be suspended suggests that you do not understand the problem and do not wish to talk. “If the [Spanish] government persists in hindering dialogue and continues with its repression, the Catalan parliament could, if it deems appropriate, proceed to vote on the formal declaration of independence.” In a statement on Thursday morning, the Spanish government noted that Puigdemont had again failed to confirm whether or not independence had been declared, adding: “At an emergency meeting on Saturday, the cabinet will approve measures to be put before the senate to protect the general interest of Spaniards - including the citizens of Catalonia - and to restore constitutional order in the autonomous community.” The government also criticised the Catalan authorities for “deliberately and systematically seeking institutional confrontation despite the serious damage it’s causing to co-existence and Catalonia’s economy”. The unilateral Catalan independence referendum held on 1 October has plunged Spain into its worst political crisis since its return to democracy four decades ago. Although Puigdemont has claimed that the poll – in which 90% of participants opted for independence – has given his government the mandate to forge a sovereign state, he has ignored Rajoy’s demand to clarify whether or not independence has actually been declared. He has instead proposed that the effects of an independence declaration be suspended for two months while both sides embark on dialogue to resolve the standoff. On Wednesday, the Spanish prime minister had issued a last-minute call for Puigdemont to calm the situation and act in the interests of all Spaniards and Catalans. Speaking in parliament, Rajoy asked Puigdemont’s colleagues to persuade him “not to make any more problems” that would “oblige the government to make decisions that would be better never to make”. The Spanish government has said it would be willing to hold off on imposing 155 if the Catalan government were to call a snap regional election without a confirmation of independence. However, the Catalan foreign minister, Raül Romeva, insisted such a move was not being considered, telling reporters in Brussels on Wednesday: “Elections from our perspective are not an option.” Tensions in the already fraught impasse rose further earlier this week after a judge at Spain’s national court denied bail to two prominent Catalan independence leaders who are being investigated for alleged sedition. Jordi Sánchez, the president of the Catalan National Assembly (ANC), and Jordi Cuixart, the president of Òmnium Cultural, are accused of using huge demonstrations to try to stop Spanish police officers following a judge’s orders to halt the referendum. Their detention prompted huge protests across Catalonia on Tuesday. On the same day, Spain’s constitutional court announced that it had annulled the Catalan law that had paved the way for the referendum, adding that the right to “promote and enact the unilateral secession” of a part of the country was not recognised in the Spanish constitution. According to the Catalan government, about 2.3 million of Catalonia’s 5.3 million registered voters – 43% – took part in the referendum. It says 770,000 votes were lost after Spanish police stepped in to try to halt the vote.\"\n",
    "document_6 = \"Madrid to press ahead with suspension of Catalan autonomy. Madrid will suspend Catalonia’s political autonomy on Saturday after the region missed a deadline to clarify an ambiguous declaration of independence. Catalan leader Carles Puigdemont was given until 10.30am CET on Thursday to clear-up whether Catalonia had declared its intention to split from Spain. Puigdemont declared independence following a referendum but then suspended it and called for talks with Madrid. Madrid confirmed after the deadline passed that it will push forward the process of implementing article 155 of Spain’s 1978 constitution, which allows it to take control of a region if it breaks the law. Puigdemont told members of his Catalan Democratic Party on Wednesday night that not only he would not back down but that he would press ahead with a more formal declaration of independence if Rajoy suspends Catalonia’s political autonomy.\"\n",
    "\n",
    "all_documents = [document_0, document_1, document_2, document_3, document_4, document_5, document_6]\n",
    "\n",
    "tokenized_documents = [tokenize(d) for d in all_documents] #tokenized docs\n",
    "\n",
    "all_tokens_set = set ([item for sublist in tokenized_documents for item in sublist])\n",
    "\n",
    "from sklearn.feature_extraction.text import TfidfVectorizer\n",
    "\n",
    "#norm is an L not a 1.\n",
    "\n",
    "sklearn_tfidf = TfidfVectorizer(norm='l2', min_df=0, use_idf=True, smooth_idf=False, sublinear_tf=True, tokenizer=tokenize)\n",
    "\n",
    "sklearn_representation = sklearn_tfidf.fit_transform(all_documents)\n",
    "\n",
    "print(sklearn_representation.toarray()[0].tolist())\n",
    "\n",
    "print (document_0)"
   ]
  },
  {
   "cell_type": "code",
   "execution_count": 28,
   "metadata": {},
   "outputs": [
    {
     "data": {
      "text/plain": [
       "0.26518123571364838"
      ]
     },
     "execution_count": 28,
     "metadata": {},
     "output_type": "execute_result"
    }
   ],
   "source": [
    "cosine_similarity (sklearn_representation.toarray()[1],sklearn_representation.toarray()[2])"
   ]
  },
  {
   "cell_type": "code",
   "execution_count": null,
   "metadata": {
    "collapsed": true
   },
   "outputs": [],
   "source": []
  },
  {
   "cell_type": "code",
   "execution_count": null,
   "metadata": {
    "collapsed": true
   },
   "outputs": [],
   "source": []
  },
  {
   "cell_type": "code",
   "execution_count": null,
   "metadata": {
    "collapsed": true
   },
   "outputs": [],
   "source": []
  },
  {
   "cell_type": "code",
   "execution_count": null,
   "metadata": {
    "collapsed": true
   },
   "outputs": [],
   "source": []
  }
 ],
 "metadata": {
  "kernelspec": {
   "display_name": "Python 3",
   "language": "python",
   "name": "python3"
  },
  "language_info": {
   "codemirror_mode": {
    "name": "ipython",
    "version": 3
   },
   "file_extension": ".py",
   "mimetype": "text/x-python",
   "name": "python",
   "nbconvert_exporter": "python",
   "pygments_lexer": "ipython3",
   "version": "3.6.1"
  }
 },
 "nbformat": 4,
 "nbformat_minor": 2
}
