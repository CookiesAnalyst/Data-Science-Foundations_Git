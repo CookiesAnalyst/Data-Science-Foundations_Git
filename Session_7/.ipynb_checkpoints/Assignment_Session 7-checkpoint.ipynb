{
 "cells": [
  {
   "cell_type": "markdown",
   "metadata": {},
   "source": [
    "### 1.- Given the lyrics you selected in your previous homework, compute their similarity."
   ]
  },
  {
   "cell_type": "code",
   "execution_count": 1,
   "metadata": {
    "collapsed": true
   },
   "outputs": [],
   "source": [
    "import nltk\n",
    "from nltk import word_tokenize, pos_tag, ne_chunk"
   ]
  },
  {
   "cell_type": "code",
   "execution_count": 3,
   "metadata": {},
   "outputs": [],
   "source": [
    "myfile1 = open('/Users/sergi/Desktop/lyrics/daydreaming.txt', 'r')\n",
    "lyric1 = myfile1.read().replace('\\n', \" \")\n",
    "\n",
    "myfile2 = open('/Users/sergi/Desktop/lyrics/declareindependence.txt', 'r')\n",
    "lyric2 = myfile2.read().replace('\\n', \" \")\n",
    "\n",
    "myfile3 = open('/Users/sergi/Desktop/lyrics/dontworry.txt', 'r')\n",
    "lyric3 = myfile3.read().replace('\\n', \" \")\n",
    "\n",
    "myfile4 = open('/Users/sergi/Desktop/lyrics/everythingnow.txt', 'r')\n",
    "lyric4 = myfile4.read().replace('\\n', \" \")\n",
    "\n",
    "myfile5 = open('/Users/sergi/Desktop/lyrics/foreveryoung.txt', 'r')\n",
    "lyric5 = myfile5.read().replace('\\n', \" \")\n",
    "\n",
    "myfile6 = open('/Users/sergi/Desktop/lyrics/gyalyouapartyanimal.txt', 'r')\n",
    "lyric6 = myfile6.read().replace('\\n', \" \")\n",
    "\n",
    "myfile7 = open('/Users/sergi/Desktop/lyrics/ifeelitcoming.txt', 'r')\n",
    "lyric7 = myfile7.read().replace('\\n', \" \")\n",
    "\n",
    "myfile8 = open('/Users/sergi/Desktop/lyrics/isthisit.txt', 'r')\n",
    "lyric8 = myfile8.read().replace('\\n', \" \")\n",
    "\n",
    "myfile9 = open('/Users/sergi/Desktop/lyrics/shapeofyou.txt', 'r')\n",
    "lyric9 = myfile9.read().replace('\\n', \" \")\n",
    "\n",
    "myfile10 = open('/Users/sergi/Desktop/lyrics/wonderfullife.txt', 'r')\n",
    "lyric10 = myfile10.read().replace('\\n', \" \")"
   ]
  },
  {
   "cell_type": "code",
   "execution_count": 5,
   "metadata": {},
   "outputs": [
    {
     "name": "stdout",
     "output_type": "stream",
     "text": [
      "[0.0, 0.0, 0.0, 0.0, 0.0, 0.0, 0.0, 0.0, 0.05482327768845429, 0.0, 0.0, 0.0, 0.0, 0.0, 0.0, 0.0, 0.0, 0.0, 0.0, 0.0, 0.0, 0.0, 0.0, 0.0, 0.0, 0.06066503879653599, 0.0, 0.0, 0.0, 0.0, 0.0749333918999829, 0.0, 0.0, 0.0, 0.0, 0.0, 0.0, 0.0, 0.0, 0.0, 0.0, 0.0, 0.0, 0.0, 0.0, 0.0, 0.0, 0.0, 0.0, 0.0, 0.0, 0.0, 0.0, 0.0, 0.34375361782928576, 0.16380044074146252, 0.0, 0.0, 0.0, 0.0, 0.0, 0.0, 0.0, 0.0, 0.0, 0.0, 0.0, 0.0, 0.0, 0.0, 0.0, 0.0, 0.0, 0.0, 0.0, 0.0, 0.0, 0.0, 0.0, 0.1093118592149584, 0.0, 0.0, 0.0, 0.0, 0.0, 0.0, 0.0, 0.0, 0.0, 0.0, 0.0, 0.0, 0.0, 0.0, 0.0, 0.16380044074146252, 0.0, 0.0, 0.0, 0.0, 0.0, 0.0, 0.0, 0.0, 0.0, 0.0, 0.27733825441588367, 0.0, 0.0, 0.0, 0.0, 0.0, 0.0, 0.0, 0.0, 0.0, 0.0, 0.0, 0.0, 0.0, 0.0, 0.0, 0.0, 0.0, 0.0, 0.0, 0.27733825441588367, 0.0, 0.16380044074146252, 0.0, 0.0, 0.0, 0.0, 0.0, 0.0, 0.0, 0.0, 0.0, 0.0, 0.0, 0.0, 0.0, 0.0, 0.0, 0.0, 0.0, 0.0, 0.0, 0.0, 0.0, 0.0, 0.0, 0.0, 0.0, 0.0, 0.0, 0.0, 0.0, 0.0, 0.0, 0.0, 0.0, 0.0, 0.0, 0.0, 0.0, 0.0, 0.0, 0.0, 0.0, 0.0, 0.0, 0.0, 0.0, 0.0, 0.0, 0.0, 0.0, 0.0, 0.0, 0.0, 0.0, 0.0, 0.0, 0.0, 0.0, 0.0, 0.0, 0.0, 0.0, 0.0, 0.0, 0.0, 0.16380044074146252, 0.0, 0.0, 0.0, 0.0, 0.0, 0.0, 0.0, 0.0, 0.0, 0.0, 0.0, 0.0, 0.0, 0.0, 0.0, 0.1850810662315725, 0.0, 0.0, 0.0, 0.0, 0.0, 0.0, 0.0, 0.0, 0.0, 0.0, 0.0, 0.0, 0.0, 0.0, 0.0, 0.0, 0.0, 0.0, 0.0, 0.0, 0.0, 0.0, 0.0, 0.0, 0.0, 0.0, 0.0, 0.0, 0.0, 0.0, 0.0, 0.0, 0.0, 0.10271483939691463, 0.0, 0.0, 0.08397611162365398, 0.0, 0.0, 0.0, 0.0, 0.12687326122524947, 0.0, 0.0, 0.0, 0.0, 0.0, 0.0, 0.0, 0.16380044074146252, 0.0, 0.0, 0.0, 0.0, 0.0, 0.27733825441588367, 0.0, 0.0, 0.0, 0.0, 0.0, 0.0, 0.0, 0.0, 0.0, 0.0, 0.0, 0.0, 0.0, 0.0, 0.0, 0.0, 0.0, 0.0, 0.0, 0.0, 0.0, 0.0, 0.0, 0.0, 0.0, 0.0, 0.0, 0.0, 0.0, 0.0, 0.0, 0.06066503879653599, 0.0, 0.0, 0.0, 0.0, 0.0, 0.0, 0.0, 0.0, 0.0, 0.0, 0.0, 0.0, 0.0, 0.0, 0.0, 0.0, 0.0, 0.0, 0.0, 0.0, 0.14218391662997698, 0.0, 0.0, 0.0, 0.0, 0.16092264440323764, 0.0, 0.0, 0.0, 0.0, 0.0, 0.0, 0.0, 0.1139282865292135, 0.0, 0.0, 0.0, 0.0, 0.0, 0.0, 0.0, 0.0, 0.0, 0.0, 0.0, 0.0, 0.0, 0.0, 0.0, 0.0, 0.0, 0.0, 0.0, 0.0, 0.0, 0.0, 0.0, 0.0, 0.0, 0.0, 0.0, 0.0, 0.0, 0.16380044074146252, 0.0, 0.0, 0.0, 0.0, 0.0, 0.0, 0.0, 0.0, 0.0, 0.0, 0.0, 0.0, 0.0, 0.0, 0.0, 0.0, 0.0, 0.0, 0.27733825441588367, 0.0, 0.0, 0.0, 0.0, 0.1093118592149584, 0.0, 0.0, 0.0, 0.0, 0.0, 0.0, 0.0, 0.0, 0.0, 0.0, 0.0, 0.0, 0.0, 0.0, 0.0, 0.0, 0.0, 0.0, 0.0, 0.0, 0.0, 0.27733825441588367, 0.0, 0.0, 0.0, 0.0, 0.0, 0.0, 0.0, 0.0, 0.0, 0.0, 0.0, 0.0, 0.0, 0.0, 0.0, 0.0, 0.0, 0.0, 0.0, 0.0, 0.0, 0.0, 0.0, 0.0, 0.0, 0.0, 0.0, 0.0, 0.0, 0.0, 0.0, 0.0, 0.0, 0.0, 0.0, 0.0, 0.0, 0.0, 0.0, 0.0, 0.0, 0.0, 0.0, 0.0, 0.0, 0.0, 0.0, 0.0, 0.0, 0.0, 0.0, 0.0, 0.0, 0.0, 0.0, 0.0, 0.0, 0.0, 0.129421973426487, 0.0, 0.0, 0.0, 0.0, 0.0, 0.0, 0.0, 0.0, 0.0, 0.0, 0.0, 0.0, 0.0, 0.15830165219496659, 0.0, 0.0, 0.0, 0.0, 0.0, 0.1139282865292135, 0.0, 0.0, 0.0, 0.0, 0.0, 0.0, 0.06728788131196956, 0.0, 0.0, 0.0, 0.0, 0.129421973426487, 0.0, 0.0, 0.0, 0.0, 0.0, 0.0, 0.08397611162365398, 0.0, 0.0, 0.0, 0.1093118592149584, 0.0, 0.0, 0.0, 0.0, 0.0, 0.0, 0.0, 0.0, 0.0, 0.0, 0.0, 0.0, 0.0, 0.0, 0.0, 0.0, 0.0, 0.0, 0.0, 0.0, 0.0, 0.0, 0.0, 0.0, 0.0, 0.0, 0.0, 0.0, 0.0, 0.0, 0.0, 0.0, 0.06728788131196956, 0.0, 0.0, 0.0, 0.0, 0.0, 0.0, 0.0, 0.0, 0.0950435061115115, 0.0, 0.0, 0.16380044074146252, 0.0, 0.0, 0.16380044074146252, 0.0, 0.0, 0.0, 0.0, 0.0, 0.0, 0.0, 0.0, 0.0, 0.0, 0.0, 0.0, 0.0, 0.0, 0.08397611162365398, 0.0, 0.0, 0.0, 0.0, 0.0, 0.0, 0.0, 0.0, 0.0, 0.0]\n",
      "Dreamers They never learn They never learn Beyond, beyond the point Of no return Of no return And it's too late The damage is done The damage is done This goes Beyond me Beyond you The white room By a window Where the sun comes Through We are Just happy to serve Just happy to serve You\n"
     ]
    }
   ],
   "source": [
    "from __future__ import division\n",
    "import string\n",
    "import math\n",
    "\n",
    "tokenize = lambda doc: doc.lower().split(\" \")\n",
    "\n",
    "all_lyrics = [lyric1, lyric2, lyric3, lyric4, lyric5, lyric6, lyric7, lyric8, lyric9, lyric10]\n",
    "\n",
    "tokenized_lyrics = [tokenize(d) for d in all_lyrics] # tokenized docs\n",
    "all_tokens_set = set([item for sublist in tokenized_lyrics for item in sublist])\n",
    "\n",
    "from sklearn.feature_extraction.text import TfidfVectorizer\n",
    "\n",
    "sklearn_tfidf = TfidfVectorizer(norm='l2',min_df=0, use_idf=True, smooth_idf=False, sublinear_tf=True, tokenizer=tokenize)\n",
    "\n",
    "sklearn_representation = sklearn_tfidf.fit_transform(all_lyrics)\n",
    "print(sklearn_representation.toarray()[0].tolist())\n",
    "print(lyric1)"
   ]
  },
  {
   "cell_type": "code",
   "execution_count": 6,
   "metadata": {
    "collapsed": true
   },
   "outputs": [],
   "source": [
    "def cosine_similarity(vector1, vector2):\n",
    "    dot_product = sum(p*q for p,q in zip(vector1, vector2))\n",
    "    magnitude = math.sqrt(sum([val**2 for val in vector1])) * math.sqrt(sum([val**2 for val in vector2]))\n",
    "    if not magnitude:\n",
    "        return 0\n",
    "    return dot_product/magnitude"
   ]
  },
  {
   "cell_type": "code",
   "execution_count": 7,
   "metadata": {
    "scrolled": true
   },
   "outputs": [
    {
     "data": {
      "text/plain": [
       "0.016801409771555947"
      ]
     },
     "execution_count": 7,
     "metadata": {},
     "output_type": "execute_result"
    }
   ],
   "source": [
    "cosine_similarity(sklearn_representation.toarray()[0],sklearn_representation.toarray()[1])"
   ]
  },
  {
   "cell_type": "code",
   "execution_count": 8,
   "metadata": {},
   "outputs": [
    {
     "data": {
      "text/plain": [
       "0.101367517268961"
      ]
     },
     "execution_count": 8,
     "metadata": {},
     "output_type": "execute_result"
    }
   ],
   "source": [
    "cosine_similarity(sklearn_representation.toarray()[0],sklearn_representation.toarray()[2])"
   ]
  },
  {
   "cell_type": "code",
   "execution_count": 9,
   "metadata": {},
   "outputs": [
    {
     "data": {
      "text/plain": [
       "0.081488114815315441"
      ]
     },
     "execution_count": 9,
     "metadata": {},
     "output_type": "execute_result"
    }
   ],
   "source": [
    "cosine_similarity(sklearn_representation.toarray()[0],sklearn_representation.toarray()[3])"
   ]
  },
  {
   "cell_type": "code",
   "execution_count": 10,
   "metadata": {},
   "outputs": [
    {
     "data": {
      "text/plain": [
       "0.084041209545207732"
      ]
     },
     "execution_count": 10,
     "metadata": {},
     "output_type": "execute_result"
    }
   ],
   "source": [
    "cosine_similarity(sklearn_representation.toarray()[0],sklearn_representation.toarray()[4])"
   ]
  },
  {
   "cell_type": "code",
   "execution_count": 11,
   "metadata": {},
   "outputs": [
    {
     "data": {
      "text/plain": [
       "0.076718860850278292"
      ]
     },
     "execution_count": 11,
     "metadata": {},
     "output_type": "execute_result"
    }
   ],
   "source": [
    "cosine_similarity(sklearn_representation.toarray()[0],sklearn_representation.toarray()[5])"
   ]
  },
  {
   "cell_type": "code",
   "execution_count": 12,
   "metadata": {},
   "outputs": [
    {
     "data": {
      "text/plain": [
       "0.08708007888451634"
      ]
     },
     "execution_count": 12,
     "metadata": {},
     "output_type": "execute_result"
    }
   ],
   "source": [
    "cosine_similarity(sklearn_representation.toarray()[0],sklearn_representation.toarray()[6])"
   ]
  },
  {
   "cell_type": "code",
   "execution_count": 13,
   "metadata": {},
   "outputs": [
    {
     "data": {
      "text/plain": [
       "0.086206141380348822"
      ]
     },
     "execution_count": 13,
     "metadata": {},
     "output_type": "execute_result"
    }
   ],
   "source": [
    "cosine_similarity(sklearn_representation.toarray()[0],sklearn_representation.toarray()[7])"
   ]
  },
  {
   "cell_type": "code",
   "execution_count": 14,
   "metadata": {},
   "outputs": [
    {
     "data": {
      "text/plain": [
       "0.074951576464716702"
      ]
     },
     "execution_count": 14,
     "metadata": {},
     "output_type": "execute_result"
    }
   ],
   "source": [
    "cosine_similarity(sklearn_representation.toarray()[0],sklearn_representation.toarray()[8])"
   ]
  },
  {
   "cell_type": "code",
   "execution_count": 15,
   "metadata": {},
   "outputs": [
    {
     "data": {
      "text/plain": [
       "0.11102894448538542"
      ]
     },
     "execution_count": 15,
     "metadata": {},
     "output_type": "execute_result"
    }
   ],
   "source": [
    "cosine_similarity(sklearn_representation.toarray()[0],sklearn_representation.toarray()[9])"
   ]
  },
  {
   "cell_type": "code",
   "execution_count": 17,
   "metadata": {},
   "outputs": [
    {
     "data": {
      "text/plain": [
       "0.10517359005652686"
      ]
     },
     "execution_count": 17,
     "metadata": {},
     "output_type": "execute_result"
    }
   ],
   "source": [
    "cosine_similarity(sklearn_representation.toarray()[1],sklearn_representation.toarray()[2])"
   ]
  },
  {
   "cell_type": "code",
   "execution_count": 18,
   "metadata": {},
   "outputs": [
    {
     "data": {
      "text/plain": [
       "0.03059412440055825"
      ]
     },
     "execution_count": 18,
     "metadata": {},
     "output_type": "execute_result"
    }
   ],
   "source": [
    "cosine_similarity(sklearn_representation.toarray()[1],sklearn_representation.toarray()[3])"
   ]
  },
  {
   "cell_type": "code",
   "execution_count": 19,
   "metadata": {},
   "outputs": [
    {
     "data": {
      "text/plain": [
       "0.082769062415530462"
      ]
     },
     "execution_count": 19,
     "metadata": {},
     "output_type": "execute_result"
    }
   ],
   "source": [
    "cosine_similarity(sklearn_representation.toarray()[1],sklearn_representation.toarray()[4])"
   ]
  },
  {
   "cell_type": "code",
   "execution_count": 20,
   "metadata": {},
   "outputs": [
    {
     "data": {
      "text/plain": [
       "0.032495043752907418"
      ]
     },
     "execution_count": 20,
     "metadata": {},
     "output_type": "execute_result"
    }
   ],
   "source": [
    "cosine_similarity(sklearn_representation.toarray()[1],sklearn_representation.toarray()[5])"
   ]
  },
  {
   "cell_type": "code",
   "execution_count": 21,
   "metadata": {},
   "outputs": [
    {
     "data": {
      "text/plain": [
       "0.05520477571287908"
      ]
     },
     "execution_count": 21,
     "metadata": {},
     "output_type": "execute_result"
    }
   ],
   "source": [
    "cosine_similarity(sklearn_representation.toarray()[1],sklearn_representation.toarray()[6])"
   ]
  },
  {
   "cell_type": "code",
   "execution_count": 22,
   "metadata": {},
   "outputs": [
    {
     "data": {
      "text/plain": [
       "0.067245902958047152"
      ]
     },
     "execution_count": 22,
     "metadata": {},
     "output_type": "execute_result"
    }
   ],
   "source": [
    "cosine_similarity(sklearn_representation.toarray()[1],sklearn_representation.toarray()[7])"
   ]
  },
  {
   "cell_type": "code",
   "execution_count": 23,
   "metadata": {},
   "outputs": [
    {
     "data": {
      "text/plain": [
       "0.065352328729234244"
      ]
     },
     "execution_count": 23,
     "metadata": {},
     "output_type": "execute_result"
    }
   ],
   "source": [
    "cosine_similarity(sklearn_representation.toarray()[1],sklearn_representation.toarray()[8])"
   ]
  },
  {
   "cell_type": "code",
   "execution_count": 24,
   "metadata": {},
   "outputs": [
    {
     "data": {
      "text/plain": [
       "0.05376566609040629"
      ]
     },
     "execution_count": 24,
     "metadata": {},
     "output_type": "execute_result"
    }
   ],
   "source": [
    "cosine_similarity(sklearn_representation.toarray()[1],sklearn_representation.toarray()[9])"
   ]
  },
  {
   "cell_type": "code",
   "execution_count": 26,
   "metadata": {},
   "outputs": [
    {
     "data": {
      "text/plain": [
       "0.10877734064572017"
      ]
     },
     "execution_count": 26,
     "metadata": {},
     "output_type": "execute_result"
    }
   ],
   "source": [
    "cosine_similarity(sklearn_representation.toarray()[2],sklearn_representation.toarray()[3])"
   ]
  },
  {
   "cell_type": "code",
   "execution_count": 27,
   "metadata": {},
   "outputs": [
    {
     "data": {
      "text/plain": [
       "0.18290002515354725"
      ]
     },
     "execution_count": 27,
     "metadata": {},
     "output_type": "execute_result"
    }
   ],
   "source": [
    "cosine_similarity(sklearn_representation.toarray()[2],sklearn_representation.toarray()[4])"
   ]
  },
  {
   "cell_type": "code",
   "execution_count": 28,
   "metadata": {},
   "outputs": [
    {
     "data": {
      "text/plain": [
       "0.12842258074907142"
      ]
     },
     "execution_count": 28,
     "metadata": {},
     "output_type": "execute_result"
    }
   ],
   "source": [
    "cosine_similarity(sklearn_representation.toarray()[2],sklearn_representation.toarray()[5])"
   ]
  },
  {
   "cell_type": "code",
   "execution_count": 29,
   "metadata": {},
   "outputs": [
    {
     "data": {
      "text/plain": [
       "0.1765214389008003"
      ]
     },
     "execution_count": 29,
     "metadata": {},
     "output_type": "execute_result"
    }
   ],
   "source": [
    "cosine_similarity(sklearn_representation.toarray()[2],sklearn_representation.toarray()[6])"
   ]
  },
  {
   "cell_type": "code",
   "execution_count": 30,
   "metadata": {},
   "outputs": [
    {
     "data": {
      "text/plain": [
       "0.10478173753009655"
      ]
     },
     "execution_count": 30,
     "metadata": {},
     "output_type": "execute_result"
    }
   ],
   "source": [
    "cosine_similarity(sklearn_representation.toarray()[2],sklearn_representation.toarray()[7])"
   ]
  },
  {
   "cell_type": "code",
   "execution_count": 31,
   "metadata": {},
   "outputs": [
    {
     "data": {
      "text/plain": [
       "0.15469683142202165"
      ]
     },
     "execution_count": 31,
     "metadata": {},
     "output_type": "execute_result"
    }
   ],
   "source": [
    "cosine_similarity(sklearn_representation.toarray()[2],sklearn_representation.toarray()[8])"
   ]
  },
  {
   "cell_type": "code",
   "execution_count": 32,
   "metadata": {},
   "outputs": [
    {
     "data": {
      "text/plain": [
       "0.16258914427395382"
      ]
     },
     "execution_count": 32,
     "metadata": {},
     "output_type": "execute_result"
    }
   ],
   "source": [
    "cosine_similarity(sklearn_representation.toarray()[2],sklearn_representation.toarray()[9])"
   ]
  },
  {
   "cell_type": "code",
   "execution_count": 34,
   "metadata": {},
   "outputs": [
    {
     "data": {
      "text/plain": [
       "0.11411222227913445"
      ]
     },
     "execution_count": 34,
     "metadata": {},
     "output_type": "execute_result"
    }
   ],
   "source": [
    "cosine_similarity(sklearn_representation.toarray()[3],sklearn_representation.toarray()[4])"
   ]
  },
  {
   "cell_type": "code",
   "execution_count": 35,
   "metadata": {},
   "outputs": [
    {
     "data": {
      "text/plain": [
       "0.073623408230288956"
      ]
     },
     "execution_count": 35,
     "metadata": {},
     "output_type": "execute_result"
    }
   ],
   "source": [
    "cosine_similarity(sklearn_representation.toarray()[3],sklearn_representation.toarray()[5])"
   ]
  },
  {
   "cell_type": "code",
   "execution_count": 36,
   "metadata": {},
   "outputs": [
    {
     "data": {
      "text/plain": [
       "0.13496278275477275"
      ]
     },
     "execution_count": 36,
     "metadata": {},
     "output_type": "execute_result"
    }
   ],
   "source": [
    "cosine_similarity(sklearn_representation.toarray()[3],sklearn_representation.toarray()[6])"
   ]
  },
  {
   "cell_type": "code",
   "execution_count": 37,
   "metadata": {},
   "outputs": [
    {
     "data": {
      "text/plain": [
       "0.11907813154137763"
      ]
     },
     "execution_count": 37,
     "metadata": {},
     "output_type": "execute_result"
    }
   ],
   "source": [
    "cosine_similarity(sklearn_representation.toarray()[3],sklearn_representation.toarray()[7])"
   ]
  },
  {
   "cell_type": "code",
   "execution_count": 38,
   "metadata": {},
   "outputs": [
    {
     "data": {
      "text/plain": [
       "0.15977265113692857"
      ]
     },
     "execution_count": 38,
     "metadata": {},
     "output_type": "execute_result"
    }
   ],
   "source": [
    "cosine_similarity(sklearn_representation.toarray()[3],sklearn_representation.toarray()[8])"
   ]
  },
  {
   "cell_type": "code",
   "execution_count": 39,
   "metadata": {},
   "outputs": [
    {
     "data": {
      "text/plain": [
       "0.14945886336978273"
      ]
     },
     "execution_count": 39,
     "metadata": {},
     "output_type": "execute_result"
    }
   ],
   "source": [
    "cosine_similarity(sklearn_representation.toarray()[3],sklearn_representation.toarray()[9])"
   ]
  },
  {
   "cell_type": "code",
   "execution_count": 40,
   "metadata": {},
   "outputs": [
    {
     "data": {
      "text/plain": [
       "0.086599289768759191"
      ]
     },
     "execution_count": 40,
     "metadata": {},
     "output_type": "execute_result"
    }
   ],
   "source": [
    "cosine_similarity(sklearn_representation.toarray()[4],sklearn_representation.toarray()[5])"
   ]
  },
  {
   "cell_type": "code",
   "execution_count": 41,
   "metadata": {},
   "outputs": [
    {
     "data": {
      "text/plain": [
       "0.12062712095773982"
      ]
     },
     "execution_count": 41,
     "metadata": {},
     "output_type": "execute_result"
    }
   ],
   "source": [
    "cosine_similarity(sklearn_representation.toarray()[4],sklearn_representation.toarray()[6])"
   ]
  },
  {
   "cell_type": "code",
   "execution_count": 42,
   "metadata": {},
   "outputs": [
    {
     "data": {
      "text/plain": [
       "0.10110789674850014"
      ]
     },
     "execution_count": 42,
     "metadata": {},
     "output_type": "execute_result"
    }
   ],
   "source": [
    "cosine_similarity(sklearn_representation.toarray()[4],sklearn_representation.toarray()[7])"
   ]
  },
  {
   "cell_type": "code",
   "execution_count": 43,
   "metadata": {},
   "outputs": [
    {
     "data": {
      "text/plain": [
       "0.14422164190767492"
      ]
     },
     "execution_count": 43,
     "metadata": {},
     "output_type": "execute_result"
    }
   ],
   "source": [
    "cosine_similarity(sklearn_representation.toarray()[4],sklearn_representation.toarray()[8])"
   ]
  },
  {
   "cell_type": "code",
   "execution_count": 44,
   "metadata": {},
   "outputs": [
    {
     "data": {
      "text/plain": [
       "0.095012654853919742"
      ]
     },
     "execution_count": 44,
     "metadata": {},
     "output_type": "execute_result"
    }
   ],
   "source": [
    "cosine_similarity(sklearn_representation.toarray()[4],sklearn_representation.toarray()[9])"
   ]
  },
  {
   "cell_type": "code",
   "execution_count": 45,
   "metadata": {},
   "outputs": [
    {
     "data": {
      "text/plain": [
       "0.111829958888176"
      ]
     },
     "execution_count": 45,
     "metadata": {},
     "output_type": "execute_result"
    }
   ],
   "source": [
    "cosine_similarity(sklearn_representation.toarray()[5],sklearn_representation.toarray()[6])"
   ]
  },
  {
   "cell_type": "code",
   "execution_count": 46,
   "metadata": {},
   "outputs": [
    {
     "data": {
      "text/plain": [
       "0.08239416943421736"
      ]
     },
     "execution_count": 46,
     "metadata": {},
     "output_type": "execute_result"
    }
   ],
   "source": [
    "cosine_similarity(sklearn_representation.toarray()[5],sklearn_representation.toarray()[7])"
   ]
  },
  {
   "cell_type": "code",
   "execution_count": 47,
   "metadata": {},
   "outputs": [
    {
     "data": {
      "text/plain": [
       "0.16988378876501195"
      ]
     },
     "execution_count": 47,
     "metadata": {},
     "output_type": "execute_result"
    }
   ],
   "source": [
    "cosine_similarity(sklearn_representation.toarray()[5],sklearn_representation.toarray()[8])"
   ]
  },
  {
   "cell_type": "code",
   "execution_count": 48,
   "metadata": {},
   "outputs": [
    {
     "data": {
      "text/plain": [
       "0.080279557379962757"
      ]
     },
     "execution_count": 48,
     "metadata": {},
     "output_type": "execute_result"
    }
   ],
   "source": [
    "cosine_similarity(sklearn_representation.toarray()[5],sklearn_representation.toarray()[9])"
   ]
  },
  {
   "cell_type": "code",
   "execution_count": 49,
   "metadata": {},
   "outputs": [
    {
     "data": {
      "text/plain": [
       "0.13929925322947884"
      ]
     },
     "execution_count": 49,
     "metadata": {},
     "output_type": "execute_result"
    }
   ],
   "source": [
    "cosine_similarity(sklearn_representation.toarray()[6],sklearn_representation.toarray()[7])"
   ]
  },
  {
   "cell_type": "code",
   "execution_count": 50,
   "metadata": {},
   "outputs": [
    {
     "data": {
      "text/plain": [
       "0.15070516894832967"
      ]
     },
     "execution_count": 50,
     "metadata": {},
     "output_type": "execute_result"
    }
   ],
   "source": [
    "cosine_similarity(sklearn_representation.toarray()[6],sklearn_representation.toarray()[8])"
   ]
  },
  {
   "cell_type": "code",
   "execution_count": 51,
   "metadata": {},
   "outputs": [
    {
     "data": {
      "text/plain": [
       "0.10974459110166558"
      ]
     },
     "execution_count": 51,
     "metadata": {},
     "output_type": "execute_result"
    }
   ],
   "source": [
    "cosine_similarity(sklearn_representation.toarray()[6],sklearn_representation.toarray()[9])"
   ]
  },
  {
   "cell_type": "code",
   "execution_count": 52,
   "metadata": {},
   "outputs": [
    {
     "data": {
      "text/plain": [
       "0.15291166903412526"
      ]
     },
     "execution_count": 52,
     "metadata": {},
     "output_type": "execute_result"
    }
   ],
   "source": [
    "cosine_similarity(sklearn_representation.toarray()[7],sklearn_representation.toarray()[8])"
   ]
  },
  {
   "cell_type": "code",
   "execution_count": 53,
   "metadata": {},
   "outputs": [
    {
     "data": {
      "text/plain": [
       "0.098511902819696462"
      ]
     },
     "execution_count": 53,
     "metadata": {},
     "output_type": "execute_result"
    }
   ],
   "source": [
    "cosine_similarity(sklearn_representation.toarray()[7],sklearn_representation.toarray()[9])"
   ]
  },
  {
   "cell_type": "code",
   "execution_count": 54,
   "metadata": {},
   "outputs": [
    {
     "data": {
      "text/plain": [
       "0.12445041387863318"
      ]
     },
     "execution_count": 54,
     "metadata": {},
     "output_type": "execute_result"
    }
   ],
   "source": [
    "cosine_similarity(sklearn_representation.toarray()[8],sklearn_representation.toarray()[9])"
   ]
  },
  {
   "cell_type": "markdown",
   "metadata": {},
   "source": [
    "### The most similar lyrics are lyric3 and lyric5 with a cosine similarity of 0.1829"
   ]
  },
  {
   "cell_type": "code",
   "execution_count": 59,
   "metadata": {},
   "outputs": [
    {
     "name": "stdout",
     "output_type": "stream",
     "text": [
      "The similarity between the lyric1: daydreaming and the lyric2: declare independence is 0.016801409771555947\n",
      "\n",
      "\n",
      "The similarity between the lyric1: daydreaming and the lyric3: dontworry is 0.101367517268961\n",
      "\n",
      "\n",
      "The similarity between the lyric1: daydreaming and the lyric4: everything now is 0.08148811481531544\n",
      "\n",
      "\n",
      "The similarity between the lyric1: daydreaming and the lyric5: foreveryoung is 0.08404120954520773\n",
      "\n",
      "\n",
      "The similarity between the lyric1: daydreaming and the lyric6: gyal you a party animal is 0.07671886085027829\n",
      "\n",
      "\n",
      "The similarity between the lyric1: daydreaming and the lyric7: i feel it coming is 0.08708007888451634\n",
      "\n",
      "\n",
      "The similarity between the lyric1: daydreaming and the lyric8: is this it is 0.08620614138034882\n",
      "\n",
      "\n",
      "The similarity between the lyric1: daydreaming and the lyric9: shapeofyou is 0.0749515764647167\n",
      "\n",
      "\n",
      "The similarity between the lyric1: daydreaming and the lyric10: wonderfullife is 0.11102894448538542\n",
      "\n",
      "\n",
      "The similarity between the lyric2: declare independence and the lyric3: dontworry is 0.10517359005652686\n",
      "\n",
      "\n",
      "The similarity between the lyric2: declare independence and the lyric4: everything now is 0.03059412440055825\n",
      "\n",
      "\n",
      "The similarity between the lyric2: declare independence and the lyric5: foreveryoung is 0.08276906241553046\n",
      "\n",
      "\n",
      "The similarity between the lyric2: declare independence and the lyric6: gyal you a party animal is 0.03249504375290742\n",
      "\n",
      "\n",
      "The similarity between the lyric2: declare independence and the lyric7: i feel it coming is 0.05520477571287908\n",
      "\n",
      "\n",
      "The similarity between the lyric2: declare independence and the lyric8: is this it is 0.06724590295804715\n",
      "\n",
      "\n",
      "The similarity between the lyric2: declare independence and the lyric9: shapeofyou is 0.06535232872923424\n",
      "\n",
      "\n",
      "The similarity between the lyric2: declare independence and the lyric10: wonderfullife is 0.05376566609040629\n",
      "\n",
      "\n",
      "The similarity between the lyric3: dontworry and the lyric4: everything now is 0.10877734064572017\n",
      "\n",
      "\n",
      "The similarity between the lyric3: dontworry and the lyric5: foreveryoung is 0.18290002515354725\n",
      "\n",
      "\n",
      "The similarity between the lyric3: dontworry and the lyric6: gyal you a party animal is 0.12842258074907142\n",
      "\n",
      "\n",
      "The similarity between the lyric3: dontworry and the lyric7: i feel it coming is 0.1765214389008003\n",
      "\n",
      "\n",
      "The similarity between the lyric3: dontworry and the lyric8: is this it is 0.10478173753009655\n",
      "\n",
      "\n",
      "The similarity between the lyric3: dontworry and the lyric9: shapeofyou is 0.15469683142202165\n",
      "\n",
      "\n",
      "The similarity between the lyric3: dontworry and the lyric10: wonderfullife is 0.16258914427395382\n",
      "\n",
      "\n",
      "The similarity between the lyric4: everything now and the lyric5: foreveryoung is 0.11411222227913445\n",
      "\n",
      "\n",
      "The similarity between the lyric4: everything now and the lyric6: gyal you a party animal is 0.07362340823028896\n",
      "\n",
      "\n",
      "The similarity between the lyric4: everything now and the lyric7: i feel it coming is 0.13496278275477275\n",
      "\n",
      "\n",
      "The similarity between the lyric4: everything now and the lyric8: is this it is 0.11907813154137763\n",
      "\n",
      "\n",
      "The similarity between the lyric4: everything now and the lyric9: shapeofyou is 0.15977265113692857\n",
      "\n",
      "\n",
      "The similarity between the lyric4: everything now and the lyric10: wonderfullife is 0.14945886336978273\n",
      "\n",
      "\n",
      "The similarity between the lyric5: foreveryoung and the lyric6: gyal you a party animal is 0.08659928976875919\n",
      "\n",
      "\n",
      "The similarity between the lyric5: foreveryoung and the lyric7: i feel it coming is 0.12062712095773982\n",
      "\n",
      "\n",
      "The similarity between the lyric5: foreveryoung and the lyric8: is this it is 0.10110789674850014\n",
      "\n",
      "\n",
      "The similarity between the lyric5: foreveryoung and the lyric9: shapeofyou is 0.14422164190767492\n",
      "\n",
      "\n",
      "The similarity between the lyric5: foreveryoung and the lyric10: wonderfullife is 0.09501265485391974\n",
      "\n",
      "\n",
      "The similarity between the lyric6: gyal you a party animal and the lyric7: i feel it coming is 0.111829958888176\n",
      "\n",
      "\n",
      "The similarity between the lyric6: gyal you a party animal and the lyric8: is this it is 0.08239416943421736\n",
      "\n",
      "\n",
      "The similarity between the lyric6: gyal you a party animal and the lyric9: shapeofyou is 0.16988378876501195\n",
      "\n",
      "\n",
      "The similarity between the lyric6: gyal you a party animal and the lyric10: wonderfullife is 0.08027955737996276\n",
      "\n",
      "\n",
      "The similarity between the lyric7: i feel it coming and the lyric8: is this it is 0.13929925322947884\n",
      "\n",
      "\n",
      "The similarity between the lyric7: i feel it coming and the lyric9: shapeofyou is 0.15070516894832967\n",
      "\n",
      "\n",
      "The similarity between the lyric7: i feel it coming and the lyric10: wonderfullife is 0.10974459110166558\n",
      "\n",
      "\n",
      "The similarity between the lyric8: is this it and the lyric9: shapeofyou is 0.15291166903412526\n",
      "\n",
      "\n",
      "The similarity between the lyric8: is this it and the lyric10: wonderfullife is 0.09851190281969646\n",
      "\n",
      "\n",
      "The similarity between the lyric9: shapeofyou and the lyric10: wonderfullife is 0.12445041387863318\n",
      "\n",
      "\n"
     ]
    }
   ],
   "source": [
    "all_lyrics_names = ['lyric1: daydreaming', 'lyric2: declare independence', 'lyric3: dontworry', 'lyric4: everything now', 'lyric5: foreveryoung', 'lyric6: gyal you a party animal', 'lyric7: i feel it coming', 'lyric8: is this it', 'lyric9: shapeofyou', 'lyric10: wonderfullife']\n",
    "\n",
    "for i in range(10):\n",
    "    for j in range(i+1,10):\n",
    "        similarity = cosine_similarity(sklearn_representation.toarray()[i], sklearn_representation.toarray()[j])\n",
    "        print(\"The similarity between the {} and the {} is {}\\n\\n\".format(all_lyrics_names[i], all_lyrics_names[j], similarity))"
   ]
  },
  {
   "cell_type": "markdown",
   "metadata": {},
   "source": [
    "### 2.- Improve the exercise by first removing the stop words and by stemming the lyrics. Recompute the similarity. Did anything change, apart from the values (e.g., the two most similar songs changed)? Write a markdown with some comments."
   ]
  },
  {
   "cell_type": "code",
   "execution_count": 62,
   "metadata": {},
   "outputs": [],
   "source": [
    "from nltk.corpus import stopwords"
   ]
  },
  {
   "cell_type": "code",
   "execution_count": 76,
   "metadata": {},
   "outputs": [
    {
     "name": "stdout",
     "output_type": "stream",
     "text": [
      "['dreamers', 'never', 'learn', 'never', 'learn', 'beyond,', 'beyond', 'point', 'return', 'return', \"it's\", 'late', 'damage', 'done', 'damage', 'done', 'goes', 'beyond', 'beyond', 'white', 'room', 'window', 'sun', 'comes', 'happy', 'serve', 'happy', 'serve'] \n",
      "\n",
      "['dreamer', 'never', 'learn', 'never', 'learn', 'beyond,', 'beyond', 'point', 'return', 'return', \"it'\", 'late', 'damag', 'done', 'damag', 'done', 'goe', 'beyond', 'beyond', 'white', 'room', 'window', 'sun', 'come', 'happi', 'serv', 'happi', 'serv'] \n",
      "\n",
      "[['dreamer', 'never', 'learn', 'never', 'learn', 'beyond,', 'beyond', 'point', 'return', 'return', \"it'\", 'late', 'damag', 'done', 'damag', 'done', 'goe', 'beyond', 'beyond', 'white', 'room', 'window', 'sun', 'come', 'happi', 'serv', 'happi', 'serv']] \n",
      "\n",
      "['declare', 'independence!', \"don't\", 'let', 'you!', 'declare', 'independence!', \"don't\", 'let', 'you!', '(justice)', 'declare', 'independence!', \"don't\", 'let', 'you!', 'declare', 'independence!', \"don't\", 'let', 'you!', '(justice)', 'start', 'currency!', 'make', 'stamp', 'protect', 'language', '(justice)', 'declare', 'independence', \"don't\", 'let', 'declare', 'independence', \"don't\", 'let'] \n",
      "\n",
      "['declar', 'independence!', \"don't\", 'let', 'you!', 'declar', 'independence!', \"don't\", 'let', 'you!', '(justice)', 'declar', 'independence!', \"don't\", 'let', 'you!', 'declar', 'independence!', \"don't\", 'let', 'you!', '(justice)', 'start', 'currency!', 'make', 'stamp', 'protect', 'languag', '(justice)', 'declar', 'independ', \"don't\", 'let', 'declar', 'independ', \"don't\", 'let'] \n",
      "\n",
      "[['dreamer', 'never', 'learn', 'never', 'learn', 'beyond,', 'beyond', 'point', 'return', 'return', \"it'\", 'late', 'damag', 'done', 'damag', 'done', 'goe', 'beyond', 'beyond', 'white', 'room', 'window', 'sun', 'come', 'happi', 'serv', 'happi', 'serv'], ['declar', 'independence!', \"don't\", 'let', 'you!', 'declar', 'independence!', \"don't\", 'let', 'you!', '(justice)', 'declar', 'independence!', \"don't\", 'let', 'you!', 'declar', 'independence!', \"don't\", 'let', 'you!', '(justice)', 'start', 'currency!', 'make', 'stamp', 'protect', 'languag', '(justice)', 'declar', 'independ', \"don't\", 'let', 'declar', 'independ', \"don't\", 'let']] \n",
      "\n",
      "['oh,', 'night', \"don't\", 'worry', \"'bout\", 'thing', \"don't\", 'worry', \"'bout\", 'thing', \"don't\", 'worry', \"'bout\", 'thing', 'know', \"we'll\", 'alright', \"don't\", 'worry', \"'bout\", 'thing', \"don't\", 'worry', \"'bout\", 'thing', \"don't\", 'worry', \"'bout\", 'thing', \"i'll\", 'take', 'future', 'forget', 'past', 'keep', 'secrets', 'swear', \"won't\", 'ask', 'let', 'go', 'troubles,', \"don't\", 'care', \"you've\", 'thing', 'matters', 'night', 'end', 'bright', 'big', 'lights', 'shining', 'us', 'beat', 'tight', 'makes', 'wanna', 'get', 'get', 'like', \"there's\", 'tomorrow', 'like', \"there's\", 'tomorrow', 'like', \"there's\", 'tomorrow', 'oh,', 'night', \"don't\", 'worry', \"'bout\", 'thing', \"don't\", 'worry', \"'bout\", 'thing', \"don't\", 'worry', \"'bout\", 'thing', 'know', \"we'll\", 'alright', \"don't\", 'worry', \"'bout\", 'thing', \"don't\", 'worry', \"'bout\", 'thing', \"don't\", 'worry', \"'bout\", 'thing', 'oh,', 'night', \"don't\", 'worry', \"'bout\", 'thing', \"don't\", 'worry', \"'bout\", 'thing', \"don't\", 'worry', \"'bout\", 'thing', \"let's\", 'get', 'business', 'show', 'got', 'keep', 'record', 'spinning', 'music', 'never', 'stops', 'wanna', 'live', 'forever', 'reach', 'stars', \"let's\", 'take', 'next', 'level', 'light', 'space', 'ship', 'bright', 'big', 'lights', 'shining', 'us', 'beat', 'tight', 'makes', 'wanna', 'get', 'get', 'like', \"there's\", 'tomorrow', 'like', \"there's\", 'tomorrow', 'like', \"there's\", 'tomorrow', 'oh,', 'night', \"don't\", 'worry', \"'bout\", 'thing', \"don't\", 'worry', \"'bout\", 'thing', \"don't\", 'worry', \"'bout\", 'thing', 'know', \"we'll\", 'alright', \"don't\", 'worry', \"'bout\", 'thing', \"don't\", 'worry', \"'bout\", 'thing', \"don't\", 'worry', \"'bout\", 'thing', 'oh,', 'night', \"don't\", 'worry', \"'bout\", 'thing', \"don't\", 'worry', \"'bout\", 'thing', \"don't\", 'worry', \"'bout\", 'thing', 'yeah,', 'rooftop', 'surrounded', 'stars', 'views', 'hot', \"ain't\", 'nobody', 'thinking', \"'bout\", 'got', \"everything's\", 'ours,', 'wanna', 'dip?', 'get', 'new', 'spot', 'yeah,', \"don't\", 'worry,', \"don't\", 'worry', 'night', 'never', 'ends,', 'hurry', 'hurry', 'shorty', 'look', 'thick', 'lines', 'get', 'blurry', 'nights', 'palm', 'might', 'get', 'dirty', 'dj,', 'let', 'beat', 'play,', 'make', 'heat', 'wave,', 'replay', 'tonight', 'gone', 'party', 'like', 'd-day', 'young', 'free', 'saying', 'one', 'ck', 'shit', 'moon', 'light', 'sky', 'ceiling', 'low', 'base', 'high', 'feeling', 'world', 'club,', 'cause', \"this'\", 'one', 'books', \"don't\", 'worry', 'bout', 'thang', 'oh,', 'night', \"don't\", 'worry', \"'bout\", 'thing', \"don't\", 'worry', \"'bout\", 'thing', \"don't\", 'worry', \"'bout\", 'thing', 'know', \"we'll\", 'alright', \"don't\", 'worry', \"'bout\", 'thing', \"don't\", 'worry', \"'bout\", 'thing', \"don't\", 'worry', \"'bout\", 'thing', 'oh,', 'night', \"don't\", 'worry', \"'bout\", 'thing', \"don't\", 'worry', \"'bout\", 'thing', \"don't\", 'worry', \"'bout\", 'thing'] \n",
      "\n",
      "['oh,', 'night', \"don't\", 'worri', \"'bout\", 'thing', \"don't\", 'worri', \"'bout\", 'thing', \"don't\", 'worri', \"'bout\", 'thing', 'know', \"we'll\", 'alright', \"don't\", 'worri', \"'bout\", 'thing', \"don't\", 'worri', \"'bout\", 'thing', \"don't\", 'worri', \"'bout\", 'thing', \"i'll\", 'take', 'futur', 'forget', 'past', 'keep', 'secret', 'swear', \"won't\", 'ask', 'let', 'go', 'troubles,', \"don't\", 'care', \"you'v\", 'thing', 'matter', 'night', 'end', 'bright', 'big', 'light', 'shine', 'us', 'beat', 'tight', 'make', 'wanna', 'get', 'get', 'like', \"there'\", 'tomorrow', 'like', \"there'\", 'tomorrow', 'like', \"there'\", 'tomorrow', 'oh,', 'night', \"don't\", 'worri', \"'bout\", 'thing', \"don't\", 'worri', \"'bout\", 'thing', \"don't\", 'worri', \"'bout\", 'thing', 'know', \"we'll\", 'alright', \"don't\", 'worri', \"'bout\", 'thing', \"don't\", 'worri', \"'bout\", 'thing', \"don't\", 'worri', \"'bout\", 'thing', 'oh,', 'night', \"don't\", 'worri', \"'bout\", 'thing', \"don't\", 'worri', \"'bout\", 'thing', \"don't\", 'worri', \"'bout\", 'thing', \"let'\", 'get', 'busi', 'show', 'got', 'keep', 'record', 'spin', 'music', 'never', 'stop', 'wanna', 'live', 'forev', 'reach', 'star', \"let'\", 'take', 'next', 'level', 'light', 'space', 'ship', 'bright', 'big', 'light', 'shine', 'us', 'beat', 'tight', 'make', 'wanna', 'get', 'get', 'like', \"there'\", 'tomorrow', 'like', \"there'\", 'tomorrow', 'like', \"there'\", 'tomorrow', 'oh,', 'night', \"don't\", 'worri', \"'bout\", 'thing', \"don't\", 'worri', \"'bout\", 'thing', \"don't\", 'worri', \"'bout\", 'thing', 'know', \"we'll\", 'alright', \"don't\", 'worri', \"'bout\", 'thing', \"don't\", 'worri', \"'bout\", 'thing', \"don't\", 'worri', \"'bout\", 'thing', 'oh,', 'night', \"don't\", 'worri', \"'bout\", 'thing', \"don't\", 'worri', \"'bout\", 'thing', \"don't\", 'worri', \"'bout\", 'thing', 'yeah,', 'rooftop', 'surround', 'star', 'view', 'hot', \"ain't\", 'nobodi', 'think', \"'bout\", 'got', \"everything'\", 'ours,', 'wanna', 'dip?', 'get', 'new', 'spot', 'yeah,', \"don't\", 'worry,', \"don't\", 'worri', 'night', 'never', 'ends,', 'hurri', 'hurri', 'shorti', 'look', 'thick', 'line', 'get', 'blurri', 'night', 'palm', 'might', 'get', 'dirti', 'dj,', 'let', 'beat', 'play,', 'make', 'heat', 'wave,', 'replay', 'tonight', 'gone', 'parti', 'like', 'd-day', 'young', 'free', 'say', 'one', 'ck', 'shit', 'moon', 'light', 'sky', 'ceil', 'low', 'base', 'high', 'feel', 'world', 'club,', 'caus', \"this'\", 'one', 'book', \"don't\", 'worri', 'bout', 'thang', 'oh,', 'night', \"don't\", 'worri', \"'bout\", 'thing', \"don't\", 'worri', \"'bout\", 'thing', \"don't\", 'worri', \"'bout\", 'thing', 'know', \"we'll\", 'alright', \"don't\", 'worri', \"'bout\", 'thing', \"don't\", 'worri', \"'bout\", 'thing', \"don't\", 'worri', \"'bout\", 'thing', 'oh,', 'night', \"don't\", 'worri', \"'bout\", 'thing', \"don't\", 'worri', \"'bout\", 'thing', \"don't\", 'worri', \"'bout\", 'thing'] \n",
      "\n",
      "[['dreamer', 'never', 'learn', 'never', 'learn', 'beyond,', 'beyond', 'point', 'return', 'return', \"it'\", 'late', 'damag', 'done', 'damag', 'done', 'goe', 'beyond', 'beyond', 'white', 'room', 'window', 'sun', 'come', 'happi', 'serv', 'happi', 'serv'], ['declar', 'independence!', \"don't\", 'let', 'you!', 'declar', 'independence!', \"don't\", 'let', 'you!', '(justice)', 'declar', 'independence!', \"don't\", 'let', 'you!', 'declar', 'independence!', \"don't\", 'let', 'you!', '(justice)', 'start', 'currency!', 'make', 'stamp', 'protect', 'languag', '(justice)', 'declar', 'independ', \"don't\", 'let', 'declar', 'independ', \"don't\", 'let'], ['oh,', 'night', \"don't\", 'worri', \"'bout\", 'thing', \"don't\", 'worri', \"'bout\", 'thing', \"don't\", 'worri', \"'bout\", 'thing', 'know', \"we'll\", 'alright', \"don't\", 'worri', \"'bout\", 'thing', \"don't\", 'worri', \"'bout\", 'thing', \"don't\", 'worri', \"'bout\", 'thing', \"i'll\", 'take', 'futur', 'forget', 'past', 'keep', 'secret', 'swear', \"won't\", 'ask', 'let', 'go', 'troubles,', \"don't\", 'care', \"you'v\", 'thing', 'matter', 'night', 'end', 'bright', 'big', 'light', 'shine', 'us', 'beat', 'tight', 'make', 'wanna', 'get', 'get', 'like', \"there'\", 'tomorrow', 'like', \"there'\", 'tomorrow', 'like', \"there'\", 'tomorrow', 'oh,', 'night', \"don't\", 'worri', \"'bout\", 'thing', \"don't\", 'worri', \"'bout\", 'thing', \"don't\", 'worri', \"'bout\", 'thing', 'know', \"we'll\", 'alright', \"don't\", 'worri', \"'bout\", 'thing', \"don't\", 'worri', \"'bout\", 'thing', \"don't\", 'worri', \"'bout\", 'thing', 'oh,', 'night', \"don't\", 'worri', \"'bout\", 'thing', \"don't\", 'worri', \"'bout\", 'thing', \"don't\", 'worri', \"'bout\", 'thing', \"let'\", 'get', 'busi', 'show', 'got', 'keep', 'record', 'spin', 'music', 'never', 'stop', 'wanna', 'live', 'forev', 'reach', 'star', \"let'\", 'take', 'next', 'level', 'light', 'space', 'ship', 'bright', 'big', 'light', 'shine', 'us', 'beat', 'tight', 'make', 'wanna', 'get', 'get', 'like', \"there'\", 'tomorrow', 'like', \"there'\", 'tomorrow', 'like', \"there'\", 'tomorrow', 'oh,', 'night', \"don't\", 'worri', \"'bout\", 'thing', \"don't\", 'worri', \"'bout\", 'thing', \"don't\", 'worri', \"'bout\", 'thing', 'know', \"we'll\", 'alright', \"don't\", 'worri', \"'bout\", 'thing', \"don't\", 'worri', \"'bout\", 'thing', \"don't\", 'worri', \"'bout\", 'thing', 'oh,', 'night', \"don't\", 'worri', \"'bout\", 'thing', \"don't\", 'worri', \"'bout\", 'thing', \"don't\", 'worri', \"'bout\", 'thing', 'yeah,', 'rooftop', 'surround', 'star', 'view', 'hot', \"ain't\", 'nobodi', 'think', \"'bout\", 'got', \"everything'\", 'ours,', 'wanna', 'dip?', 'get', 'new', 'spot', 'yeah,', \"don't\", 'worry,', \"don't\", 'worri', 'night', 'never', 'ends,', 'hurri', 'hurri', 'shorti', 'look', 'thick', 'line', 'get', 'blurri', 'night', 'palm', 'might', 'get', 'dirti', 'dj,', 'let', 'beat', 'play,', 'make', 'heat', 'wave,', 'replay', 'tonight', 'gone', 'parti', 'like', 'd-day', 'young', 'free', 'say', 'one', 'ck', 'shit', 'moon', 'light', 'sky', 'ceil', 'low', 'base', 'high', 'feel', 'world', 'club,', 'caus', \"this'\", 'one', 'book', \"don't\", 'worri', 'bout', 'thang', 'oh,', 'night', \"don't\", 'worri', \"'bout\", 'thing', \"don't\", 'worri', \"'bout\", 'thing', \"don't\", 'worri', \"'bout\", 'thing', 'know', \"we'll\", 'alright', \"don't\", 'worri', \"'bout\", 'thing', \"don't\", 'worri', \"'bout\", 'thing', \"don't\", 'worri', \"'bout\", 'thing', 'oh,', 'night', \"don't\", 'worri', \"'bout\", 'thing', \"don't\", 'worri', \"'bout\", 'thing', \"don't\", 'worri', \"'bout\", 'thing']] \n",
      "\n"
     ]
    },
    {
     "name": "stdout",
     "output_type": "stream",
     "text": [
      "['every', 'inch', \"sky's\", 'got', 'star', 'every', 'inch', \"skin's\", 'got', 'scar', 'guess', \"you've\", 'got', 'everything', 'every', 'inch', 'space', 'head', 'filled', 'things', 'read', 'guess', \"you've\", 'got', 'everything', 'every', 'film', \"you've\", 'ever', 'seen', 'fills', 'spaces', 'dreams', 'reminds', '(everything', 'everything', 'now)', 'every', 'inch', \"road's\", 'got', 'sign', 'every', 'boy', 'uses', 'line', 'pledge', 'allegiance', 'everything', 'every', 'song', \"i've\", 'ever', 'heard', 'playing', 'time,', \"it's\", 'absurd', 'reminds', 'me,', \"we've\", 'got', 'everything', 'turn', 'speakers', 'till', 'break', \"'cause\", 'every', 'time', 'smile', \"it's\", 'fake!', 'stop', 'pretending,', \"you've\", 'got', 'need', '(everything', 'now!)', 'want', '(everything', 'now!)', \"can't\", 'live', 'without', '(everything', 'now!)', \"can't\", 'live', 'without', '(everything', 'now!)', '(everything', 'now!)', 'everything', 'every', 'ancient', \"road's\", 'got', 'town', 'daddy,', 'come', \"you're\", 'never', 'around?', 'miss', 'you,', 'like', 'everything', 'mama,', 'leave', 'food', 'stove', 'leave', 'car', 'middle', 'road', 'happy', 'family', 'everything', 'turn', 'speakers', 'till', 'break', \"'cause\", 'every', 'time', 'smile', \"it's\", 'fake!', 'stop', 'pretending,', \"you've\", 'got', 'need', '(everything', 'now!)', 'want', '(everything', 'now!)', \"can't\", 'live', 'without', '(everything', 'now!)', \"can't\", 'live', 'without', '(everything', 'now!)', '(everything', 'now!)', \"'til\", 'every', 'room', 'house', 'filled', 'shit', \"couldn't\", 'live', 'without', 'need', '(everything', 'now!)', \"can't\", 'live', 'without', '(everything', 'now!)', '(everything', 'now!)', 'everything', 'la', 'la', 'la', 'la', 'la', 'la', 'la', 'la', 'la', 'la', 'la', 'la', 'la', 'la', 'stop', 'pretending,', \"you've\", 'got', 'need', '(everything', 'now!)', 'want', '(everything', 'now!)', \"can't\", 'live', 'without', '(everything', 'now!)', \"can't\", 'live', 'without', '(everything', 'now!)', \"can't\", 'live', '(everything', 'now!)', 'every', 'room', 'house', 'filled', 'shit', \"couldn't\", 'live', 'without', '(everything', 'now!)', 'need', '(everything', 'now!)', \"can't\", 'live', 'without', '(everything', 'now!)', \"can't\", 'live', '(everything', 'now!)', 'every', 'inch', 'space', 'heart', 'filled', 'something', \"i'll\", 'never', 'start', 'ashes', 'everything', \"you're\", 'black', \"can't\", 'make', 'back', 'everything'] \n",
      "\n",
      "['everi', 'inch', \"sky'\", 'got', 'star', 'everi', 'inch', \"skin'\", 'got', 'scar', 'guess', \"you'v\", 'got', 'everyth', 'everi', 'inch', 'space', 'head', 'fill', 'thing', 'read', 'guess', \"you'v\", 'got', 'everyth', 'everi', 'film', \"you'v\", 'ever', 'seen', 'fill', 'space', 'dream', 'remind', '(everyth', 'everyth', 'now)', 'everi', 'inch', \"road'\", 'got', 'sign', 'everi', 'boy', 'use', 'line', 'pledg', 'allegi', 'everyth', 'everi', 'song', \"i'v\", 'ever', 'heard', 'play', 'time,', \"it'\", 'absurd', 'remind', 'me,', \"we'v\", 'got', 'everyth', 'turn', 'speaker', 'till', 'break', \"'caus\", 'everi', 'time', 'smile', \"it'\", 'fake!', 'stop', 'pretending,', \"you'v\", 'got', 'need', '(everyth', 'now!)', 'want', '(everyth', 'now!)', \"can't\", 'live', 'without', '(everyth', 'now!)', \"can't\", 'live', 'without', '(everyth', 'now!)', '(everyth', 'now!)', 'everyth', 'everi', 'ancient', \"road'\", 'got', 'town', 'daddy,', 'come', \"you'r\", 'never', 'around?', 'miss', 'you,', 'like', 'everyth', 'mama,', 'leav', 'food', 'stove', 'leav', 'car', 'middl', 'road', 'happi', 'famili', 'everyth', 'turn', 'speaker', 'till', 'break', \"'caus\", 'everi', 'time', 'smile', \"it'\", 'fake!', 'stop', 'pretending,', \"you'v\", 'got', 'need', '(everyth', 'now!)', 'want', '(everyth', 'now!)', \"can't\", 'live', 'without', '(everyth', 'now!)', \"can't\", 'live', 'without', '(everyth', 'now!)', '(everyth', 'now!)', \"'til\", 'everi', 'room', 'hous', 'fill', 'shit', \"couldn't\", 'live', 'without', 'need', '(everyth', 'now!)', \"can't\", 'live', 'without', '(everyth', 'now!)', '(everyth', 'now!)', 'everyth', 'la', 'la', 'la', 'la', 'la', 'la', 'la', 'la', 'la', 'la', 'la', 'la', 'la', 'la', 'stop', 'pretending,', \"you'v\", 'got', 'need', '(everyth', 'now!)', 'want', '(everyth', 'now!)', \"can't\", 'live', 'without', '(everyth', 'now!)', \"can't\", 'live', 'without', '(everyth', 'now!)', \"can't\", 'live', '(everyth', 'now!)', 'everi', 'room', 'hous', 'fill', 'shit', \"couldn't\", 'live', 'without', '(everyth', 'now!)', 'need', '(everyth', 'now!)', \"can't\", 'live', 'without', '(everyth', 'now!)', \"can't\", 'live', '(everyth', 'now!)', 'everi', 'inch', 'space', 'heart', 'fill', 'someth', \"i'll\", 'never', 'start', 'ash', 'everyth', \"you'r\", 'black', \"can't\", 'make', 'back', 'everyth'] \n",
      "\n",
      "[['dreamer', 'never', 'learn', 'never', 'learn', 'beyond,', 'beyond', 'point', 'return', 'return', \"it'\", 'late', 'damag', 'done', 'damag', 'done', 'goe', 'beyond', 'beyond', 'white', 'room', 'window', 'sun', 'come', 'happi', 'serv', 'happi', 'serv'], ['declar', 'independence!', \"don't\", 'let', 'you!', 'declar', 'independence!', \"don't\", 'let', 'you!', '(justice)', 'declar', 'independence!', \"don't\", 'let', 'you!', 'declar', 'independence!', \"don't\", 'let', 'you!', '(justice)', 'start', 'currency!', 'make', 'stamp', 'protect', 'languag', '(justice)', 'declar', 'independ', \"don't\", 'let', 'declar', 'independ', \"don't\", 'let'], ['oh,', 'night', \"don't\", 'worri', \"'bout\", 'thing', \"don't\", 'worri', \"'bout\", 'thing', \"don't\", 'worri', \"'bout\", 'thing', 'know', \"we'll\", 'alright', \"don't\", 'worri', \"'bout\", 'thing', \"don't\", 'worri', \"'bout\", 'thing', \"don't\", 'worri', \"'bout\", 'thing', \"i'll\", 'take', 'futur', 'forget', 'past', 'keep', 'secret', 'swear', \"won't\", 'ask', 'let', 'go', 'troubles,', \"don't\", 'care', \"you'v\", 'thing', 'matter', 'night', 'end', 'bright', 'big', 'light', 'shine', 'us', 'beat', 'tight', 'make', 'wanna', 'get', 'get', 'like', \"there'\", 'tomorrow', 'like', \"there'\", 'tomorrow', 'like', \"there'\", 'tomorrow', 'oh,', 'night', \"don't\", 'worri', \"'bout\", 'thing', \"don't\", 'worri', \"'bout\", 'thing', \"don't\", 'worri', \"'bout\", 'thing', 'know', \"we'll\", 'alright', \"don't\", 'worri', \"'bout\", 'thing', \"don't\", 'worri', \"'bout\", 'thing', \"don't\", 'worri', \"'bout\", 'thing', 'oh,', 'night', \"don't\", 'worri', \"'bout\", 'thing', \"don't\", 'worri', \"'bout\", 'thing', \"don't\", 'worri', \"'bout\", 'thing', \"let'\", 'get', 'busi', 'show', 'got', 'keep', 'record', 'spin', 'music', 'never', 'stop', 'wanna', 'live', 'forev', 'reach', 'star', \"let'\", 'take', 'next', 'level', 'light', 'space', 'ship', 'bright', 'big', 'light', 'shine', 'us', 'beat', 'tight', 'make', 'wanna', 'get', 'get', 'like', \"there'\", 'tomorrow', 'like', \"there'\", 'tomorrow', 'like', \"there'\", 'tomorrow', 'oh,', 'night', \"don't\", 'worri', \"'bout\", 'thing', \"don't\", 'worri', \"'bout\", 'thing', \"don't\", 'worri', \"'bout\", 'thing', 'know', \"we'll\", 'alright', \"don't\", 'worri', \"'bout\", 'thing', \"don't\", 'worri', \"'bout\", 'thing', \"don't\", 'worri', \"'bout\", 'thing', 'oh,', 'night', \"don't\", 'worri', \"'bout\", 'thing', \"don't\", 'worri', \"'bout\", 'thing', \"don't\", 'worri', \"'bout\", 'thing', 'yeah,', 'rooftop', 'surround', 'star', 'view', 'hot', \"ain't\", 'nobodi', 'think', \"'bout\", 'got', \"everything'\", 'ours,', 'wanna', 'dip?', 'get', 'new', 'spot', 'yeah,', \"don't\", 'worry,', \"don't\", 'worri', 'night', 'never', 'ends,', 'hurri', 'hurri', 'shorti', 'look', 'thick', 'line', 'get', 'blurri', 'night', 'palm', 'might', 'get', 'dirti', 'dj,', 'let', 'beat', 'play,', 'make', 'heat', 'wave,', 'replay', 'tonight', 'gone', 'parti', 'like', 'd-day', 'young', 'free', 'say', 'one', 'ck', 'shit', 'moon', 'light', 'sky', 'ceil', 'low', 'base', 'high', 'feel', 'world', 'club,', 'caus', \"this'\", 'one', 'book', \"don't\", 'worri', 'bout', 'thang', 'oh,', 'night', \"don't\", 'worri', \"'bout\", 'thing', \"don't\", 'worri', \"'bout\", 'thing', \"don't\", 'worri', \"'bout\", 'thing', 'know', \"we'll\", 'alright', \"don't\", 'worri', \"'bout\", 'thing', \"don't\", 'worri', \"'bout\", 'thing', \"don't\", 'worri', \"'bout\", 'thing', 'oh,', 'night', \"don't\", 'worri', \"'bout\", 'thing', \"don't\", 'worri', \"'bout\", 'thing', \"don't\", 'worri', \"'bout\", 'thing'], ['everi', 'inch', \"sky'\", 'got', 'star', 'everi', 'inch', \"skin'\", 'got', 'scar', 'guess', \"you'v\", 'got', 'everyth', 'everi', 'inch', 'space', 'head', 'fill', 'thing', 'read', 'guess', \"you'v\", 'got', 'everyth', 'everi', 'film', \"you'v\", 'ever', 'seen', 'fill', 'space', 'dream', 'remind', '(everyth', 'everyth', 'now)', 'everi', 'inch', \"road'\", 'got', 'sign', 'everi', 'boy', 'use', 'line', 'pledg', 'allegi', 'everyth', 'everi', 'song', \"i'v\", 'ever', 'heard', 'play', 'time,', \"it'\", 'absurd', 'remind', 'me,', \"we'v\", 'got', 'everyth', 'turn', 'speaker', 'till', 'break', \"'caus\", 'everi', 'time', 'smile', \"it'\", 'fake!', 'stop', 'pretending,', \"you'v\", 'got', 'need', '(everyth', 'now!)', 'want', '(everyth', 'now!)', \"can't\", 'live', 'without', '(everyth', 'now!)', \"can't\", 'live', 'without', '(everyth', 'now!)', '(everyth', 'now!)', 'everyth', 'everi', 'ancient', \"road'\", 'got', 'town', 'daddy,', 'come', \"you'r\", 'never', 'around?', 'miss', 'you,', 'like', 'everyth', 'mama,', 'leav', 'food', 'stove', 'leav', 'car', 'middl', 'road', 'happi', 'famili', 'everyth', 'turn', 'speaker', 'till', 'break', \"'caus\", 'everi', 'time', 'smile', \"it'\", 'fake!', 'stop', 'pretending,', \"you'v\", 'got', 'need', '(everyth', 'now!)', 'want', '(everyth', 'now!)', \"can't\", 'live', 'without', '(everyth', 'now!)', \"can't\", 'live', 'without', '(everyth', 'now!)', '(everyth', 'now!)', \"'til\", 'everi', 'room', 'hous', 'fill', 'shit', \"couldn't\", 'live', 'without', 'need', '(everyth', 'now!)', \"can't\", 'live', 'without', '(everyth', 'now!)', '(everyth', 'now!)', 'everyth', 'la', 'la', 'la', 'la', 'la', 'la', 'la', 'la', 'la', 'la', 'la', 'la', 'la', 'la', 'stop', 'pretending,', \"you'v\", 'got', 'need', '(everyth', 'now!)', 'want', '(everyth', 'now!)', \"can't\", 'live', 'without', '(everyth', 'now!)', \"can't\", 'live', 'without', '(everyth', 'now!)', \"can't\", 'live', '(everyth', 'now!)', 'everi', 'room', 'hous', 'fill', 'shit', \"couldn't\", 'live', 'without', '(everyth', 'now!)', 'need', '(everyth', 'now!)', \"can't\", 'live', 'without', '(everyth', 'now!)', \"can't\", 'live', '(everyth', 'now!)', 'everi', 'inch', 'space', 'heart', 'fill', 'someth', \"i'll\", 'never', 'start', 'ash', 'everyth', \"you'r\", 'black', \"can't\", 'make', 'back', 'everyth']] \n",
      "\n",
      "[\"let's\", 'dance', 'style,', \"let's\", 'dance', 'while,', 'heaven', 'wait', \"we're\", 'watching', 'skies.', 'hoping', 'best,', 'expecting', 'worst,', 'gonna', 'drop', 'bomb', 'not?', 'let', 'us', 'die', 'young', 'let', 'us', 'live', 'forever', \"don't\", 'power,', 'never', 'say', 'never', 'sitting', 'sandpit,', 'life', 'short', 'trip', \"music's\", 'sad', 'man.', 'imagine', 'race', 'won?', 'turn', 'golden', 'faces', 'sun,', 'praising', 'leaders,', \"we're\", 'getting', 'tune', \"music's\", 'played', 'the,', 'madman.', 'forever', 'young,', 'want', 'forever', 'young.', 'really', 'want', 'live', 'forever?', 'forever,', 'ever', 'forever', 'young,', 'want', 'forever', 'young', 'really', 'want', 'live', 'forever?', 'forever', 'young.', 'like', 'water,', 'like', 'heat', 'melody', 'beat', 'sooner', 'later', 'gone', \"don't\", 'stay', 'young?', \"it's\", 'hard', 'get', 'old', 'without', 'cause', \"don't\", 'want', 'perish', 'like', 'fading', 'horse', \"youth's\", 'like', 'diamonds', 'sun,', 'diamonds', 'forever', 'many', 'adventures', 'given', 'today,', 'many', 'songs', 'forgot', 'play.', 'many', 'dreams', 'swinging', 'blue', 'oh', 'let', 'come', 'true.', 'forever', 'young,', 'want', 'forever', 'young.', 'really', 'want', 'live', 'forever,', 'forever,', 'ever?', 'forever', 'young,', 'want', 'forever', 'young.', 'really', 'want', 'live', 'forever,', 'forever,', 'ever?', 'forever', 'young', 'want', 'forever', 'young', 'really', 'want', 'live', 'forever,', 'forever', 'young'] \n",
      "\n",
      "[\"let'\", 'danc', 'style,', \"let'\", 'danc', 'while,', 'heaven', 'wait', \"we'r\", 'watch', 'skies.', 'hope', 'best,', 'expect', 'worst,', 'gonna', 'drop', 'bomb', 'not?', 'let', 'us', 'die', 'young', 'let', 'us', 'live', 'forev', \"don't\", 'power,', 'never', 'say', 'never', 'sit', 'sandpit,', 'life', 'short', 'trip', \"music'\", 'sad', 'man.', 'imagin', 'race', 'won?', 'turn', 'golden', 'face', 'sun,', 'prais', 'leaders,', \"we'r\", 'get', 'tune', \"music'\", 'play', 'the,', 'madman.', 'forev', 'young,', 'want', 'forev', 'young.', 'realli', 'want', 'live', 'forever?', 'forever,', 'ever', 'forev', 'young,', 'want', 'forev', 'young', 'realli', 'want', 'live', 'forever?', 'forev', 'young.', 'like', 'water,', 'like', 'heat', 'melodi', 'beat', 'sooner', 'later', 'gone', \"don't\", 'stay', 'young?', \"it'\", 'hard', 'get', 'old', 'without', 'caus', \"don't\", 'want', 'perish', 'like', 'fade', 'hors', \"youth'\", 'like', 'diamond', 'sun,', 'diamond', 'forev', 'mani', 'adventur', 'given', 'today,', 'mani', 'song', 'forgot', 'play.', 'mani', 'dream', 'swing', 'blue', 'oh', 'let', 'come', 'true.', 'forev', 'young,', 'want', 'forev', 'young.', 'realli', 'want', 'live', 'forever,', 'forever,', 'ever?', 'forev', 'young,', 'want', 'forev', 'young.', 'realli', 'want', 'live', 'forever,', 'forever,', 'ever?', 'forev', 'young', 'want', 'forev', 'young', 'realli', 'want', 'live', 'forever,', 'forev', 'young'] \n",
      "\n",
      "[['dreamer', 'never', 'learn', 'never', 'learn', 'beyond,', 'beyond', 'point', 'return', 'return', \"it'\", 'late', 'damag', 'done', 'damag', 'done', 'goe', 'beyond', 'beyond', 'white', 'room', 'window', 'sun', 'come', 'happi', 'serv', 'happi', 'serv'], ['declar', 'independence!', \"don't\", 'let', 'you!', 'declar', 'independence!', \"don't\", 'let', 'you!', '(justice)', 'declar', 'independence!', \"don't\", 'let', 'you!', 'declar', 'independence!', \"don't\", 'let', 'you!', '(justice)', 'start', 'currency!', 'make', 'stamp', 'protect', 'languag', '(justice)', 'declar', 'independ', \"don't\", 'let', 'declar', 'independ', \"don't\", 'let'], ['oh,', 'night', \"don't\", 'worri', \"'bout\", 'thing', \"don't\", 'worri', \"'bout\", 'thing', \"don't\", 'worri', \"'bout\", 'thing', 'know', \"we'll\", 'alright', \"don't\", 'worri', \"'bout\", 'thing', \"don't\", 'worri', \"'bout\", 'thing', \"don't\", 'worri', \"'bout\", 'thing', \"i'll\", 'take', 'futur', 'forget', 'past', 'keep', 'secret', 'swear', \"won't\", 'ask', 'let', 'go', 'troubles,', \"don't\", 'care', \"you'v\", 'thing', 'matter', 'night', 'end', 'bright', 'big', 'light', 'shine', 'us', 'beat', 'tight', 'make', 'wanna', 'get', 'get', 'like', \"there'\", 'tomorrow', 'like', \"there'\", 'tomorrow', 'like', \"there'\", 'tomorrow', 'oh,', 'night', \"don't\", 'worri', \"'bout\", 'thing', \"don't\", 'worri', \"'bout\", 'thing', \"don't\", 'worri', \"'bout\", 'thing', 'know', \"we'll\", 'alright', \"don't\", 'worri', \"'bout\", 'thing', \"don't\", 'worri', \"'bout\", 'thing', \"don't\", 'worri', \"'bout\", 'thing', 'oh,', 'night', \"don't\", 'worri', \"'bout\", 'thing', \"don't\", 'worri', \"'bout\", 'thing', \"don't\", 'worri', \"'bout\", 'thing', \"let'\", 'get', 'busi', 'show', 'got', 'keep', 'record', 'spin', 'music', 'never', 'stop', 'wanna', 'live', 'forev', 'reach', 'star', \"let'\", 'take', 'next', 'level', 'light', 'space', 'ship', 'bright', 'big', 'light', 'shine', 'us', 'beat', 'tight', 'make', 'wanna', 'get', 'get', 'like', \"there'\", 'tomorrow', 'like', \"there'\", 'tomorrow', 'like', \"there'\", 'tomorrow', 'oh,', 'night', \"don't\", 'worri', \"'bout\", 'thing', \"don't\", 'worri', \"'bout\", 'thing', \"don't\", 'worri', \"'bout\", 'thing', 'know', \"we'll\", 'alright', \"don't\", 'worri', \"'bout\", 'thing', \"don't\", 'worri', \"'bout\", 'thing', \"don't\", 'worri', \"'bout\", 'thing', 'oh,', 'night', \"don't\", 'worri', \"'bout\", 'thing', \"don't\", 'worri', \"'bout\", 'thing', \"don't\", 'worri', \"'bout\", 'thing', 'yeah,', 'rooftop', 'surround', 'star', 'view', 'hot', \"ain't\", 'nobodi', 'think', \"'bout\", 'got', \"everything'\", 'ours,', 'wanna', 'dip?', 'get', 'new', 'spot', 'yeah,', \"don't\", 'worry,', \"don't\", 'worri', 'night', 'never', 'ends,', 'hurri', 'hurri', 'shorti', 'look', 'thick', 'line', 'get', 'blurri', 'night', 'palm', 'might', 'get', 'dirti', 'dj,', 'let', 'beat', 'play,', 'make', 'heat', 'wave,', 'replay', 'tonight', 'gone', 'parti', 'like', 'd-day', 'young', 'free', 'say', 'one', 'ck', 'shit', 'moon', 'light', 'sky', 'ceil', 'low', 'base', 'high', 'feel', 'world', 'club,', 'caus', \"this'\", 'one', 'book', \"don't\", 'worri', 'bout', 'thang', 'oh,', 'night', \"don't\", 'worri', \"'bout\", 'thing', \"don't\", 'worri', \"'bout\", 'thing', \"don't\", 'worri', \"'bout\", 'thing', 'know', \"we'll\", 'alright', \"don't\", 'worri', \"'bout\", 'thing', \"don't\", 'worri', \"'bout\", 'thing', \"don't\", 'worri', \"'bout\", 'thing', 'oh,', 'night', \"don't\", 'worri', \"'bout\", 'thing', \"don't\", 'worri', \"'bout\", 'thing', \"don't\", 'worri', \"'bout\", 'thing'], ['everi', 'inch', \"sky'\", 'got', 'star', 'everi', 'inch', \"skin'\", 'got', 'scar', 'guess', \"you'v\", 'got', 'everyth', 'everi', 'inch', 'space', 'head', 'fill', 'thing', 'read', 'guess', \"you'v\", 'got', 'everyth', 'everi', 'film', \"you'v\", 'ever', 'seen', 'fill', 'space', 'dream', 'remind', '(everyth', 'everyth', 'now)', 'everi', 'inch', \"road'\", 'got', 'sign', 'everi', 'boy', 'use', 'line', 'pledg', 'allegi', 'everyth', 'everi', 'song', \"i'v\", 'ever', 'heard', 'play', 'time,', \"it'\", 'absurd', 'remind', 'me,', \"we'v\", 'got', 'everyth', 'turn', 'speaker', 'till', 'break', \"'caus\", 'everi', 'time', 'smile', \"it'\", 'fake!', 'stop', 'pretending,', \"you'v\", 'got', 'need', '(everyth', 'now!)', 'want', '(everyth', 'now!)', \"can't\", 'live', 'without', '(everyth', 'now!)', \"can't\", 'live', 'without', '(everyth', 'now!)', '(everyth', 'now!)', 'everyth', 'everi', 'ancient', \"road'\", 'got', 'town', 'daddy,', 'come', \"you'r\", 'never', 'around?', 'miss', 'you,', 'like', 'everyth', 'mama,', 'leav', 'food', 'stove', 'leav', 'car', 'middl', 'road', 'happi', 'famili', 'everyth', 'turn', 'speaker', 'till', 'break', \"'caus\", 'everi', 'time', 'smile', \"it'\", 'fake!', 'stop', 'pretending,', \"you'v\", 'got', 'need', '(everyth', 'now!)', 'want', '(everyth', 'now!)', \"can't\", 'live', 'without', '(everyth', 'now!)', \"can't\", 'live', 'without', '(everyth', 'now!)', '(everyth', 'now!)', \"'til\", 'everi', 'room', 'hous', 'fill', 'shit', \"couldn't\", 'live', 'without', 'need', '(everyth', 'now!)', \"can't\", 'live', 'without', '(everyth', 'now!)', '(everyth', 'now!)', 'everyth', 'la', 'la', 'la', 'la', 'la', 'la', 'la', 'la', 'la', 'la', 'la', 'la', 'la', 'la', 'stop', 'pretending,', \"you'v\", 'got', 'need', '(everyth', 'now!)', 'want', '(everyth', 'now!)', \"can't\", 'live', 'without', '(everyth', 'now!)', \"can't\", 'live', 'without', '(everyth', 'now!)', \"can't\", 'live', '(everyth', 'now!)', 'everi', 'room', 'hous', 'fill', 'shit', \"couldn't\", 'live', 'without', '(everyth', 'now!)', 'need', '(everyth', 'now!)', \"can't\", 'live', 'without', '(everyth', 'now!)', \"can't\", 'live', '(everyth', 'now!)', 'everi', 'inch', 'space', 'heart', 'fill', 'someth', \"i'll\", 'never', 'start', 'ash', 'everyth', \"you'r\", 'black', \"can't\", 'make', 'back', 'everyth'], [\"let'\", 'danc', 'style,', \"let'\", 'danc', 'while,', 'heaven', 'wait', \"we'r\", 'watch', 'skies.', 'hope', 'best,', 'expect', 'worst,', 'gonna', 'drop', 'bomb', 'not?', 'let', 'us', 'die', 'young', 'let', 'us', 'live', 'forev', \"don't\", 'power,', 'never', 'say', 'never', 'sit', 'sandpit,', 'life', 'short', 'trip', \"music'\", 'sad', 'man.', 'imagin', 'race', 'won?', 'turn', 'golden', 'face', 'sun,', 'prais', 'leaders,', \"we'r\", 'get', 'tune', \"music'\", 'play', 'the,', 'madman.', 'forev', 'young,', 'want', 'forev', 'young.', 'realli', 'want', 'live', 'forever?', 'forever,', 'ever', 'forev', 'young,', 'want', 'forev', 'young', 'realli', 'want', 'live', 'forever?', 'forev', 'young.', 'like', 'water,', 'like', 'heat', 'melodi', 'beat', 'sooner', 'later', 'gone', \"don't\", 'stay', 'young?', \"it'\", 'hard', 'get', 'old', 'without', 'caus', \"don't\", 'want', 'perish', 'like', 'fade', 'hors', \"youth'\", 'like', 'diamond', 'sun,', 'diamond', 'forev', 'mani', 'adventur', 'given', 'today,', 'mani', 'song', 'forgot', 'play.', 'mani', 'dream', 'swing', 'blue', 'oh', 'let', 'come', 'true.', 'forev', 'young,', 'want', 'forev', 'young.', 'realli', 'want', 'live', 'forever,', 'forever,', 'ever?', 'forev', 'young,', 'want', 'forev', 'young.', 'realli', 'want', 'live', 'forever,', 'forever,', 'ever?', 'forev', 'young', 'want', 'forev', 'young', 'realli', 'want', 'live', 'forever,', 'forev', 'young']] \n",
      "\n",
      "['girl', 'come', 'flip', 'like', 'flipagram', 'flip', 'like', 'flipagram', 'make', 'ya', 'bumpa', 'flip', 'like', 'flipagram', 'flip', 'like', 'flipagram', 'flip', 'like', 'flipagram', 'gyal', 'wine', 'pon', 'mi', 'body', 'gyal', 'wine', 'like', 'carnival', 'gyal', 'love', 'way', 'wine', 'gyal', 'wine', 'emotional', 'wine', 'pon', 'mi', 'body', 'gyal', 'want', 'come', 'wine', 'waistline', 'baby', \"bubblin',\", \"bubblin',\", \"bubblin'\", 'baby,', 'gyal', 'party', 'animal', 'gyal', 'active', 'lazy', 'gyal', 'party', 'animal', 'wine', 'drive', 'crazy', 'gyal', 'party', 'animal', 'wine', 'good,', 'good', 'gyal', 'love', 'party', 'took', 'one', 'shot,', 'two', 'shot,', 'three', 'shot,', 'four', '9', 'minutes', 'come', 'back', 'take', 'shoes', 'pon', 'di', 'dancefloor', 'start', 'broke', 'broke', 'like', 'sore', 'approach', 'like', 'cure', 'know', 'like', 'tonight', 'score', 'sexy,', 'beautiful', 'pure', 'gyal', 'adore', 'gyal', 'wine', 'pon', 'mi', 'body', 'gyal', 'wine', 'carnival', 'gyal', 'love', 'way', 'wine', 'gyal', 'wine', 'emotional', 'wine', 'pon', 'mi', 'body', 'gyal', 'want', 'come', 'wine', 'waistline', 'baby', \"bubblin',\", \"bubblin',\", \"bubblin'\", 'baby,', 'gyal', 'party', 'animal', 'wine', 'drive', 'crazy', 'gyal', 'party', 'animal', 'gyal', 'active', 'lazy', 'gyal', 'party', 'animal', 'dance', 'good,', 'good', 'gyal', 'love', 'party', 'gyal', 'ya', 'ting', 'bubbly,', 'bubbly,', 'bubbly', 'mi', 'na', 'know', 'ya', 'ya', 'ting', 'bubbly', 'god', 'send', 'ya', 'fa', 'meet', 'tonight', 'mi', 'follow', 'morning', 'day', 'worry', \"'bout\", 'friends', 'friends', 'club', 'party', 'pon', 'mi', 'ends', 'gyal', 'flip', 'like', 'flipagram,', 'flip', 'like', 'flipagram', 'right', 'moment', 'wine', 'pon', 'mi', 'body', 'gyal', 'wine', 'like', 'carnival', 'gyal', 'love', 'way', 'wine', 'gyal', 'wine', 'emotional', 'wine', 'pon', 'mi', 'body', 'gyal', 'want', 'come', 'wine', 'waistline', 'baby', \"bubblin',\", 'bubblin,', 'bubblin', 'baby,', 'gyal', 'party', 'animal', 'gyal', 'active', 'lazy', 'gyal', 'party', 'animal', 'wine', 'drive', 'crazy', 'gyal', 'party', 'animal', 'good,', 'wine', 'good', 'gyal', 'love', 'wine', 'pon', 'body', 'gyal', 'wine', 'like', 'carnival', 'gyal', 'love', 'way', 'wine', 'emotional', 'body', 'gyal', 'mi', 'want', 'come', 'wine', 'waistline', \"bubblin',\", \"bubblin',\", \"bubblin'\", 'baby,', 'gyal', 'party', 'animal', 'gyal', 'party', 'animal', 'gyal', 'party', 'animal'] \n",
      "\n",
      "['girl', 'come', 'flip', 'like', 'flipagram', 'flip', 'like', 'flipagram', 'make', 'ya', 'bumpa', 'flip', 'like', 'flipagram', 'flip', 'like', 'flipagram', 'flip', 'like', 'flipagram', 'gyal', 'wine', 'pon', 'mi', 'bodi', 'gyal', 'wine', 'like', 'carniv', 'gyal', 'love', 'way', 'wine', 'gyal', 'wine', 'emot', 'wine', 'pon', 'mi', 'bodi', 'gyal', 'want', 'come', 'wine', 'waistlin', 'babi', \"bubblin',\", \"bubblin',\", \"bubblin'\", 'baby,', 'gyal', 'parti', 'anim', 'gyal', 'activ', 'lazi', 'gyal', 'parti', 'anim', 'wine', 'drive', 'crazi', 'gyal', 'parti', 'anim', 'wine', 'good,', 'good', 'gyal', 'love', 'parti', 'took', 'one', 'shot,', 'two', 'shot,', 'three', 'shot,', 'four', '9', 'minut', 'come', 'back', 'take', 'shoe', 'pon', 'di', 'dancefloor', 'start', 'broke', 'broke', 'like', 'sore', 'approach', 'like', 'cure', 'know', 'like', 'tonight', 'score', 'sexy,', 'beauti', 'pure', 'gyal', 'ador', 'gyal', 'wine', 'pon', 'mi', 'bodi', 'gyal', 'wine', 'carniv', 'gyal', 'love', 'way', 'wine', 'gyal', 'wine', 'emot', 'wine', 'pon', 'mi', 'bodi', 'gyal', 'want', 'come', 'wine', 'waistlin', 'babi', \"bubblin',\", \"bubblin',\", \"bubblin'\", 'baby,', 'gyal', 'parti', 'anim', 'wine', 'drive', 'crazi', 'gyal', 'parti', 'anim', 'gyal', 'activ', 'lazi', 'gyal', 'parti', 'anim', 'danc', 'good,', 'good', 'gyal', 'love', 'parti', 'gyal', 'ya', 'ting', 'bubbly,', 'bubbly,', 'bubbl', 'mi', 'na', 'know', 'ya', 'ya', 'ting', 'bubbl', 'god', 'send', 'ya', 'fa', 'meet', 'tonight', 'mi', 'follow', 'morn', 'day', 'worri', \"'bout\", 'friend', 'friend', 'club', 'parti', 'pon', 'mi', 'end', 'gyal', 'flip', 'like', 'flipagram,', 'flip', 'like', 'flipagram', 'right', 'moment', 'wine', 'pon', 'mi', 'bodi', 'gyal', 'wine', 'like', 'carniv', 'gyal', 'love', 'way', 'wine', 'gyal', 'wine', 'emot', 'wine', 'pon', 'mi', 'bodi', 'gyal', 'want', 'come', 'wine', 'waistlin', 'babi', \"bubblin',\", 'bubblin,', 'bubblin', 'baby,', 'gyal', 'parti', 'anim', 'gyal', 'activ', 'lazi', 'gyal', 'parti', 'anim', 'wine', 'drive', 'crazi', 'gyal', 'parti', 'anim', 'good,', 'wine', 'good', 'gyal', 'love', 'wine', 'pon', 'bodi', 'gyal', 'wine', 'like', 'carniv', 'gyal', 'love', 'way', 'wine', 'emot', 'bodi', 'gyal', 'mi', 'want', 'come', 'wine', 'waistlin', \"bubblin',\", \"bubblin',\", \"bubblin'\", 'baby,', 'gyal', 'parti', 'anim', 'gyal', 'parti', 'anim', 'gyal', 'parti', 'anim'] \n",
      "\n",
      "[['dreamer', 'never', 'learn', 'never', 'learn', 'beyond,', 'beyond', 'point', 'return', 'return', \"it'\", 'late', 'damag', 'done', 'damag', 'done', 'goe', 'beyond', 'beyond', 'white', 'room', 'window', 'sun', 'come', 'happi', 'serv', 'happi', 'serv'], ['declar', 'independence!', \"don't\", 'let', 'you!', 'declar', 'independence!', \"don't\", 'let', 'you!', '(justice)', 'declar', 'independence!', \"don't\", 'let', 'you!', 'declar', 'independence!', \"don't\", 'let', 'you!', '(justice)', 'start', 'currency!', 'make', 'stamp', 'protect', 'languag', '(justice)', 'declar', 'independ', \"don't\", 'let', 'declar', 'independ', \"don't\", 'let'], ['oh,', 'night', \"don't\", 'worri', \"'bout\", 'thing', \"don't\", 'worri', \"'bout\", 'thing', \"don't\", 'worri', \"'bout\", 'thing', 'know', \"we'll\", 'alright', \"don't\", 'worri', \"'bout\", 'thing', \"don't\", 'worri', \"'bout\", 'thing', \"don't\", 'worri', \"'bout\", 'thing', \"i'll\", 'take', 'futur', 'forget', 'past', 'keep', 'secret', 'swear', \"won't\", 'ask', 'let', 'go', 'troubles,', \"don't\", 'care', \"you'v\", 'thing', 'matter', 'night', 'end', 'bright', 'big', 'light', 'shine', 'us', 'beat', 'tight', 'make', 'wanna', 'get', 'get', 'like', \"there'\", 'tomorrow', 'like', \"there'\", 'tomorrow', 'like', \"there'\", 'tomorrow', 'oh,', 'night', \"don't\", 'worri', \"'bout\", 'thing', \"don't\", 'worri', \"'bout\", 'thing', \"don't\", 'worri', \"'bout\", 'thing', 'know', \"we'll\", 'alright', \"don't\", 'worri', \"'bout\", 'thing', \"don't\", 'worri', \"'bout\", 'thing', \"don't\", 'worri', \"'bout\", 'thing', 'oh,', 'night', \"don't\", 'worri', \"'bout\", 'thing', \"don't\", 'worri', \"'bout\", 'thing', \"don't\", 'worri', \"'bout\", 'thing', \"let'\", 'get', 'busi', 'show', 'got', 'keep', 'record', 'spin', 'music', 'never', 'stop', 'wanna', 'live', 'forev', 'reach', 'star', \"let'\", 'take', 'next', 'level', 'light', 'space', 'ship', 'bright', 'big', 'light', 'shine', 'us', 'beat', 'tight', 'make', 'wanna', 'get', 'get', 'like', \"there'\", 'tomorrow', 'like', \"there'\", 'tomorrow', 'like', \"there'\", 'tomorrow', 'oh,', 'night', \"don't\", 'worri', \"'bout\", 'thing', \"don't\", 'worri', \"'bout\", 'thing', \"don't\", 'worri', \"'bout\", 'thing', 'know', \"we'll\", 'alright', \"don't\", 'worri', \"'bout\", 'thing', \"don't\", 'worri', \"'bout\", 'thing', \"don't\", 'worri', \"'bout\", 'thing', 'oh,', 'night', \"don't\", 'worri', \"'bout\", 'thing', \"don't\", 'worri', \"'bout\", 'thing', \"don't\", 'worri', \"'bout\", 'thing', 'yeah,', 'rooftop', 'surround', 'star', 'view', 'hot', \"ain't\", 'nobodi', 'think', \"'bout\", 'got', \"everything'\", 'ours,', 'wanna', 'dip?', 'get', 'new', 'spot', 'yeah,', \"don't\", 'worry,', \"don't\", 'worri', 'night', 'never', 'ends,', 'hurri', 'hurri', 'shorti', 'look', 'thick', 'line', 'get', 'blurri', 'night', 'palm', 'might', 'get', 'dirti', 'dj,', 'let', 'beat', 'play,', 'make', 'heat', 'wave,', 'replay', 'tonight', 'gone', 'parti', 'like', 'd-day', 'young', 'free', 'say', 'one', 'ck', 'shit', 'moon', 'light', 'sky', 'ceil', 'low', 'base', 'high', 'feel', 'world', 'club,', 'caus', \"this'\", 'one', 'book', \"don't\", 'worri', 'bout', 'thang', 'oh,', 'night', \"don't\", 'worri', \"'bout\", 'thing', \"don't\", 'worri', \"'bout\", 'thing', \"don't\", 'worri', \"'bout\", 'thing', 'know', \"we'll\", 'alright', \"don't\", 'worri', \"'bout\", 'thing', \"don't\", 'worri', \"'bout\", 'thing', \"don't\", 'worri', \"'bout\", 'thing', 'oh,', 'night', \"don't\", 'worri', \"'bout\", 'thing', \"don't\", 'worri', \"'bout\", 'thing', \"don't\", 'worri', \"'bout\", 'thing'], ['everi', 'inch', \"sky'\", 'got', 'star', 'everi', 'inch', \"skin'\", 'got', 'scar', 'guess', \"you'v\", 'got', 'everyth', 'everi', 'inch', 'space', 'head', 'fill', 'thing', 'read', 'guess', \"you'v\", 'got', 'everyth', 'everi', 'film', \"you'v\", 'ever', 'seen', 'fill', 'space', 'dream', 'remind', '(everyth', 'everyth', 'now)', 'everi', 'inch', \"road'\", 'got', 'sign', 'everi', 'boy', 'use', 'line', 'pledg', 'allegi', 'everyth', 'everi', 'song', \"i'v\", 'ever', 'heard', 'play', 'time,', \"it'\", 'absurd', 'remind', 'me,', \"we'v\", 'got', 'everyth', 'turn', 'speaker', 'till', 'break', \"'caus\", 'everi', 'time', 'smile', \"it'\", 'fake!', 'stop', 'pretending,', \"you'v\", 'got', 'need', '(everyth', 'now!)', 'want', '(everyth', 'now!)', \"can't\", 'live', 'without', '(everyth', 'now!)', \"can't\", 'live', 'without', '(everyth', 'now!)', '(everyth', 'now!)', 'everyth', 'everi', 'ancient', \"road'\", 'got', 'town', 'daddy,', 'come', \"you'r\", 'never', 'around?', 'miss', 'you,', 'like', 'everyth', 'mama,', 'leav', 'food', 'stove', 'leav', 'car', 'middl', 'road', 'happi', 'famili', 'everyth', 'turn', 'speaker', 'till', 'break', \"'caus\", 'everi', 'time', 'smile', \"it'\", 'fake!', 'stop', 'pretending,', \"you'v\", 'got', 'need', '(everyth', 'now!)', 'want', '(everyth', 'now!)', \"can't\", 'live', 'without', '(everyth', 'now!)', \"can't\", 'live', 'without', '(everyth', 'now!)', '(everyth', 'now!)', \"'til\", 'everi', 'room', 'hous', 'fill', 'shit', \"couldn't\", 'live', 'without', 'need', '(everyth', 'now!)', \"can't\", 'live', 'without', '(everyth', 'now!)', '(everyth', 'now!)', 'everyth', 'la', 'la', 'la', 'la', 'la', 'la', 'la', 'la', 'la', 'la', 'la', 'la', 'la', 'la', 'stop', 'pretending,', \"you'v\", 'got', 'need', '(everyth', 'now!)', 'want', '(everyth', 'now!)', \"can't\", 'live', 'without', '(everyth', 'now!)', \"can't\", 'live', 'without', '(everyth', 'now!)', \"can't\", 'live', '(everyth', 'now!)', 'everi', 'room', 'hous', 'fill', 'shit', \"couldn't\", 'live', 'without', '(everyth', 'now!)', 'need', '(everyth', 'now!)', \"can't\", 'live', 'without', '(everyth', 'now!)', \"can't\", 'live', '(everyth', 'now!)', 'everi', 'inch', 'space', 'heart', 'fill', 'someth', \"i'll\", 'never', 'start', 'ash', 'everyth', \"you'r\", 'black', \"can't\", 'make', 'back', 'everyth'], [\"let'\", 'danc', 'style,', \"let'\", 'danc', 'while,', 'heaven', 'wait', \"we'r\", 'watch', 'skies.', 'hope', 'best,', 'expect', 'worst,', 'gonna', 'drop', 'bomb', 'not?', 'let', 'us', 'die', 'young', 'let', 'us', 'live', 'forev', \"don't\", 'power,', 'never', 'say', 'never', 'sit', 'sandpit,', 'life', 'short', 'trip', \"music'\", 'sad', 'man.', 'imagin', 'race', 'won?', 'turn', 'golden', 'face', 'sun,', 'prais', 'leaders,', \"we'r\", 'get', 'tune', \"music'\", 'play', 'the,', 'madman.', 'forev', 'young,', 'want', 'forev', 'young.', 'realli', 'want', 'live', 'forever?', 'forever,', 'ever', 'forev', 'young,', 'want', 'forev', 'young', 'realli', 'want', 'live', 'forever?', 'forev', 'young.', 'like', 'water,', 'like', 'heat', 'melodi', 'beat', 'sooner', 'later', 'gone', \"don't\", 'stay', 'young?', \"it'\", 'hard', 'get', 'old', 'without', 'caus', \"don't\", 'want', 'perish', 'like', 'fade', 'hors', \"youth'\", 'like', 'diamond', 'sun,', 'diamond', 'forev', 'mani', 'adventur', 'given', 'today,', 'mani', 'song', 'forgot', 'play.', 'mani', 'dream', 'swing', 'blue', 'oh', 'let', 'come', 'true.', 'forev', 'young,', 'want', 'forev', 'young.', 'realli', 'want', 'live', 'forever,', 'forever,', 'ever?', 'forev', 'young,', 'want', 'forev', 'young.', 'realli', 'want', 'live', 'forever,', 'forever,', 'ever?', 'forev', 'young', 'want', 'forev', 'young', 'realli', 'want', 'live', 'forever,', 'forev', 'young'], ['girl', 'come', 'flip', 'like', 'flipagram', 'flip', 'like', 'flipagram', 'make', 'ya', 'bumpa', 'flip', 'like', 'flipagram', 'flip', 'like', 'flipagram', 'flip', 'like', 'flipagram', 'gyal', 'wine', 'pon', 'mi', 'bodi', 'gyal', 'wine', 'like', 'carniv', 'gyal', 'love', 'way', 'wine', 'gyal', 'wine', 'emot', 'wine', 'pon', 'mi', 'bodi', 'gyal', 'want', 'come', 'wine', 'waistlin', 'babi', \"bubblin',\", \"bubblin',\", \"bubblin'\", 'baby,', 'gyal', 'parti', 'anim', 'gyal', 'activ', 'lazi', 'gyal', 'parti', 'anim', 'wine', 'drive', 'crazi', 'gyal', 'parti', 'anim', 'wine', 'good,', 'good', 'gyal', 'love', 'parti', 'took', 'one', 'shot,', 'two', 'shot,', 'three', 'shot,', 'four', '9', 'minut', 'come', 'back', 'take', 'shoe', 'pon', 'di', 'dancefloor', 'start', 'broke', 'broke', 'like', 'sore', 'approach', 'like', 'cure', 'know', 'like', 'tonight', 'score', 'sexy,', 'beauti', 'pure', 'gyal', 'ador', 'gyal', 'wine', 'pon', 'mi', 'bodi', 'gyal', 'wine', 'carniv', 'gyal', 'love', 'way', 'wine', 'gyal', 'wine', 'emot', 'wine', 'pon', 'mi', 'bodi', 'gyal', 'want', 'come', 'wine', 'waistlin', 'babi', \"bubblin',\", \"bubblin',\", \"bubblin'\", 'baby,', 'gyal', 'parti', 'anim', 'wine', 'drive', 'crazi', 'gyal', 'parti', 'anim', 'gyal', 'activ', 'lazi', 'gyal', 'parti', 'anim', 'danc', 'good,', 'good', 'gyal', 'love', 'parti', 'gyal', 'ya', 'ting', 'bubbly,', 'bubbly,', 'bubbl', 'mi', 'na', 'know', 'ya', 'ya', 'ting', 'bubbl', 'god', 'send', 'ya', 'fa', 'meet', 'tonight', 'mi', 'follow', 'morn', 'day', 'worri', \"'bout\", 'friend', 'friend', 'club', 'parti', 'pon', 'mi', 'end', 'gyal', 'flip', 'like', 'flipagram,', 'flip', 'like', 'flipagram', 'right', 'moment', 'wine', 'pon', 'mi', 'bodi', 'gyal', 'wine', 'like', 'carniv', 'gyal', 'love', 'way', 'wine', 'gyal', 'wine', 'emot', 'wine', 'pon', 'mi', 'bodi', 'gyal', 'want', 'come', 'wine', 'waistlin', 'babi', \"bubblin',\", 'bubblin,', 'bubblin', 'baby,', 'gyal', 'parti', 'anim', 'gyal', 'activ', 'lazi', 'gyal', 'parti', 'anim', 'wine', 'drive', 'crazi', 'gyal', 'parti', 'anim', 'good,', 'wine', 'good', 'gyal', 'love', 'wine', 'pon', 'bodi', 'gyal', 'wine', 'like', 'carniv', 'gyal', 'love', 'way', 'wine', 'emot', 'bodi', 'gyal', 'mi', 'want', 'come', 'wine', 'waistlin', \"bubblin',\", \"bubblin',\", \"bubblin'\", 'baby,', 'gyal', 'parti', 'anim', 'gyal', 'parti', 'anim', 'gyal', 'parti', 'anim']] \n",
      "\n"
     ]
    },
    {
     "name": "stdout",
     "output_type": "stream",
     "text": [
      "['yeah,', 'uh', 'tell', 'really', 'like', 'baby', 'take', 'time', \"don't\", 'ever', 'fight', 'take', 'step-by-step', 'see', 'eyes', \"'cause\", 'never', 'tell', 'lies', 'feel', 'body', 'shake', 'heat', 'legs', \"you've\", 'scared', 'love', \"don't\", 'run,', 'know', \"you've\", 'simple', 'touch', 'set', 'free', \"don't\", 'rush', \"you're\", 'alone', 'feel', 'coming,', 'feel', 'coming,', 'babe', 'feel', 'coming,', 'feel', 'coming,', 'babe', 'feel', 'coming,', 'feel', 'coming,', 'babe', 'feel', 'coming,', 'feel', 'coming,', 'babe', 'single', 'type', 'baby,', 'perfect', 'time', \"i'm\", 'trying', 'get', 'high', 'faded', 'touch', \"don't\", 'need', 'lonely', 'night', 'baby,', 'make', 'right', 'got', 'let', 'try', 'give', 'want', \"you've\", 'scared', 'love', \"don't\", 'run,', 'know', \"you've\", 'simple', 'touch', 'set', 'free', \"don't\", 'rush', \"you're\", 'alone', 'feel', 'coming,', 'feel', 'coming,', 'babe', 'feel', 'coming,', 'feel', 'coming,', 'babe', 'feel', 'coming,', 'feel', 'coming,', 'babe', 'feel', 'coming,', 'feel', 'coming,', 'babe', 'feel', 'coming,', 'feel', 'coming,', 'babe', 'feel', 'coming,', 'feel', 'coming,', 'babe', 'feel', 'coming,', 'feel', 'coming,', 'babe', 'feel', 'coming,', 'feel', 'coming,', 'babe', \"you've\", 'scared', 'love', \"don't\", 'run,', 'know', \"you've\", 'simple', 'touch', 'set', 'free', \"don't\", 'rush', \"you're\", 'alone', 'feel', 'coming,', 'feel', 'coming,', 'babe', 'feel', 'coming,', 'feel', 'coming,', 'babe', '(i', 'know', 'feel', 'right', 'now)', 'feel', 'coming,', 'feel', 'coming,', 'babe', 'feel', 'coming,', 'feel', 'coming,', 'babe', '(i', 'know', 'feel', 'right', 'now)', 'feel', 'coming,', 'feel', 'coming,', 'babe', 'feel', 'coming,', 'feel', 'coming,', 'babe', '(i', 'know', 'feel', 'right', 'now)', 'feel', 'coming,', 'feel', 'coming,', 'babe', 'feel', 'coming,', 'feel', 'coming,', 'babe', 'feel', 'coming,', 'babe', 'feel', 'coming,', 'babe', 'feel', 'coming,', 'babe', 'feel', 'coming,', 'babe'] \n",
      "\n",
      "['yeah,', 'uh', 'tell', 'realli', 'like', 'babi', 'take', 'time', \"don't\", 'ever', 'fight', 'take', 'step-by-step', 'see', 'eye', \"'caus\", 'never', 'tell', 'lie', 'feel', 'bodi', 'shake', 'heat', 'leg', \"you'v\", 'scare', 'love', \"don't\", 'run,', 'know', \"you'v\", 'simpl', 'touch', 'set', 'free', \"don't\", 'rush', \"you'r\", 'alon', 'feel', 'coming,', 'feel', 'coming,', 'babe', 'feel', 'coming,', 'feel', 'coming,', 'babe', 'feel', 'coming,', 'feel', 'coming,', 'babe', 'feel', 'coming,', 'feel', 'coming,', 'babe', 'singl', 'type', 'baby,', 'perfect', 'time', \"i'm\", 'tri', 'get', 'high', 'fade', 'touch', \"don't\", 'need', 'lone', 'night', 'baby,', 'make', 'right', 'got', 'let', 'tri', 'give', 'want', \"you'v\", 'scare', 'love', \"don't\", 'run,', 'know', \"you'v\", 'simpl', 'touch', 'set', 'free', \"don't\", 'rush', \"you'r\", 'alon', 'feel', 'coming,', 'feel', 'coming,', 'babe', 'feel', 'coming,', 'feel', 'coming,', 'babe', 'feel', 'coming,', 'feel', 'coming,', 'babe', 'feel', 'coming,', 'feel', 'coming,', 'babe', 'feel', 'coming,', 'feel', 'coming,', 'babe', 'feel', 'coming,', 'feel', 'coming,', 'babe', 'feel', 'coming,', 'feel', 'coming,', 'babe', 'feel', 'coming,', 'feel', 'coming,', 'babe', \"you'v\", 'scare', 'love', \"don't\", 'run,', 'know', \"you'v\", 'simpl', 'touch', 'set', 'free', \"don't\", 'rush', \"you'r\", 'alon', 'feel', 'coming,', 'feel', 'coming,', 'babe', 'feel', 'coming,', 'feel', 'coming,', 'babe', '(i', 'know', 'feel', 'right', 'now)', 'feel', 'coming,', 'feel', 'coming,', 'babe', 'feel', 'coming,', 'feel', 'coming,', 'babe', '(i', 'know', 'feel', 'right', 'now)', 'feel', 'coming,', 'feel', 'coming,', 'babe', 'feel', 'coming,', 'feel', 'coming,', 'babe', '(i', 'know', 'feel', 'right', 'now)', 'feel', 'coming,', 'feel', 'coming,', 'babe', 'feel', 'coming,', 'feel', 'coming,', 'babe', 'feel', 'coming,', 'babe', 'feel', 'coming,', 'babe', 'feel', 'coming,', 'babe', 'feel', 'coming,', 'babe'] \n",
      "\n",
      "[['dreamer', 'never', 'learn', 'never', 'learn', 'beyond,', 'beyond', 'point', 'return', 'return', \"it'\", 'late', 'damag', 'done', 'damag', 'done', 'goe', 'beyond', 'beyond', 'white', 'room', 'window', 'sun', 'come', 'happi', 'serv', 'happi', 'serv'], ['declar', 'independence!', \"don't\", 'let', 'you!', 'declar', 'independence!', \"don't\", 'let', 'you!', '(justice)', 'declar', 'independence!', \"don't\", 'let', 'you!', 'declar', 'independence!', \"don't\", 'let', 'you!', '(justice)', 'start', 'currency!', 'make', 'stamp', 'protect', 'languag', '(justice)', 'declar', 'independ', \"don't\", 'let', 'declar', 'independ', \"don't\", 'let'], ['oh,', 'night', \"don't\", 'worri', \"'bout\", 'thing', \"don't\", 'worri', \"'bout\", 'thing', \"don't\", 'worri', \"'bout\", 'thing', 'know', \"we'll\", 'alright', \"don't\", 'worri', \"'bout\", 'thing', \"don't\", 'worri', \"'bout\", 'thing', \"don't\", 'worri', \"'bout\", 'thing', \"i'll\", 'take', 'futur', 'forget', 'past', 'keep', 'secret', 'swear', \"won't\", 'ask', 'let', 'go', 'troubles,', \"don't\", 'care', \"you'v\", 'thing', 'matter', 'night', 'end', 'bright', 'big', 'light', 'shine', 'us', 'beat', 'tight', 'make', 'wanna', 'get', 'get', 'like', \"there'\", 'tomorrow', 'like', \"there'\", 'tomorrow', 'like', \"there'\", 'tomorrow', 'oh,', 'night', \"don't\", 'worri', \"'bout\", 'thing', \"don't\", 'worri', \"'bout\", 'thing', \"don't\", 'worri', \"'bout\", 'thing', 'know', \"we'll\", 'alright', \"don't\", 'worri', \"'bout\", 'thing', \"don't\", 'worri', \"'bout\", 'thing', \"don't\", 'worri', \"'bout\", 'thing', 'oh,', 'night', \"don't\", 'worri', \"'bout\", 'thing', \"don't\", 'worri', \"'bout\", 'thing', \"don't\", 'worri', \"'bout\", 'thing', \"let'\", 'get', 'busi', 'show', 'got', 'keep', 'record', 'spin', 'music', 'never', 'stop', 'wanna', 'live', 'forev', 'reach', 'star', \"let'\", 'take', 'next', 'level', 'light', 'space', 'ship', 'bright', 'big', 'light', 'shine', 'us', 'beat', 'tight', 'make', 'wanna', 'get', 'get', 'like', \"there'\", 'tomorrow', 'like', \"there'\", 'tomorrow', 'like', \"there'\", 'tomorrow', 'oh,', 'night', \"don't\", 'worri', \"'bout\", 'thing', \"don't\", 'worri', \"'bout\", 'thing', \"don't\", 'worri', \"'bout\", 'thing', 'know', \"we'll\", 'alright', \"don't\", 'worri', \"'bout\", 'thing', \"don't\", 'worri', \"'bout\", 'thing', \"don't\", 'worri', \"'bout\", 'thing', 'oh,', 'night', \"don't\", 'worri', \"'bout\", 'thing', \"don't\", 'worri', \"'bout\", 'thing', \"don't\", 'worri', \"'bout\", 'thing', 'yeah,', 'rooftop', 'surround', 'star', 'view', 'hot', \"ain't\", 'nobodi', 'think', \"'bout\", 'got', \"everything'\", 'ours,', 'wanna', 'dip?', 'get', 'new', 'spot', 'yeah,', \"don't\", 'worry,', \"don't\", 'worri', 'night', 'never', 'ends,', 'hurri', 'hurri', 'shorti', 'look', 'thick', 'line', 'get', 'blurri', 'night', 'palm', 'might', 'get', 'dirti', 'dj,', 'let', 'beat', 'play,', 'make', 'heat', 'wave,', 'replay', 'tonight', 'gone', 'parti', 'like', 'd-day', 'young', 'free', 'say', 'one', 'ck', 'shit', 'moon', 'light', 'sky', 'ceil', 'low', 'base', 'high', 'feel', 'world', 'club,', 'caus', \"this'\", 'one', 'book', \"don't\", 'worri', 'bout', 'thang', 'oh,', 'night', \"don't\", 'worri', \"'bout\", 'thing', \"don't\", 'worri', \"'bout\", 'thing', \"don't\", 'worri', \"'bout\", 'thing', 'know', \"we'll\", 'alright', \"don't\", 'worri', \"'bout\", 'thing', \"don't\", 'worri', \"'bout\", 'thing', \"don't\", 'worri', \"'bout\", 'thing', 'oh,', 'night', \"don't\", 'worri', \"'bout\", 'thing', \"don't\", 'worri', \"'bout\", 'thing', \"don't\", 'worri', \"'bout\", 'thing'], ['everi', 'inch', \"sky'\", 'got', 'star', 'everi', 'inch', \"skin'\", 'got', 'scar', 'guess', \"you'v\", 'got', 'everyth', 'everi', 'inch', 'space', 'head', 'fill', 'thing', 'read', 'guess', \"you'v\", 'got', 'everyth', 'everi', 'film', \"you'v\", 'ever', 'seen', 'fill', 'space', 'dream', 'remind', '(everyth', 'everyth', 'now)', 'everi', 'inch', \"road'\", 'got', 'sign', 'everi', 'boy', 'use', 'line', 'pledg', 'allegi', 'everyth', 'everi', 'song', \"i'v\", 'ever', 'heard', 'play', 'time,', \"it'\", 'absurd', 'remind', 'me,', \"we'v\", 'got', 'everyth', 'turn', 'speaker', 'till', 'break', \"'caus\", 'everi', 'time', 'smile', \"it'\", 'fake!', 'stop', 'pretending,', \"you'v\", 'got', 'need', '(everyth', 'now!)', 'want', '(everyth', 'now!)', \"can't\", 'live', 'without', '(everyth', 'now!)', \"can't\", 'live', 'without', '(everyth', 'now!)', '(everyth', 'now!)', 'everyth', 'everi', 'ancient', \"road'\", 'got', 'town', 'daddy,', 'come', \"you'r\", 'never', 'around?', 'miss', 'you,', 'like', 'everyth', 'mama,', 'leav', 'food', 'stove', 'leav', 'car', 'middl', 'road', 'happi', 'famili', 'everyth', 'turn', 'speaker', 'till', 'break', \"'caus\", 'everi', 'time', 'smile', \"it'\", 'fake!', 'stop', 'pretending,', \"you'v\", 'got', 'need', '(everyth', 'now!)', 'want', '(everyth', 'now!)', \"can't\", 'live', 'without', '(everyth', 'now!)', \"can't\", 'live', 'without', '(everyth', 'now!)', '(everyth', 'now!)', \"'til\", 'everi', 'room', 'hous', 'fill', 'shit', \"couldn't\", 'live', 'without', 'need', '(everyth', 'now!)', \"can't\", 'live', 'without', '(everyth', 'now!)', '(everyth', 'now!)', 'everyth', 'la', 'la', 'la', 'la', 'la', 'la', 'la', 'la', 'la', 'la', 'la', 'la', 'la', 'la', 'stop', 'pretending,', \"you'v\", 'got', 'need', '(everyth', 'now!)', 'want', '(everyth', 'now!)', \"can't\", 'live', 'without', '(everyth', 'now!)', \"can't\", 'live', 'without', '(everyth', 'now!)', \"can't\", 'live', '(everyth', 'now!)', 'everi', 'room', 'hous', 'fill', 'shit', \"couldn't\", 'live', 'without', '(everyth', 'now!)', 'need', '(everyth', 'now!)', \"can't\", 'live', 'without', '(everyth', 'now!)', \"can't\", 'live', '(everyth', 'now!)', 'everi', 'inch', 'space', 'heart', 'fill', 'someth', \"i'll\", 'never', 'start', 'ash', 'everyth', \"you'r\", 'black', \"can't\", 'make', 'back', 'everyth'], [\"let'\", 'danc', 'style,', \"let'\", 'danc', 'while,', 'heaven', 'wait', \"we'r\", 'watch', 'skies.', 'hope', 'best,', 'expect', 'worst,', 'gonna', 'drop', 'bomb', 'not?', 'let', 'us', 'die', 'young', 'let', 'us', 'live', 'forev', \"don't\", 'power,', 'never', 'say', 'never', 'sit', 'sandpit,', 'life', 'short', 'trip', \"music'\", 'sad', 'man.', 'imagin', 'race', 'won?', 'turn', 'golden', 'face', 'sun,', 'prais', 'leaders,', \"we'r\", 'get', 'tune', \"music'\", 'play', 'the,', 'madman.', 'forev', 'young,', 'want', 'forev', 'young.', 'realli', 'want', 'live', 'forever?', 'forever,', 'ever', 'forev', 'young,', 'want', 'forev', 'young', 'realli', 'want', 'live', 'forever?', 'forev', 'young.', 'like', 'water,', 'like', 'heat', 'melodi', 'beat', 'sooner', 'later', 'gone', \"don't\", 'stay', 'young?', \"it'\", 'hard', 'get', 'old', 'without', 'caus', \"don't\", 'want', 'perish', 'like', 'fade', 'hors', \"youth'\", 'like', 'diamond', 'sun,', 'diamond', 'forev', 'mani', 'adventur', 'given', 'today,', 'mani', 'song', 'forgot', 'play.', 'mani', 'dream', 'swing', 'blue', 'oh', 'let', 'come', 'true.', 'forev', 'young,', 'want', 'forev', 'young.', 'realli', 'want', 'live', 'forever,', 'forever,', 'ever?', 'forev', 'young,', 'want', 'forev', 'young.', 'realli', 'want', 'live', 'forever,', 'forever,', 'ever?', 'forev', 'young', 'want', 'forev', 'young', 'realli', 'want', 'live', 'forever,', 'forev', 'young'], ['girl', 'come', 'flip', 'like', 'flipagram', 'flip', 'like', 'flipagram', 'make', 'ya', 'bumpa', 'flip', 'like', 'flipagram', 'flip', 'like', 'flipagram', 'flip', 'like', 'flipagram', 'gyal', 'wine', 'pon', 'mi', 'bodi', 'gyal', 'wine', 'like', 'carniv', 'gyal', 'love', 'way', 'wine', 'gyal', 'wine', 'emot', 'wine', 'pon', 'mi', 'bodi', 'gyal', 'want', 'come', 'wine', 'waistlin', 'babi', \"bubblin',\", \"bubblin',\", \"bubblin'\", 'baby,', 'gyal', 'parti', 'anim', 'gyal', 'activ', 'lazi', 'gyal', 'parti', 'anim', 'wine', 'drive', 'crazi', 'gyal', 'parti', 'anim', 'wine', 'good,', 'good', 'gyal', 'love', 'parti', 'took', 'one', 'shot,', 'two', 'shot,', 'three', 'shot,', 'four', '9', 'minut', 'come', 'back', 'take', 'shoe', 'pon', 'di', 'dancefloor', 'start', 'broke', 'broke', 'like', 'sore', 'approach', 'like', 'cure', 'know', 'like', 'tonight', 'score', 'sexy,', 'beauti', 'pure', 'gyal', 'ador', 'gyal', 'wine', 'pon', 'mi', 'bodi', 'gyal', 'wine', 'carniv', 'gyal', 'love', 'way', 'wine', 'gyal', 'wine', 'emot', 'wine', 'pon', 'mi', 'bodi', 'gyal', 'want', 'come', 'wine', 'waistlin', 'babi', \"bubblin',\", \"bubblin',\", \"bubblin'\", 'baby,', 'gyal', 'parti', 'anim', 'wine', 'drive', 'crazi', 'gyal', 'parti', 'anim', 'gyal', 'activ', 'lazi', 'gyal', 'parti', 'anim', 'danc', 'good,', 'good', 'gyal', 'love', 'parti', 'gyal', 'ya', 'ting', 'bubbly,', 'bubbly,', 'bubbl', 'mi', 'na', 'know', 'ya', 'ya', 'ting', 'bubbl', 'god', 'send', 'ya', 'fa', 'meet', 'tonight', 'mi', 'follow', 'morn', 'day', 'worri', \"'bout\", 'friend', 'friend', 'club', 'parti', 'pon', 'mi', 'end', 'gyal', 'flip', 'like', 'flipagram,', 'flip', 'like', 'flipagram', 'right', 'moment', 'wine', 'pon', 'mi', 'bodi', 'gyal', 'wine', 'like', 'carniv', 'gyal', 'love', 'way', 'wine', 'gyal', 'wine', 'emot', 'wine', 'pon', 'mi', 'bodi', 'gyal', 'want', 'come', 'wine', 'waistlin', 'babi', \"bubblin',\", 'bubblin,', 'bubblin', 'baby,', 'gyal', 'parti', 'anim', 'gyal', 'activ', 'lazi', 'gyal', 'parti', 'anim', 'wine', 'drive', 'crazi', 'gyal', 'parti', 'anim', 'good,', 'wine', 'good', 'gyal', 'love', 'wine', 'pon', 'bodi', 'gyal', 'wine', 'like', 'carniv', 'gyal', 'love', 'way', 'wine', 'emot', 'bodi', 'gyal', 'mi', 'want', 'come', 'wine', 'waistlin', \"bubblin',\", \"bubblin',\", \"bubblin'\", 'baby,', 'gyal', 'parti', 'anim', 'gyal', 'parti', 'anim', 'gyal', 'parti', 'anim'], ['yeah,', 'uh', 'tell', 'realli', 'like', 'babi', 'take', 'time', \"don't\", 'ever', 'fight', 'take', 'step-by-step', 'see', 'eye', \"'caus\", 'never', 'tell', 'lie', 'feel', 'bodi', 'shake', 'heat', 'leg', \"you'v\", 'scare', 'love', \"don't\", 'run,', 'know', \"you'v\", 'simpl', 'touch', 'set', 'free', \"don't\", 'rush', \"you'r\", 'alon', 'feel', 'coming,', 'feel', 'coming,', 'babe', 'feel', 'coming,', 'feel', 'coming,', 'babe', 'feel', 'coming,', 'feel', 'coming,', 'babe', 'feel', 'coming,', 'feel', 'coming,', 'babe', 'singl', 'type', 'baby,', 'perfect', 'time', \"i'm\", 'tri', 'get', 'high', 'fade', 'touch', \"don't\", 'need', 'lone', 'night', 'baby,', 'make', 'right', 'got', 'let', 'tri', 'give', 'want', \"you'v\", 'scare', 'love', \"don't\", 'run,', 'know', \"you'v\", 'simpl', 'touch', 'set', 'free', \"don't\", 'rush', \"you'r\", 'alon', 'feel', 'coming,', 'feel', 'coming,', 'babe', 'feel', 'coming,', 'feel', 'coming,', 'babe', 'feel', 'coming,', 'feel', 'coming,', 'babe', 'feel', 'coming,', 'feel', 'coming,', 'babe', 'feel', 'coming,', 'feel', 'coming,', 'babe', 'feel', 'coming,', 'feel', 'coming,', 'babe', 'feel', 'coming,', 'feel', 'coming,', 'babe', 'feel', 'coming,', 'feel', 'coming,', 'babe', \"you'v\", 'scare', 'love', \"don't\", 'run,', 'know', \"you'v\", 'simpl', 'touch', 'set', 'free', \"don't\", 'rush', \"you'r\", 'alon', 'feel', 'coming,', 'feel', 'coming,', 'babe', 'feel', 'coming,', 'feel', 'coming,', 'babe', '(i', 'know', 'feel', 'right', 'now)', 'feel', 'coming,', 'feel', 'coming,', 'babe', 'feel', 'coming,', 'feel', 'coming,', 'babe', '(i', 'know', 'feel', 'right', 'now)', 'feel', 'coming,', 'feel', 'coming,', 'babe', 'feel', 'coming,', 'feel', 'coming,', 'babe', '(i', 'know', 'feel', 'right', 'now)', 'feel', 'coming,', 'feel', 'coming,', 'babe', 'feel', 'coming,', 'feel', 'coming,', 'babe', 'feel', 'coming,', 'babe', 'feel', 'coming,', 'babe', 'feel', 'coming,', 'babe', 'feel', 'coming,', 'babe']] \n",
      "\n",
      "[\"can't\", 'see', \"i'm\", 'trying?', \"don't\", 'even', 'like', 'it.', 'lied', 'get', 'apartment,', \"i'm\", 'staying', \"can't\", 'think', \"'cause\", \"i'm\", 'way', 'tired', 'it?', 'it?', 'this...', 'it?', 'said', \"they'd\", 'give', 'anything', 'ever', 'wanted', 'lied,', 'knew', 'stable', 'children', 'trying', 'hard', 'realize', 'sitting', 'right', 'behind', 'oh', 'dear,', \"can't\", 'see?', \"it's\", \"it's\", \"we're\", 'enemies;', 'disagree', 'like', 'pissed', 'bar', 'changes', 'mind,', 'says', 'went', 'far', 'disagree', 'think', 'disagree,', 'yeah', \"can't\", 'see', \"i'm\", 'trying?', \"don't\", 'even', 'like', 'it.', 'lied', 'get', 'apartment,', \"i'm\", 'staying', \"can't\", 'think', \"'cause\", \"i'm\", 'way', 'tired'] \n",
      "\n",
      "[\"can't\", 'see', \"i'm\", 'trying?', \"don't\", 'even', 'like', 'it.', 'lie', 'get', 'apartment,', \"i'm\", 'stay', \"can't\", 'think', \"'caus\", \"i'm\", 'way', 'tire', 'it?', 'it?', 'this...', 'it?', 'said', \"they'd\", 'give', 'anyth', 'ever', 'want', 'lied,', 'knew', 'stabl', 'children', 'tri', 'hard', 'realiz', 'sit', 'right', 'behind', 'oh', 'dear,', \"can't\", 'see?', \"it'\", \"it'\", \"we'r\", 'enemies;', 'disagre', 'like', 'piss', 'bar', 'chang', 'mind,', 'say', 'went', 'far', 'disagre', 'think', 'disagree,', 'yeah', \"can't\", 'see', \"i'm\", 'trying?', \"don't\", 'even', 'like', 'it.', 'lie', 'get', 'apartment,', \"i'm\", 'stay', \"can't\", 'think', \"'caus\", \"i'm\", 'way', 'tire'] \n",
      "\n",
      "[['dreamer', 'never', 'learn', 'never', 'learn', 'beyond,', 'beyond', 'point', 'return', 'return', \"it'\", 'late', 'damag', 'done', 'damag', 'done', 'goe', 'beyond', 'beyond', 'white', 'room', 'window', 'sun', 'come', 'happi', 'serv', 'happi', 'serv'], ['declar', 'independence!', \"don't\", 'let', 'you!', 'declar', 'independence!', \"don't\", 'let', 'you!', '(justice)', 'declar', 'independence!', \"don't\", 'let', 'you!', 'declar', 'independence!', \"don't\", 'let', 'you!', '(justice)', 'start', 'currency!', 'make', 'stamp', 'protect', 'languag', '(justice)', 'declar', 'independ', \"don't\", 'let', 'declar', 'independ', \"don't\", 'let'], ['oh,', 'night', \"don't\", 'worri', \"'bout\", 'thing', \"don't\", 'worri', \"'bout\", 'thing', \"don't\", 'worri', \"'bout\", 'thing', 'know', \"we'll\", 'alright', \"don't\", 'worri', \"'bout\", 'thing', \"don't\", 'worri', \"'bout\", 'thing', \"don't\", 'worri', \"'bout\", 'thing', \"i'll\", 'take', 'futur', 'forget', 'past', 'keep', 'secret', 'swear', \"won't\", 'ask', 'let', 'go', 'troubles,', \"don't\", 'care', \"you'v\", 'thing', 'matter', 'night', 'end', 'bright', 'big', 'light', 'shine', 'us', 'beat', 'tight', 'make', 'wanna', 'get', 'get', 'like', \"there'\", 'tomorrow', 'like', \"there'\", 'tomorrow', 'like', \"there'\", 'tomorrow', 'oh,', 'night', \"don't\", 'worri', \"'bout\", 'thing', \"don't\", 'worri', \"'bout\", 'thing', \"don't\", 'worri', \"'bout\", 'thing', 'know', \"we'll\", 'alright', \"don't\", 'worri', \"'bout\", 'thing', \"don't\", 'worri', \"'bout\", 'thing', \"don't\", 'worri', \"'bout\", 'thing', 'oh,', 'night', \"don't\", 'worri', \"'bout\", 'thing', \"don't\", 'worri', \"'bout\", 'thing', \"don't\", 'worri', \"'bout\", 'thing', \"let'\", 'get', 'busi', 'show', 'got', 'keep', 'record', 'spin', 'music', 'never', 'stop', 'wanna', 'live', 'forev', 'reach', 'star', \"let'\", 'take', 'next', 'level', 'light', 'space', 'ship', 'bright', 'big', 'light', 'shine', 'us', 'beat', 'tight', 'make', 'wanna', 'get', 'get', 'like', \"there'\", 'tomorrow', 'like', \"there'\", 'tomorrow', 'like', \"there'\", 'tomorrow', 'oh,', 'night', \"don't\", 'worri', \"'bout\", 'thing', \"don't\", 'worri', \"'bout\", 'thing', \"don't\", 'worri', \"'bout\", 'thing', 'know', \"we'll\", 'alright', \"don't\", 'worri', \"'bout\", 'thing', \"don't\", 'worri', \"'bout\", 'thing', \"don't\", 'worri', \"'bout\", 'thing', 'oh,', 'night', \"don't\", 'worri', \"'bout\", 'thing', \"don't\", 'worri', \"'bout\", 'thing', \"don't\", 'worri', \"'bout\", 'thing', 'yeah,', 'rooftop', 'surround', 'star', 'view', 'hot', \"ain't\", 'nobodi', 'think', \"'bout\", 'got', \"everything'\", 'ours,', 'wanna', 'dip?', 'get', 'new', 'spot', 'yeah,', \"don't\", 'worry,', \"don't\", 'worri', 'night', 'never', 'ends,', 'hurri', 'hurri', 'shorti', 'look', 'thick', 'line', 'get', 'blurri', 'night', 'palm', 'might', 'get', 'dirti', 'dj,', 'let', 'beat', 'play,', 'make', 'heat', 'wave,', 'replay', 'tonight', 'gone', 'parti', 'like', 'd-day', 'young', 'free', 'say', 'one', 'ck', 'shit', 'moon', 'light', 'sky', 'ceil', 'low', 'base', 'high', 'feel', 'world', 'club,', 'caus', \"this'\", 'one', 'book', \"don't\", 'worri', 'bout', 'thang', 'oh,', 'night', \"don't\", 'worri', \"'bout\", 'thing', \"don't\", 'worri', \"'bout\", 'thing', \"don't\", 'worri', \"'bout\", 'thing', 'know', \"we'll\", 'alright', \"don't\", 'worri', \"'bout\", 'thing', \"don't\", 'worri', \"'bout\", 'thing', \"don't\", 'worri', \"'bout\", 'thing', 'oh,', 'night', \"don't\", 'worri', \"'bout\", 'thing', \"don't\", 'worri', \"'bout\", 'thing', \"don't\", 'worri', \"'bout\", 'thing'], ['everi', 'inch', \"sky'\", 'got', 'star', 'everi', 'inch', \"skin'\", 'got', 'scar', 'guess', \"you'v\", 'got', 'everyth', 'everi', 'inch', 'space', 'head', 'fill', 'thing', 'read', 'guess', \"you'v\", 'got', 'everyth', 'everi', 'film', \"you'v\", 'ever', 'seen', 'fill', 'space', 'dream', 'remind', '(everyth', 'everyth', 'now)', 'everi', 'inch', \"road'\", 'got', 'sign', 'everi', 'boy', 'use', 'line', 'pledg', 'allegi', 'everyth', 'everi', 'song', \"i'v\", 'ever', 'heard', 'play', 'time,', \"it'\", 'absurd', 'remind', 'me,', \"we'v\", 'got', 'everyth', 'turn', 'speaker', 'till', 'break', \"'caus\", 'everi', 'time', 'smile', \"it'\", 'fake!', 'stop', 'pretending,', \"you'v\", 'got', 'need', '(everyth', 'now!)', 'want', '(everyth', 'now!)', \"can't\", 'live', 'without', '(everyth', 'now!)', \"can't\", 'live', 'without', '(everyth', 'now!)', '(everyth', 'now!)', 'everyth', 'everi', 'ancient', \"road'\", 'got', 'town', 'daddy,', 'come', \"you'r\", 'never', 'around?', 'miss', 'you,', 'like', 'everyth', 'mama,', 'leav', 'food', 'stove', 'leav', 'car', 'middl', 'road', 'happi', 'famili', 'everyth', 'turn', 'speaker', 'till', 'break', \"'caus\", 'everi', 'time', 'smile', \"it'\", 'fake!', 'stop', 'pretending,', \"you'v\", 'got', 'need', '(everyth', 'now!)', 'want', '(everyth', 'now!)', \"can't\", 'live', 'without', '(everyth', 'now!)', \"can't\", 'live', 'without', '(everyth', 'now!)', '(everyth', 'now!)', \"'til\", 'everi', 'room', 'hous', 'fill', 'shit', \"couldn't\", 'live', 'without', 'need', '(everyth', 'now!)', \"can't\", 'live', 'without', '(everyth', 'now!)', '(everyth', 'now!)', 'everyth', 'la', 'la', 'la', 'la', 'la', 'la', 'la', 'la', 'la', 'la', 'la', 'la', 'la', 'la', 'stop', 'pretending,', \"you'v\", 'got', 'need', '(everyth', 'now!)', 'want', '(everyth', 'now!)', \"can't\", 'live', 'without', '(everyth', 'now!)', \"can't\", 'live', 'without', '(everyth', 'now!)', \"can't\", 'live', '(everyth', 'now!)', 'everi', 'room', 'hous', 'fill', 'shit', \"couldn't\", 'live', 'without', '(everyth', 'now!)', 'need', '(everyth', 'now!)', \"can't\", 'live', 'without', '(everyth', 'now!)', \"can't\", 'live', '(everyth', 'now!)', 'everi', 'inch', 'space', 'heart', 'fill', 'someth', \"i'll\", 'never', 'start', 'ash', 'everyth', \"you'r\", 'black', \"can't\", 'make', 'back', 'everyth'], [\"let'\", 'danc', 'style,', \"let'\", 'danc', 'while,', 'heaven', 'wait', \"we'r\", 'watch', 'skies.', 'hope', 'best,', 'expect', 'worst,', 'gonna', 'drop', 'bomb', 'not?', 'let', 'us', 'die', 'young', 'let', 'us', 'live', 'forev', \"don't\", 'power,', 'never', 'say', 'never', 'sit', 'sandpit,', 'life', 'short', 'trip', \"music'\", 'sad', 'man.', 'imagin', 'race', 'won?', 'turn', 'golden', 'face', 'sun,', 'prais', 'leaders,', \"we'r\", 'get', 'tune', \"music'\", 'play', 'the,', 'madman.', 'forev', 'young,', 'want', 'forev', 'young.', 'realli', 'want', 'live', 'forever?', 'forever,', 'ever', 'forev', 'young,', 'want', 'forev', 'young', 'realli', 'want', 'live', 'forever?', 'forev', 'young.', 'like', 'water,', 'like', 'heat', 'melodi', 'beat', 'sooner', 'later', 'gone', \"don't\", 'stay', 'young?', \"it'\", 'hard', 'get', 'old', 'without', 'caus', \"don't\", 'want', 'perish', 'like', 'fade', 'hors', \"youth'\", 'like', 'diamond', 'sun,', 'diamond', 'forev', 'mani', 'adventur', 'given', 'today,', 'mani', 'song', 'forgot', 'play.', 'mani', 'dream', 'swing', 'blue', 'oh', 'let', 'come', 'true.', 'forev', 'young,', 'want', 'forev', 'young.', 'realli', 'want', 'live', 'forever,', 'forever,', 'ever?', 'forev', 'young,', 'want', 'forev', 'young.', 'realli', 'want', 'live', 'forever,', 'forever,', 'ever?', 'forev', 'young', 'want', 'forev', 'young', 'realli', 'want', 'live', 'forever,', 'forev', 'young'], ['girl', 'come', 'flip', 'like', 'flipagram', 'flip', 'like', 'flipagram', 'make', 'ya', 'bumpa', 'flip', 'like', 'flipagram', 'flip', 'like', 'flipagram', 'flip', 'like', 'flipagram', 'gyal', 'wine', 'pon', 'mi', 'bodi', 'gyal', 'wine', 'like', 'carniv', 'gyal', 'love', 'way', 'wine', 'gyal', 'wine', 'emot', 'wine', 'pon', 'mi', 'bodi', 'gyal', 'want', 'come', 'wine', 'waistlin', 'babi', \"bubblin',\", \"bubblin',\", \"bubblin'\", 'baby,', 'gyal', 'parti', 'anim', 'gyal', 'activ', 'lazi', 'gyal', 'parti', 'anim', 'wine', 'drive', 'crazi', 'gyal', 'parti', 'anim', 'wine', 'good,', 'good', 'gyal', 'love', 'parti', 'took', 'one', 'shot,', 'two', 'shot,', 'three', 'shot,', 'four', '9', 'minut', 'come', 'back', 'take', 'shoe', 'pon', 'di', 'dancefloor', 'start', 'broke', 'broke', 'like', 'sore', 'approach', 'like', 'cure', 'know', 'like', 'tonight', 'score', 'sexy,', 'beauti', 'pure', 'gyal', 'ador', 'gyal', 'wine', 'pon', 'mi', 'bodi', 'gyal', 'wine', 'carniv', 'gyal', 'love', 'way', 'wine', 'gyal', 'wine', 'emot', 'wine', 'pon', 'mi', 'bodi', 'gyal', 'want', 'come', 'wine', 'waistlin', 'babi', \"bubblin',\", \"bubblin',\", \"bubblin'\", 'baby,', 'gyal', 'parti', 'anim', 'wine', 'drive', 'crazi', 'gyal', 'parti', 'anim', 'gyal', 'activ', 'lazi', 'gyal', 'parti', 'anim', 'danc', 'good,', 'good', 'gyal', 'love', 'parti', 'gyal', 'ya', 'ting', 'bubbly,', 'bubbly,', 'bubbl', 'mi', 'na', 'know', 'ya', 'ya', 'ting', 'bubbl', 'god', 'send', 'ya', 'fa', 'meet', 'tonight', 'mi', 'follow', 'morn', 'day', 'worri', \"'bout\", 'friend', 'friend', 'club', 'parti', 'pon', 'mi', 'end', 'gyal', 'flip', 'like', 'flipagram,', 'flip', 'like', 'flipagram', 'right', 'moment', 'wine', 'pon', 'mi', 'bodi', 'gyal', 'wine', 'like', 'carniv', 'gyal', 'love', 'way', 'wine', 'gyal', 'wine', 'emot', 'wine', 'pon', 'mi', 'bodi', 'gyal', 'want', 'come', 'wine', 'waistlin', 'babi', \"bubblin',\", 'bubblin,', 'bubblin', 'baby,', 'gyal', 'parti', 'anim', 'gyal', 'activ', 'lazi', 'gyal', 'parti', 'anim', 'wine', 'drive', 'crazi', 'gyal', 'parti', 'anim', 'good,', 'wine', 'good', 'gyal', 'love', 'wine', 'pon', 'bodi', 'gyal', 'wine', 'like', 'carniv', 'gyal', 'love', 'way', 'wine', 'emot', 'bodi', 'gyal', 'mi', 'want', 'come', 'wine', 'waistlin', \"bubblin',\", \"bubblin',\", \"bubblin'\", 'baby,', 'gyal', 'parti', 'anim', 'gyal', 'parti', 'anim', 'gyal', 'parti', 'anim'], ['yeah,', 'uh', 'tell', 'realli', 'like', 'babi', 'take', 'time', \"don't\", 'ever', 'fight', 'take', 'step-by-step', 'see', 'eye', \"'caus\", 'never', 'tell', 'lie', 'feel', 'bodi', 'shake', 'heat', 'leg', \"you'v\", 'scare', 'love', \"don't\", 'run,', 'know', \"you'v\", 'simpl', 'touch', 'set', 'free', \"don't\", 'rush', \"you'r\", 'alon', 'feel', 'coming,', 'feel', 'coming,', 'babe', 'feel', 'coming,', 'feel', 'coming,', 'babe', 'feel', 'coming,', 'feel', 'coming,', 'babe', 'feel', 'coming,', 'feel', 'coming,', 'babe', 'singl', 'type', 'baby,', 'perfect', 'time', \"i'm\", 'tri', 'get', 'high', 'fade', 'touch', \"don't\", 'need', 'lone', 'night', 'baby,', 'make', 'right', 'got', 'let', 'tri', 'give', 'want', \"you'v\", 'scare', 'love', \"don't\", 'run,', 'know', \"you'v\", 'simpl', 'touch', 'set', 'free', \"don't\", 'rush', \"you'r\", 'alon', 'feel', 'coming,', 'feel', 'coming,', 'babe', 'feel', 'coming,', 'feel', 'coming,', 'babe', 'feel', 'coming,', 'feel', 'coming,', 'babe', 'feel', 'coming,', 'feel', 'coming,', 'babe', 'feel', 'coming,', 'feel', 'coming,', 'babe', 'feel', 'coming,', 'feel', 'coming,', 'babe', 'feel', 'coming,', 'feel', 'coming,', 'babe', 'feel', 'coming,', 'feel', 'coming,', 'babe', \"you'v\", 'scare', 'love', \"don't\", 'run,', 'know', \"you'v\", 'simpl', 'touch', 'set', 'free', \"don't\", 'rush', \"you'r\", 'alon', 'feel', 'coming,', 'feel', 'coming,', 'babe', 'feel', 'coming,', 'feel', 'coming,', 'babe', '(i', 'know', 'feel', 'right', 'now)', 'feel', 'coming,', 'feel', 'coming,', 'babe', 'feel', 'coming,', 'feel', 'coming,', 'babe', '(i', 'know', 'feel', 'right', 'now)', 'feel', 'coming,', 'feel', 'coming,', 'babe', 'feel', 'coming,', 'feel', 'coming,', 'babe', '(i', 'know', 'feel', 'right', 'now)', 'feel', 'coming,', 'feel', 'coming,', 'babe', 'feel', 'coming,', 'feel', 'coming,', 'babe', 'feel', 'coming,', 'babe', 'feel', 'coming,', 'babe', 'feel', 'coming,', 'babe', 'feel', 'coming,', 'babe'], [\"can't\", 'see', \"i'm\", 'trying?', \"don't\", 'even', 'like', 'it.', 'lie', 'get', 'apartment,', \"i'm\", 'stay', \"can't\", 'think', \"'caus\", \"i'm\", 'way', 'tire', 'it?', 'it?', 'this...', 'it?', 'said', \"they'd\", 'give', 'anyth', 'ever', 'want', 'lied,', 'knew', 'stabl', 'children', 'tri', 'hard', 'realiz', 'sit', 'right', 'behind', 'oh', 'dear,', \"can't\", 'see?', \"it'\", \"it'\", \"we'r\", 'enemies;', 'disagre', 'like', 'piss', 'bar', 'chang', 'mind,', 'say', 'went', 'far', 'disagre', 'think', 'disagree,', 'yeah', \"can't\", 'see', \"i'm\", 'trying?', \"don't\", 'even', 'like', 'it.', 'lie', 'get', 'apartment,', \"i'm\", 'stay', \"can't\", 'think', \"'caus\", \"i'm\", 'way', 'tire']] \n",
      "\n",
      "['club', \"isn't\", 'best', 'place', 'find', 'lover', 'bar', 'go', '(mmmm)', 'friends', 'table', 'shots', 'drinking', 'fast', 'talk', 'slow', '(mmmm)', 'come', 'start', 'conversation', 'trust', \"i'll\", 'give', 'chance', '(mmmm)', 'take', 'hand,', 'stop,', 'put', 'van', 'man', 'jukebox', 'start', 'dance', \"i'm\", 'singing', 'like', 'girl,', 'know', 'want', 'love', 'love', 'handmade', 'somebody', 'like', 'come', 'now,', 'follow', 'lead', 'may', 'crazy,', \"don't\", 'mind', 'say,', 'boy,', \"let's\", 'talk', 'much', 'grab', 'waist', 'put', 'body', 'come', 'now,', 'follow', 'lead', 'come,', 'come', 'now,', 'follow', 'lead', '(mmmm)', \"i'm\", 'love', 'shape', 'push', 'pull', 'like', 'magnet', 'although', 'heart', 'falling', \"i'm\", 'love', 'body', 'last', 'night', 'room', 'bedsheets', 'smell', 'like', 'every', 'day', 'discovering', 'something', 'brand', 'new', \"i'm\", 'love', 'body', 'oh', 'oh', 'oh', 'oh', \"i'm\", 'love', 'body', 'oh', 'oh', 'oh', 'oh', \"i'm\", 'love', 'body', 'oh', 'oh', 'oh', 'oh', \"i'm\", 'love', 'body', 'every', 'day', 'discovering', 'something', 'brand', 'new', \"i'm\", 'love', 'shape', 'one', 'week', 'let', 'story', 'begin', \"we're\", 'going', 'first', 'date', '(mmmm)', 'thrifty,', 'go', 'eat', 'fill', 'bag', 'fill', 'plate', '(mmmm)', 'talk', 'hours', 'hours', 'sweet', 'sour', 'family', 'okay', '(mmmm)', 'leave', 'get', 'taxi,', 'kiss', 'backseat', 'tell', 'driver', 'make', 'radio', 'play', \"i'm\", 'singing', 'like', 'girl,', 'know', 'want', 'love', 'love', 'handmade', 'somebody', 'like', 'come', 'now,', 'follow', 'lead', 'may', 'crazy,', \"don't\", 'mind', 'say,', 'boy,', \"let's\", 'talk', 'much', 'grab', 'waist', 'put', 'body', 'come', 'now,', 'follow', 'lead', 'come,', 'come', 'now,', 'follow', 'lead', '(mmmm)', \"i'm\", 'love', 'shape', 'push', 'pull', 'like', 'magnet', 'although', 'heart', 'falling', \"i'm\", 'love', 'body', 'last', 'night', 'room', 'bedsheets', 'smell', 'like', 'every', 'day', 'discovering', 'something', 'brand', 'new', \"i'm\", 'love', 'body', 'oh', 'oh', 'oh', 'oh', \"i'm\", 'love', 'body', 'oh', 'oh', 'oh', 'oh', \"i'm\", 'love', 'body', 'oh', 'oh', 'oh', 'oh', \"i'm\", 'love', 'body', 'every', 'day', 'discovering', 'something', 'brand', 'new', \"i'm\", 'love', 'shape', 'come', 'on,', 'baby,', 'come', 'come', 'on,', 'baby,', 'come', 'come', 'on,', 'baby,', 'come', 'come', 'on,', 'baby,', 'come', 'come', 'on,', 'baby,', 'come', 'come', 'on,', 'baby,', 'come', 'come', 'on,', 'baby,', 'come', 'come', 'on,', 'baby,', 'come', \"i'm\", 'love', 'shape', 'push', 'pull', 'like', 'magnet', 'although', 'heart', 'falling', \"i'm\", 'love', 'body', 'last', 'night', 'room', 'bedsheets', 'smell', 'like', 'every', 'day', 'discovering', 'something', 'brand', 'new', \"i'm\", 'love', 'body', 'come', 'on,', 'baby,', 'come', 'come', 'on,', 'baby,', 'come', \"i'm\", 'love', 'body', 'come', 'on,', 'baby,', 'come', 'come', 'on,', 'baby,', 'come', \"i'm\", 'love', 'body', 'come', 'on,', 'baby,', 'come', 'come', 'on,', 'baby,', 'come', \"i'm\", 'love', 'body', 'every', 'day', 'discovering', 'something', 'brand', 'new', \"i'm\", 'love', 'shape'] \n",
      "\n",
      "['club', \"isn't\", 'best', 'place', 'find', 'lover', 'bar', 'go', '(mmmm)', 'friend', 'tabl', 'shot', 'drink', 'fast', 'talk', 'slow', '(mmmm)', 'come', 'start', 'convers', 'trust', \"i'll\", 'give', 'chanc', '(mmmm)', 'take', 'hand,', 'stop,', 'put', 'van', 'man', 'jukebox', 'start', 'danc', \"i'm\", 'sing', 'like', 'girl,', 'know', 'want', 'love', 'love', 'handmad', 'somebodi', 'like', 'come', 'now,', 'follow', 'lead', 'may', 'crazy,', \"don't\", 'mind', 'say,', 'boy,', \"let'\", 'talk', 'much', 'grab', 'waist', 'put', 'bodi', 'come', 'now,', 'follow', 'lead', 'come,', 'come', 'now,', 'follow', 'lead', '(mmmm)', \"i'm\", 'love', 'shape', 'push', 'pull', 'like', 'magnet', 'although', 'heart', 'fall', \"i'm\", 'love', 'bodi', 'last', 'night', 'room', 'bedsheet', 'smell', 'like', 'everi', 'day', 'discov', 'someth', 'brand', 'new', \"i'm\", 'love', 'bodi', 'oh', 'oh', 'oh', 'oh', \"i'm\", 'love', 'bodi', 'oh', 'oh', 'oh', 'oh', \"i'm\", 'love', 'bodi', 'oh', 'oh', 'oh', 'oh', \"i'm\", 'love', 'bodi', 'everi', 'day', 'discov', 'someth', 'brand', 'new', \"i'm\", 'love', 'shape', 'one', 'week', 'let', 'stori', 'begin', \"we'r\", 'go', 'first', 'date', '(mmmm)', 'thrifty,', 'go', 'eat', 'fill', 'bag', 'fill', 'plate', '(mmmm)', 'talk', 'hour', 'hour', 'sweet', 'sour', 'famili', 'okay', '(mmmm)', 'leav', 'get', 'taxi,', 'kiss', 'backseat', 'tell', 'driver', 'make', 'radio', 'play', \"i'm\", 'sing', 'like', 'girl,', 'know', 'want', 'love', 'love', 'handmad', 'somebodi', 'like', 'come', 'now,', 'follow', 'lead', 'may', 'crazy,', \"don't\", 'mind', 'say,', 'boy,', \"let'\", 'talk', 'much', 'grab', 'waist', 'put', 'bodi', 'come', 'now,', 'follow', 'lead', 'come,', 'come', 'now,', 'follow', 'lead', '(mmmm)', \"i'm\", 'love', 'shape', 'push', 'pull', 'like', 'magnet', 'although', 'heart', 'fall', \"i'm\", 'love', 'bodi', 'last', 'night', 'room', 'bedsheet', 'smell', 'like', 'everi', 'day', 'discov', 'someth', 'brand', 'new', \"i'm\", 'love', 'bodi', 'oh', 'oh', 'oh', 'oh', \"i'm\", 'love', 'bodi', 'oh', 'oh', 'oh', 'oh', \"i'm\", 'love', 'bodi', 'oh', 'oh', 'oh', 'oh', \"i'm\", 'love', 'bodi', 'everi', 'day', 'discov', 'someth', 'brand', 'new', \"i'm\", 'love', 'shape', 'come', 'on,', 'baby,', 'come', 'come', 'on,', 'baby,', 'come', 'come', 'on,', 'baby,', 'come', 'come', 'on,', 'baby,', 'come', 'come', 'on,', 'baby,', 'come', 'come', 'on,', 'baby,', 'come', 'come', 'on,', 'baby,', 'come', 'come', 'on,', 'baby,', 'come', \"i'm\", 'love', 'shape', 'push', 'pull', 'like', 'magnet', 'although', 'heart', 'fall', \"i'm\", 'love', 'bodi', 'last', 'night', 'room', 'bedsheet', 'smell', 'like', 'everi', 'day', 'discov', 'someth', 'brand', 'new', \"i'm\", 'love', 'bodi', 'come', 'on,', 'baby,', 'come', 'come', 'on,', 'baby,', 'come', \"i'm\", 'love', 'bodi', 'come', 'on,', 'baby,', 'come', 'come', 'on,', 'baby,', 'come', \"i'm\", 'love', 'bodi', 'come', 'on,', 'baby,', 'come', 'come', 'on,', 'baby,', 'come', \"i'm\", 'love', 'bodi', 'everi', 'day', 'discov', 'someth', 'brand', 'new', \"i'm\", 'love', 'shape'] \n",
      "\n",
      "[['dreamer', 'never', 'learn', 'never', 'learn', 'beyond,', 'beyond', 'point', 'return', 'return', \"it'\", 'late', 'damag', 'done', 'damag', 'done', 'goe', 'beyond', 'beyond', 'white', 'room', 'window', 'sun', 'come', 'happi', 'serv', 'happi', 'serv'], ['declar', 'independence!', \"don't\", 'let', 'you!', 'declar', 'independence!', \"don't\", 'let', 'you!', '(justice)', 'declar', 'independence!', \"don't\", 'let', 'you!', 'declar', 'independence!', \"don't\", 'let', 'you!', '(justice)', 'start', 'currency!', 'make', 'stamp', 'protect', 'languag', '(justice)', 'declar', 'independ', \"don't\", 'let', 'declar', 'independ', \"don't\", 'let'], ['oh,', 'night', \"don't\", 'worri', \"'bout\", 'thing', \"don't\", 'worri', \"'bout\", 'thing', \"don't\", 'worri', \"'bout\", 'thing', 'know', \"we'll\", 'alright', \"don't\", 'worri', \"'bout\", 'thing', \"don't\", 'worri', \"'bout\", 'thing', \"don't\", 'worri', \"'bout\", 'thing', \"i'll\", 'take', 'futur', 'forget', 'past', 'keep', 'secret', 'swear', \"won't\", 'ask', 'let', 'go', 'troubles,', \"don't\", 'care', \"you'v\", 'thing', 'matter', 'night', 'end', 'bright', 'big', 'light', 'shine', 'us', 'beat', 'tight', 'make', 'wanna', 'get', 'get', 'like', \"there'\", 'tomorrow', 'like', \"there'\", 'tomorrow', 'like', \"there'\", 'tomorrow', 'oh,', 'night', \"don't\", 'worri', \"'bout\", 'thing', \"don't\", 'worri', \"'bout\", 'thing', \"don't\", 'worri', \"'bout\", 'thing', 'know', \"we'll\", 'alright', \"don't\", 'worri', \"'bout\", 'thing', \"don't\", 'worri', \"'bout\", 'thing', \"don't\", 'worri', \"'bout\", 'thing', 'oh,', 'night', \"don't\", 'worri', \"'bout\", 'thing', \"don't\", 'worri', \"'bout\", 'thing', \"don't\", 'worri', \"'bout\", 'thing', \"let'\", 'get', 'busi', 'show', 'got', 'keep', 'record', 'spin', 'music', 'never', 'stop', 'wanna', 'live', 'forev', 'reach', 'star', \"let'\", 'take', 'next', 'level', 'light', 'space', 'ship', 'bright', 'big', 'light', 'shine', 'us', 'beat', 'tight', 'make', 'wanna', 'get', 'get', 'like', \"there'\", 'tomorrow', 'like', \"there'\", 'tomorrow', 'like', \"there'\", 'tomorrow', 'oh,', 'night', \"don't\", 'worri', \"'bout\", 'thing', \"don't\", 'worri', \"'bout\", 'thing', \"don't\", 'worri', \"'bout\", 'thing', 'know', \"we'll\", 'alright', \"don't\", 'worri', \"'bout\", 'thing', \"don't\", 'worri', \"'bout\", 'thing', \"don't\", 'worri', \"'bout\", 'thing', 'oh,', 'night', \"don't\", 'worri', \"'bout\", 'thing', \"don't\", 'worri', \"'bout\", 'thing', \"don't\", 'worri', \"'bout\", 'thing', 'yeah,', 'rooftop', 'surround', 'star', 'view', 'hot', \"ain't\", 'nobodi', 'think', \"'bout\", 'got', \"everything'\", 'ours,', 'wanna', 'dip?', 'get', 'new', 'spot', 'yeah,', \"don't\", 'worry,', \"don't\", 'worri', 'night', 'never', 'ends,', 'hurri', 'hurri', 'shorti', 'look', 'thick', 'line', 'get', 'blurri', 'night', 'palm', 'might', 'get', 'dirti', 'dj,', 'let', 'beat', 'play,', 'make', 'heat', 'wave,', 'replay', 'tonight', 'gone', 'parti', 'like', 'd-day', 'young', 'free', 'say', 'one', 'ck', 'shit', 'moon', 'light', 'sky', 'ceil', 'low', 'base', 'high', 'feel', 'world', 'club,', 'caus', \"this'\", 'one', 'book', \"don't\", 'worri', 'bout', 'thang', 'oh,', 'night', \"don't\", 'worri', \"'bout\", 'thing', \"don't\", 'worri', \"'bout\", 'thing', \"don't\", 'worri', \"'bout\", 'thing', 'know', \"we'll\", 'alright', \"don't\", 'worri', \"'bout\", 'thing', \"don't\", 'worri', \"'bout\", 'thing', \"don't\", 'worri', \"'bout\", 'thing', 'oh,', 'night', \"don't\", 'worri', \"'bout\", 'thing', \"don't\", 'worri', \"'bout\", 'thing', \"don't\", 'worri', \"'bout\", 'thing'], ['everi', 'inch', \"sky'\", 'got', 'star', 'everi', 'inch', \"skin'\", 'got', 'scar', 'guess', \"you'v\", 'got', 'everyth', 'everi', 'inch', 'space', 'head', 'fill', 'thing', 'read', 'guess', \"you'v\", 'got', 'everyth', 'everi', 'film', \"you'v\", 'ever', 'seen', 'fill', 'space', 'dream', 'remind', '(everyth', 'everyth', 'now)', 'everi', 'inch', \"road'\", 'got', 'sign', 'everi', 'boy', 'use', 'line', 'pledg', 'allegi', 'everyth', 'everi', 'song', \"i'v\", 'ever', 'heard', 'play', 'time,', \"it'\", 'absurd', 'remind', 'me,', \"we'v\", 'got', 'everyth', 'turn', 'speaker', 'till', 'break', \"'caus\", 'everi', 'time', 'smile', \"it'\", 'fake!', 'stop', 'pretending,', \"you'v\", 'got', 'need', '(everyth', 'now!)', 'want', '(everyth', 'now!)', \"can't\", 'live', 'without', '(everyth', 'now!)', \"can't\", 'live', 'without', '(everyth', 'now!)', '(everyth', 'now!)', 'everyth', 'everi', 'ancient', \"road'\", 'got', 'town', 'daddy,', 'come', \"you'r\", 'never', 'around?', 'miss', 'you,', 'like', 'everyth', 'mama,', 'leav', 'food', 'stove', 'leav', 'car', 'middl', 'road', 'happi', 'famili', 'everyth', 'turn', 'speaker', 'till', 'break', \"'caus\", 'everi', 'time', 'smile', \"it'\", 'fake!', 'stop', 'pretending,', \"you'v\", 'got', 'need', '(everyth', 'now!)', 'want', '(everyth', 'now!)', \"can't\", 'live', 'without', '(everyth', 'now!)', \"can't\", 'live', 'without', '(everyth', 'now!)', '(everyth', 'now!)', \"'til\", 'everi', 'room', 'hous', 'fill', 'shit', \"couldn't\", 'live', 'without', 'need', '(everyth', 'now!)', \"can't\", 'live', 'without', '(everyth', 'now!)', '(everyth', 'now!)', 'everyth', 'la', 'la', 'la', 'la', 'la', 'la', 'la', 'la', 'la', 'la', 'la', 'la', 'la', 'la', 'stop', 'pretending,', \"you'v\", 'got', 'need', '(everyth', 'now!)', 'want', '(everyth', 'now!)', \"can't\", 'live', 'without', '(everyth', 'now!)', \"can't\", 'live', 'without', '(everyth', 'now!)', \"can't\", 'live', '(everyth', 'now!)', 'everi', 'room', 'hous', 'fill', 'shit', \"couldn't\", 'live', 'without', '(everyth', 'now!)', 'need', '(everyth', 'now!)', \"can't\", 'live', 'without', '(everyth', 'now!)', \"can't\", 'live', '(everyth', 'now!)', 'everi', 'inch', 'space', 'heart', 'fill', 'someth', \"i'll\", 'never', 'start', 'ash', 'everyth', \"you'r\", 'black', \"can't\", 'make', 'back', 'everyth'], [\"let'\", 'danc', 'style,', \"let'\", 'danc', 'while,', 'heaven', 'wait', \"we'r\", 'watch', 'skies.', 'hope', 'best,', 'expect', 'worst,', 'gonna', 'drop', 'bomb', 'not?', 'let', 'us', 'die', 'young', 'let', 'us', 'live', 'forev', \"don't\", 'power,', 'never', 'say', 'never', 'sit', 'sandpit,', 'life', 'short', 'trip', \"music'\", 'sad', 'man.', 'imagin', 'race', 'won?', 'turn', 'golden', 'face', 'sun,', 'prais', 'leaders,', \"we'r\", 'get', 'tune', \"music'\", 'play', 'the,', 'madman.', 'forev', 'young,', 'want', 'forev', 'young.', 'realli', 'want', 'live', 'forever?', 'forever,', 'ever', 'forev', 'young,', 'want', 'forev', 'young', 'realli', 'want', 'live', 'forever?', 'forev', 'young.', 'like', 'water,', 'like', 'heat', 'melodi', 'beat', 'sooner', 'later', 'gone', \"don't\", 'stay', 'young?', \"it'\", 'hard', 'get', 'old', 'without', 'caus', \"don't\", 'want', 'perish', 'like', 'fade', 'hors', \"youth'\", 'like', 'diamond', 'sun,', 'diamond', 'forev', 'mani', 'adventur', 'given', 'today,', 'mani', 'song', 'forgot', 'play.', 'mani', 'dream', 'swing', 'blue', 'oh', 'let', 'come', 'true.', 'forev', 'young,', 'want', 'forev', 'young.', 'realli', 'want', 'live', 'forever,', 'forever,', 'ever?', 'forev', 'young,', 'want', 'forev', 'young.', 'realli', 'want', 'live', 'forever,', 'forever,', 'ever?', 'forev', 'young', 'want', 'forev', 'young', 'realli', 'want', 'live', 'forever,', 'forev', 'young'], ['girl', 'come', 'flip', 'like', 'flipagram', 'flip', 'like', 'flipagram', 'make', 'ya', 'bumpa', 'flip', 'like', 'flipagram', 'flip', 'like', 'flipagram', 'flip', 'like', 'flipagram', 'gyal', 'wine', 'pon', 'mi', 'bodi', 'gyal', 'wine', 'like', 'carniv', 'gyal', 'love', 'way', 'wine', 'gyal', 'wine', 'emot', 'wine', 'pon', 'mi', 'bodi', 'gyal', 'want', 'come', 'wine', 'waistlin', 'babi', \"bubblin',\", \"bubblin',\", \"bubblin'\", 'baby,', 'gyal', 'parti', 'anim', 'gyal', 'activ', 'lazi', 'gyal', 'parti', 'anim', 'wine', 'drive', 'crazi', 'gyal', 'parti', 'anim', 'wine', 'good,', 'good', 'gyal', 'love', 'parti', 'took', 'one', 'shot,', 'two', 'shot,', 'three', 'shot,', 'four', '9', 'minut', 'come', 'back', 'take', 'shoe', 'pon', 'di', 'dancefloor', 'start', 'broke', 'broke', 'like', 'sore', 'approach', 'like', 'cure', 'know', 'like', 'tonight', 'score', 'sexy,', 'beauti', 'pure', 'gyal', 'ador', 'gyal', 'wine', 'pon', 'mi', 'bodi', 'gyal', 'wine', 'carniv', 'gyal', 'love', 'way', 'wine', 'gyal', 'wine', 'emot', 'wine', 'pon', 'mi', 'bodi', 'gyal', 'want', 'come', 'wine', 'waistlin', 'babi', \"bubblin',\", \"bubblin',\", \"bubblin'\", 'baby,', 'gyal', 'parti', 'anim', 'wine', 'drive', 'crazi', 'gyal', 'parti', 'anim', 'gyal', 'activ', 'lazi', 'gyal', 'parti', 'anim', 'danc', 'good,', 'good', 'gyal', 'love', 'parti', 'gyal', 'ya', 'ting', 'bubbly,', 'bubbly,', 'bubbl', 'mi', 'na', 'know', 'ya', 'ya', 'ting', 'bubbl', 'god', 'send', 'ya', 'fa', 'meet', 'tonight', 'mi', 'follow', 'morn', 'day', 'worri', \"'bout\", 'friend', 'friend', 'club', 'parti', 'pon', 'mi', 'end', 'gyal', 'flip', 'like', 'flipagram,', 'flip', 'like', 'flipagram', 'right', 'moment', 'wine', 'pon', 'mi', 'bodi', 'gyal', 'wine', 'like', 'carniv', 'gyal', 'love', 'way', 'wine', 'gyal', 'wine', 'emot', 'wine', 'pon', 'mi', 'bodi', 'gyal', 'want', 'come', 'wine', 'waistlin', 'babi', \"bubblin',\", 'bubblin,', 'bubblin', 'baby,', 'gyal', 'parti', 'anim', 'gyal', 'activ', 'lazi', 'gyal', 'parti', 'anim', 'wine', 'drive', 'crazi', 'gyal', 'parti', 'anim', 'good,', 'wine', 'good', 'gyal', 'love', 'wine', 'pon', 'bodi', 'gyal', 'wine', 'like', 'carniv', 'gyal', 'love', 'way', 'wine', 'emot', 'bodi', 'gyal', 'mi', 'want', 'come', 'wine', 'waistlin', \"bubblin',\", \"bubblin',\", \"bubblin'\", 'baby,', 'gyal', 'parti', 'anim', 'gyal', 'parti', 'anim', 'gyal', 'parti', 'anim'], ['yeah,', 'uh', 'tell', 'realli', 'like', 'babi', 'take', 'time', \"don't\", 'ever', 'fight', 'take', 'step-by-step', 'see', 'eye', \"'caus\", 'never', 'tell', 'lie', 'feel', 'bodi', 'shake', 'heat', 'leg', \"you'v\", 'scare', 'love', \"don't\", 'run,', 'know', \"you'v\", 'simpl', 'touch', 'set', 'free', \"don't\", 'rush', \"you'r\", 'alon', 'feel', 'coming,', 'feel', 'coming,', 'babe', 'feel', 'coming,', 'feel', 'coming,', 'babe', 'feel', 'coming,', 'feel', 'coming,', 'babe', 'feel', 'coming,', 'feel', 'coming,', 'babe', 'singl', 'type', 'baby,', 'perfect', 'time', \"i'm\", 'tri', 'get', 'high', 'fade', 'touch', \"don't\", 'need', 'lone', 'night', 'baby,', 'make', 'right', 'got', 'let', 'tri', 'give', 'want', \"you'v\", 'scare', 'love', \"don't\", 'run,', 'know', \"you'v\", 'simpl', 'touch', 'set', 'free', \"don't\", 'rush', \"you'r\", 'alon', 'feel', 'coming,', 'feel', 'coming,', 'babe', 'feel', 'coming,', 'feel', 'coming,', 'babe', 'feel', 'coming,', 'feel', 'coming,', 'babe', 'feel', 'coming,', 'feel', 'coming,', 'babe', 'feel', 'coming,', 'feel', 'coming,', 'babe', 'feel', 'coming,', 'feel', 'coming,', 'babe', 'feel', 'coming,', 'feel', 'coming,', 'babe', 'feel', 'coming,', 'feel', 'coming,', 'babe', \"you'v\", 'scare', 'love', \"don't\", 'run,', 'know', \"you'v\", 'simpl', 'touch', 'set', 'free', \"don't\", 'rush', \"you'r\", 'alon', 'feel', 'coming,', 'feel', 'coming,', 'babe', 'feel', 'coming,', 'feel', 'coming,', 'babe', '(i', 'know', 'feel', 'right', 'now)', 'feel', 'coming,', 'feel', 'coming,', 'babe', 'feel', 'coming,', 'feel', 'coming,', 'babe', '(i', 'know', 'feel', 'right', 'now)', 'feel', 'coming,', 'feel', 'coming,', 'babe', 'feel', 'coming,', 'feel', 'coming,', 'babe', '(i', 'know', 'feel', 'right', 'now)', 'feel', 'coming,', 'feel', 'coming,', 'babe', 'feel', 'coming,', 'feel', 'coming,', 'babe', 'feel', 'coming,', 'babe', 'feel', 'coming,', 'babe', 'feel', 'coming,', 'babe', 'feel', 'coming,', 'babe'], [\"can't\", 'see', \"i'm\", 'trying?', \"don't\", 'even', 'like', 'it.', 'lie', 'get', 'apartment,', \"i'm\", 'stay', \"can't\", 'think', \"'caus\", \"i'm\", 'way', 'tire', 'it?', 'it?', 'this...', 'it?', 'said', \"they'd\", 'give', 'anyth', 'ever', 'want', 'lied,', 'knew', 'stabl', 'children', 'tri', 'hard', 'realiz', 'sit', 'right', 'behind', 'oh', 'dear,', \"can't\", 'see?', \"it'\", \"it'\", \"we'r\", 'enemies;', 'disagre', 'like', 'piss', 'bar', 'chang', 'mind,', 'say', 'went', 'far', 'disagre', 'think', 'disagree,', 'yeah', \"can't\", 'see', \"i'm\", 'trying?', \"don't\", 'even', 'like', 'it.', 'lie', 'get', 'apartment,', \"i'm\", 'stay', \"can't\", 'think', \"'caus\", \"i'm\", 'way', 'tire'], ['club', \"isn't\", 'best', 'place', 'find', 'lover', 'bar', 'go', '(mmmm)', 'friend', 'tabl', 'shot', 'drink', 'fast', 'talk', 'slow', '(mmmm)', 'come', 'start', 'convers', 'trust', \"i'll\", 'give', 'chanc', '(mmmm)', 'take', 'hand,', 'stop,', 'put', 'van', 'man', 'jukebox', 'start', 'danc', \"i'm\", 'sing', 'like', 'girl,', 'know', 'want', 'love', 'love', 'handmad', 'somebodi', 'like', 'come', 'now,', 'follow', 'lead', 'may', 'crazy,', \"don't\", 'mind', 'say,', 'boy,', \"let'\", 'talk', 'much', 'grab', 'waist', 'put', 'bodi', 'come', 'now,', 'follow', 'lead', 'come,', 'come', 'now,', 'follow', 'lead', '(mmmm)', \"i'm\", 'love', 'shape', 'push', 'pull', 'like', 'magnet', 'although', 'heart', 'fall', \"i'm\", 'love', 'bodi', 'last', 'night', 'room', 'bedsheet', 'smell', 'like', 'everi', 'day', 'discov', 'someth', 'brand', 'new', \"i'm\", 'love', 'bodi', 'oh', 'oh', 'oh', 'oh', \"i'm\", 'love', 'bodi', 'oh', 'oh', 'oh', 'oh', \"i'm\", 'love', 'bodi', 'oh', 'oh', 'oh', 'oh', \"i'm\", 'love', 'bodi', 'everi', 'day', 'discov', 'someth', 'brand', 'new', \"i'm\", 'love', 'shape', 'one', 'week', 'let', 'stori', 'begin', \"we'r\", 'go', 'first', 'date', '(mmmm)', 'thrifty,', 'go', 'eat', 'fill', 'bag', 'fill', 'plate', '(mmmm)', 'talk', 'hour', 'hour', 'sweet', 'sour', 'famili', 'okay', '(mmmm)', 'leav', 'get', 'taxi,', 'kiss', 'backseat', 'tell', 'driver', 'make', 'radio', 'play', \"i'm\", 'sing', 'like', 'girl,', 'know', 'want', 'love', 'love', 'handmad', 'somebodi', 'like', 'come', 'now,', 'follow', 'lead', 'may', 'crazy,', \"don't\", 'mind', 'say,', 'boy,', \"let'\", 'talk', 'much', 'grab', 'waist', 'put', 'bodi', 'come', 'now,', 'follow', 'lead', 'come,', 'come', 'now,', 'follow', 'lead', '(mmmm)', \"i'm\", 'love', 'shape', 'push', 'pull', 'like', 'magnet', 'although', 'heart', 'fall', \"i'm\", 'love', 'bodi', 'last', 'night', 'room', 'bedsheet', 'smell', 'like', 'everi', 'day', 'discov', 'someth', 'brand', 'new', \"i'm\", 'love', 'bodi', 'oh', 'oh', 'oh', 'oh', \"i'm\", 'love', 'bodi', 'oh', 'oh', 'oh', 'oh', \"i'm\", 'love', 'bodi', 'oh', 'oh', 'oh', 'oh', \"i'm\", 'love', 'bodi', 'everi', 'day', 'discov', 'someth', 'brand', 'new', \"i'm\", 'love', 'shape', 'come', 'on,', 'baby,', 'come', 'come', 'on,', 'baby,', 'come', 'come', 'on,', 'baby,', 'come', 'come', 'on,', 'baby,', 'come', 'come', 'on,', 'baby,', 'come', 'come', 'on,', 'baby,', 'come', 'come', 'on,', 'baby,', 'come', 'come', 'on,', 'baby,', 'come', \"i'm\", 'love', 'shape', 'push', 'pull', 'like', 'magnet', 'although', 'heart', 'fall', \"i'm\", 'love', 'bodi', 'last', 'night', 'room', 'bedsheet', 'smell', 'like', 'everi', 'day', 'discov', 'someth', 'brand', 'new', \"i'm\", 'love', 'bodi', 'come', 'on,', 'baby,', 'come', 'come', 'on,', 'baby,', 'come', \"i'm\", 'love', 'bodi', 'come', 'on,', 'baby,', 'come', 'come', 'on,', 'baby,', 'come', \"i'm\", 'love', 'bodi', 'come', 'on,', 'baby,', 'come', 'come', 'on,', 'baby,', 'come', \"i'm\", 'love', 'bodi', 'everi', 'day', 'discov', 'someth', 'brand', 'new', \"i'm\", 'love', 'shape']] \n",
      "\n"
     ]
    },
    {
     "name": "stdout",
     "output_type": "stream",
     "text": [
      "['go', 'sea', 'sunshine', 'fills', 'hair', 'dreams', 'hang', 'air', 'gulls', 'sky', 'blue', 'eyes', 'know', 'feels', 'unfair', \"there's\", 'magic', 'everywhere', 'look', 'standing', 'straight', 'sunshine', 'need', 'run', 'hide', \"it's\", 'wonderful,', 'wonderful', 'life', 'need', 'laugh', 'cry', \"it's\", 'wonderful,', 'wonderful', 'life', 'sun', 'eyes', 'heat', 'hair', 'seem', 'hate', \"you're\", 'need', 'friend', 'oh,', 'need', 'friend', 'make', 'happy', 'stand', 'look', 'standing', 'straight', 'sunshine'] \n",
      "\n",
      "['go', 'sea', 'sunshin', 'fill', 'hair', 'dream', 'hang', 'air', 'gull', 'sky', 'blue', 'eye', 'know', 'feel', 'unfair', \"there'\", 'magic', 'everywher', 'look', 'stand', 'straight', 'sunshin', 'need', 'run', 'hide', \"it'\", 'wonderful,', 'wonder', 'life', 'need', 'laugh', 'cri', \"it'\", 'wonderful,', 'wonder', 'life', 'sun', 'eye', 'heat', 'hair', 'seem', 'hate', \"you'r\", 'need', 'friend', 'oh,', 'need', 'friend', 'make', 'happi', 'stand', 'look', 'stand', 'straight', 'sunshin'] \n",
      "\n",
      "[['dreamer', 'never', 'learn', 'never', 'learn', 'beyond,', 'beyond', 'point', 'return', 'return', \"it'\", 'late', 'damag', 'done', 'damag', 'done', 'goe', 'beyond', 'beyond', 'white', 'room', 'window', 'sun', 'come', 'happi', 'serv', 'happi', 'serv'], ['declar', 'independence!', \"don't\", 'let', 'you!', 'declar', 'independence!', \"don't\", 'let', 'you!', '(justice)', 'declar', 'independence!', \"don't\", 'let', 'you!', 'declar', 'independence!', \"don't\", 'let', 'you!', '(justice)', 'start', 'currency!', 'make', 'stamp', 'protect', 'languag', '(justice)', 'declar', 'independ', \"don't\", 'let', 'declar', 'independ', \"don't\", 'let'], ['oh,', 'night', \"don't\", 'worri', \"'bout\", 'thing', \"don't\", 'worri', \"'bout\", 'thing', \"don't\", 'worri', \"'bout\", 'thing', 'know', \"we'll\", 'alright', \"don't\", 'worri', \"'bout\", 'thing', \"don't\", 'worri', \"'bout\", 'thing', \"don't\", 'worri', \"'bout\", 'thing', \"i'll\", 'take', 'futur', 'forget', 'past', 'keep', 'secret', 'swear', \"won't\", 'ask', 'let', 'go', 'troubles,', \"don't\", 'care', \"you'v\", 'thing', 'matter', 'night', 'end', 'bright', 'big', 'light', 'shine', 'us', 'beat', 'tight', 'make', 'wanna', 'get', 'get', 'like', \"there'\", 'tomorrow', 'like', \"there'\", 'tomorrow', 'like', \"there'\", 'tomorrow', 'oh,', 'night', \"don't\", 'worri', \"'bout\", 'thing', \"don't\", 'worri', \"'bout\", 'thing', \"don't\", 'worri', \"'bout\", 'thing', 'know', \"we'll\", 'alright', \"don't\", 'worri', \"'bout\", 'thing', \"don't\", 'worri', \"'bout\", 'thing', \"don't\", 'worri', \"'bout\", 'thing', 'oh,', 'night', \"don't\", 'worri', \"'bout\", 'thing', \"don't\", 'worri', \"'bout\", 'thing', \"don't\", 'worri', \"'bout\", 'thing', \"let'\", 'get', 'busi', 'show', 'got', 'keep', 'record', 'spin', 'music', 'never', 'stop', 'wanna', 'live', 'forev', 'reach', 'star', \"let'\", 'take', 'next', 'level', 'light', 'space', 'ship', 'bright', 'big', 'light', 'shine', 'us', 'beat', 'tight', 'make', 'wanna', 'get', 'get', 'like', \"there'\", 'tomorrow', 'like', \"there'\", 'tomorrow', 'like', \"there'\", 'tomorrow', 'oh,', 'night', \"don't\", 'worri', \"'bout\", 'thing', \"don't\", 'worri', \"'bout\", 'thing', \"don't\", 'worri', \"'bout\", 'thing', 'know', \"we'll\", 'alright', \"don't\", 'worri', \"'bout\", 'thing', \"don't\", 'worri', \"'bout\", 'thing', \"don't\", 'worri', \"'bout\", 'thing', 'oh,', 'night', \"don't\", 'worri', \"'bout\", 'thing', \"don't\", 'worri', \"'bout\", 'thing', \"don't\", 'worri', \"'bout\", 'thing', 'yeah,', 'rooftop', 'surround', 'star', 'view', 'hot', \"ain't\", 'nobodi', 'think', \"'bout\", 'got', \"everything'\", 'ours,', 'wanna', 'dip?', 'get', 'new', 'spot', 'yeah,', \"don't\", 'worry,', \"don't\", 'worri', 'night', 'never', 'ends,', 'hurri', 'hurri', 'shorti', 'look', 'thick', 'line', 'get', 'blurri', 'night', 'palm', 'might', 'get', 'dirti', 'dj,', 'let', 'beat', 'play,', 'make', 'heat', 'wave,', 'replay', 'tonight', 'gone', 'parti', 'like', 'd-day', 'young', 'free', 'say', 'one', 'ck', 'shit', 'moon', 'light', 'sky', 'ceil', 'low', 'base', 'high', 'feel', 'world', 'club,', 'caus', \"this'\", 'one', 'book', \"don't\", 'worri', 'bout', 'thang', 'oh,', 'night', \"don't\", 'worri', \"'bout\", 'thing', \"don't\", 'worri', \"'bout\", 'thing', \"don't\", 'worri', \"'bout\", 'thing', 'know', \"we'll\", 'alright', \"don't\", 'worri', \"'bout\", 'thing', \"don't\", 'worri', \"'bout\", 'thing', \"don't\", 'worri', \"'bout\", 'thing', 'oh,', 'night', \"don't\", 'worri', \"'bout\", 'thing', \"don't\", 'worri', \"'bout\", 'thing', \"don't\", 'worri', \"'bout\", 'thing'], ['everi', 'inch', \"sky'\", 'got', 'star', 'everi', 'inch', \"skin'\", 'got', 'scar', 'guess', \"you'v\", 'got', 'everyth', 'everi', 'inch', 'space', 'head', 'fill', 'thing', 'read', 'guess', \"you'v\", 'got', 'everyth', 'everi', 'film', \"you'v\", 'ever', 'seen', 'fill', 'space', 'dream', 'remind', '(everyth', 'everyth', 'now)', 'everi', 'inch', \"road'\", 'got', 'sign', 'everi', 'boy', 'use', 'line', 'pledg', 'allegi', 'everyth', 'everi', 'song', \"i'v\", 'ever', 'heard', 'play', 'time,', \"it'\", 'absurd', 'remind', 'me,', \"we'v\", 'got', 'everyth', 'turn', 'speaker', 'till', 'break', \"'caus\", 'everi', 'time', 'smile', \"it'\", 'fake!', 'stop', 'pretending,', \"you'v\", 'got', 'need', '(everyth', 'now!)', 'want', '(everyth', 'now!)', \"can't\", 'live', 'without', '(everyth', 'now!)', \"can't\", 'live', 'without', '(everyth', 'now!)', '(everyth', 'now!)', 'everyth', 'everi', 'ancient', \"road'\", 'got', 'town', 'daddy,', 'come', \"you'r\", 'never', 'around?', 'miss', 'you,', 'like', 'everyth', 'mama,', 'leav', 'food', 'stove', 'leav', 'car', 'middl', 'road', 'happi', 'famili', 'everyth', 'turn', 'speaker', 'till', 'break', \"'caus\", 'everi', 'time', 'smile', \"it'\", 'fake!', 'stop', 'pretending,', \"you'v\", 'got', 'need', '(everyth', 'now!)', 'want', '(everyth', 'now!)', \"can't\", 'live', 'without', '(everyth', 'now!)', \"can't\", 'live', 'without', '(everyth', 'now!)', '(everyth', 'now!)', \"'til\", 'everi', 'room', 'hous', 'fill', 'shit', \"couldn't\", 'live', 'without', 'need', '(everyth', 'now!)', \"can't\", 'live', 'without', '(everyth', 'now!)', '(everyth', 'now!)', 'everyth', 'la', 'la', 'la', 'la', 'la', 'la', 'la', 'la', 'la', 'la', 'la', 'la', 'la', 'la', 'stop', 'pretending,', \"you'v\", 'got', 'need', '(everyth', 'now!)', 'want', '(everyth', 'now!)', \"can't\", 'live', 'without', '(everyth', 'now!)', \"can't\", 'live', 'without', '(everyth', 'now!)', \"can't\", 'live', '(everyth', 'now!)', 'everi', 'room', 'hous', 'fill', 'shit', \"couldn't\", 'live', 'without', '(everyth', 'now!)', 'need', '(everyth', 'now!)', \"can't\", 'live', 'without', '(everyth', 'now!)', \"can't\", 'live', '(everyth', 'now!)', 'everi', 'inch', 'space', 'heart', 'fill', 'someth', \"i'll\", 'never', 'start', 'ash', 'everyth', \"you'r\", 'black', \"can't\", 'make', 'back', 'everyth'], [\"let'\", 'danc', 'style,', \"let'\", 'danc', 'while,', 'heaven', 'wait', \"we'r\", 'watch', 'skies.', 'hope', 'best,', 'expect', 'worst,', 'gonna', 'drop', 'bomb', 'not?', 'let', 'us', 'die', 'young', 'let', 'us', 'live', 'forev', \"don't\", 'power,', 'never', 'say', 'never', 'sit', 'sandpit,', 'life', 'short', 'trip', \"music'\", 'sad', 'man.', 'imagin', 'race', 'won?', 'turn', 'golden', 'face', 'sun,', 'prais', 'leaders,', \"we'r\", 'get', 'tune', \"music'\", 'play', 'the,', 'madman.', 'forev', 'young,', 'want', 'forev', 'young.', 'realli', 'want', 'live', 'forever?', 'forever,', 'ever', 'forev', 'young,', 'want', 'forev', 'young', 'realli', 'want', 'live', 'forever?', 'forev', 'young.', 'like', 'water,', 'like', 'heat', 'melodi', 'beat', 'sooner', 'later', 'gone', \"don't\", 'stay', 'young?', \"it'\", 'hard', 'get', 'old', 'without', 'caus', \"don't\", 'want', 'perish', 'like', 'fade', 'hors', \"youth'\", 'like', 'diamond', 'sun,', 'diamond', 'forev', 'mani', 'adventur', 'given', 'today,', 'mani', 'song', 'forgot', 'play.', 'mani', 'dream', 'swing', 'blue', 'oh', 'let', 'come', 'true.', 'forev', 'young,', 'want', 'forev', 'young.', 'realli', 'want', 'live', 'forever,', 'forever,', 'ever?', 'forev', 'young,', 'want', 'forev', 'young.', 'realli', 'want', 'live', 'forever,', 'forever,', 'ever?', 'forev', 'young', 'want', 'forev', 'young', 'realli', 'want', 'live', 'forever,', 'forev', 'young'], ['girl', 'come', 'flip', 'like', 'flipagram', 'flip', 'like', 'flipagram', 'make', 'ya', 'bumpa', 'flip', 'like', 'flipagram', 'flip', 'like', 'flipagram', 'flip', 'like', 'flipagram', 'gyal', 'wine', 'pon', 'mi', 'bodi', 'gyal', 'wine', 'like', 'carniv', 'gyal', 'love', 'way', 'wine', 'gyal', 'wine', 'emot', 'wine', 'pon', 'mi', 'bodi', 'gyal', 'want', 'come', 'wine', 'waistlin', 'babi', \"bubblin',\", \"bubblin',\", \"bubblin'\", 'baby,', 'gyal', 'parti', 'anim', 'gyal', 'activ', 'lazi', 'gyal', 'parti', 'anim', 'wine', 'drive', 'crazi', 'gyal', 'parti', 'anim', 'wine', 'good,', 'good', 'gyal', 'love', 'parti', 'took', 'one', 'shot,', 'two', 'shot,', 'three', 'shot,', 'four', '9', 'minut', 'come', 'back', 'take', 'shoe', 'pon', 'di', 'dancefloor', 'start', 'broke', 'broke', 'like', 'sore', 'approach', 'like', 'cure', 'know', 'like', 'tonight', 'score', 'sexy,', 'beauti', 'pure', 'gyal', 'ador', 'gyal', 'wine', 'pon', 'mi', 'bodi', 'gyal', 'wine', 'carniv', 'gyal', 'love', 'way', 'wine', 'gyal', 'wine', 'emot', 'wine', 'pon', 'mi', 'bodi', 'gyal', 'want', 'come', 'wine', 'waistlin', 'babi', \"bubblin',\", \"bubblin',\", \"bubblin'\", 'baby,', 'gyal', 'parti', 'anim', 'wine', 'drive', 'crazi', 'gyal', 'parti', 'anim', 'gyal', 'activ', 'lazi', 'gyal', 'parti', 'anim', 'danc', 'good,', 'good', 'gyal', 'love', 'parti', 'gyal', 'ya', 'ting', 'bubbly,', 'bubbly,', 'bubbl', 'mi', 'na', 'know', 'ya', 'ya', 'ting', 'bubbl', 'god', 'send', 'ya', 'fa', 'meet', 'tonight', 'mi', 'follow', 'morn', 'day', 'worri', \"'bout\", 'friend', 'friend', 'club', 'parti', 'pon', 'mi', 'end', 'gyal', 'flip', 'like', 'flipagram,', 'flip', 'like', 'flipagram', 'right', 'moment', 'wine', 'pon', 'mi', 'bodi', 'gyal', 'wine', 'like', 'carniv', 'gyal', 'love', 'way', 'wine', 'gyal', 'wine', 'emot', 'wine', 'pon', 'mi', 'bodi', 'gyal', 'want', 'come', 'wine', 'waistlin', 'babi', \"bubblin',\", 'bubblin,', 'bubblin', 'baby,', 'gyal', 'parti', 'anim', 'gyal', 'activ', 'lazi', 'gyal', 'parti', 'anim', 'wine', 'drive', 'crazi', 'gyal', 'parti', 'anim', 'good,', 'wine', 'good', 'gyal', 'love', 'wine', 'pon', 'bodi', 'gyal', 'wine', 'like', 'carniv', 'gyal', 'love', 'way', 'wine', 'emot', 'bodi', 'gyal', 'mi', 'want', 'come', 'wine', 'waistlin', \"bubblin',\", \"bubblin',\", \"bubblin'\", 'baby,', 'gyal', 'parti', 'anim', 'gyal', 'parti', 'anim', 'gyal', 'parti', 'anim'], ['yeah,', 'uh', 'tell', 'realli', 'like', 'babi', 'take', 'time', \"don't\", 'ever', 'fight', 'take', 'step-by-step', 'see', 'eye', \"'caus\", 'never', 'tell', 'lie', 'feel', 'bodi', 'shake', 'heat', 'leg', \"you'v\", 'scare', 'love', \"don't\", 'run,', 'know', \"you'v\", 'simpl', 'touch', 'set', 'free', \"don't\", 'rush', \"you'r\", 'alon', 'feel', 'coming,', 'feel', 'coming,', 'babe', 'feel', 'coming,', 'feel', 'coming,', 'babe', 'feel', 'coming,', 'feel', 'coming,', 'babe', 'feel', 'coming,', 'feel', 'coming,', 'babe', 'singl', 'type', 'baby,', 'perfect', 'time', \"i'm\", 'tri', 'get', 'high', 'fade', 'touch', \"don't\", 'need', 'lone', 'night', 'baby,', 'make', 'right', 'got', 'let', 'tri', 'give', 'want', \"you'v\", 'scare', 'love', \"don't\", 'run,', 'know', \"you'v\", 'simpl', 'touch', 'set', 'free', \"don't\", 'rush', \"you'r\", 'alon', 'feel', 'coming,', 'feel', 'coming,', 'babe', 'feel', 'coming,', 'feel', 'coming,', 'babe', 'feel', 'coming,', 'feel', 'coming,', 'babe', 'feel', 'coming,', 'feel', 'coming,', 'babe', 'feel', 'coming,', 'feel', 'coming,', 'babe', 'feel', 'coming,', 'feel', 'coming,', 'babe', 'feel', 'coming,', 'feel', 'coming,', 'babe', 'feel', 'coming,', 'feel', 'coming,', 'babe', \"you'v\", 'scare', 'love', \"don't\", 'run,', 'know', \"you'v\", 'simpl', 'touch', 'set', 'free', \"don't\", 'rush', \"you'r\", 'alon', 'feel', 'coming,', 'feel', 'coming,', 'babe', 'feel', 'coming,', 'feel', 'coming,', 'babe', '(i', 'know', 'feel', 'right', 'now)', 'feel', 'coming,', 'feel', 'coming,', 'babe', 'feel', 'coming,', 'feel', 'coming,', 'babe', '(i', 'know', 'feel', 'right', 'now)', 'feel', 'coming,', 'feel', 'coming,', 'babe', 'feel', 'coming,', 'feel', 'coming,', 'babe', '(i', 'know', 'feel', 'right', 'now)', 'feel', 'coming,', 'feel', 'coming,', 'babe', 'feel', 'coming,', 'feel', 'coming,', 'babe', 'feel', 'coming,', 'babe', 'feel', 'coming,', 'babe', 'feel', 'coming,', 'babe', 'feel', 'coming,', 'babe'], [\"can't\", 'see', \"i'm\", 'trying?', \"don't\", 'even', 'like', 'it.', 'lie', 'get', 'apartment,', \"i'm\", 'stay', \"can't\", 'think', \"'caus\", \"i'm\", 'way', 'tire', 'it?', 'it?', 'this...', 'it?', 'said', \"they'd\", 'give', 'anyth', 'ever', 'want', 'lied,', 'knew', 'stabl', 'children', 'tri', 'hard', 'realiz', 'sit', 'right', 'behind', 'oh', 'dear,', \"can't\", 'see?', \"it'\", \"it'\", \"we'r\", 'enemies;', 'disagre', 'like', 'piss', 'bar', 'chang', 'mind,', 'say', 'went', 'far', 'disagre', 'think', 'disagree,', 'yeah', \"can't\", 'see', \"i'm\", 'trying?', \"don't\", 'even', 'like', 'it.', 'lie', 'get', 'apartment,', \"i'm\", 'stay', \"can't\", 'think', \"'caus\", \"i'm\", 'way', 'tire'], ['club', \"isn't\", 'best', 'place', 'find', 'lover', 'bar', 'go', '(mmmm)', 'friend', 'tabl', 'shot', 'drink', 'fast', 'talk', 'slow', '(mmmm)', 'come', 'start', 'convers', 'trust', \"i'll\", 'give', 'chanc', '(mmmm)', 'take', 'hand,', 'stop,', 'put', 'van', 'man', 'jukebox', 'start', 'danc', \"i'm\", 'sing', 'like', 'girl,', 'know', 'want', 'love', 'love', 'handmad', 'somebodi', 'like', 'come', 'now,', 'follow', 'lead', 'may', 'crazy,', \"don't\", 'mind', 'say,', 'boy,', \"let'\", 'talk', 'much', 'grab', 'waist', 'put', 'bodi', 'come', 'now,', 'follow', 'lead', 'come,', 'come', 'now,', 'follow', 'lead', '(mmmm)', \"i'm\", 'love', 'shape', 'push', 'pull', 'like', 'magnet', 'although', 'heart', 'fall', \"i'm\", 'love', 'bodi', 'last', 'night', 'room', 'bedsheet', 'smell', 'like', 'everi', 'day', 'discov', 'someth', 'brand', 'new', \"i'm\", 'love', 'bodi', 'oh', 'oh', 'oh', 'oh', \"i'm\", 'love', 'bodi', 'oh', 'oh', 'oh', 'oh', \"i'm\", 'love', 'bodi', 'oh', 'oh', 'oh', 'oh', \"i'm\", 'love', 'bodi', 'everi', 'day', 'discov', 'someth', 'brand', 'new', \"i'm\", 'love', 'shape', 'one', 'week', 'let', 'stori', 'begin', \"we'r\", 'go', 'first', 'date', '(mmmm)', 'thrifty,', 'go', 'eat', 'fill', 'bag', 'fill', 'plate', '(mmmm)', 'talk', 'hour', 'hour', 'sweet', 'sour', 'famili', 'okay', '(mmmm)', 'leav', 'get', 'taxi,', 'kiss', 'backseat', 'tell', 'driver', 'make', 'radio', 'play', \"i'm\", 'sing', 'like', 'girl,', 'know', 'want', 'love', 'love', 'handmad', 'somebodi', 'like', 'come', 'now,', 'follow', 'lead', 'may', 'crazy,', \"don't\", 'mind', 'say,', 'boy,', \"let'\", 'talk', 'much', 'grab', 'waist', 'put', 'bodi', 'come', 'now,', 'follow', 'lead', 'come,', 'come', 'now,', 'follow', 'lead', '(mmmm)', \"i'm\", 'love', 'shape', 'push', 'pull', 'like', 'magnet', 'although', 'heart', 'fall', \"i'm\", 'love', 'bodi', 'last', 'night', 'room', 'bedsheet', 'smell', 'like', 'everi', 'day', 'discov', 'someth', 'brand', 'new', \"i'm\", 'love', 'bodi', 'oh', 'oh', 'oh', 'oh', \"i'm\", 'love', 'bodi', 'oh', 'oh', 'oh', 'oh', \"i'm\", 'love', 'bodi', 'oh', 'oh', 'oh', 'oh', \"i'm\", 'love', 'bodi', 'everi', 'day', 'discov', 'someth', 'brand', 'new', \"i'm\", 'love', 'shape', 'come', 'on,', 'baby,', 'come', 'come', 'on,', 'baby,', 'come', 'come', 'on,', 'baby,', 'come', 'come', 'on,', 'baby,', 'come', 'come', 'on,', 'baby,', 'come', 'come', 'on,', 'baby,', 'come', 'come', 'on,', 'baby,', 'come', 'come', 'on,', 'baby,', 'come', \"i'm\", 'love', 'shape', 'push', 'pull', 'like', 'magnet', 'although', 'heart', 'fall', \"i'm\", 'love', 'bodi', 'last', 'night', 'room', 'bedsheet', 'smell', 'like', 'everi', 'day', 'discov', 'someth', 'brand', 'new', \"i'm\", 'love', 'bodi', 'come', 'on,', 'baby,', 'come', 'come', 'on,', 'baby,', 'come', \"i'm\", 'love', 'bodi', 'come', 'on,', 'baby,', 'come', 'come', 'on,', 'baby,', 'come', \"i'm\", 'love', 'bodi', 'come', 'on,', 'baby,', 'come', 'come', 'on,', 'baby,', 'come', \"i'm\", 'love', 'bodi', 'everi', 'day', 'discov', 'someth', 'brand', 'new', \"i'm\", 'love', 'shape'], ['go', 'sea', 'sunshin', 'fill', 'hair', 'dream', 'hang', 'air', 'gull', 'sky', 'blue', 'eye', 'know', 'feel', 'unfair', \"there'\", 'magic', 'everywher', 'look', 'stand', 'straight', 'sunshin', 'need', 'run', 'hide', \"it'\", 'wonderful,', 'wonder', 'life', 'need', 'laugh', 'cri', \"it'\", 'wonderful,', 'wonder', 'life', 'sun', 'eye', 'heat', 'hair', 'seem', 'hate', \"you'r\", 'need', 'friend', 'oh,', 'need', 'friend', 'make', 'happi', 'stand', 'look', 'stand', 'straight', 'sunshin']] \n",
      "\n"
     ]
    }
   ],
   "source": [
    "all_lyrics_new = []\n",
    "porter = nltk.PorterStemmer()\n",
    "\n",
    "for lyric in tokenized_lyrics:\n",
    "    all_lyrics_swremoved = [w for w in lyric if w not in stopwords.words('english')]\n",
    "    print (all_lyrics_swremoved,'\\n')\n",
    "    all_lyrics_stemming = [porter.stem(t) for t in all_lyrics_swremoved]\n",
    "    print (all_lyrics_stemming, '\\n')\n",
    "    all_lyrics_new.append(all_lyrics_stemming)\n",
    "    print (all_lyrics_new, '\\n')"
   ]
  },
  {
   "cell_type": "code",
   "execution_count": 69,
   "metadata": {
    "collapsed": true
   },
   "outputs": [],
   "source": [
    "all_lyrics2 = [' '.join(lyric) for lyric in all_lyrics_new]"
   ]
  },
  {
   "cell_type": "code",
   "execution_count": 78,
   "metadata": {},
   "outputs": [
    {
     "data": {
      "text/plain": [
       "[\"dreamer never learn never learn beyond, beyond point return return it' late damag done damag done goe beyond beyond white room window sun come happi serv happi serv\",\n",
       " \"declar independence! don't let you! declar independence! don't let you! (justice) declar independence! don't let you! declar independence! don't let you! (justice) start currency! make stamp protect languag (justice) declar independ don't let declar independ don't let\",\n",
       " \"oh, night don't worri 'bout thing don't worri 'bout thing don't worri 'bout thing know we'll alright don't worri 'bout thing don't worri 'bout thing don't worri 'bout thing i'll take futur forget past keep secret swear won't ask let go troubles, don't care you'v thing matter night end bright big light shine us beat tight make wanna get get like there' tomorrow like there' tomorrow like there' tomorrow oh, night don't worri 'bout thing don't worri 'bout thing don't worri 'bout thing know we'll alright don't worri 'bout thing don't worri 'bout thing don't worri 'bout thing oh, night don't worri 'bout thing don't worri 'bout thing don't worri 'bout thing let' get busi show got keep record spin music never stop wanna live forev reach star let' take next level light space ship bright big light shine us beat tight make wanna get get like there' tomorrow like there' tomorrow like there' tomorrow oh, night don't worri 'bout thing don't worri 'bout thing don't worri 'bout thing know we'll alright don't worri 'bout thing don't worri 'bout thing don't worri 'bout thing oh, night don't worri 'bout thing don't worri 'bout thing don't worri 'bout thing yeah, rooftop surround star view hot ain't nobodi think 'bout got everything' ours, wanna dip? get new spot yeah, don't worry, don't worri night never ends, hurri hurri shorti look thick line get blurri night palm might get dirti dj, let beat play, make heat wave, replay tonight gone parti like d-day young free say one ck shit moon light sky ceil low base high feel world club, caus this' one book don't worri bout thang oh, night don't worri 'bout thing don't worri 'bout thing don't worri 'bout thing know we'll alright don't worri 'bout thing don't worri 'bout thing don't worri 'bout thing oh, night don't worri 'bout thing don't worri 'bout thing don't worri 'bout thing\",\n",
       " \"everi inch sky' got star everi inch skin' got scar guess you'v got everyth everi inch space head fill thing read guess you'v got everyth everi film you'v ever seen fill space dream remind (everyth everyth now) everi inch road' got sign everi boy use line pledg allegi everyth everi song i'v ever heard play time, it' absurd remind me, we'v got everyth turn speaker till break 'caus everi time smile it' fake! stop pretending, you'v got need (everyth now!) want (everyth now!) can't live without (everyth now!) can't live without (everyth now!) (everyth now!) everyth everi ancient road' got town daddy, come you'r never around? miss you, like everyth mama, leav food stove leav car middl road happi famili everyth turn speaker till break 'caus everi time smile it' fake! stop pretending, you'v got need (everyth now!) want (everyth now!) can't live without (everyth now!) can't live without (everyth now!) (everyth now!) 'til everi room hous fill shit couldn't live without need (everyth now!) can't live without (everyth now!) (everyth now!) everyth la la la la la la la la la la la la la la stop pretending, you'v got need (everyth now!) want (everyth now!) can't live without (everyth now!) can't live without (everyth now!) can't live (everyth now!) everi room hous fill shit couldn't live without (everyth now!) need (everyth now!) can't live without (everyth now!) can't live (everyth now!) everi inch space heart fill someth i'll never start ash everyth you'r black can't make back everyth\",\n",
       " \"let' danc style, let' danc while, heaven wait we'r watch skies. hope best, expect worst, gonna drop bomb not? let us die young let us live forev don't power, never say never sit sandpit, life short trip music' sad man. imagin race won? turn golden face sun, prais leaders, we'r get tune music' play the, madman. forev young, want forev young. realli want live forever? forever, ever forev young, want forev young realli want live forever? forev young. like water, like heat melodi beat sooner later gone don't stay young? it' hard get old without caus don't want perish like fade hors youth' like diamond sun, diamond forev mani adventur given today, mani song forgot play. mani dream swing blue oh let come true. forev young, want forev young. realli want live forever, forever, ever? forev young, want forev young. realli want live forever, forever, ever? forev young want forev young realli want live forever, forev young\",\n",
       " \"girl come flip like flipagram flip like flipagram make ya bumpa flip like flipagram flip like flipagram flip like flipagram gyal wine pon mi bodi gyal wine like carniv gyal love way wine gyal wine emot wine pon mi bodi gyal want come wine waistlin babi bubblin', bubblin', bubblin' baby, gyal parti anim gyal activ lazi gyal parti anim wine drive crazi gyal parti anim wine good, good gyal love parti took one shot, two shot, three shot, four 9 minut come back take shoe pon di dancefloor start broke broke like sore approach like cure know like tonight score sexy, beauti pure gyal ador gyal wine pon mi bodi gyal wine carniv gyal love way wine gyal wine emot wine pon mi bodi gyal want come wine waistlin babi bubblin', bubblin', bubblin' baby, gyal parti anim wine drive crazi gyal parti anim gyal activ lazi gyal parti anim danc good, good gyal love parti gyal ya ting bubbly, bubbly, bubbl mi na know ya ya ting bubbl god send ya fa meet tonight mi follow morn day worri 'bout friend friend club parti pon mi end gyal flip like flipagram, flip like flipagram right moment wine pon mi bodi gyal wine like carniv gyal love way wine gyal wine emot wine pon mi bodi gyal want come wine waistlin babi bubblin', bubblin, bubblin baby, gyal parti anim gyal activ lazi gyal parti anim wine drive crazi gyal parti anim good, wine good gyal love wine pon bodi gyal wine like carniv gyal love way wine emot bodi gyal mi want come wine waistlin bubblin', bubblin', bubblin' baby, gyal parti anim gyal parti anim gyal parti anim\",\n",
       " \"yeah, uh tell realli like babi take time don't ever fight take step-by-step see eye 'caus never tell lie feel bodi shake heat leg you'v scare love don't run, know you'v simpl touch set free don't rush you'r alon feel coming, feel coming, babe feel coming, feel coming, babe feel coming, feel coming, babe feel coming, feel coming, babe singl type baby, perfect time i'm tri get high fade touch don't need lone night baby, make right got let tri give want you'v scare love don't run, know you'v simpl touch set free don't rush you'r alon feel coming, feel coming, babe feel coming, feel coming, babe feel coming, feel coming, babe feel coming, feel coming, babe feel coming, feel coming, babe feel coming, feel coming, babe feel coming, feel coming, babe feel coming, feel coming, babe you'v scare love don't run, know you'v simpl touch set free don't rush you'r alon feel coming, feel coming, babe feel coming, feel coming, babe (i know feel right now) feel coming, feel coming, babe feel coming, feel coming, babe (i know feel right now) feel coming, feel coming, babe feel coming, feel coming, babe (i know feel right now) feel coming, feel coming, babe feel coming, feel coming, babe feel coming, babe feel coming, babe feel coming, babe feel coming, babe\",\n",
       " \"can't see i'm trying? don't even like it. lie get apartment, i'm stay can't think 'caus i'm way tire it? it? this... it? said they'd give anyth ever want lied, knew stabl children tri hard realiz sit right behind oh dear, can't see? it' it' we'r enemies; disagre like piss bar chang mind, say went far disagre think disagree, yeah can't see i'm trying? don't even like it. lie get apartment, i'm stay can't think 'caus i'm way tire\",\n",
       " \"club isn't best place find lover bar go (mmmm) friend tabl shot drink fast talk slow (mmmm) come start convers trust i'll give chanc (mmmm) take hand, stop, put van man jukebox start danc i'm sing like girl, know want love love handmad somebodi like come now, follow lead may crazy, don't mind say, boy, let' talk much grab waist put bodi come now, follow lead come, come now, follow lead (mmmm) i'm love shape push pull like magnet although heart fall i'm love bodi last night room bedsheet smell like everi day discov someth brand new i'm love bodi oh oh oh oh i'm love bodi oh oh oh oh i'm love bodi oh oh oh oh i'm love bodi everi day discov someth brand new i'm love shape one week let stori begin we'r go first date (mmmm) thrifty, go eat fill bag fill plate (mmmm) talk hour hour sweet sour famili okay (mmmm) leav get taxi, kiss backseat tell driver make radio play i'm sing like girl, know want love love handmad somebodi like come now, follow lead may crazy, don't mind say, boy, let' talk much grab waist put bodi come now, follow lead come, come now, follow lead (mmmm) i'm love shape push pull like magnet although heart fall i'm love bodi last night room bedsheet smell like everi day discov someth brand new i'm love bodi oh oh oh oh i'm love bodi oh oh oh oh i'm love bodi oh oh oh oh i'm love bodi everi day discov someth brand new i'm love shape come on, baby, come come on, baby, come come on, baby, come come on, baby, come come on, baby, come come on, baby, come come on, baby, come come on, baby, come i'm love shape push pull like magnet although heart fall i'm love bodi last night room bedsheet smell like everi day discov someth brand new i'm love bodi come on, baby, come come on, baby, come i'm love bodi come on, baby, come come on, baby, come i'm love bodi come on, baby, come come on, baby, come i'm love bodi everi day discov someth brand new i'm love shape\",\n",
       " \"go sea sunshin fill hair dream hang air gull sky blue eye know feel unfair there' magic everywher look stand straight sunshin need run hide it' wonderful, wonder life need laugh cri it' wonderful, wonder life sun eye heat hair seem hate you'r need friend oh, need friend make happi stand look stand straight sunshin\"]"
      ]
     },
     "execution_count": 78,
     "metadata": {},
     "output_type": "execute_result"
    }
   ],
   "source": [
    "all_lyrics2"
   ]
  },
  {
   "cell_type": "code",
   "execution_count": 70,
   "metadata": {
    "collapsed": true
   },
   "outputs": [],
   "source": [
    "sklearn_tfidf = TfidfVectorizer(norm='l2',min_df=0, use_idf=True, smooth_idf=False, sublinear_tf=True, tokenizer=tokenize)\n",
    "\n",
    "sklearn_representation = sklearn_tfidf.fit_transform(all_lyrics2)"
   ]
  },
  {
   "cell_type": "code",
   "execution_count": 71,
   "metadata": {},
   "outputs": [
    {
     "name": "stdout",
     "output_type": "stream",
     "text": [
      "The similarity between the lyric1: daydreaming and the lyric2: declare independence is 0.0\n",
      "\n",
      "\n",
      "The similarity between the lyric1: daydreaming and the lyric3: dontworry is 0.010005402997301165\n",
      "\n",
      "\n",
      "The similarity between the lyric1: daydreaming and the lyric4: everything now is 0.03995133922008919\n",
      "\n",
      "\n",
      "The similarity between the lyric1: daydreaming and the lyric5: foreveryoung is 0.020847117742723024\n",
      "\n",
      "\n",
      "The similarity between the lyric1: daydreaming and the lyric6: gyal you a party animal is 0.008754584505596337\n",
      "\n",
      "\n",
      "The similarity between the lyric1: daydreaming and the lyric7: i feel it coming is 0.00710431707079562\n",
      "\n",
      "\n",
      "The similarity between the lyric1: daydreaming and the lyric8: is this it is 0.009913137404701056\n",
      "\n",
      "\n",
      "The similarity between the lyric1: daydreaming and the lyric9: shapeofyou is 0.023902770083868253\n",
      "\n",
      "\n",
      "The similarity between the lyric1: daydreaming and the lyric10: wonderfullife is 0.04769505823950047\n",
      "\n",
      "\n",
      "The similarity between the lyric2: declare independence and the lyric3: dontworry is 0.05245526964567883\n",
      "\n",
      "\n",
      "The similarity between the lyric2: declare independence and the lyric4: everything now is 0.006044044186083666\n",
      "\n",
      "\n",
      "The similarity between the lyric2: declare independence and the lyric5: foreveryoung is 0.0415051895771669\n",
      "\n",
      "\n",
      "The similarity between the lyric2: declare independence and the lyric6: gyal you a party animal is 0.005552110582449978\n",
      "\n",
      "\n",
      "The similarity between the lyric2: declare independence and the lyric7: i feel it coming is 0.03971030619203863\n",
      "\n",
      "\n",
      "The similarity between the lyric2: declare independence and the lyric8: is this it is 0.020288553953197782\n",
      "\n",
      "\n",
      "The similarity between the lyric2: declare independence and the lyric9: shapeofyou is 0.025412627649435776\n",
      "\n",
      "\n",
      "The similarity between the lyric2: declare independence and the lyric10: wonderfullife is 0.004064139998434182\n",
      "\n",
      "\n",
      "The similarity between the lyric3: dontworry and the lyric4: everything now is 0.07859778441461755\n",
      "\n",
      "\n",
      "The similarity between the lyric3: dontworry and the lyric5: foreveryoung is 0.11324409552521808\n",
      "\n",
      "\n",
      "The similarity between the lyric3: dontworry and the lyric6: gyal you a party animal is 0.06595802510867105\n",
      "\n",
      "\n",
      "The similarity between the lyric3: dontworry and the lyric7: i feel it coming is 0.10708974951474423\n",
      "\n",
      "\n",
      "The similarity between the lyric3: dontworry and the lyric8: is this it is 0.050402982338075795\n",
      "\n",
      "\n",
      "The similarity between the lyric3: dontworry and the lyric9: shapeofyou is 0.06451007525702852\n",
      "\n",
      "\n",
      "The similarity between the lyric3: dontworry and the lyric10: wonderfullife is 0.0762095028076475\n",
      "\n",
      "\n",
      "The similarity between the lyric4: everything now and the lyric5: foreveryoung is 0.0807992638352121\n",
      "\n",
      "\n",
      "The similarity between the lyric4: everything now and the lyric6: gyal you a party animal is 0.01598526996223063\n",
      "\n",
      "\n",
      "The similarity between the lyric4: everything now and the lyric7: i feel it coming is 0.08117003262324742\n",
      "\n",
      "\n",
      "The similarity between the lyric4: everything now and the lyric8: is this it is 0.07738800865000942\n",
      "\n",
      "\n",
      "The similarity between the lyric4: everything now and the lyric9: shapeofyou is 0.07964042541531717\n",
      "\n",
      "\n",
      "The similarity between the lyric4: everything now and the lyric10: wonderfullife is 0.0666663869948394\n",
      "\n",
      "\n",
      "The similarity between the lyric5: foreveryoung and the lyric6: gyal you a party animal is 0.026380064563893853\n",
      "\n",
      "\n",
      "The similarity between the lyric5: foreveryoung and the lyric7: i feel it coming is 0.05221424265231753\n",
      "\n",
      "\n",
      "The similarity between the lyric5: foreveryoung and the lyric8: is this it is 0.08299343055624533\n",
      "\n",
      "\n",
      "The similarity between the lyric5: foreveryoung and the lyric9: shapeofyou is 0.056671840873369586\n",
      "\n",
      "\n",
      "The similarity between the lyric5: foreveryoung and the lyric10: wonderfullife is 0.03640671531766164\n",
      "\n",
      "\n",
      "The similarity between the lyric6: gyal you a party animal and the lyric7: i feel it coming is 0.06364140155029481\n",
      "\n",
      "\n",
      "The similarity between the lyric6: gyal you a party animal and the lyric8: is this it is 0.03690974298443908\n",
      "\n",
      "\n",
      "The similarity between the lyric6: gyal you a party animal and the lyric9: shapeofyou is 0.11162308473955554\n",
      "\n",
      "\n",
      "The similarity between the lyric6: gyal you a party animal and the lyric10: wonderfullife is 0.01732436823575677\n",
      "\n",
      "\n",
      "The similarity between the lyric7: i feel it coming and the lyric8: is this it is 0.0951564809881589\n",
      "\n",
      "\n",
      "The similarity between the lyric7: i feel it coming and the lyric9: shapeofyou is 0.0903064053796517\n",
      "\n",
      "\n",
      "The similarity between the lyric7: i feel it coming and the lyric10: wonderfullife is 0.07924795814308634\n",
      "\n",
      "\n",
      "The similarity between the lyric8: is this it and the lyric9: shapeofyou is 0.08130279946157928\n",
      "\n",
      "\n",
      "The similarity between the lyric8: is this it and the lyric10: wonderfullife is 0.012891835499014584\n",
      "\n",
      "\n",
      "The similarity between the lyric9: shapeofyou and the lyric10: wonderfullife is 0.026321342007449827\n",
      "\n",
      "\n"
     ]
    }
   ],
   "source": [
    "all_lyrics_names = ['lyric1: daydreaming', 'lyric2: declare independence', 'lyric3: dontworry', 'lyric4: everything now', 'lyric5: foreveryoung', 'lyric6: gyal you a party animal', 'lyric7: i feel it coming', 'lyric8: is this it', 'lyric9: shapeofyou', 'lyric10: wonderfullife']\n",
    "\n",
    "for i in range(10):\n",
    "    for j in range(i+1,10):\n",
    "        similarity = cosine_similarity(sklearn_representation.toarray()[i], sklearn_representation.toarray()[j])\n",
    "        print(\"The similarity between the {} and the {} is {}\\n\\n\".format(all_lyrics_names[i], all_lyrics_names[j], similarity))"
   ]
  },
  {
   "cell_type": "markdown",
   "metadata": {},
   "source": [
    "#### The pair of lyrics most similar are the same (3 and 5), but with a low cosine similarity.  Probably, removing the stop words have made the cosine similarity to drop down."
   ]
  },
  {
   "cell_type": "markdown",
   "metadata": {},
   "source": [
    "### 3.- Run the “Word association” task on the treebank corpus. Find the most co-occurrent word of the following: \n",
    "### chairman, profit, president, investors, city, chief.\n",
    "\n",
    "### Which considerations can you make about “chief”?"
   ]
  },
  {
   "cell_type": "code",
   "execution_count": 82,
   "metadata": {},
   "outputs": [],
   "source": [
    "from nltk.corpus import treebank, stopwords\n",
    "from nltk import FreqDist, ConditionalFreqDist\n",
    "\n",
    "# initialize a new conditional distribution\n",
    "cfd = ConditionalFreqDist()\n",
    "\n",
    "# get a list of English stopwords\n",
    "stopwords_list = stopwords.words('english')\n",
    "\n",
    "def is_noun(tag):\n",
    "    return tag.lower() in ['nn','nns','nn$','nn-tl','nn+bez', 'nn+hvz', \n",
    "                           'nns$','np','np$','np+bez','nps', 'nps$','nr',\n",
    "                           'np-tl','nrs','nr$']\n",
    "\n",
    "for sentence in treebank.tagged_sents():\n",
    "    for (index, tagtuple) in enumerate(sentence):\n",
    "        (token, tag) = tagtuple\n",
    "        token = token.lower()\n",
    "        if token not in stopwords_list and is_noun(tag):\n",
    "            window = sentence[index+1:index+5]\n",
    "            for (window_token, window_tag) in window:\n",
    "                window_token = window_token.lower()\n",
    "                if window_token not in stopwords_list and is_noun(window_tag):\n",
    "                    cfd[token][window_token] += 1"
   ]
  },
  {
   "cell_type": "code",
   "execution_count": 83,
   "metadata": {},
   "outputs": [
    {
     "name": "stdout",
     "output_type": "stream",
     "text": [
      "chief\n"
     ]
    }
   ],
   "source": [
    "print(cfd['chairman'].max())"
   ]
  },
  {
   "cell_type": "code",
   "execution_count": 84,
   "metadata": {},
   "outputs": [
    {
     "name": "stdout",
     "output_type": "stream",
     "text": [
      "%\n"
     ]
    }
   ],
   "source": [
    "print(cfd['profit'].max())"
   ]
  },
  {
   "cell_type": "code",
   "execution_count": 85,
   "metadata": {},
   "outputs": [
    {
     "name": "stdout",
     "output_type": "stream",
     "text": [
      "chief\n"
     ]
    }
   ],
   "source": [
    "print(cfd['president'].max())"
   ]
  },
  {
   "cell_type": "code",
   "execution_count": 86,
   "metadata": {},
   "outputs": [
    {
     "name": "stdout",
     "output_type": "stream",
     "text": [
      "bonds\n"
     ]
    }
   ],
   "source": [
    "print(cfd['investors'].max())"
   ]
  },
  {
   "cell_type": "code",
   "execution_count": 87,
   "metadata": {},
   "outputs": [
    {
     "name": "stdout",
     "output_type": "stream",
     "text": [
      "streets\n"
     ]
    }
   ],
   "source": [
    "print(cfd['city'].max())"
   ]
  },
  {
   "cell_type": "code",
   "execution_count": 88,
   "metadata": {},
   "outputs": [
    {
     "name": "stdout",
     "output_type": "stream",
     "text": [
      "officer\n"
     ]
    }
   ],
   "source": [
    "print(cfd['chief'].max())"
   ]
  },
  {
   "cell_type": "markdown",
   "metadata": {},
   "source": [
    "### We can see that the word \"chief\" is used in similar contexts where there is a responsibility of importance."
   ]
  }
 ],
 "metadata": {
  "kernelspec": {
   "display_name": "Python 3",
   "language": "python",
   "name": "python3"
  },
  "language_info": {
   "codemirror_mode": {
    "name": "ipython",
    "version": 3
   },
   "file_extension": ".py",
   "mimetype": "text/x-python",
   "name": "python",
   "nbconvert_exporter": "python",
   "pygments_lexer": "ipython3",
   "version": "3.6.3"
  }
 },
 "nbformat": 4,
 "nbformat_minor": 2
}
