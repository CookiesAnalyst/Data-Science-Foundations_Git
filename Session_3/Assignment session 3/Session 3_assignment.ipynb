{
 "cells": [
  {
   "cell_type": "markdown",
   "metadata": {},
   "source": [
    "### Select any dataset from Kaggle, UCI repository (https://archive.ics.uci.edu/ml), or any City Council open data source, etc.\n",
    "\n",
    "#### • For this assignment the data should be in CSV format and should not exceed 10 Mb.\n",
    "#### • Load the data into SQLite DB (check that data types are correct).\n",
    "#### • Retrieve the data from Python using Pandas.\n",
    "#### • Ask and answer 20 questions to your dataset.\n",
    "#### • Create visualizations to communicate your major findings (at least 5 visualizations).\n",
    "#### • Put comments and docstrings to your code.\n",
    "#### • Push your Jupyter Notebook (in *.ipynb format) and the database file (in *.db format)\n",
    "#### 1into the folder “Session_3_graded_assignment” of your repository “DataScienceFoundations.”"
   ]
  },
  {
   "cell_type": "code",
   "execution_count": null,
   "metadata": {
    "collapsed": true
   },
   "outputs": [],
   "source": []
  },
  {
   "cell_type": "code",
   "execution_count": null,
   "metadata": {
    "collapsed": true
   },
   "outputs": [],
   "source": []
  },
  {
   "cell_type": "code",
   "execution_count": null,
   "metadata": {
    "collapsed": true
   },
   "outputs": [],
   "source": []
  },
  {
   "cell_type": "code",
   "execution_count": null,
   "metadata": {
    "collapsed": true
   },
   "outputs": [],
   "source": []
  }
 ],
 "metadata": {
  "kernelspec": {
   "display_name": "Python 3",
   "language": "python",
   "name": "python3"
  },
  "language_info": {
   "codemirror_mode": {
    "name": "ipython",
    "version": 3
   },
   "file_extension": ".py",
   "mimetype": "text/x-python",
   "name": "python",
   "nbconvert_exporter": "python",
   "pygments_lexer": "ipython3",
   "version": "3.6.1"
  }
 },
 "nbformat": 4,
 "nbformat_minor": 2
}
