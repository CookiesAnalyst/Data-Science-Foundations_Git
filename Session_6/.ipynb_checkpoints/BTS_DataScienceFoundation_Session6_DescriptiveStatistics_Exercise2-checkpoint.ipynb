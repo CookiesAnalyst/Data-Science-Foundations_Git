{
 "cells": [
  {
   "cell_type": "markdown",
   "metadata": {},
   "source": [
    "# Subject: Data Science Foundation\n",
    "\n",
    "## Session 6 - Introduction to descriptive statistics\n",
    "\n",
    "### Exercice 2 -  Descriptive Statistics For pandas Dataframe \"Indicadores de fecundidad\"\n",
    "\n",
    "Considering the Descriptive Statistics in Demo 2 develop the Descriptive Statistics for the variable “Taxa bruta de natalidade”. \n",
    "\n",
    "- Dataset: \"Indicadores de fecundidad\" (available at https://www.europeandataportal.eu/data/en/dataset/http---datos-gob-es-catalogo-a12002994-indicadores-de-fecundidad). \n",
    "- Interpret and discuss the Results. \n",
    "- Commit scripts in your GitHub account. You should export your solution code (.ipynb notebook) and push it to your repository “DataScienceFoundations”.\n",
    "\n",
    "\n",
    "The following are the tasks that should complete and synchronize with your repository “DataScienceFoundations” until October 25. Please notice that none of these tasks is graded, however it’s important that you correctly understand and complete them in order to be sure that you won’t have problems with further assignments."
   ]
  },
  {
   "cell_type": "markdown",
   "metadata": {},
   "source": [
    "### Read data into a Dataframe:"
   ]
  },
  {
   "cell_type": "code",
   "execution_count": 1,
   "metadata": {
    "scrolled": true
   },
   "outputs": [
    {
     "data": {
      "text/html": [
       "<div>\n",
       "<style>\n",
       "    .dataframe thead tr:only-child th {\n",
       "        text-align: right;\n",
       "    }\n",
       "\n",
       "    .dataframe thead th {\n",
       "        text-align: left;\n",
       "    }\n",
       "\n",
       "    .dataframe tbody tr th {\n",
       "        vertical-align: top;\n",
       "    }\n",
       "</style>\n",
       "<table border=\"1\" class=\"dataframe\">\n",
       "  <thead>\n",
       "    <tr style=\"text-align: right;\">\n",
       "      <th></th>\n",
       "      <th>CodTempo</th>\n",
       "      <th>Tempo</th>\n",
       "      <th>Indicadores</th>\n",
       "      <th>CodEspazo</th>\n",
       "      <th>Espazo</th>\n",
       "      <th>DatoN</th>\n",
       "    </tr>\n",
       "  </thead>\n",
       "  <tbody>\n",
       "    <tr>\n",
       "      <th>0</th>\n",
       "      <td>2011</td>\n",
       "      <td>2011</td>\n",
       "      <td>Taxa bruta de natalidade</td>\n",
       "      <td>1501</td>\n",
       "      <td>1501 Arzúa</td>\n",
       "      <td>5.01</td>\n",
       "    </tr>\n",
       "    <tr>\n",
       "      <th>1</th>\n",
       "      <td>2011</td>\n",
       "      <td>2011</td>\n",
       "      <td>Taxa bruta de natalidade</td>\n",
       "      <td>1502</td>\n",
       "      <td>1502 Barbanza</td>\n",
       "      <td>8.26</td>\n",
       "    </tr>\n",
       "    <tr>\n",
       "      <th>2</th>\n",
       "      <td>2011</td>\n",
       "      <td>2011</td>\n",
       "      <td>Taxa bruta de natalidade</td>\n",
       "      <td>1503</td>\n",
       "      <td>1503 A Barcala</td>\n",
       "      <td>6.37</td>\n",
       "    </tr>\n",
       "    <tr>\n",
       "      <th>3</th>\n",
       "      <td>2011</td>\n",
       "      <td>2011</td>\n",
       "      <td>Taxa bruta de natalidade</td>\n",
       "      <td>1504</td>\n",
       "      <td>1504 Bergantiños</td>\n",
       "      <td>7.35</td>\n",
       "    </tr>\n",
       "    <tr>\n",
       "      <th>4</th>\n",
       "      <td>2011</td>\n",
       "      <td>2011</td>\n",
       "      <td>Taxa bruta de natalidade</td>\n",
       "      <td>1505</td>\n",
       "      <td>1505 Betanzos</td>\n",
       "      <td>7.53</td>\n",
       "    </tr>\n",
       "  </tbody>\n",
       "</table>\n",
       "</div>"
      ],
      "text/plain": [
       "   CodTempo  Tempo               Indicadores  CodEspazo            Espazo  \\\n",
       "0      2011   2011  Taxa bruta de natalidade       1501        1501 Arzúa   \n",
       "1      2011   2011  Taxa bruta de natalidade       1502     1502 Barbanza   \n",
       "2      2011   2011  Taxa bruta de natalidade       1503    1503 A Barcala   \n",
       "3      2011   2011  Taxa bruta de natalidade       1504  1504 Bergantiños   \n",
       "4      2011   2011  Taxa bruta de natalidade       1505     1505 Betanzos   \n",
       "\n",
       "   DatoN  \n",
       "0   5.01  \n",
       "1   8.26  \n",
       "2   6.37  \n",
       "3   7.35  \n",
       "4   7.53  "
      ]
     },
     "execution_count": 1,
     "metadata": {},
     "output_type": "execute_result"
    }
   ],
   "source": [
    "import pandas as pd\n",
    "import numpy as np\n",
    "import matplotlib.pyplot as plt\n",
    "%matplotlib inline\n",
    "df=pd.read_csv(\"/Users/sergi/Desktop/MBDA/Master/Data Science Foundations/Data Science Foundations_Git/Session_6/FileData/2_hdat724.csv\", encoding = \"ISO-8859-1\")\n",
    "df.head()"
   ]
  },
  {
   "cell_type": "markdown",
   "metadata": {
    "collapsed": true
   },
   "source": [
    "## Basic statistics \n",
    "\n",
    "Sum, Cumulative sum, Count the number of non-NA values, Count the number of NA values, Minimum value of \"Taxa bruta de natalidade\", Minimum value of \"Taxa bruta de natalidade\" and Range of \"Taxa bruta de natalidade\"."
   ]
  },
  {
   "cell_type": "markdown",
   "metadata": {
    "collapsed": true
   },
   "source": [
    "> Put your code here"
   ]
  },
  {
   "cell_type": "code",
   "execution_count": 2,
   "metadata": {},
   "outputs": [
    {
     "data": {
      "text/plain": [
       "307.64"
      ]
     },
     "execution_count": 2,
     "metadata": {},
     "output_type": "execute_result"
    }
   ],
   "source": [
    "#sum\n",
    "df['DatoN'].sum()"
   ]
  },
  {
   "cell_type": "code",
   "execution_count": 3,
   "metadata": {},
   "outputs": [
    {
     "data": {
      "text/plain": [
       "0       5.01\n",
       "1      13.27\n",
       "2      19.64\n",
       "3      26.99\n",
       "4      34.52\n",
       "5      43.51\n",
       "6      50.12\n",
       "7      57.83\n",
       "8      63.49\n",
       "9      68.44\n",
       "10     74.53\n",
       "11     83.06\n",
       "12     88.21\n",
       "13     97.89\n",
       "14    105.37\n",
       "15    110.73\n",
       "16    115.59\n",
       "17    120.95\n",
       "18    122.96\n",
       "19    127.17\n",
       "20    129.02\n",
       "21    137.34\n",
       "22    144.10\n",
       "23    150.66\n",
       "24    157.16\n",
       "25    160.49\n",
       "26    163.96\n",
       "27    169.02\n",
       "28    174.60\n",
       "29    179.29\n",
       "30    183.42\n",
       "31    188.09\n",
       "32    189.53\n",
       "33    194.42\n",
       "34    200.05\n",
       "35    208.09\n",
       "36    212.01\n",
       "37       NaN\n",
       "38    215.34\n",
       "39    217.83\n",
       "40    222.92\n",
       "41    228.20\n",
       "42    230.71\n",
       "43    238.60\n",
       "44    246.77\n",
       "45    255.48\n",
       "46    261.06\n",
       "47    269.18\n",
       "48    273.35\n",
       "49    282.58\n",
       "50    291.14\n",
       "51    298.49\n",
       "52    307.64\n",
       "Name: DatoN, dtype: float64"
      ]
     },
     "execution_count": 3,
     "metadata": {},
     "output_type": "execute_result"
    }
   ],
   "source": [
    "#cumulative sum\n",
    "df['DatoN'].cumsum()"
   ]
  },
  {
   "cell_type": "code",
   "execution_count": 4,
   "metadata": {},
   "outputs": [
    {
     "data": {
      "text/plain": [
       "52"
      ]
     },
     "execution_count": 4,
     "metadata": {},
     "output_type": "execute_result"
    }
   ],
   "source": [
    "#coun the number of non-NA values\n",
    "df['DatoN'].count()"
   ]
  },
  {
   "cell_type": "code",
   "execution_count": 5,
   "metadata": {},
   "outputs": [
    {
     "data": {
      "text/plain": [
       "CodTempo       0\n",
       "Tempo          0\n",
       "Indicadores    0\n",
       "CodEspazo      0\n",
       "Espazo         0\n",
       "DatoN          1\n",
       "dtype: int64"
      ]
     },
     "execution_count": 5,
     "metadata": {},
     "output_type": "execute_result"
    }
   ],
   "source": [
    "#coun the number of NA values\n",
    "count_nan = len(df) - df.count()\n",
    "count_nan"
   ]
  },
  {
   "cell_type": "code",
   "execution_count": 6,
   "metadata": {},
   "outputs": [
    {
     "data": {
      "text/plain": [
       "1.4399999999999999"
      ]
     },
     "execution_count": 6,
     "metadata": {},
     "output_type": "execute_result"
    }
   ],
   "source": [
    "#Minimum value of \"Taxa bruta de natalidade\"\n",
    "df['DatoN'].min()"
   ]
  },
  {
   "cell_type": "code",
   "execution_count": 7,
   "metadata": {},
   "outputs": [
    {
     "data": {
      "text/plain": [
       "9.6799999999999997"
      ]
     },
     "execution_count": 7,
     "metadata": {},
     "output_type": "execute_result"
    }
   ],
   "source": [
    "#Maximum value of \"Taxa bruta de natalidade\"\n",
    "df['DatoN'].max()"
   ]
  },
  {
   "cell_type": "code",
   "execution_count": 8,
   "metadata": {},
   "outputs": [
    {
     "data": {
      "text/plain": [
       "8.2400000000000002"
      ]
     },
     "execution_count": 8,
     "metadata": {},
     "output_type": "execute_result"
    }
   ],
   "source": [
    "#Range of \"Taxa bruta de natalidade\"\n",
    "df['DatoN'].max() - df['DatoN'].min()"
   ]
  },
  {
   "cell_type": "markdown",
   "metadata": {
    "collapsed": true
   },
   "source": [
    "## Central Tendency\n",
    "\n",
    "Mean and Median."
   ]
  },
  {
   "cell_type": "markdown",
   "metadata": {},
   "source": [
    "> Put your code here"
   ]
  },
  {
   "cell_type": "code",
   "execution_count": 9,
   "metadata": {},
   "outputs": [
    {
     "data": {
      "text/plain": [
       "5.916153846153846"
      ]
     },
     "execution_count": 9,
     "metadata": {},
     "output_type": "execute_result"
    }
   ],
   "source": [
    "#mean\n",
    "df['DatoN'].mean()"
   ]
  },
  {
   "cell_type": "code",
   "execution_count": 10,
   "metadata": {},
   "outputs": [
    {
     "data": {
      "text/plain": [
       "5.605"
      ]
     },
     "execution_count": 10,
     "metadata": {},
     "output_type": "execute_result"
    }
   ],
   "source": [
    "#median\n",
    "df['DatoN'].median()"
   ]
  },
  {
   "cell_type": "markdown",
   "metadata": {},
   "source": [
    "## Measures of spread\n",
    "\n",
    "Range, Variance, Standard deviation, Q1, Q2, Q3, Box-and-whisker plots and Histogram."
   ]
  },
  {
   "cell_type": "markdown",
   "metadata": {},
   "source": [
    "> Put your code here"
   ]
  },
  {
   "cell_type": "code",
   "execution_count": 11,
   "metadata": {},
   "outputs": [
    {
     "data": {
      "text/plain": [
       "8.2400000000000002"
      ]
     },
     "execution_count": 11,
     "metadata": {},
     "output_type": "execute_result"
    }
   ],
   "source": [
    "#range\n",
    "df['DatoN'].max() - df['DatoN'].min()"
   ]
  },
  {
   "cell_type": "code",
   "execution_count": 12,
   "metadata": {},
   "outputs": [
    {
     "data": {
      "text/plain": [
       "4.4883221719457005"
      ]
     },
     "execution_count": 12,
     "metadata": {},
     "output_type": "execute_result"
    }
   ],
   "source": [
    "#variance\n",
    "df['DatoN'].var()"
   ]
  },
  {
   "cell_type": "code",
   "execution_count": 13,
   "metadata": {},
   "outputs": [
    {
     "data": {
      "text/plain": [
       "2.118566065041565"
      ]
     },
     "execution_count": 13,
     "metadata": {},
     "output_type": "execute_result"
    }
   ],
   "source": [
    "#standard deviation\n",
    "df['DatoN'].std()"
   ]
  },
  {
   "cell_type": "code",
   "execution_count": 14,
   "metadata": {},
   "outputs": [
    {
     "data": {
      "text/plain": [
       "3.0699999999999994"
      ]
     },
     "execution_count": 14,
     "metadata": {},
     "output_type": "execute_result"
    }
   ],
   "source": [
    "#Q1, #Q2, #Q3\n",
    "Q1 = df['DatoN'].quantile(0.25)\n",
    "Q3 = df['DatoN'].quantile(0.75)\n",
    "IQR = Q3 - Q1\n",
    "IQR"
   ]
  },
  {
   "cell_type": "code",
   "execution_count": 15,
   "metadata": {},
   "outputs": [
    {
     "data": {
      "text/plain": [
       "<matplotlib.axes._subplots.AxesSubplot at 0x118073c50>"
      ]
     },
     "execution_count": 15,
     "metadata": {},
     "output_type": "execute_result"
    },
    {
     "data": {
      "image/png": "[encoded data removed]",
      "text/plain": [
       "<matplotlib.figure.Figure at 0x1180735c0>"
      ]
     },
     "metadata": {},
     "output_type": "display_data"
    }
   ],
   "source": [
    "#Box and whisker plots\n",
    "df.boxplot(column='DatoN', sym='o', return_type='axes')"
   ]
  },
  {
   "cell_type": "code",
   "execution_count": 16,
   "metadata": {},
   "outputs": [
    {
     "data": {
      "text/plain": [
       "<matplotlib.axes._subplots.AxesSubplot at 0x1180d2e80>"
      ]
     },
     "execution_count": 16,
     "metadata": {},
     "output_type": "execute_result"
    },
    {
     "data": {
      "image/png": "[encoded data removed]",
      "text/plain": [
       "<matplotlib.figure.Figure at 0x11808ad30>"
      ]
     },
     "metadata": {},
     "output_type": "display_data"
    }
   ],
   "source": [
    "#histogram\n",
    "df['DatoN'].hist(bins=50)\n",
    "#plt.title(\"Taxa bruta de natalidade\")\n",
    "#plt.xlabel(\"DatoN\")\n",
    "#plt.ylabel(\"Taxa\")"
   ]
  },
  {
   "cell_type": "markdown",
   "metadata": {},
   "source": [
    "## Skewness and Kurtosis"
   ]
  },
  {
   "cell_type": "markdown",
   "metadata": {},
   "source": [
    "> Put your code here"
   ]
  },
  {
   "cell_type": "code",
   "execution_count": 17,
   "metadata": {},
   "outputs": [
    {
     "data": {
      "text/plain": [
       "-0.17447627421289474"
      ]
     },
     "execution_count": 17,
     "metadata": {},
     "output_type": "execute_result"
    }
   ],
   "source": [
    "#Skewness\n",
    "df['DatoN'].skew()"
   ]
  },
  {
   "cell_type": "code",
   "execution_count": 18,
   "metadata": {},
   "outputs": [
    {
     "data": {
      "text/plain": [
       "-0.75757633259455126"
      ]
     },
     "execution_count": 18,
     "metadata": {},
     "output_type": "execute_result"
    }
   ],
   "source": [
    "#kurtosis\n",
    "df['DatoN'].kurt()"
   ]
  },
  {
   "cell_type": "markdown",
   "metadata": {},
   "source": [
    "## Question: What are the five regions with the lowest fertility rate and which have a outlier behavior?"
   ]
  },
  {
   "cell_type": "markdown",
   "metadata": {},
   "source": [
    "> Put your code and answer here"
   ]
  },
  {
   "cell_type": "code",
   "execution_count": 22,
   "metadata": {},
   "outputs": [
    {
     "data": {
      "text/html": [
       "<div>\n",
       "<style>\n",
       "    .dataframe thead tr:only-child th {\n",
       "        text-align: right;\n",
       "    }\n",
       "\n",
       "    .dataframe thead th {\n",
       "        text-align: left;\n",
       "    }\n",
       "\n",
       "    .dataframe tbody tr th {\n",
       "        vertical-align: top;\n",
       "    }\n",
       "</style>\n",
       "<table border=\"1\" class=\"dataframe\">\n",
       "  <thead>\n",
       "    <tr style=\"text-align: right;\">\n",
       "      <th></th>\n",
       "      <th>CodTempo</th>\n",
       "      <th>Tempo</th>\n",
       "      <th>Indicadores</th>\n",
       "      <th>CodEspazo</th>\n",
       "      <th>Espazo</th>\n",
       "      <th>DatoN</th>\n",
       "      <th>daton_std</th>\n",
       "    </tr>\n",
       "  </thead>\n",
       "  <tbody>\n",
       "    <tr>\n",
       "      <th>32</th>\n",
       "      <td>2011</td>\n",
       "      <td>2011</td>\n",
       "      <td>Taxa bruta de natalidade</td>\n",
       "      <td>3202</td>\n",
       "      <td>3202 Baixa Limia</td>\n",
       "      <td>1.44</td>\n",
       "      <td>2.112822</td>\n",
       "    </tr>\n",
       "    <tr>\n",
       "      <th>20</th>\n",
       "      <td>2011</td>\n",
       "      <td>2011</td>\n",
       "      <td>Taxa bruta de natalidade</td>\n",
       "      <td>2703</td>\n",
       "      <td>2703 A Fonsagrada</td>\n",
       "      <td>1.85</td>\n",
       "      <td>1.919295</td>\n",
       "    </tr>\n",
       "    <tr>\n",
       "      <th>18</th>\n",
       "      <td>2011</td>\n",
       "      <td>2011</td>\n",
       "      <td>Taxa bruta de natalidade</td>\n",
       "      <td>2701</td>\n",
       "      <td>2701 Os Ancares</td>\n",
       "      <td>2.01</td>\n",
       "      <td>1.843772</td>\n",
       "    </tr>\n",
       "    <tr>\n",
       "      <th>39</th>\n",
       "      <td>2011</td>\n",
       "      <td>2011</td>\n",
       "      <td>Taxa bruta de natalidade</td>\n",
       "      <td>3209</td>\n",
       "      <td>3209 Terra de Trives</td>\n",
       "      <td>2.49</td>\n",
       "      <td>1.617204</td>\n",
       "    </tr>\n",
       "    <tr>\n",
       "      <th>42</th>\n",
       "      <td>2011</td>\n",
       "      <td>2011</td>\n",
       "      <td>Taxa bruta de natalidade</td>\n",
       "      <td>3212</td>\n",
       "      <td>3212 Viana</td>\n",
       "      <td>2.51</td>\n",
       "      <td>1.607764</td>\n",
       "    </tr>\n",
       "  </tbody>\n",
       "</table>\n",
       "</div>"
      ],
      "text/plain": [
       "    CodTempo  Tempo               Indicadores  CodEspazo  \\\n",
       "32      2011   2011  Taxa bruta de natalidade       3202   \n",
       "20      2011   2011  Taxa bruta de natalidade       2703   \n",
       "18      2011   2011  Taxa bruta de natalidade       2701   \n",
       "39      2011   2011  Taxa bruta de natalidade       3209   \n",
       "42      2011   2011  Taxa bruta de natalidade       3212   \n",
       "\n",
       "                  Espazo  DatoN  daton_std  \n",
       "32      3202 Baixa Limia   1.44   2.112822  \n",
       "20     2703 A Fonsagrada   1.85   1.919295  \n",
       "18       2701 Os Ancares   2.01   1.843772  \n",
       "39  3209 Terra de Trives   2.49   1.617204  \n",
       "42            3212 Viana   2.51   1.607764  "
      ]
     },
     "execution_count": 22,
     "metadata": {},
     "output_type": "execute_result"
    }
   ],
   "source": [
    "df['daton_std'] = ((df['DatoN']-df['DatoN'].mean()).apply(abs) / df['DatoN'].std())\n",
    "\n",
    "df.sort_values(by='DatoN', ascending=True).head(5)"
   ]
  },
  {
   "cell_type": "markdown",
   "metadata": {},
   "source": [
    "### All of them may have an outlier behaviour because it's standard deviation is greater that 1.5"
   ]
  },
  {
   "cell_type": "code",
   "execution_count": null,
   "metadata": {
    "collapsed": true
   },
   "outputs": [],
   "source": []
  }
 ],
 "metadata": {
  "kernelspec": {
   "display_name": "Python 3",
   "language": "python",
   "name": "python3"
  },
  "language_info": {
   "codemirror_mode": {
    "name": "ipython",
    "version": 3
   },
   "file_extension": ".py",
   "mimetype": "text/x-python",
   "name": "python",
   "nbconvert_exporter": "python",
   "pygments_lexer": "ipython3",
   "version": "3.6.3"
  }
 },
 "nbformat": 4,
 "nbformat_minor": 2
}
