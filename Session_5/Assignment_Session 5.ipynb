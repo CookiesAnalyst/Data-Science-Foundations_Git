{
 "cells": [
  {
   "cell_type": "code",
   "execution_count": 17,
   "metadata": {
    "collapsed": true
   },
   "outputs": [],
   "source": [
    "import nltk\n",
    "from nltk import word_tokenize, pos_tag, ne_chunk"
   ]
  },
  {
   "cell_type": "markdown",
   "metadata": {},
   "source": [
    "### 1.  Revise the slides to make sure that the different concepts are clear (e.g., could you tell in your own words what’s the difference between “Part-of-speech tagging” and “Name Entity Recognition”"
   ]
  },
  {
   "cell_type": "markdown",
   "metadata": {},
   "source": [
    "#### \"Part-of-speech tagging\" identifies each word with its grammatical type. On the other hand, \"Name Entity Recognition\" indentifies words with general common meanings."
   ]
  },
  {
   "cell_type": "markdown",
   "metadata": {},
   "source": [
    "### 2.  Create 10 text files with 10 lyrics from your favorite artists (or of 10 favorite songs). Open each file, removing the new line commands (to have a unique string with the whole lyrics): \n",
    "\n",
    "### with open(’lyrics.txt', 'r') as myfile:\n",
    "### data=myfile.read().replace('\\n', '’)\n",
    "\n"
   ]
  },
  {
   "cell_type": "code",
   "execution_count": 22,
   "metadata": {},
   "outputs": [
    {
     "data": {
      "text/plain": [
       "\"Dreamers They never learn They never learn Beyond, beyond the point Of no return Of no return And it's too late The damage is done The damage is done This goes Beyond me Beyond you The white room By a window Where the sun comes Through We are Just happy to serve Just happy to serve You\""
      ]
     },
     "execution_count": 22,
     "metadata": {},
     "output_type": "execute_result"
    }
   ],
   "source": [
    "myfile1 = open('/Users/sergi/Desktop/lyrics/daydreaming.txt', 'r')\n",
    "lyric1 = myfile1.read().replace('\\n', \" \")\n",
    "lyric1"
   ]
  },
  {
   "cell_type": "code",
   "execution_count": 23,
   "metadata": {},
   "outputs": [
    {
     "data": {
      "text/plain": [
       "\"Declare independence! Don't let them do that to you! Declare independence! Don't let them do that to you! (justice) Declare independence! Don't let them do that to you! Declare independence! Don't let them do that to you! (justice) Start your own currency! Make your own stamp Protect your language (justice) Declare independence Don't let them do that to you Declare independence Don't let them do that to you\""
      ]
     },
     "execution_count": 23,
     "metadata": {},
     "output_type": "execute_result"
    }
   ],
   "source": [
    "myfile2 = open('/Users/sergi/Desktop/lyrics/declareindependence.txt', 'r')\n",
    "lyric2 = myfile2.read().replace('\\n', \" \")\n",
    "lyric2"
   ]
  },
  {
   "cell_type": "code",
   "execution_count": 24,
   "metadata": {},
   "outputs": [
    {
     "data": {
      "text/plain": [
       "\"Oh, we can own the night Don't worry 'bout a thing Don't worry 'bout a thing Don't worry 'bout a thing I know we'll be alright Don't worry 'bout a thing Don't worry 'bout a thing Don't worry 'bout a thing I'll take you to the future Forget about the past You can keep all of your secrets I swear that I won't ask Let go of all your troubles, I don't care where you've been The only thing that matters now Is where the night will end Them bright big lights are shining on us That beat so tight it makes you wanna Get up get down like there's no tomorrow Like there's no tomorrow Like there's no tomorrow Oh, we can own the night Don't worry 'bout a thing Don't worry 'bout a thing Don't worry 'bout a thing I know we'll be alright Don't worry 'bout a thing Don't worry 'bout a thing Don't worry 'bout a thing Oh, we can own the night Don't worry 'bout a thing Don't worry 'bout a thing Don't worry 'bout a thing Let's get down to business And show me what you got Just keep the record spinning The music never stops You wanna live forever And reach above the stars Let's take it to next level Just light the space ship up Them bright big lights are shining on us That beat so tight it makes you wanna Get up get down like there's no tomorrow Like there's no tomorrow Like there's no tomorrow Oh, we can own the night Don't worry 'bout a thing Don't worry 'bout a thing Don't worry 'bout a thing I know we'll be alright Don't worry 'bout a thing Don't worry 'bout a thing Don't worry 'bout a thing Oh, we can own the night Don't worry 'bout a thing Don't worry 'bout a thing Don't worry 'bout a thing Yeah, on the rooftop Surrounded by the stars and the views hot Ain't nobody thinking 'bout what you got Everything's ours, wanna dip? Get a new spot Yeah, don't worry, don't worry The night never ends, no hurry no hurry Shorty look thick and the lines get blurry And the nights in your palm so we might get dirty DJ, let the beat play, make a heat wave, when you replay this Tonight we gone party like its d-day Young and free saying this the one on my CK shit The Moon is the light Sky is the ceiling The low is the base and the high is the feeling The world is the club, all in cause we can This' one for the books don't worry bout a thang Oh, we can own the night Don't worry 'bout a thing Don't worry 'bout a thing Don't worry 'bout a thing I know we'll be alright Don't worry 'bout a thing Don't worry 'bout a thing Don't worry 'bout a thing Oh, we can own the night Don't worry 'bout a thing Don't worry 'bout a thing Don't worry 'bout a thing\""
      ]
     },
     "execution_count": 24,
     "metadata": {},
     "output_type": "execute_result"
    }
   ],
   "source": [
    "myfile3 = open('/Users/sergi/Desktop/lyrics/dontworry.txt', 'r')\n",
    "lyric3 = myfile3.read().replace('\\n', \" \")\n",
    "lyric3"
   ]
  },
  {
   "cell_type": "code",
   "execution_count": 25,
   "metadata": {},
   "outputs": [
    {
     "data": {
      "text/plain": [
       "\"Every inch of sky's got a star Every inch of skin's got a scar I guess that you've got everything now Every inch of space in your head Is filled up with the things that you read I guess you've got everything now And every film that you've ever seen Fills the spaces up in your dreams That reminds me (Everything now Everything now) Every inch of road's got a sign And every boy uses the same line I pledge allegiance to everything now Every song that I've ever heard Is playing at the same time, it's absurd And it reminds me, we've got everything now We turn the speakers up till they break 'Cause every time you smile it's a fake! Stop pretending, you've got I need it (Everything now!) I want it (Everything now!) I can't live without (Everything now!) I can't live without (Everything now!) (Everything now!) Everything now Every ancient road's got a town Daddy, how come you're never around? I miss you, like everything now Mama, leave the food on the stove Leave your car in the middle of the road This happy family with everything now We turn the speakers up till they break 'Cause every time you smile it's a fake! Stop pretending, you've got I need it (Everything now!) I want it (Everything now!) I can't live without (Everything now!) I can't live without (Everything now!) (Everything now!) 'Til every room in my house is filled with shit I couldn't live without I need it (Everything now!) I can't live without (Everything now!) (Everything now!) Everything now La La La La La La La La La La La La La La Stop pretending, you've got I need it (Everything now!) I want it (Everything now!) I can't live without (Everything now!) I can't live without (Everything now!) I can't live (Everything now!) And every room in my house is filled with shit I couldn't live without (Everything now!) I need it (Everything now!) I can't live without (Everything now!) I can't live (Everything now!) Every inch of space in my heart is filled with something I'll never start The ashes of everything now And then you're black again Can't make it back again From everything now\""
      ]
     },
     "execution_count": 25,
     "metadata": {},
     "output_type": "execute_result"
    }
   ],
   "source": [
    "myfile4 = open('/Users/sergi/Desktop/lyrics/everythingnow.txt', 'r')\n",
    "lyric4 = myfile4.read().replace('\\n', \" \")\n",
    "lyric4"
   ]
  },
  {
   "cell_type": "code",
   "execution_count": 26,
   "metadata": {},
   "outputs": [
    {
     "data": {
      "text/plain": [
       "\"Let's dance in style, let's dance for a while, Heaven can wait we're only watching the skies. Hoping for the best, but expecting the worst, Are you gonna drop the bomb or not? Let us die young or let us live forever We don't have the power, but we never say never Sitting in a sandpit, life is a short trip The music's for the sad man. Can you imagine when this race is won? Turn our golden the faces into the sun, Praising our leaders, we're getting in tune The music's played by the, the madman. Forever young, I want to be forever young. Do you really want to live forever? Forever, and ever Forever young, I want to be forever young Do you really want to live forever? Forever young. Some are like water, some are like the heat Some are a melody and some are the beat Sooner or later they all will be gone Why don't they stay young? It's so hard to get old without a cause I don't want to perish like a fading horse Youth's like diamonds in the sun, And diamonds are forever So many adventures given up today, So many songs we forgot to play. So many dreams swinging out of the blue Oh let it come true. Forever young, I want to be forever young. Do you really want to live forever, Forever, and ever? Forever young, I want to be forever young. Do you really want to live forever, Forever, and ever? Forever young I want to be forever young Do you really want to live forever, Forever young\""
      ]
     },
     "execution_count": 26,
     "metadata": {},
     "output_type": "execute_result"
    }
   ],
   "source": [
    "myfile5 = open('/Users/sergi/Desktop/lyrics/foreveryoung.txt', 'r')\n",
    "lyric5 = myfile5.read().replace('\\n', \" \")\n",
    "lyric5"
   ]
  },
  {
   "cell_type": "code",
   "execution_count": 27,
   "metadata": {},
   "outputs": [
    {
     "data": {
      "text/plain": [
       "\"My girl come flip it like a Flipagram Flip it like a Flipagram Make ya bumpa flip like a Flipagram Flip it like a Flipagram Flip it like a Flipagram Gyal wine up pon mi body gyal Wine like its a carnival Gyal me love the way how you wine for me Gyal your wine is so emotional So wine up pon mi body gyal Me want you come wine your waistline for me Baby you bubblin', you bubblin', you bubblin' baby, Gyal you a party animal Gyal you active no you no lazy Gyal you a party animal To how you wine you drive me crazy Gyal you a party animal You wine so good, you just so good Gyal me love how you party She took one shot, two shot, three shot, four After 9 minutes she come back for more She take of her shoes and pon di dancefloor And she start to broke out broke out like a sore Then she approach me just like a cure Me know that she like me tonight me a score She sexy, she beautiful and she pure Gyal a you me adore Gyal wine up pon mi body gyal Wine just a carnival Gyal me love the way how you wine for me Gyal your wine is so emotional So wine up pon mi body gyal Me want you come wine your waistline for me Baby you bubblin', you bubblin', you bubblin' baby, Gyal you a party animal To how you wine you drive me crazy Gyal you a party animal Gyal you active no you no lazy Gyal you a party animal You dance so good, you just so good Gyal me love how you party Gyal ya ting bubbly, bubbly, bubbly Mi na know where ya from but ya ting bubbly God a send ya fa meet me tonight Mi a follow you morning all day No worry 'bout your friends they are with my friends After the club a party pon mi ends So gyal just flip it like a Flipagram, flip it like a Flipagram Right this moment Wine up pon mi body gyal Wine just like a carnival Gyal me love the way how you wine for me Gyal your wine is so emotional So wine up pon mi body gyal Me want you come wine your waistline for me Baby you bubblin', you bubblin, you bubblin baby, Gyal you a party animal Gyal you active no you no lazy Gyal you a party animal To how you wine you drive me crazy Gyal you a party animal You just so good, you wine so good Gyal me love how you Wine up pon me body gyal Wine just like a carnival Gyal me love the way that you wine for me Emotional Body gyal Mi want you come wine your waistline for me Bubblin', you bubblin', you bubblin' baby, Gyal you a party animal Gyal you a party animal Gyal you a party animal\""
      ]
     },
     "execution_count": 27,
     "metadata": {},
     "output_type": "execute_result"
    }
   ],
   "source": [
    "myfile6 = open('/Users/sergi/Desktop/lyrics/gyalyouapartyanimal.txt', 'r')\n",
    "lyric6 = myfile6.read().replace('\\n', \" \")\n",
    "lyric6"
   ]
  },
  {
   "cell_type": "code",
   "execution_count": 28,
   "metadata": {},
   "outputs": [
    {
     "data": {
      "text/plain": [
       "\"Yeah, uh Tell me what you really like Baby I can take my time We don't ever have to fight Just take it step-by-step I can see it in your eyes 'Cause they never tell me lies I can feel that body shake And the heat between your legs You've been scared of love and what it did to you You don't have to run, I know what you've been through Just a simple touch and it can set you free We don't have to rush when you're alone with me I feel it coming, I feel it coming, babe I feel it coming, I feel it coming, babe I feel it coming, I feel it coming, babe I feel it coming, I feel it coming, babe You are not the single type So baby, this the perfect time I'm just trying to get you high And faded off this touch You don't need a lonely night So baby, I can make it right You just got to let me try To give you what you want You've been scared of love and what it did to you You don't have to run, I know what you've been through Just a simple touch and it can set you free We don't have to rush when you're alone with me I feel it coming, I feel it coming, babe I feel it coming, I feel it coming, babe I feel it coming, I feel it coming, babe I feel it coming, I feel it coming, babe I feel it coming, I feel it coming, babe I feel it coming, I feel it coming, babe I feel it coming, I feel it coming, babe I feel it coming, I feel it coming, babe You've been scared of love and what it did to you You don't have to run, I know what you've been through Just a simple touch and it can set you free We don't have to rush when you're alone with me I feel it coming, I feel it coming, babe I feel it coming, I feel it coming, babe (I know what you feel right now) I feel it coming, I feel it coming, babe I feel it coming, I feel it coming, babe (I know what you feel right now) I feel it coming, I feel it coming, babe I feel it coming, I feel it coming, babe (I know what you feel right now) I feel it coming, I feel it coming, babe I feel it coming, I feel it coming, babe I feel it coming, babe I feel it coming, babe I feel it coming, babe I feel it coming, babe\""
      ]
     },
     "execution_count": 28,
     "metadata": {},
     "output_type": "execute_result"
    }
   ],
   "source": [
    "myfile7 = open('/Users/sergi/Desktop/lyrics/ifeelitcoming.txt', 'r')\n",
    "lyric7 = myfile7.read().replace('\\n', \" \")\n",
    "lyric7"
   ]
  },
  {
   "cell_type": "code",
   "execution_count": 29,
   "metadata": {},
   "outputs": [
    {
     "data": {
      "text/plain": [
       "\"Can't you see I'm trying? I don't even like it. I just lied to Get to your apartment, now I'm staying Here just for a while I can't think 'cause I'm just way too tired Is this it? Is this it? Is this... it? Said they'd give you anything you ever wanted When they lied, I knew it was just stable children Trying hard not to realize I was sitting right behind them Oh dear, can't you see? It's them it's not me We're not enemies; We just disagree If I was like him all pissed in this bar He changes his mind, says I went too far We all disagree I think we should disagree, yeah Is this it Is this it Is this it Can't you see I'm trying? I don't even like it. I just lied to Get to your apartment, now I'm staying Here just for a while I can't think 'cause I'm just way too tired\""
      ]
     },
     "execution_count": 29,
     "metadata": {},
     "output_type": "execute_result"
    }
   ],
   "source": [
    "myfile8 = open('/Users/sergi/Desktop/lyrics/isthisit.txt', 'r')\n",
    "lyric8 = myfile8.read().replace('\\n', \" \")\n",
    "lyric8"
   ]
  },
  {
   "cell_type": "code",
   "execution_count": 30,
   "metadata": {},
   "outputs": [
    {
     "data": {
      "text/plain": [
       "\"The club isn't the best place to find a lover So the bar is where I go (mmmm) Me and my friends at the table doing shots Drinking fast and then we talk slow (mmmm) And you come over and start up a conversation with just me And trust me I'll give it a chance now (mmmm) Take my hand, stop, put Van The Man on the jukebox And then we start to dance And now I'm singing like Girl, you know I want your love Your love was handmade for somebody like me Come on now, follow my lead I may be crazy, don't mind me Say, boy, let's not talk too much Grab on my waist and put that body on me Come on now, follow my lead Come, come on now, follow my lead (mmmm) I'm in love with the shape of you We push and pull like a magnet do Although my heart is falling too I'm in love with your body Last night you were in my room And now my bedsheets smell like you Every day discovering something brand new I'm in love with your body Oh I oh I oh I oh I I'm in love with your body Oh I oh I oh I oh I I'm in love with your body Oh I oh I oh I oh I I'm in love with your body Every day discovering something brand new I'm in love with the shape of you One week in we let the story begin We're going out on our first date (mmmm) You and me are thrifty, so go all you can eat Fill up your bag and I fill up a plate (mmmm) We talk for hours and hours about the sweet and the sour And how your family is doing okay (mmmm) And leave and get in a taxi, then kiss in the backseat Tell the driver make the radio play And I'm singing like Girl, you know I want your love Your love was handmade for somebody like me Come on now, follow my lead I may be crazy, don't mind me Say, boy, let's not talk too much Grab on my waist and put that body on me Come on now, follow my lead Come, come on now, follow my lead (mmmm) I'm in love with the shape of you We push and pull like a magnet do Although my heart is falling too I'm in love with your body Last night you were in my room And now my bedsheets smell like you Every day discovering something brand new I'm in love with your body Oh I oh I oh I oh I I'm in love with your body Oh I oh I oh I oh I I'm in love with your body Oh I oh I oh I oh I I'm in love with your body Every day discovering something brand new I'm in love with the shape of you Come on, be my baby, come on Come on, be my baby, come on Come on, be my baby, come on Come on, be my baby, come on Come on, be my baby, come on Come on, be my baby, come on Come on, be my baby, come on Come on, be my baby, come on I'm in love with the shape of you We push and pull like a magnet do Although my heart is falling too I'm in love with your body Last night you were in my room And now my bedsheets smell like you Every day discovering something brand new I'm in love with your body Come on, be my baby, come on Come on, be my baby, come on I'm in love with your body Come on, be my baby, come on Come on, be my baby, come on I'm in love with your body Come on, be my baby, come on Come on, be my baby, come on I'm in love with your body Every day discovering something brand new I'm in love with the shape of you\""
      ]
     },
     "execution_count": 30,
     "metadata": {},
     "output_type": "execute_result"
    }
   ],
   "source": [
    "myfile9 = open('/Users/sergi/Desktop/lyrics/shapeofyou.txt', 'r')\n",
    "lyric9 = myfile9.read().replace('\\n', \" \")\n",
    "lyric9"
   ]
  },
  {
   "cell_type": "code",
   "execution_count": 32,
   "metadata": {},
   "outputs": [
    {
     "data": {
      "text/plain": [
       "\"Here I go out to sea again The sunshine fills my hair And dreams hang in the air Gulls in the sky and in my blue eyes You know it feels unfair There's magic everywhere Look at me standing Here on my own again Up straight in the sunshine No need to run and hide It's a wonderful, wonderful life No need to laugh and cry It's a wonderful, wonderful life Sun in your eyes The heat is in your hair They seem to hate you Because you're there And I need a friend Oh, I need a friend To make me happy Not stand here on my own Look at me standing Here on my own again Up straight in the sunshine\""
      ]
     },
     "execution_count": 32,
     "metadata": {},
     "output_type": "execute_result"
    }
   ],
   "source": [
    "myfile10 = open('/Users/sergi/Desktop/lyrics/wonderfullife.txt', 'r')\n",
    "lyric10 = myfile10.read().replace('\\n', \" \")\n",
    "lyric10"
   ]
  },
  {
   "cell_type": "markdown",
   "metadata": {},
   "source": [
    "### 2.a.  Provide 5 examples of salient words"
   ]
  },
  {
   "cell_type": "code",
   "execution_count": 33,
   "metadata": {},
   "outputs": [
    {
     "name": "stdout",
     "output_type": "stream",
     "text": [
      "{'at', 'race', 'seem', 'then', 'tight', 'na', 'done', 'are', 'were', 'that', 'imagine', 'Your', 'Let', 'shoes', 'thing', 'Not', 'care', 'try', 'fast', 'justice', 'reach', 'Oh', 'time', 'no', 'laugh', 'she', 'Declare', 'pull', 'changes', 'songs', 'currency', 'discovering', 'Through', 'approach', 'without', 'first', 'night', 'hang', 'No', 'sour', 'adore', 'can', 'party', 'yeah', 'room', '...', 'of', 'heart', 'okay', 'up', 'nights', 'you', \"'ll\", 'Flip', 'Get', 'wanted', 'It', 'wait', 'off', 'ship', 'serve', 'Emotional', 'spinning', 'love', 'far', 'let', 'Just', 'should', 'Are', 'spot', 'Baby', 'begin', 'Heaven', 'unfair', 'will', 'find', 'above', 'blurry', 'playing', 'till', 'pure', 'three', 'hand', 'Mi', 'shake', 'hate', 'Do', 'but', 'alright', 'could', 'song', 'hours', 'ya', 'Ai', 'today', 'was', 'driver', 'lonely', 'Body', 'perfect', 'mi', 'end', 'brand', 'in', 'stop', 'jukebox', 'swinging', 'There', 'by', 'comes', 'day', 'ceiling', 'uh', 'it', 'getting', 'line', 'to', 'trip', 'back', 'bomb', 'CK', 'legs', 'pretending', 'way', 'sweet', 'replay', \"'Cause\", 'waistline', 'two', 'light', 'fa', 'bout', 'coming', 'stars', 'emotional', 'out', 'its', 'me', 'allegiance', 'do', 'worst', 'makes', 'shape', 'is', '9', 'never', 'Surrounded', 'wave', 'Because', 'One', 'faded', 'push', 'business', 'her', 'everywhere', 'drop', 'flip', 'From', 'too', 'stops', 'sun', 'Wine', 'show', 'fills', 'matters', 'Grab', 'Tonight', \"'Til\", 'Come', 'Praising', 'read', 'tune', 'mind', 'views', 'expecting', 'good', 'falling', 'run', 'with', 'dreams', 'Moon', 'heard', 'go', 'diamonds', 'meet', 'talk', 'staying', 'forever', 'chance', 'got', 'while', 'want', 'He', 'When', \"n't\", 'books', 'Dreamers', 'boy', 'blue', 'Where', 'bar', 'Girl', 'wo', 'stay', 'thick', 'every', 'Man', 'club', 'radio', 'trust', 'about', 'filled', 'played', 'between', 'hard', 'Here', 'lazy', 'us', 'Sitting', 'some', 'past', 'wonderful', 'God', 'scar', 'into', 'going', 'beat', 'low', 'leaders', 'cure', 'when', 'Turn', 'crazy', 'oh', 'If', 'behind', 'magic', 'bumpa', 'Mama', 'Everything', 'uses', 'later', 'bright', 'troubles', 'Me', \"'\", 'pissed', 'sandpit', 'body', 'score', 'more', 'melody', 'lied', 'single', 'tonight', \"'m\", 'Last', 'get', 'there', 'fill', 'standing', 'story', 'same', 'smile', 'reminds', 'thrifty', 'space', 'My', 'rooftop', 'palm', 'week', 'fading', 'cause', 'Said', 'I', 'minutes', 'touch', 'late', 'feels', 'Right', 'middle', 'been', 'set', 'waist', 'bedsheets', 'sign', 'down', '(', 'need', 'dirty', 'di', 'Tell', 'kiss', 'own', 'language', 'Every', 'cry', 'take', 'absurd', 'new', 'true', 'high', 'lines', 'many', 'knew', 'base', 'won', 'golden', 'here', 'simple', 'table', 'lead', 'singing', '?', 'ashes', 'Sooner', 'Of', 'tell', 'see', 'did', 'what', 'Forever', 'wan', 'Youth', 'tomorrow', 'only', 'bubbly', 'be', 'or', 'we', 'something', 'star', 'apartment', 'hide', 'You', 'now', 'beyond', 'handmade', 'know', 'him', 'his', 'heat', 'moment', 'baby', 'water', 'town', 'Bubblin', 'die', 'Although', 'given', 'Make', 'air', 'Yeah', \"'bout\", 'lights', 'That', 'level', 'things', 'madman', 'shot', 'old', 'everything', 'around', 'eyes', 'start', 'scared', 'right', 'put', 'pon', 'Gyal', 'seen', 'best', 'Fill', 'next', ',', 'stable', 'think', 'beautiful', 'like', 'future', 'short', 'They', 'conversation', 'Drinking', \"'s\", 'hot', 'Beyond', 'house', 'skin', 'tired', 'goes', 'Take', 'wine', 'may', 'fight', 'Them', 'Sun', 'mmmm', 'how', 'disagree', 'shit', 'horse', 'forgot', 'send', 'look', 'lies', 'Protect', 'babe', 'Fills', 'big', 'road', 'world', 'type', 'come', 'Ca', 'Then', 'inch', 'Young', 'Is', 'power', 'life', 'play', 'ask', 'ever', 'trying', 'happy', 'guess', 'window', 'place', 'head', 'one', 'for', \"'re\", 'active', 'carnival', 'Look', 'Up', 'not', 'lover', 'To', \"'cause\", 'hurry', 'Shorty', 'DJ', 'from', 'slow', 'ours', 'took', 'sunshine', 'Stop', 'dear', 'a', 'Some', 'sexy', 'Say', 'morning', 'speakers', 'young', 'damage', 'watching', 'saying', 'record', 'Gulls', 'over', '.', 'd-day', 'After', 'So', 'where', 'fake', 'Can', 'Like', 'pledge', 'make', 'sitting', 'faces', 'my', 'swear', 'dancefloor', 'might', 'dance', 'return', 'backseat', 'all', 'By', 'eat', 'children', 'ends', 'enemies', 'says', 'Hoping', 'friend', 'stamp', 'thang', 'even', 'animal', 'so', 'doing', 'turn', 'have', 'stand', 'on', 'ca', 'learn', 'Daddy', 'leave', 'The', 'sore', 'nobody', ')', 'they', 'stove', 'the', 'family', 'food', 'alone', 'car', 'free', 'date', 'just', 'Start', 'Trying', 'worry', 'skies', 'shots', 'black', 'independence', 'spaces', 'bubblin', 'style', 'gone', 'anything', 'shining', 'gon', 'Sky', 'friends', \"'ve\", 'ancient', 'them', 'point', 'much', 'thinking', ';', 'Van', 'This', 'gyal', 'ting', 'And', 'music', 'adventures', 'drive', 'broke', 'this', 'live', 'dip', 'realize', 'feeling', 'rush', 'follow', 'say', 'We', 'straight', 'step-by-step', 'girl', 'She', 'four', 'smell', 'and', 'bag', 'magnet', 'break', 'La', 'Why', 'white', 'sea', 'hair', 'went', 'man', 'film', 'Forget', '!', 'your', 'feel', \"'d\", 'taxi', 'keep', 'plate', 'our', 'through', 'miss', 'really', 'give', 'again', 'secrets', 'Flipagram', 'Leave', 'sky', 'somebody', 'sad', 'perish'}\n"
     ]
    }
   ],
   "source": [
    "all_lyrics = [lyric1, lyric2, lyric3, lyric4, lyric5, lyric6, lyric7, lyric8, lyric9, lyric10]\n",
    "tokenized_lyrics = [word_tokenize(d) for d in all_lyrics] # tokenized lyrics\n",
    "all_tokens_set = set([item for sublist in tokenized_lyrics for item in sublist])\n",
    "print(all_tokens_set)"
   ]
  },
  {
   "cell_type": "code",
   "execution_count": 35,
   "metadata": {
    "collapsed": true
   },
   "outputs": [],
   "source": [
    "def term_frequency(term, tokenized_document):\n",
    "    return tokenized_document.count(term)"
   ]
  },
  {
   "cell_type": "code",
   "execution_count": 40,
   "metadata": {},
   "outputs": [
    {
     "ename": "TypeError",
     "evalue": "term_frequency() missing 2 required positional arguments: 'term' and 'tokenized_document'",
     "output_type": "error",
     "traceback": [
      "\u001b[0;31m---------------------------------------------------------------------------\u001b[0m",
      "\u001b[0;31mTypeError\u001b[0m                                 Traceback (most recent call last)",
      "\u001b[0;32m<ipython-input-40-a72a1772402a>\u001b[0m in \u001b[0;36m<module>\u001b[0;34m()\u001b[0m\n\u001b[0;32m----> 1\u001b[0;31m \u001b[0mterm_frequency\u001b[0m\u001b[0;34m(\u001b[0m\u001b[0;34m)\u001b[0m\u001b[0;34m\u001b[0m\u001b[0m\n\u001b[0m",
      "\u001b[0;31mTypeError\u001b[0m: term_frequency() missing 2 required positional arguments: 'term' and 'tokenized_document'"
     ]
    }
   ],
   "source": [
    "term_frequency()"
   ]
  },
  {
   "cell_type": "code",
   "execution_count": null,
   "metadata": {
    "collapsed": true
   },
   "outputs": [],
   "source": []
  },
  {
   "cell_type": "code",
   "execution_count": null,
   "metadata": {
    "collapsed": true
   },
   "outputs": [],
   "source": []
  },
  {
   "cell_type": "code",
   "execution_count": null,
   "metadata": {
    "collapsed": true
   },
   "outputs": [],
   "source": []
  },
  {
   "cell_type": "code",
   "execution_count": null,
   "metadata": {
    "collapsed": true
   },
   "outputs": [],
   "source": []
  },
  {
   "cell_type": "code",
   "execution_count": null,
   "metadata": {
    "collapsed": true
   },
   "outputs": [],
   "source": []
  },
  {
   "cell_type": "code",
   "execution_count": null,
   "metadata": {
    "collapsed": true
   },
   "outputs": [],
   "source": []
  },
  {
   "cell_type": "code",
   "execution_count": null,
   "metadata": {
    "collapsed": true
   },
   "outputs": [],
   "source": []
  },
  {
   "cell_type": "code",
   "execution_count": null,
   "metadata": {
    "collapsed": true
   },
   "outputs": [],
   "source": []
  },
  {
   "cell_type": "code",
   "execution_count": null,
   "metadata": {
    "collapsed": true
   },
   "outputs": [],
   "source": []
  },
  {
   "cell_type": "markdown",
   "metadata": {},
   "source": [
    "### 2.b.  Compute the TF-IDF score of each lyric"
   ]
  },
  {
   "cell_type": "code",
   "execution_count": null,
   "metadata": {
    "collapsed": true
   },
   "outputs": [],
   "source": []
  }
 ],
 "metadata": {
  "kernelspec": {
   "display_name": "Python 3",
   "language": "python",
   "name": "python3"
  },
  "language_info": {
   "codemirror_mode": {
    "name": "ipython",
    "version": 3
   },
   "file_extension": ".py",
   "mimetype": "text/x-python",
   "name": "python",
   "nbconvert_exporter": "python",
   "pygments_lexer": "ipython3",
   "version": "3.6.1"
  }
 },
 "nbformat": 4,
 "nbformat_minor": 2
}
