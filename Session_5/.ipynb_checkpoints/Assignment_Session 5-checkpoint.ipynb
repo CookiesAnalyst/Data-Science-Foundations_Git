{
 "cells": [
  {
   "cell_type": "code",
   "execution_count": 1,
   "metadata": {
    "collapsed": true
   },
   "outputs": [],
   "source": [
    "import nltk\n",
    "from nltk import word_tokenize, pos_tag, ne_chunk"
   ]
  },
  {
   "cell_type": "markdown",
   "metadata": {},
   "source": [
    "### 1.  Revise the slides to make sure that the different concepts are clear (e.g., could you tell in your own words what’s the difference between “Part-of-speech tagging” and “Name Entity Recognition”"
   ]
  },
  {
   "cell_type": "markdown",
   "metadata": {},
   "source": [
    "#### \"Part-of-speech tagging\" identifies each word with its grammatical type. On the other hand, \"Name Entity Recognition\" indentifies words with general common meanings."
   ]
  },
  {
   "cell_type": "markdown",
   "metadata": {},
   "source": [
    "### 2.  Create 10 text files with 10 lyrics from your favorite artists (or of 10 favorite songs). Open each file, removing the new line commands (to have a unique string with the whole lyrics): \n",
    "\n",
    "### with open(’lyrics.txt', 'r') as myfile:\n",
    "### data=myfile.read().replace('\\n', '’)\n",
    "\n"
   ]
  },
  {
   "cell_type": "code",
   "execution_count": 2,
   "metadata": {},
   "outputs": [
    {
     "data": {
      "text/plain": [
       "\"Dreamers They never learn They never learn Beyond, beyond the point Of no return Of no return And it's too late The damage is done The damage is done This goes Beyond me Beyond you The white room By a window Where the sun comes Through We are Just happy to serve Just happy to serve You\""
      ]
     },
     "execution_count": 2,
     "metadata": {},
     "output_type": "execute_result"
    }
   ],
   "source": [
    "myfile1 = open('/Users/sergi/Desktop/lyrics/daydreaming.txt', 'r')\n",
    "lyric1 = myfile1.read().replace('\\n', \" \")\n",
    "lyric1"
   ]
  },
  {
   "cell_type": "code",
   "execution_count": 3,
   "metadata": {},
   "outputs": [
    {
     "data": {
      "text/plain": [
       "\"Declare independence! Don't let them do that to you! Declare independence! Don't let them do that to you! (justice) Declare independence! Don't let them do that to you! Declare independence! Don't let them do that to you! (justice) Start your own currency! Make your own stamp Protect your language (justice) Declare independence Don't let them do that to you Declare independence Don't let them do that to you\""
      ]
     },
     "execution_count": 3,
     "metadata": {},
     "output_type": "execute_result"
    }
   ],
   "source": [
    "myfile2 = open('/Users/sergi/Desktop/lyrics/declareindependence.txt', 'r')\n",
    "lyric2 = myfile2.read().replace('\\n', \" \")\n",
    "lyric2"
   ]
  },
  {
   "cell_type": "code",
   "execution_count": 4,
   "metadata": {},
   "outputs": [
    {
     "data": {
      "text/plain": [
       "\"Oh, we can own the night Don't worry 'bout a thing Don't worry 'bout a thing Don't worry 'bout a thing I know we'll be alright Don't worry 'bout a thing Don't worry 'bout a thing Don't worry 'bout a thing I'll take you to the future Forget about the past You can keep all of your secrets I swear that I won't ask Let go of all your troubles, I don't care where you've been The only thing that matters now Is where the night will end Them bright big lights are shining on us That beat so tight it makes you wanna Get up get down like there's no tomorrow Like there's no tomorrow Like there's no tomorrow Oh, we can own the night Don't worry 'bout a thing Don't worry 'bout a thing Don't worry 'bout a thing I know we'll be alright Don't worry 'bout a thing Don't worry 'bout a thing Don't worry 'bout a thing Oh, we can own the night Don't worry 'bout a thing Don't worry 'bout a thing Don't worry 'bout a thing Let's get down to business And show me what you got Just keep the record spinning The music never stops You wanna live forever And reach above the stars Let's take it to next level Just light the space ship up Them bright big lights are shining on us That beat so tight it makes you wanna Get up get down like there's no tomorrow Like there's no tomorrow Like there's no tomorrow Oh, we can own the night Don't worry 'bout a thing Don't worry 'bout a thing Don't worry 'bout a thing I know we'll be alright Don't worry 'bout a thing Don't worry 'bout a thing Don't worry 'bout a thing Oh, we can own the night Don't worry 'bout a thing Don't worry 'bout a thing Don't worry 'bout a thing Yeah, on the rooftop Surrounded by the stars and the views hot Ain't nobody thinking 'bout what you got Everything's ours, wanna dip? Get a new spot Yeah, don't worry, don't worry The night never ends, no hurry no hurry Shorty look thick and the lines get blurry And the nights in your palm so we might get dirty DJ, let the beat play, make a heat wave, when you replay this Tonight we gone party like its d-day Young and free saying this the one on my CK shit The Moon is the light Sky is the ceiling The low is the base and the high is the feeling The world is the club, all in cause we can This' one for the books don't worry bout a thang Oh, we can own the night Don't worry 'bout a thing Don't worry 'bout a thing Don't worry 'bout a thing I know we'll be alright Don't worry 'bout a thing Don't worry 'bout a thing Don't worry 'bout a thing Oh, we can own the night Don't worry 'bout a thing Don't worry 'bout a thing Don't worry 'bout a thing\""
      ]
     },
     "execution_count": 4,
     "metadata": {},
     "output_type": "execute_result"
    }
   ],
   "source": [
    "myfile3 = open('/Users/sergi/Desktop/lyrics/dontworry.txt', 'r')\n",
    "lyric3 = myfile3.read().replace('\\n', \" \")\n",
    "lyric3"
   ]
  },
  {
   "cell_type": "code",
   "execution_count": 5,
   "metadata": {},
   "outputs": [
    {
     "data": {
      "text/plain": [
       "\"Every inch of sky's got a star Every inch of skin's got a scar I guess that you've got everything now Every inch of space in your head Is filled up with the things that you read I guess you've got everything now And every film that you've ever seen Fills the spaces up in your dreams That reminds me (Everything now Everything now) Every inch of road's got a sign And every boy uses the same line I pledge allegiance to everything now Every song that I've ever heard Is playing at the same time, it's absurd And it reminds me, we've got everything now We turn the speakers up till they break 'Cause every time you smile it's a fake! Stop pretending, you've got I need it (Everything now!) I want it (Everything now!) I can't live without (Everything now!) I can't live without (Everything now!) (Everything now!) Everything now Every ancient road's got a town Daddy, how come you're never around? I miss you, like everything now Mama, leave the food on the stove Leave your car in the middle of the road This happy family with everything now We turn the speakers up till they break 'Cause every time you smile it's a fake! Stop pretending, you've got I need it (Everything now!) I want it (Everything now!) I can't live without (Everything now!) I can't live without (Everything now!) (Everything now!) 'Til every room in my house is filled with shit I couldn't live without I need it (Everything now!) I can't live without (Everything now!) (Everything now!) Everything now La La La La La La La La La La La La La La Stop pretending, you've got I need it (Everything now!) I want it (Everything now!) I can't live without (Everything now!) I can't live without (Everything now!) I can't live (Everything now!) And every room in my house is filled with shit I couldn't live without (Everything now!) I need it (Everything now!) I can't live without (Everything now!) I can't live (Everything now!) Every inch of space in my heart is filled with something I'll never start The ashes of everything now And then you're black again Can't make it back again From everything now\""
      ]
     },
     "execution_count": 5,
     "metadata": {},
     "output_type": "execute_result"
    }
   ],
   "source": [
    "myfile4 = open('/Users/sergi/Desktop/lyrics/everythingnow.txt', 'r')\n",
    "lyric4 = myfile4.read().replace('\\n', \" \")\n",
    "lyric4"
   ]
  },
  {
   "cell_type": "code",
   "execution_count": 6,
   "metadata": {},
   "outputs": [
    {
     "data": {
      "text/plain": [
       "\"Let's dance in style, let's dance for a while, Heaven can wait we're only watching the skies. Hoping for the best, but expecting the worst, Are you gonna drop the bomb or not? Let us die young or let us live forever We don't have the power, but we never say never Sitting in a sandpit, life is a short trip The music's for the sad man. Can you imagine when this race is won? Turn our golden the faces into the sun, Praising our leaders, we're getting in tune The music's played by the, the madman. Forever young, I want to be forever young. Do you really want to live forever? Forever, and ever Forever young, I want to be forever young Do you really want to live forever? Forever young. Some are like water, some are like the heat Some are a melody and some are the beat Sooner or later they all will be gone Why don't they stay young? It's so hard to get old without a cause I don't want to perish like a fading horse Youth's like diamonds in the sun, And diamonds are forever So many adventures given up today, So many songs we forgot to play. So many dreams swinging out of the blue Oh let it come true. Forever young, I want to be forever young. Do you really want to live forever, Forever, and ever? Forever young, I want to be forever young. Do you really want to live forever, Forever, and ever? Forever young I want to be forever young Do you really want to live forever, Forever young\""
      ]
     },
     "execution_count": 6,
     "metadata": {},
     "output_type": "execute_result"
    }
   ],
   "source": [
    "myfile5 = open('/Users/sergi/Desktop/lyrics/foreveryoung.txt', 'r')\n",
    "lyric5 = myfile5.read().replace('\\n', \" \")\n",
    "lyric5"
   ]
  },
  {
   "cell_type": "code",
   "execution_count": 7,
   "metadata": {},
   "outputs": [
    {
     "data": {
      "text/plain": [
       "\"My girl come flip it like a Flipagram Flip it like a Flipagram Make ya bumpa flip like a Flipagram Flip it like a Flipagram Flip it like a Flipagram Gyal wine up pon mi body gyal Wine like its a carnival Gyal me love the way how you wine for me Gyal your wine is so emotional So wine up pon mi body gyal Me want you come wine your waistline for me Baby you bubblin', you bubblin', you bubblin' baby, Gyal you a party animal Gyal you active no you no lazy Gyal you a party animal To how you wine you drive me crazy Gyal you a party animal You wine so good, you just so good Gyal me love how you party She took one shot, two shot, three shot, four After 9 minutes she come back for more She take of her shoes and pon di dancefloor And she start to broke out broke out like a sore Then she approach me just like a cure Me know that she like me tonight me a score She sexy, she beautiful and she pure Gyal a you me adore Gyal wine up pon mi body gyal Wine just a carnival Gyal me love the way how you wine for me Gyal your wine is so emotional So wine up pon mi body gyal Me want you come wine your waistline for me Baby you bubblin', you bubblin', you bubblin' baby, Gyal you a party animal To how you wine you drive me crazy Gyal you a party animal Gyal you active no you no lazy Gyal you a party animal You dance so good, you just so good Gyal me love how you party Gyal ya ting bubbly, bubbly, bubbly Mi na know where ya from but ya ting bubbly God a send ya fa meet me tonight Mi a follow you morning all day No worry 'bout your friends they are with my friends After the club a party pon mi ends So gyal just flip it like a Flipagram, flip it like a Flipagram Right this moment Wine up pon mi body gyal Wine just like a carnival Gyal me love the way how you wine for me Gyal your wine is so emotional So wine up pon mi body gyal Me want you come wine your waistline for me Baby you bubblin', you bubblin, you bubblin baby, Gyal you a party animal Gyal you active no you no lazy Gyal you a party animal To how you wine you drive me crazy Gyal you a party animal You just so good, you wine so good Gyal me love how you Wine up pon me body gyal Wine just like a carnival Gyal me love the way that you wine for me Emotional Body gyal Mi want you come wine your waistline for me Bubblin', you bubblin', you bubblin' baby, Gyal you a party animal Gyal you a party animal Gyal you a party animal\""
      ]
     },
     "execution_count": 7,
     "metadata": {},
     "output_type": "execute_result"
    }
   ],
   "source": [
    "myfile6 = open('/Users/sergi/Desktop/lyrics/gyalyouapartyanimal.txt', 'r')\n",
    "lyric6 = myfile6.read().replace('\\n', \" \")\n",
    "lyric6"
   ]
  },
  {
   "cell_type": "code",
   "execution_count": 8,
   "metadata": {},
   "outputs": [
    {
     "data": {
      "text/plain": [
       "\"Yeah, uh Tell me what you really like Baby I can take my time We don't ever have to fight Just take it step-by-step I can see it in your eyes 'Cause they never tell me lies I can feel that body shake And the heat between your legs You've been scared of love and what it did to you You don't have to run, I know what you've been through Just a simple touch and it can set you free We don't have to rush when you're alone with me I feel it coming, I feel it coming, babe I feel it coming, I feel it coming, babe I feel it coming, I feel it coming, babe I feel it coming, I feel it coming, babe You are not the single type So baby, this the perfect time I'm just trying to get you high And faded off this touch You don't need a lonely night So baby, I can make it right You just got to let me try To give you what you want You've been scared of love and what it did to you You don't have to run, I know what you've been through Just a simple touch and it can set you free We don't have to rush when you're alone with me I feel it coming, I feel it coming, babe I feel it coming, I feel it coming, babe I feel it coming, I feel it coming, babe I feel it coming, I feel it coming, babe I feel it coming, I feel it coming, babe I feel it coming, I feel it coming, babe I feel it coming, I feel it coming, babe I feel it coming, I feel it coming, babe You've been scared of love and what it did to you You don't have to run, I know what you've been through Just a simple touch and it can set you free We don't have to rush when you're alone with me I feel it coming, I feel it coming, babe I feel it coming, I feel it coming, babe (I know what you feel right now) I feel it coming, I feel it coming, babe I feel it coming, I feel it coming, babe (I know what you feel right now) I feel it coming, I feel it coming, babe I feel it coming, I feel it coming, babe (I know what you feel right now) I feel it coming, I feel it coming, babe I feel it coming, I feel it coming, babe I feel it coming, babe I feel it coming, babe I feel it coming, babe I feel it coming, babe\""
      ]
     },
     "execution_count": 8,
     "metadata": {},
     "output_type": "execute_result"
    }
   ],
   "source": [
    "myfile7 = open('/Users/sergi/Desktop/lyrics/ifeelitcoming.txt', 'r')\n",
    "lyric7 = myfile7.read().replace('\\n', \" \")\n",
    "lyric7"
   ]
  },
  {
   "cell_type": "code",
   "execution_count": 9,
   "metadata": {},
   "outputs": [
    {
     "data": {
      "text/plain": [
       "\"Can't you see I'm trying? I don't even like it. I just lied to Get to your apartment, now I'm staying Here just for a while I can't think 'cause I'm just way too tired Is this it? Is this it? Is this... it? Said they'd give you anything you ever wanted When they lied, I knew it was just stable children Trying hard not to realize I was sitting right behind them Oh dear, can't you see? It's them it's not me We're not enemies; We just disagree If I was like him all pissed in this bar He changes his mind, says I went too far We all disagree I think we should disagree, yeah Is this it Is this it Is this it Can't you see I'm trying? I don't even like it. I just lied to Get to your apartment, now I'm staying Here just for a while I can't think 'cause I'm just way too tired\""
      ]
     },
     "execution_count": 9,
     "metadata": {},
     "output_type": "execute_result"
    }
   ],
   "source": [
    "myfile8 = open('/Users/sergi/Desktop/lyrics/isthisit.txt', 'r')\n",
    "lyric8 = myfile8.read().replace('\\n', \" \")\n",
    "lyric8"
   ]
  },
  {
   "cell_type": "code",
   "execution_count": 10,
   "metadata": {},
   "outputs": [
    {
     "data": {
      "text/plain": [
       "\"The club isn't the best place to find a lover So the bar is where I go (mmmm) Me and my friends at the table doing shots Drinking fast and then we talk slow (mmmm) And you come over and start up a conversation with just me And trust me I'll give it a chance now (mmmm) Take my hand, stop, put Van The Man on the jukebox And then we start to dance And now I'm singing like Girl, you know I want your love Your love was handmade for somebody like me Come on now, follow my lead I may be crazy, don't mind me Say, boy, let's not talk too much Grab on my waist and put that body on me Come on now, follow my lead Come, come on now, follow my lead (mmmm) I'm in love with the shape of you We push and pull like a magnet do Although my heart is falling too I'm in love with your body Last night you were in my room And now my bedsheets smell like you Every day discovering something brand new I'm in love with your body Oh I oh I oh I oh I I'm in love with your body Oh I oh I oh I oh I I'm in love with your body Oh I oh I oh I oh I I'm in love with your body Every day discovering something brand new I'm in love with the shape of you One week in we let the story begin We're going out on our first date (mmmm) You and me are thrifty, so go all you can eat Fill up your bag and I fill up a plate (mmmm) We talk for hours and hours about the sweet and the sour And how your family is doing okay (mmmm) And leave and get in a taxi, then kiss in the backseat Tell the driver make the radio play And I'm singing like Girl, you know I want your love Your love was handmade for somebody like me Come on now, follow my lead I may be crazy, don't mind me Say, boy, let's not talk too much Grab on my waist and put that body on me Come on now, follow my lead Come, come on now, follow my lead (mmmm) I'm in love with the shape of you We push and pull like a magnet do Although my heart is falling too I'm in love with your body Last night you were in my room And now my bedsheets smell like you Every day discovering something brand new I'm in love with your body Oh I oh I oh I oh I I'm in love with your body Oh I oh I oh I oh I I'm in love with your body Oh I oh I oh I oh I I'm in love with your body Every day discovering something brand new I'm in love with the shape of you Come on, be my baby, come on Come on, be my baby, come on Come on, be my baby, come on Come on, be my baby, come on Come on, be my baby, come on Come on, be my baby, come on Come on, be my baby, come on Come on, be my baby, come on I'm in love with the shape of you We push and pull like a magnet do Although my heart is falling too I'm in love with your body Last night you were in my room And now my bedsheets smell like you Every day discovering something brand new I'm in love with your body Come on, be my baby, come on Come on, be my baby, come on I'm in love with your body Come on, be my baby, come on Come on, be my baby, come on I'm in love with your body Come on, be my baby, come on Come on, be my baby, come on I'm in love with your body Every day discovering something brand new I'm in love with the shape of you\""
      ]
     },
     "execution_count": 10,
     "metadata": {},
     "output_type": "execute_result"
    }
   ],
   "source": [
    "myfile9 = open('/Users/sergi/Desktop/lyrics/shapeofyou.txt', 'r')\n",
    "lyric9 = myfile9.read().replace('\\n', \" \")\n",
    "lyric9"
   ]
  },
  {
   "cell_type": "code",
   "execution_count": 11,
   "metadata": {},
   "outputs": [
    {
     "data": {
      "text/plain": [
       "\"Here I go out to sea again The sunshine fills my hair And dreams hang in the air Gulls in the sky and in my blue eyes You know it feels unfair There's magic everywhere Look at me standing Here on my own again Up straight in the sunshine No need to run and hide It's a wonderful, wonderful life No need to laugh and cry It's a wonderful, wonderful life Sun in your eyes The heat is in your hair They seem to hate you Because you're there And I need a friend Oh, I need a friend To make me happy Not stand here on my own Look at me standing Here on my own again Up straight in the sunshine\""
      ]
     },
     "execution_count": 11,
     "metadata": {},
     "output_type": "execute_result"
    }
   ],
   "source": [
    "myfile10 = open('/Users/sergi/Desktop/lyrics/wonderfullife.txt', 'r')\n",
    "lyric10 = myfile10.read().replace('\\n', \" \")\n",
    "lyric10"
   ]
  },
  {
   "cell_type": "markdown",
   "metadata": {},
   "source": [
    "### 2.a.  Provide 5 examples of salient words"
   ]
  },
  {
   "cell_type": "code",
   "execution_count": 12,
   "metadata": {},
   "outputs": [
    {
     "name": "stdout",
     "output_type": "stream",
     "text": [
      "{'off', 'standing', 'imagine', 'business', 'scar', 'lover', 'When', 'radio', 'uses', 'La', 'hang', 'bumpa', 'own', 'between', 'staying', 'feels', 'mi', 'now', 'your', 'makes', 'them', 'won', 'of', 'done', 'tight', 'dancefloor', 'up', 'lines', 'animal', 'So', 'base', 'reach', 'faded', 'true', 'too', 'but', 'shit', 'pissed', 'a', 'his', 'filled', 'some', 'swear', 'cause', 'all', 'put', 'replay', 'above', 'pure', 'alone', 'Praising', 'rush', 'here', 'wait', 'shots', 'fake', 'Every', 'hair', 'man', 'scared', 'Through', 'It', 'are', 'Of', 'will', 'we', 'old', 'madman', 'life', 'took', 'hand', '(', 'faces', 'thang', 'trust', 'pledge', '.', 'club', 'serve', 'shoes', 'bedsheets', 'Young', 'far', 'bubblin', 'speakers', 'enemies', 'today', 'lead', 'four', 'Body', 'run', 'late', 'Mi', 'start', ',', 'that', 'heat', 'bag', 'forgot', 'been', 'beyond', 'return', 'high', 'low', 'free', 'come', 'dear', \"'re\", 'forever', 'If', \"'m\", 'says', 'conversation', 'have', 'level', 'without', \"'s\", 'Right', 'short', 'currency', 'thing', 'simple', 'be', 'Ai', 'so', 'line', '9', 'follow', 'might', 'again', 'Turn', 'over', 'tonight', 'Gulls', 'wine', 'can', 'car', 'eyes', 'reminds', 'waistline', 'how', 'begin', 'moment', 'rooftop', 'language', 'wave', 'bright', 'house', 'Ca', 'world', 'look', 'it', 'miss', 'Mama', 'ceiling', 'boy', 'same', 'stop', 'dreams', 'Do', 'seen', 'That', 'hot', 'kiss', 'way', 'care', 'bomb', '!', 'bout', 'inch', 'hard', 'Them', 'Why', 'golden', 'score', 'first', 'tomorrow', 'music', 'songs', 'cry', 'friend', 'for', 'This', 'smile', 'just', 'big', 'alright', 'Said', 'sandpit', 'ca', 'stand', 'drop', 'behind', 'given', 'knew', 'bubbly', 'nights', \"'\", 'see', 'falling', 'going', 'try', 'Then', 'Stop', 'light', 'week', 'changes', 'learn', 'make', 'broke', 'race', 'need', 'We', 'what', 'lied', 'di', 'wonderful', 'were', 'perfect', 'God', 'sun', 'time', 'spinning', 'single', 'every', 'then', 'set', 'You', 'sitting', 'handmade', 'there', 'spot', 'Up', 'lies', 'active', 'our', 'while', 'absurd', 'fading', 'sad', 'Forever', 'melody', 'disagree', 'party', 'him', 'even', 'emotional', 'ever', 'really', 'thrifty', 'die', 'star', 'stops', 'many', 'window', 'got', 'space', 'Sooner', 'secrets', 'jukebox', 'love', 'keep', 'girl', 'views', 'Because', 'playing', 'No', 'Protect', 'saying', 'sea', 'baby', 'friends', 'back', 'hate', 'like', 'And', 'me', 'know', \"n't\", 'Where', 'may', 'seem', 'road', 'adore', 'happy', 'stay', 'wan', 'slow', 'on', 'waist', 'down', 'ours', \"'Cause\", 'I', 'Drinking', 'justice', 'Daddy', 'gon', 'future', 'pon', 'Beyond', 'Hoping', 'find', 'from', 'town', 'record', 'Everything', 'talk', 'do', 'they', 'something', 'Is', 'stars', 'beat', 'Your', 'play', 'never', 'After', 'apartment', 'read', 'till', 'things', 'feeling', 'table', 'power', 'driver', 'beautiful', 'smell', 'adventures', 'Gyal', 'Get', 'Not', 'flip', 'lazy', \"'cause\", 'Shorty', 'chance', 'sign', 'approach', 'Yeah', 'fast', 'Like', 'played', 'black', 'day', 'Trying', 'Come', ';', 'song', 'allegiance', 'three', 'later', 'Youth', 'magnet', 'Tell', 'new', 'one', 'ya', 'getting', 'trip', 'okay', 'best', 'take', 'break', 'step-by-step', 'coming', 'doing', 'point', 'about', 'They', 'gyal', 'trying', 'singing', 'did', 'push', 'The', '...', 'sore', 'the', 'think', 'Sitting', 'damage', 'touch', 'much', 'brand', 'Just', 'us', 'backseat', 'd-day', 'magic', 'Make', 'hide', 'meet', 'ends', 'dirty', 'She', 'fills', 'was', 'two', 'end', 'this', 'mind', 'expecting', 'diamonds', 'Dreamers', 'go', 'Some', 'crazy', 'my', 'watching', 'in', 'babe', 'pull', 'you', \"'ve\", 'Sky', 'Grab', 'say', 'let', 'fill', 'skin', 'Fill', 'into', 'shake', 'goes', 'gone', 'Flip', 'its', 'independence', 'she', 'stable', 'could', 'next', 'To', 'horse', 'realize', 'thick', 'Say', 'stove', 'legs', 'By', 'with', 'not', 'want', 'There', 'through', 'more', \"'d\", 'air', 'troubles', 'date', 'live', 'Tonight', 'Fills', 'Baby', 'eat', 'tell', 'tired', 'comes', 'feel', 'Bubblin', 'He', 'discovering', 'stamp', 'everywhere', 'room', 'Forget', 'story', 'worst', 'body', 'My', 'spaces', 'type', 'books', \"'ll\", 'Wine', 'Although', 'heard', '?', 'wo', 'Declare', 'turn', 'Here', 'children', 'everything', 'Heaven', \"'bout\", 'Flipagram', 'right', 'ancient', 'middle', 'should', 'wanted', 'Take', 'somebody', 'Are', 'plate', 'send', 'shot', 'worry', 'past', 'fight', 'anything', 'Last', 'na', 'palm', 'style', 'white', 'From', 'uh', 'Girl', 'DJ', 'Man', 'sunshine', 'skies', 'sweet', 'leave', 'taxi', 'ting', 'One', 'Oh', 'ship', 'water', 'shape', 'family', 'Sun', 'lights', 'bar', 'hours', 'night', 'Van', 'thinking', 'when', 'lonely', 'only', \"'Til\", 'dip', 'show', 'guess', 'to', 'and', 'head', 'carnival', 'Me', 'mmmm', 'or', 'blue', 'is', 'where', 'Let', 'good', 'minutes', 'dance', 'Surrounded', 'Can', 'Moon', 'shining', 'get', 'by', 'give', 'oh', 'hurry', ')', 'sky', 'around', 'pretending', 'heart', 'swinging', 'cure', 'sour', 'unfair', 'Emotional', 'CK', 'perish', 'drive', 'sexy', 'out', 'matters', 'laugh', 'tune', 'went', 'morning', 'no', 'leaders', 'ask', 'place', 'young', 'ashes', 'Leave', 'blurry', 'nobody', 'at', 'her', 'Look', 'straight', 'film', 'Start', 'yeah', 'fa', 'food'}\n"
     ]
    }
   ],
   "source": [
    "all_lyrics = [lyric1, lyric2, lyric3, lyric4, lyric5, lyric6, lyric7, lyric8, lyric9, lyric10]\n",
    "tokenized_lyrics = [word_tokenize(d) for d in all_lyrics] # tokenized lyrics\n",
    "all_tokens_set = set([item for sublist in tokenized_lyrics for item in sublist])\n",
    "print(all_tokens_set)"
   ]
  },
  {
   "cell_type": "code",
   "execution_count": 13,
   "metadata": {
    "collapsed": true
   },
   "outputs": [],
   "source": [
    "def term_frequency(term, tokenized_document):\n",
    "    return tokenized_document.count(term)"
   ]
  },
  {
   "cell_type": "code",
   "execution_count": 14,
   "metadata": {
    "collapsed": true
   },
   "outputs": [],
   "source": [
    "def sublinear_term_frequency (term, tokenized_document):\n",
    "    return 1 + math.log(tokenized_document.count(term))\n",
    "\n",
    "def augmented_term_frequency (term, tokenized_document):\n",
    "    max_count = max ([term_frequency (t, tokenized_document) for t in tokenized_document])\n",
    "    return (0.5 + ((0.5 * term_frequency (term, tokenized_document))/max_count))"
   ]
  },
  {
   "cell_type": "code",
   "execution_count": 15,
   "metadata": {
    "collapsed": true
   },
   "outputs": [],
   "source": [
    "import math\n",
    "def inverse_document_frequencies (tokenized_documents):\n",
    "    idf_values = {}\n",
    "    all_tokens_set = set ([item for sublist in tokenized_documents for item in sublist])\n",
    "    for tkn in all_tokens_set:\n",
    "        contains_token = map (lambda doc: tkn in doc, tokenized_documents)\n",
    "        idf_values[tkn] = 1 + math.log (len (tokenized_documents)/(sum(contains_token)))\n",
    "    return idf_values  "
   ]
  },
  {
   "cell_type": "code",
   "execution_count": 40,
   "metadata": {},
   "outputs": [
    {
     "data": {
      "text/plain": [
       "1"
      ]
     },
     "execution_count": 40,
     "metadata": {},
     "output_type": "execute_result"
    }
   ],
   "source": [
    "term_frequency('melody', lyric5)"
   ]
  },
  {
   "cell_type": "code",
   "execution_count": 41,
   "metadata": {},
   "outputs": [
    {
     "data": {
      "text/plain": [
       "1.0"
      ]
     },
     "execution_count": 41,
     "metadata": {},
     "output_type": "execute_result"
    }
   ],
   "source": [
    "sublinear_term_frequency ('melody', lyric5)"
   ]
  },
  {
   "cell_type": "code",
   "execution_count": 39,
   "metadata": {},
   "outputs": [
    {
     "data": {
      "text/plain": [
       "0.5018587360594795"
      ]
     },
     "execution_count": 39,
     "metadata": {},
     "output_type": "execute_result"
    }
   ],
   "source": [
    "augmented_term_frequency ('melody', lyric5)"
   ]
  },
  {
   "cell_type": "code",
   "execution_count": 45,
   "metadata": {},
   "outputs": [
    {
     "data": {
      "text/plain": [
       "12"
      ]
     },
     "execution_count": 45,
     "metadata": {},
     "output_type": "execute_result"
    }
   ],
   "source": [
    "term_frequency('forever', lyric5)"
   ]
  },
  {
   "cell_type": "code",
   "execution_count": 46,
   "metadata": {},
   "outputs": [
    {
     "data": {
      "text/plain": [
       "3.4849066497880004"
      ]
     },
     "execution_count": 46,
     "metadata": {},
     "output_type": "execute_result"
    }
   ],
   "source": [
    "sublinear_term_frequency ('forever', lyric5)"
   ]
  },
  {
   "cell_type": "code",
   "execution_count": 47,
   "metadata": {},
   "outputs": [
    {
     "data": {
      "text/plain": [
       "0.5223048327137546"
      ]
     },
     "execution_count": 47,
     "metadata": {},
     "output_type": "execute_result"
    }
   ],
   "source": [
    "augmented_term_frequency ('forever', lyric5)"
   ]
  },
  {
   "cell_type": "code",
   "execution_count": 75,
   "metadata": {},
   "outputs": [],
   "source": [
    "idf_values = inverse_document_frequencies(tokenized_lyrics)"
   ]
  },
  {
   "cell_type": "code",
   "execution_count": 76,
   "metadata": {},
   "outputs": [
    {
     "name": "stdout",
     "output_type": "stream",
     "text": [
      "2.6094379124341005\n"
     ]
    }
   ],
   "source": [
    "print(idf_values['forever'])"
   ]
  },
  {
   "cell_type": "code",
   "execution_count": 77,
   "metadata": {},
   "outputs": [
    {
     "name": "stdout",
     "output_type": "stream",
     "text": [
      "3.302585092994046\n"
     ]
    }
   ],
   "source": [
    "print(idf_values['everything'])"
   ]
  },
  {
   "cell_type": "code",
   "execution_count": 78,
   "metadata": {},
   "outputs": [
    {
     "name": "stdout",
     "output_type": "stream",
     "text": [
      "2.203972804325936\n"
     ]
    }
   ],
   "source": [
    "print(idf_values['love'])"
   ]
  },
  {
   "cell_type": "code",
   "execution_count": 79,
   "metadata": {},
   "outputs": [
    {
     "name": "stdout",
     "output_type": "stream",
     "text": [
      "3.302585092994046\n"
     ]
    }
   ],
   "source": [
    "print(idf_values['animal'])"
   ]
  },
  {
   "cell_type": "code",
   "execution_count": 80,
   "metadata": {},
   "outputs": [
    {
     "name": "stdout",
     "output_type": "stream",
     "text": [
      "2.6094379124341005\n"
     ]
    }
   ],
   "source": [
    "print(idf_values['sun'])"
   ]
  },
  {
   "cell_type": "markdown",
   "metadata": {},
   "source": [
    "### 2.b.  Compute the TF-IDF score of each lyric"
   ]
  },
  {
   "cell_type": "code",
   "execution_count": 61,
   "metadata": {
    "collapsed": true
   },
   "outputs": [],
   "source": [
    "def tfidf(documents):\n",
    "    tokenized_documents = [word_tokenize(d) for d in documents]\n",
    "    idf = inverse_document_frequencies (tokenized_documents)\n",
    "    tfidf_documents = []\n",
    "    for document in tokenized_documents:\n",
    "        doc_tfidf = []\n",
    "        for term in idf.keys():\n",
    "            tf = augmented_term_frequency(term, document)\n",
    "            doc_tfidf.append((tf*idf[term], term))\n",
    "        tfidf_documents.append(doc_tfidf)\n",
    "    return tfidf_documents"
   ]
  },
  {
   "cell_type": "code",
   "execution_count": 88,
   "metadata": {
    "scrolled": true
   },
   "outputs": [
    {
     "name": "stdout",
     "output_type": "stream",
     "text": [
      "[(1.651292546497023, 'off'), (1.651292546497023, 'standing'), (1.651292546497023, 'imagine'), (1.651292546497023, 'business'), (1.651292546497023, 'scar'), (1.651292546497023, 'lover'), (1.651292546497023, 'When'), (1.651292546497023, 'radio'), (1.651292546497023, 'uses'), (1.651292546497023, 'La'), (1.651292546497023, 'hang'), (1.651292546497023, 'bumpa'), (1.101986402162968, 'own'), (1.651292546497023, 'between'), (1.651292546497023, 'staying'), (1.651292546497023, 'feels'), (1.651292546497023, 'mi'), (0.8465735902799727, 'now'), (0.6115717756571049, 'your'), (1.651292546497023, 'makes'), (1.3047189562170503, 'them'), (1.651292546497023, 'won'), (0.7554128118829954, 'of'), (2.7521542441617046, 'done'), (1.651292546497023, 'tight'), (1.651292546497023, 'dancefloor'), (0.8465735902799727, 'up'), (1.651292546497023, 'lines'), (1.651292546497023, 'animal'), (0.9581453659370776, 'So'), (1.651292546497023, 'base'), (1.651292546497023, 'reach'), (1.651292546497023, 'faded'), (1.651292546497023, 'true'), (1.4693152028839571, 'too'), (1.3047189562170503, 'but'), (1.3047189562170503, 'shit'), (1.651292546497023, 'pissed'), (0.7369070104385509, 'a'), (1.651292546497023, 'his'), (1.651292546497023, 'filled'), (1.651292546497023, 'some'), (1.651292546497023, 'swear'), (1.3047189562170503, 'cause'), (0.8465735902799727, 'all'), (1.651292546497023, 'put'), (1.651292546497023, 'replay'), (1.651292546497023, 'above'), (1.651292546497023, 'pure'), (1.651292546497023, 'alone'), (1.651292546497023, 'Praising'), (1.651292546497023, 'rush'), (1.651292546497023, 'here'), (1.651292546497023, 'wait'), (1.651292546497023, 'shots'), (1.651292546497023, 'fake'), (1.3047189562170503, 'Every'), (1.651292546497023, 'hair'), (1.651292546497023, 'man'), (1.651292546497023, 'scared'), (2.201723395329364, 'Through'), (1.101986402162968, 'It'), (1.0072170825106603, 'are'), (2.7521542441617046, 'Of'), (1.3047189562170503, 'will'), (0.8465735902799727, 'we'), (1.651292546497023, 'old'), (1.651292546497023, 'madman'), (1.3047189562170503, 'life'), (1.651292546497023, 'took'), (1.651292546497023, 'hand'), (0.9581453659370776, '('), (1.651292546497023, 'faces'), (1.651292546497023, 'thang'), (1.651292546497023, 'trust'), (1.651292546497023, 'pledge'), (1.3047189562170503, '.'), (1.101986402162968, 'club'), (2.7521542441617046, 'serve'), (1.651292546497023, 'shoes'), (1.651292546497023, 'bedsheets'), (1.651292546497023, 'Young'), (1.651292546497023, 'far'), (1.651292546497023, 'bubblin'), (1.651292546497023, 'speakers'), (1.651292546497023, 'enemies'), (1.651292546497023, 'today'), (1.651292546497023, 'lead'), (1.651292546497023, 'four'), (1.651292546497023, 'Body'), (1.3047189562170503, 'run'), (2.201723395329364, 'late'), (1.651292546497023, 'Mi'), (1.101986402162968, 'start'), (0.7369070104385509, ','), (0.7554128118829954, 'that'), (0.9581453659370776, 'heat'), (1.651292546497023, 'bag'), (1.651292546497023, 'forgot'), (1.3047189562170503, 'been'), (2.201723395329364, 'beyond'), (2.7521542441617046, 'return'), (1.3047189562170503, 'high'), (1.651292546497023, 'low'), (1.3047189562170503, 'free'), (0.9581453659370776, 'come'), (1.651292546497023, 'dear'), (0.7554128118829954, \"'re\"), (1.3047189562170503, 'forever'), (1.651292546497023, 'If'), (1.101986402162968, \"'m\"), (1.651292546497023, 'says'), (1.651292546497023, 'conversation'), (1.3047189562170503, 'have'), (1.651292546497023, 'level'), (1.3047189562170503, 'without'), (0.9044499626258216, \"'s\"), (1.651292546497023, 'Right'), (1.651292546497023, 'short'), (1.651292546497023, 'currency'), (1.651292546497023, 'thing'), (1.651292546497023, 'simple'), (1.101986402162968, 'be'), (1.651292546497023, 'Ai'), (0.9581453659370776, 'so'), (1.651292546497023, 'line'), (1.651292546497023, '9'), (1.3047189562170503, 'follow'), (1.651292546497023, 'might'), (1.3047189562170503, 'again'), (1.651292546497023, 'Turn'), (1.651292546497023, 'over'), (1.651292546497023, 'tonight'), (1.651292546497023, 'Gulls'), (1.651292546497023, 'wine'), (0.9581453659370776, 'can'), (1.651292546497023, 'car'), (1.3047189562170503, 'eyes'), (1.651292546497023, 'reminds'), (1.651292546497023, 'waistline'), (1.101986402162968, 'how'), (1.651292546497023, 'begin'), (1.651292546497023, 'moment'), (1.651292546497023, 'rooftop'), (1.651292546497023, 'language'), (1.651292546497023, 'wave'), (1.651292546497023, 'bright'), (1.651292546497023, 'house'), (1.3047189562170503, 'Ca'), (1.651292546497023, 'world'), (1.651292546497023, 'look'), (0.7369070104385509, 'it'), (1.651292546497023, 'miss'), (1.651292546497023, 'Mama'), (1.651292546497023, 'ceiling'), (1.3047189562170503, 'boy'), (1.651292546497023, 'same'), (1.651292546497023, 'stop'), (1.101986402162968, 'dreams'), (1.101986402162968, 'Do'), (1.651292546497023, 'seen'), (1.3047189562170503, 'That'), (1.651292546497023, 'hot'), (1.651292546497023, 'kiss'), (1.3047189562170503, 'way'), (1.651292546497023, 'care'), (1.651292546497023, 'bomb'), (1.3047189562170503, '!'), (1.651292546497023, 'bout'), (1.651292546497023, 'inch'), (1.3047189562170503, 'hard'), (1.651292546497023, 'Them'), (1.651292546497023, 'Why'), (1.651292546497023, 'golden'), (1.651292546497023, 'score'), (1.651292546497023, 'first'), (1.651292546497023, 'tomorrow'), (1.3047189562170503, 'music'), (1.651292546497023, 'songs'), (1.651292546497023, 'cry'), (1.651292546497023, 'friend'), (0.8465735902799727, 'for'), (1.4693152028839571, 'This'), (1.651292546497023, 'smile'), (0.9581453659370776, 'just'), (1.651292546497023, 'big'), (1.651292546497023, 'alright'), (1.651292546497023, 'Said'), (1.651292546497023, 'sandpit'), (1.3047189562170503, 'ca'), (1.651292546497023, 'stand'), (1.651292546497023, 'drop'), (1.651292546497023, 'behind'), (1.651292546497023, 'given'), (1.651292546497023, 'knew'), (1.651292546497023, 'bubbly'), (1.651292546497023, 'nights'), (1.3047189562170503, \"'\"), (1.3047189562170503, 'see'), (1.651292546497023, 'falling'), (1.651292546497023, 'going'), (1.651292546497023, 'try'), (1.651292546497023, 'Then'), (1.651292546497023, 'Stop'), (1.651292546497023, 'light'), (1.651292546497023, 'week'), (1.651292546497023, 'changes'), (2.7521542441617046, 'learn'), (0.8465735902799727, 'make'), (1.651292546497023, 'broke'), (1.651292546497023, 'race'), (1.101986402162968, 'need'), (1.0072170825106603, 'We'), (1.3047189562170503, 'what'), (1.651292546497023, 'lied'), (1.651292546497023, 'di'), (1.651292546497023, 'wonderful'), (1.651292546497023, 'were'), (1.651292546497023, 'perfect'), (1.651292546497023, 'God'), (1.739625274956067, 'sun'), (1.3047189562170503, 'time'), (1.651292546497023, 'spinning'), (1.651292546497023, 'single'), (1.651292546497023, 'every'), (1.3047189562170503, 'then'), (1.651292546497023, 'set'), (1.0072170825106603, 'You'), (1.651292546497023, 'sitting'), (1.651292546497023, 'handmade'), (1.3047189562170503, 'there'), (1.651292546497023, 'spot'), (1.651292546497023, 'Up'), (1.651292546497023, 'lies'), (1.651292546497023, 'active'), (1.3047189562170503, 'our'), (1.3047189562170503, 'while'), (1.651292546497023, 'absurd'), (1.651292546497023, 'fading'), (1.651292546497023, 'sad'), (1.651292546497023, 'Forever'), (1.651292546497023, 'melody'), (1.651292546497023, 'disagree'), (1.3047189562170503, 'party'), (1.651292546497023, 'him'), (1.651292546497023, 'even'), (1.651292546497023, 'emotional'), (0.9581453659370776, 'ever'), (1.3047189562170503, 'really'), (1.651292546497023, 'thrifty'), (1.651292546497023, 'die'), (1.651292546497023, 'star'), (1.651292546497023, 'stops'), (1.651292546497023, 'many'), (2.201723395329364, 'window'), (1.101986402162968, 'got'), (1.3047189562170503, 'space'), (1.651292546497023, 'Sooner'), (1.651292546497023, 'secrets'), (1.651292546497023, 'jukebox'), (1.101986402162968, 'love'), (1.651292546497023, 'keep'), (1.651292546497023, 'girl'), (1.651292546497023, 'views'), (1.651292546497023, 'Because'), (1.651292546497023, 'playing'), (1.3047189562170503, 'No'), (1.651292546497023, 'Protect'), (1.651292546497023, 'saying'), (1.651292546497023, 'sea'), (1.101986402162968, 'baby'), (1.3047189562170503, 'friends'), (1.3047189562170503, 'back'), (1.651292546497023, 'hate'), (0.6783374719693662, 'like'), (0.8154290342094731, 'And'), (0.8154290342094731, 'me'), (0.8465735902799727, 'know'), (0.6783374719693662, \"n't\"), (2.201723395329364, 'Where'), (1.651292546497023, 'may'), (1.651292546497023, 'seem'), (1.651292546497023, 'road'), (1.651292546497023, 'adore'), (1.8366440036049465, 'happy'), (1.651292546497023, 'stay'), (1.651292546497023, 'wan'), (1.651292546497023, 'slow'), (0.9581453659370776, 'on'), (1.651292546497023, 'waist'), (1.651292546497023, 'down'), (1.651292546497023, 'ours'), (1.3047189562170503, \"'Cause\"), (0.6783374719693662, 'I'), (1.651292546497023, 'Drinking'), (1.651292546497023, 'justice'), (1.651292546497023, 'Daddy'), (1.651292546497023, 'gon'), (1.651292546497023, 'future'), (1.651292546497023, 'pon'), (3.302585092994046, 'Beyond'), (1.651292546497023, 'Hoping'), (1.651292546497023, 'find'), (1.651292546497023, 'from'), (1.651292546497023, 'town'), (1.651292546497023, 'record'), (1.3047189562170503, 'Everything'), (1.651292546497023, 'talk'), (0.7554128118829954, 'do'), (0.8465735902799727, 'they'), (1.3047189562170503, 'something'), (1.101986402162968, 'Is'), (1.651292546497023, 'stars'), (1.3047189562170503, 'beat'), (1.651292546497023, 'Your'), (1.101986402162968, 'play'), (1.4109559837999543, 'never'), (1.651292546497023, 'After'), (1.651292546497023, 'apartment'), (1.651292546497023, 'read'), (1.651292546497023, 'till'), (1.651292546497023, 'things'), (1.651292546497023, 'feeling'), (1.651292546497023, 'table'), (1.651292546497023, 'power'), (1.651292546497023, 'driver'), (1.651292546497023, 'beautiful'), (1.651292546497023, 'smell'), (1.651292546497023, 'adventures'), (1.651292546497023, 'Gyal'), (1.3047189562170503, 'Get'), (1.651292546497023, 'Not'), (1.651292546497023, 'flip'), (1.651292546497023, 'lazy'), (1.651292546497023, \"'cause\"), (1.651292546497023, 'Shorty'), (1.651292546497023, 'chance'), (1.651292546497023, 'sign'), (1.651292546497023, 'approach'), (1.3047189562170503, 'Yeah'), (1.651292546497023, 'fast'), (1.651292546497023, 'Like'), (1.651292546497023, 'played'), (1.651292546497023, 'black'), (1.3047189562170503, 'day'), (1.651292546497023, 'Trying'), (1.651292546497023, 'Come'), (1.651292546497023, ';'), (1.651292546497023, 'song'), (1.651292546497023, 'allegiance'), (1.651292546497023, 'three'), (1.651292546497023, 'later'), (1.651292546497023, 'Youth'), (1.651292546497023, 'magnet'), (1.3047189562170503, 'Tell'), (1.3047189562170503, 'new'), (1.3047189562170503, 'one'), (1.651292546497023, 'ya'), (1.651292546497023, 'getting'), (1.651292546497023, 'trip'), (1.651292546497023, 'okay'), (1.3047189562170503, 'best'), (1.101986402162968, 'take'), (1.651292546497023, 'break'), (1.651292546497023, 'step-by-step'), (1.651292546497023, 'coming'), (1.651292546497023, 'doing'), (2.201723395329364, 'point'), (1.3047189562170503, 'about'), (2.1745315936950838, 'They'), (1.651292546497023, 'gyal'), (1.3047189562170503, 'trying'), (1.651292546497023, 'singing'), (1.651292546497023, 'did'), (1.651292546497023, 'push'), (1.5108256237659907, 'The'), (1.651292546497023, '...'), (1.651292546497023, 'sore'), (1.0192862927618414, 'the'), (1.651292546497023, 'think'), (1.651292546497023, 'Sitting'), (2.7521542441617046, 'damage'), (1.651292546497023, 'touch'), (1.651292546497023, 'much'), (1.651292546497023, 'brand'), (1.8366440036049465, 'Just'), (1.3047189562170503, 'us'), (1.651292546497023, 'backseat'), (1.651292546497023, 'd-day'), (1.651292546497023, 'magic'), (1.3047189562170503, 'Make'), (1.651292546497023, 'hide'), (1.651292546497023, 'meet'), (1.3047189562170503, 'ends'), (1.651292546497023, 'dirty'), (1.651292546497023, 'She'), (1.651292546497023, 'fills'), (1.3047189562170503, 'was'), (1.651292546497023, 'two'), (1.651292546497023, 'end'), (0.8465735902799727, 'this'), (1.3047189562170503, 'mind'), (1.651292546497023, 'expecting'), (1.651292546497023, 'diamonds'), (2.201723395329364, 'Dreamers'), (1.101986402162968, 'go'), (1.651292546497023, 'Some'), (1.3047189562170503, 'crazy'), (0.7554128118829954, 'my'), (1.651292546497023, 'watching'), (0.6783374719693662, 'in'), (1.651292546497023, 'babe'), (1.651292546497023, 'pull'), (0.6666666666666666, 'you'), (1.101986402162968, \"'ve\"), (1.651292546497023, 'Sky'), (1.651292546497023, 'Grab'), (1.651292546497023, 'say'), (0.8465735902799727, 'let'), (1.651292546497023, 'fill'), (1.651292546497023, 'skin'), (1.651292546497023, 'Fill'), (1.651292546497023, 'into'), (1.651292546497023, 'shake'), (2.201723395329364, 'goes'), (1.3047189562170503, 'gone'), (1.651292546497023, 'Flip'), (1.3047189562170503, 'its'), (1.651292546497023, 'independence'), (1.651292546497023, 'she'), (1.651292546497023, 'stable'), (1.651292546497023, 'could'), (1.651292546497023, 'next'), (1.101986402162968, 'To'), (1.651292546497023, 'horse'), (1.651292546497023, 'realize'), (1.651292546497023, 'thick'), (1.651292546497023, 'Say'), (1.651292546497023, 'stove'), (1.651292546497023, 'legs'), (2.201723395329364, 'By'), (0.9581453659370776, 'with'), (0.9581453659370776, 'not'), (0.8465735902799727, 'want'), (1.651292546497023, 'There'), (1.651292546497023, 'through'), (1.651292546497023, 'more'), (1.651292546497023, \"'d\"), (1.651292546497023, 'air'), (1.651292546497023, 'troubles'), (1.651292546497023, 'date'), (1.101986402162968, 'live'), (1.651292546497023, 'Tonight'), (1.651292546497023, 'Fills'), (1.3047189562170503, 'Baby'), (1.651292546497023, 'eat'), (1.651292546497023, 'tell'), (1.651292546497023, 'tired'), (2.201723395329364, 'comes'), (1.651292546497023, 'feel'), (1.651292546497023, 'Bubblin'), (1.651292546497023, 'He'), (1.651292546497023, 'discovering'), (1.651292546497023, 'stamp'), (1.651292546497023, 'everywhere'), (1.4693152028839571, 'room'), (1.651292546497023, 'Forget'), (1.651292546497023, 'story'), (1.651292546497023, 'worst'), (1.101986402162968, 'body'), (1.651292546497023, 'My'), (1.651292546497023, 'spaces'), (1.651292546497023, 'type'), (1.651292546497023, 'books'), (1.101986402162968, \"'ll\"), (1.651292546497023, 'Wine'), (1.651292546497023, 'Although'), (1.651292546497023, 'heard'), (0.9581453659370776, '?'), (1.651292546497023, 'wo'), (1.651292546497023, 'Declare'), (1.651292546497023, 'turn'), (1.3047189562170503, 'Here'), (1.651292546497023, 'children'), (1.651292546497023, 'everything'), (1.651292546497023, 'Heaven'), (1.3047189562170503, \"'bout\"), (1.651292546497023, 'Flipagram'), (1.3047189562170503, 'right'), (1.651292546497023, 'ancient'), (1.651292546497023, 'middle'), (1.651292546497023, 'should'), (1.651292546497023, 'wanted'), (1.651292546497023, 'Take'), (1.651292546497023, 'somebody'), (1.651292546497023, 'Are'), (1.651292546497023, 'plate'), (1.651292546497023, 'send'), (1.651292546497023, 'shot'), (1.3047189562170503, 'worry'), (1.651292546497023, 'past'), (1.651292546497023, 'fight'), (1.651292546497023, 'anything'), (1.651292546497023, 'Last'), (1.101986402162968, 'na'), (1.651292546497023, 'palm'), (1.651292546497023, 'style'), (2.201723395329364, 'white'), (1.651292546497023, 'From'), (1.651292546497023, 'uh'), (1.651292546497023, 'Girl'), (1.651292546497023, 'DJ'), (1.651292546497023, 'Man'), (1.651292546497023, 'sunshine'), (1.651292546497023, 'skies'), (1.651292546497023, 'sweet'), (1.3047189562170503, 'leave'), (1.651292546497023, 'taxi'), (1.651292546497023, 'ting'), (1.651292546497023, 'One'), (0.8465735902799727, 'Oh'), (1.651292546497023, 'ship'), (1.651292546497023, 'water'), (1.651292546497023, 'shape'), (1.3047189562170503, 'family'), (1.651292546497023, 'Sun'), (1.651292546497023, 'lights'), (1.3047189562170503, 'bar'), (1.651292546497023, 'hours'), (1.101986402162968, 'night'), (1.651292546497023, 'Van'), (1.651292546497023, 'thinking'), (1.101986402162968, 'when'), (1.651292546497023, 'lonely'), (1.3047189562170503, 'only'), (1.651292546497023, \"'Til\"), (1.651292546497023, 'dip'), (1.651292546497023, 'show'), (1.651292546497023, 'guess'), (0.8333333333333333, 'to'), (0.7554128118829954, 'and'), (1.651292546497023, 'head'), (1.651292546497023, 'carnival'), (1.3047189562170503, 'Me'), (1.651292546497023, 'mmmm'), (1.651292546497023, 'or'), (1.3047189562170503, 'blue'), (1.130562453282277, 'is'), (1.101986402162968, 'where'), (1.3047189562170503, 'Let'), (1.651292546497023, 'good'), (1.651292546497023, 'minutes'), (1.101986402162968, 'dance'), (1.651292546497023, 'Surrounded'), (1.651292546497023, 'Can'), (1.651292546497023, 'Moon'), (1.651292546497023, 'shining'), (0.9581453659370776, 'get'), (1.3047189562170503, 'by'), (1.101986402162968, 'give'), (1.651292546497023, 'oh'), (1.651292546497023, 'hurry'), (0.9581453659370776, ')'), (1.3047189562170503, 'sky'), (1.651292546497023, 'around'), (1.651292546497023, 'pretending'), (1.3047189562170503, 'heart'), (1.651292546497023, 'swinging'), (1.651292546497023, 'cure'), (1.651292546497023, 'sour'), (1.651292546497023, 'unfair'), (1.651292546497023, 'Emotional'), (1.651292546497023, 'CK'), (1.651292546497023, 'perish'), (1.651292546497023, 'drive'), (1.651292546497023, 'sexy'), (0.9581453659370776, 'out'), (1.651292546497023, 'matters'), (1.651292546497023, 'laugh'), (1.651292546497023, 'tune'), (1.651292546497023, 'went'), (1.651292546497023, 'morning'), (1.8366440036049465, 'no'), (1.651292546497023, 'leaders'), (1.651292546497023, 'ask'), (1.651292546497023, 'place'), (1.651292546497023, 'young'), (1.651292546497023, 'ashes'), (1.651292546497023, 'Leave'), (1.651292546497023, 'blurry'), (1.651292546497023, 'nobody'), (1.101986402162968, 'at'), (1.651292546497023, 'her'), (1.651292546497023, 'Look'), (1.651292546497023, 'straight'), (1.651292546497023, 'film'), (1.651292546497023, 'Start'), (1.651292546497023, 'yeah'), (1.651292546497023, 'fa'), (1.651292546497023, 'food')] Dreamers They never learn They never learn Beyond, beyond the point Of no return Of no return And it's too late The damage is done The damage is done This goes Beyond me Beyond you The white room By a window Where the sun comes Through We are Just happy to serve Just happy to serve You\n"
     ]
    }
   ],
   "source": [
    "tfidf_representation = tfidf(all_lyrics)\n",
    "print (tfidf_representation[0], lyric1)\n",
    "#doc vector and document"
   ]
  },
  {
   "cell_type": "code",
   "execution_count": 86,
   "metadata": {},
   "outputs": [
    {
     "data": {
      "text/plain": [
       "[(1.651292546497023, 'off'),\n",
       " (1.651292546497023, 'standing'),\n",
       " (1.651292546497023, 'imagine'),\n",
       " (1.651292546497023, 'business'),\n",
       " (1.651292546497023, 'scar'),\n",
       " (1.651292546497023, 'lover'),\n",
       " (1.651292546497023, 'When'),\n",
       " (1.651292546497023, 'radio'),\n",
       " (1.651292546497023, 'uses'),\n",
       " (1.651292546497023, 'La'),\n",
       " (1.651292546497023, 'hang'),\n",
       " (1.651292546497023, 'bumpa'),\n",
       " (1.101986402162968, 'own'),\n",
       " (1.651292546497023, 'between'),\n",
       " (1.651292546497023, 'staying'),\n",
       " (1.651292546497023, 'feels'),\n",
       " (1.651292546497023, 'mi'),\n",
       " (0.8465735902799727, 'now'),\n",
       " (0.6115717756571049, 'your'),\n",
       " (1.651292546497023, 'makes'),\n",
       " (1.3047189562170503, 'them'),\n",
       " (1.651292546497023, 'won'),\n",
       " (0.7554128118829954, 'of'),\n",
       " (2.7521542441617046, 'done'),\n",
       " (1.651292546497023, 'tight'),\n",
       " (1.651292546497023, 'dancefloor'),\n",
       " (0.8465735902799727, 'up'),\n",
       " (1.651292546497023, 'lines'),\n",
       " (1.651292546497023, 'animal'),\n",
       " (0.9581453659370776, 'So'),\n",
       " (1.651292546497023, 'base'),\n",
       " (1.651292546497023, 'reach'),\n",
       " (1.651292546497023, 'faded'),\n",
       " (1.651292546497023, 'true'),\n",
       " (1.4693152028839571, 'too'),\n",
       " (1.3047189562170503, 'but'),\n",
       " (1.3047189562170503, 'shit'),\n",
       " (1.651292546497023, 'pissed'),\n",
       " (0.7369070104385509, 'a'),\n",
       " (1.651292546497023, 'his'),\n",
       " (1.651292546497023, 'filled'),\n",
       " (1.651292546497023, 'some'),\n",
       " (1.651292546497023, 'swear'),\n",
       " (1.3047189562170503, 'cause'),\n",
       " (0.8465735902799727, 'all'),\n",
       " (1.651292546497023, 'put'),\n",
       " (1.651292546497023, 'replay'),\n",
       " (1.651292546497023, 'above'),\n",
       " (1.651292546497023, 'pure'),\n",
       " (1.651292546497023, 'alone'),\n",
       " (1.651292546497023, 'Praising'),\n",
       " (1.651292546497023, 'rush'),\n",
       " (1.651292546497023, 'here'),\n",
       " (1.651292546497023, 'wait'),\n",
       " (1.651292546497023, 'shots'),\n",
       " (1.651292546497023, 'fake'),\n",
       " (1.3047189562170503, 'Every'),\n",
       " (1.651292546497023, 'hair'),\n",
       " (1.651292546497023, 'man'),\n",
       " (1.651292546497023, 'scared'),\n",
       " (2.201723395329364, 'Through'),\n",
       " (1.101986402162968, 'It'),\n",
       " (1.0072170825106603, 'are'),\n",
       " (2.7521542441617046, 'Of'),\n",
       " (1.3047189562170503, 'will'),\n",
       " (0.8465735902799727, 'we'),\n",
       " (1.651292546497023, 'old'),\n",
       " (1.651292546497023, 'madman'),\n",
       " (1.3047189562170503, 'life'),\n",
       " (1.651292546497023, 'took'),\n",
       " (1.651292546497023, 'hand'),\n",
       " (0.9581453659370776, '('),\n",
       " (1.651292546497023, 'faces'),\n",
       " (1.651292546497023, 'thang'),\n",
       " (1.651292546497023, 'trust'),\n",
       " (1.651292546497023, 'pledge'),\n",
       " (1.3047189562170503, '.'),\n",
       " (1.101986402162968, 'club'),\n",
       " (2.7521542441617046, 'serve'),\n",
       " (1.651292546497023, 'shoes'),\n",
       " (1.651292546497023, 'bedsheets'),\n",
       " (1.651292546497023, 'Young'),\n",
       " (1.651292546497023, 'far'),\n",
       " (1.651292546497023, 'bubblin'),\n",
       " (1.651292546497023, 'speakers'),\n",
       " (1.651292546497023, 'enemies'),\n",
       " (1.651292546497023, 'today'),\n",
       " (1.651292546497023, 'lead'),\n",
       " (1.651292546497023, 'four'),\n",
       " (1.651292546497023, 'Body'),\n",
       " (1.3047189562170503, 'run'),\n",
       " (2.201723395329364, 'late'),\n",
       " (1.651292546497023, 'Mi'),\n",
       " (1.101986402162968, 'start'),\n",
       " (0.7369070104385509, ','),\n",
       " (0.7554128118829954, 'that'),\n",
       " (0.9581453659370776, 'heat'),\n",
       " (1.651292546497023, 'bag'),\n",
       " (1.651292546497023, 'forgot'),\n",
       " (1.3047189562170503, 'been'),\n",
       " (2.201723395329364, 'beyond'),\n",
       " (2.7521542441617046, 'return'),\n",
       " (1.3047189562170503, 'high'),\n",
       " (1.651292546497023, 'low'),\n",
       " (1.3047189562170503, 'free'),\n",
       " (0.9581453659370776, 'come'),\n",
       " (1.651292546497023, 'dear'),\n",
       " (0.7554128118829954, \"'re\"),\n",
       " (1.3047189562170503, 'forever'),\n",
       " (1.651292546497023, 'If'),\n",
       " (1.101986402162968, \"'m\"),\n",
       " (1.651292546497023, 'says'),\n",
       " (1.651292546497023, 'conversation'),\n",
       " (1.3047189562170503, 'have'),\n",
       " (1.651292546497023, 'level'),\n",
       " (1.3047189562170503, 'without'),\n",
       " (0.9044499626258216, \"'s\"),\n",
       " (1.651292546497023, 'Right'),\n",
       " (1.651292546497023, 'short'),\n",
       " (1.651292546497023, 'currency'),\n",
       " (1.651292546497023, 'thing'),\n",
       " (1.651292546497023, 'simple'),\n",
       " (1.101986402162968, 'be'),\n",
       " (1.651292546497023, 'Ai'),\n",
       " (0.9581453659370776, 'so'),\n",
       " (1.651292546497023, 'line'),\n",
       " (1.651292546497023, '9'),\n",
       " (1.3047189562170503, 'follow'),\n",
       " (1.651292546497023, 'might'),\n",
       " (1.3047189562170503, 'again'),\n",
       " (1.651292546497023, 'Turn'),\n",
       " (1.651292546497023, 'over'),\n",
       " (1.651292546497023, 'tonight'),\n",
       " (1.651292546497023, 'Gulls'),\n",
       " (1.651292546497023, 'wine'),\n",
       " (0.9581453659370776, 'can'),\n",
       " (1.651292546497023, 'car'),\n",
       " (1.3047189562170503, 'eyes'),\n",
       " (1.651292546497023, 'reminds'),\n",
       " (1.651292546497023, 'waistline'),\n",
       " (1.101986402162968, 'how'),\n",
       " (1.651292546497023, 'begin'),\n",
       " (1.651292546497023, 'moment'),\n",
       " (1.651292546497023, 'rooftop'),\n",
       " (1.651292546497023, 'language'),\n",
       " (1.651292546497023, 'wave'),\n",
       " (1.651292546497023, 'bright'),\n",
       " (1.651292546497023, 'house'),\n",
       " (1.3047189562170503, 'Ca'),\n",
       " (1.651292546497023, 'world'),\n",
       " (1.651292546497023, 'look'),\n",
       " (0.7369070104385509, 'it'),\n",
       " (1.651292546497023, 'miss'),\n",
       " (1.651292546497023, 'Mama'),\n",
       " (1.651292546497023, 'ceiling'),\n",
       " (1.3047189562170503, 'boy'),\n",
       " (1.651292546497023, 'same'),\n",
       " (1.651292546497023, 'stop'),\n",
       " (1.101986402162968, 'dreams'),\n",
       " (1.101986402162968, 'Do'),\n",
       " (1.651292546497023, 'seen'),\n",
       " (1.3047189562170503, 'That'),\n",
       " (1.651292546497023, 'hot'),\n",
       " (1.651292546497023, 'kiss'),\n",
       " (1.3047189562170503, 'way'),\n",
       " (1.651292546497023, 'care'),\n",
       " (1.651292546497023, 'bomb'),\n",
       " (1.3047189562170503, '!'),\n",
       " (1.651292546497023, 'bout'),\n",
       " (1.651292546497023, 'inch'),\n",
       " (1.3047189562170503, 'hard'),\n",
       " (1.651292546497023, 'Them'),\n",
       " (1.651292546497023, 'Why'),\n",
       " (1.651292546497023, 'golden'),\n",
       " (1.651292546497023, 'score'),\n",
       " (1.651292546497023, 'first'),\n",
       " (1.651292546497023, 'tomorrow'),\n",
       " (1.3047189562170503, 'music'),\n",
       " (1.651292546497023, 'songs'),\n",
       " (1.651292546497023, 'cry'),\n",
       " (1.651292546497023, 'friend'),\n",
       " (0.8465735902799727, 'for'),\n",
       " (1.4693152028839571, 'This'),\n",
       " (1.651292546497023, 'smile'),\n",
       " (0.9581453659370776, 'just'),\n",
       " (1.651292546497023, 'big'),\n",
       " (1.651292546497023, 'alright'),\n",
       " (1.651292546497023, 'Said'),\n",
       " (1.651292546497023, 'sandpit'),\n",
       " (1.3047189562170503, 'ca'),\n",
       " (1.651292546497023, 'stand'),\n",
       " (1.651292546497023, 'drop'),\n",
       " (1.651292546497023, 'behind'),\n",
       " (1.651292546497023, 'given'),\n",
       " (1.651292546497023, 'knew'),\n",
       " (1.651292546497023, 'bubbly'),\n",
       " (1.651292546497023, 'nights'),\n",
       " (1.3047189562170503, \"'\"),\n",
       " (1.3047189562170503, 'see'),\n",
       " (1.651292546497023, 'falling'),\n",
       " (1.651292546497023, 'going'),\n",
       " (1.651292546497023, 'try'),\n",
       " (1.651292546497023, 'Then'),\n",
       " (1.651292546497023, 'Stop'),\n",
       " (1.651292546497023, 'light'),\n",
       " (1.651292546497023, 'week'),\n",
       " (1.651292546497023, 'changes'),\n",
       " (2.7521542441617046, 'learn'),\n",
       " (0.8465735902799727, 'make'),\n",
       " (1.651292546497023, 'broke'),\n",
       " (1.651292546497023, 'race'),\n",
       " (1.101986402162968, 'need'),\n",
       " (1.0072170825106603, 'We'),\n",
       " (1.3047189562170503, 'what'),\n",
       " (1.651292546497023, 'lied'),\n",
       " (1.651292546497023, 'di'),\n",
       " (1.651292546497023, 'wonderful'),\n",
       " (1.651292546497023, 'were'),\n",
       " (1.651292546497023, 'perfect'),\n",
       " (1.651292546497023, 'God'),\n",
       " (1.739625274956067, 'sun'),\n",
       " (1.3047189562170503, 'time'),\n",
       " (1.651292546497023, 'spinning'),\n",
       " (1.651292546497023, 'single'),\n",
       " (1.651292546497023, 'every'),\n",
       " (1.3047189562170503, 'then'),\n",
       " (1.651292546497023, 'set'),\n",
       " (1.0072170825106603, 'You'),\n",
       " (1.651292546497023, 'sitting'),\n",
       " (1.651292546497023, 'handmade'),\n",
       " (1.3047189562170503, 'there'),\n",
       " (1.651292546497023, 'spot'),\n",
       " (1.651292546497023, 'Up'),\n",
       " (1.651292546497023, 'lies'),\n",
       " (1.651292546497023, 'active'),\n",
       " (1.3047189562170503, 'our'),\n",
       " (1.3047189562170503, 'while'),\n",
       " (1.651292546497023, 'absurd'),\n",
       " (1.651292546497023, 'fading'),\n",
       " (1.651292546497023, 'sad'),\n",
       " (1.651292546497023, 'Forever'),\n",
       " (1.651292546497023, 'melody'),\n",
       " (1.651292546497023, 'disagree'),\n",
       " (1.3047189562170503, 'party'),\n",
       " (1.651292546497023, 'him'),\n",
       " (1.651292546497023, 'even'),\n",
       " (1.651292546497023, 'emotional'),\n",
       " (0.9581453659370776, 'ever'),\n",
       " (1.3047189562170503, 'really'),\n",
       " (1.651292546497023, 'thrifty'),\n",
       " (1.651292546497023, 'die'),\n",
       " (1.651292546497023, 'star'),\n",
       " (1.651292546497023, 'stops'),\n",
       " (1.651292546497023, 'many'),\n",
       " (2.201723395329364, 'window'),\n",
       " (1.101986402162968, 'got'),\n",
       " (1.3047189562170503, 'space'),\n",
       " (1.651292546497023, 'Sooner'),\n",
       " (1.651292546497023, 'secrets'),\n",
       " (1.651292546497023, 'jukebox'),\n",
       " (1.101986402162968, 'love'),\n",
       " (1.651292546497023, 'keep'),\n",
       " (1.651292546497023, 'girl'),\n",
       " (1.651292546497023, 'views'),\n",
       " (1.651292546497023, 'Because'),\n",
       " (1.651292546497023, 'playing'),\n",
       " (1.3047189562170503, 'No'),\n",
       " (1.651292546497023, 'Protect'),\n",
       " (1.651292546497023, 'saying'),\n",
       " (1.651292546497023, 'sea'),\n",
       " (1.101986402162968, 'baby'),\n",
       " (1.3047189562170503, 'friends'),\n",
       " (1.3047189562170503, 'back'),\n",
       " (1.651292546497023, 'hate'),\n",
       " (0.6783374719693662, 'like'),\n",
       " (0.8154290342094731, 'And'),\n",
       " (0.8154290342094731, 'me'),\n",
       " (0.8465735902799727, 'know'),\n",
       " (0.6783374719693662, \"n't\"),\n",
       " (2.201723395329364, 'Where'),\n",
       " (1.651292546497023, 'may'),\n",
       " (1.651292546497023, 'seem'),\n",
       " (1.651292546497023, 'road'),\n",
       " (1.651292546497023, 'adore'),\n",
       " (1.8366440036049465, 'happy'),\n",
       " (1.651292546497023, 'stay'),\n",
       " (1.651292546497023, 'wan'),\n",
       " (1.651292546497023, 'slow'),\n",
       " (0.9581453659370776, 'on'),\n",
       " (1.651292546497023, 'waist'),\n",
       " (1.651292546497023, 'down'),\n",
       " (1.651292546497023, 'ours'),\n",
       " (1.3047189562170503, \"'Cause\"),\n",
       " (0.6783374719693662, 'I'),\n",
       " (1.651292546497023, 'Drinking'),\n",
       " (1.651292546497023, 'justice'),\n",
       " (1.651292546497023, 'Daddy'),\n",
       " (1.651292546497023, 'gon'),\n",
       " (1.651292546497023, 'future'),\n",
       " (1.651292546497023, 'pon'),\n",
       " (3.302585092994046, 'Beyond'),\n",
       " (1.651292546497023, 'Hoping'),\n",
       " (1.651292546497023, 'find'),\n",
       " (1.651292546497023, 'from'),\n",
       " (1.651292546497023, 'town'),\n",
       " (1.651292546497023, 'record'),\n",
       " (1.3047189562170503, 'Everything'),\n",
       " (1.651292546497023, 'talk'),\n",
       " (0.7554128118829954, 'do'),\n",
       " (0.8465735902799727, 'they'),\n",
       " (1.3047189562170503, 'something'),\n",
       " (1.101986402162968, 'Is'),\n",
       " (1.651292546497023, 'stars'),\n",
       " (1.3047189562170503, 'beat'),\n",
       " (1.651292546497023, 'Your'),\n",
       " (1.101986402162968, 'play'),\n",
       " (1.4109559837999543, 'never'),\n",
       " (1.651292546497023, 'After'),\n",
       " (1.651292546497023, 'apartment'),\n",
       " (1.651292546497023, 'read'),\n",
       " (1.651292546497023, 'till'),\n",
       " (1.651292546497023, 'things'),\n",
       " (1.651292546497023, 'feeling'),\n",
       " (1.651292546497023, 'table'),\n",
       " (1.651292546497023, 'power'),\n",
       " (1.651292546497023, 'driver'),\n",
       " (1.651292546497023, 'beautiful'),\n",
       " (1.651292546497023, 'smell'),\n",
       " (1.651292546497023, 'adventures'),\n",
       " (1.651292546497023, 'Gyal'),\n",
       " (1.3047189562170503, 'Get'),\n",
       " (1.651292546497023, 'Not'),\n",
       " (1.651292546497023, 'flip'),\n",
       " (1.651292546497023, 'lazy'),\n",
       " (1.651292546497023, \"'cause\"),\n",
       " (1.651292546497023, 'Shorty'),\n",
       " (1.651292546497023, 'chance'),\n",
       " (1.651292546497023, 'sign'),\n",
       " (1.651292546497023, 'approach'),\n",
       " (1.3047189562170503, 'Yeah'),\n",
       " (1.651292546497023, 'fast'),\n",
       " (1.651292546497023, 'Like'),\n",
       " (1.651292546497023, 'played'),\n",
       " (1.651292546497023, 'black'),\n",
       " (1.3047189562170503, 'day'),\n",
       " (1.651292546497023, 'Trying'),\n",
       " (1.651292546497023, 'Come'),\n",
       " (1.651292546497023, ';'),\n",
       " (1.651292546497023, 'song'),\n",
       " (1.651292546497023, 'allegiance'),\n",
       " (1.651292546497023, 'three'),\n",
       " (1.651292546497023, 'later'),\n",
       " (1.651292546497023, 'Youth'),\n",
       " (1.651292546497023, 'magnet'),\n",
       " (1.3047189562170503, 'Tell'),\n",
       " (1.3047189562170503, 'new'),\n",
       " (1.3047189562170503, 'one'),\n",
       " (1.651292546497023, 'ya'),\n",
       " (1.651292546497023, 'getting'),\n",
       " (1.651292546497023, 'trip'),\n",
       " (1.651292546497023, 'okay'),\n",
       " (1.3047189562170503, 'best'),\n",
       " (1.101986402162968, 'take'),\n",
       " (1.651292546497023, 'break'),\n",
       " (1.651292546497023, 'step-by-step'),\n",
       " (1.651292546497023, 'coming'),\n",
       " (1.651292546497023, 'doing'),\n",
       " (2.201723395329364, 'point'),\n",
       " (1.3047189562170503, 'about'),\n",
       " (2.1745315936950838, 'They'),\n",
       " (1.651292546497023, 'gyal'),\n",
       " (1.3047189562170503, 'trying'),\n",
       " (1.651292546497023, 'singing'),\n",
       " (1.651292546497023, 'did'),\n",
       " (1.651292546497023, 'push'),\n",
       " (1.5108256237659907, 'The'),\n",
       " (1.651292546497023, '...'),\n",
       " (1.651292546497023, 'sore'),\n",
       " (1.0192862927618414, 'the'),\n",
       " (1.651292546497023, 'think'),\n",
       " (1.651292546497023, 'Sitting'),\n",
       " (2.7521542441617046, 'damage'),\n",
       " (1.651292546497023, 'touch'),\n",
       " (1.651292546497023, 'much'),\n",
       " (1.651292546497023, 'brand'),\n",
       " (1.8366440036049465, 'Just'),\n",
       " (1.3047189562170503, 'us'),\n",
       " (1.651292546497023, 'backseat'),\n",
       " (1.651292546497023, 'd-day'),\n",
       " (1.651292546497023, 'magic'),\n",
       " (1.3047189562170503, 'Make'),\n",
       " (1.651292546497023, 'hide'),\n",
       " (1.651292546497023, 'meet'),\n",
       " (1.3047189562170503, 'ends'),\n",
       " (1.651292546497023, 'dirty'),\n",
       " (1.651292546497023, 'She'),\n",
       " (1.651292546497023, 'fills'),\n",
       " (1.3047189562170503, 'was'),\n",
       " (1.651292546497023, 'two'),\n",
       " (1.651292546497023, 'end'),\n",
       " (0.8465735902799727, 'this'),\n",
       " (1.3047189562170503, 'mind'),\n",
       " (1.651292546497023, 'expecting'),\n",
       " (1.651292546497023, 'diamonds'),\n",
       " (2.201723395329364, 'Dreamers'),\n",
       " (1.101986402162968, 'go'),\n",
       " (1.651292546497023, 'Some'),\n",
       " (1.3047189562170503, 'crazy'),\n",
       " (0.7554128118829954, 'my'),\n",
       " (1.651292546497023, 'watching'),\n",
       " (0.6783374719693662, 'in'),\n",
       " (1.651292546497023, 'babe'),\n",
       " (1.651292546497023, 'pull'),\n",
       " (0.6666666666666666, 'you'),\n",
       " (1.101986402162968, \"'ve\"),\n",
       " (1.651292546497023, 'Sky'),\n",
       " (1.651292546497023, 'Grab'),\n",
       " (1.651292546497023, 'say'),\n",
       " (0.8465735902799727, 'let'),\n",
       " (1.651292546497023, 'fill'),\n",
       " (1.651292546497023, 'skin'),\n",
       " (1.651292546497023, 'Fill'),\n",
       " (1.651292546497023, 'into'),\n",
       " (1.651292546497023, 'shake'),\n",
       " (2.201723395329364, 'goes'),\n",
       " (1.3047189562170503, 'gone'),\n",
       " (1.651292546497023, 'Flip'),\n",
       " (1.3047189562170503, 'its'),\n",
       " (1.651292546497023, 'independence'),\n",
       " (1.651292546497023, 'she'),\n",
       " (1.651292546497023, 'stable'),\n",
       " (1.651292546497023, 'could'),\n",
       " (1.651292546497023, 'next'),\n",
       " (1.101986402162968, 'To'),\n",
       " (1.651292546497023, 'horse'),\n",
       " (1.651292546497023, 'realize'),\n",
       " (1.651292546497023, 'thick'),\n",
       " (1.651292546497023, 'Say'),\n",
       " (1.651292546497023, 'stove'),\n",
       " (1.651292546497023, 'legs'),\n",
       " (2.201723395329364, 'By'),\n",
       " (0.9581453659370776, 'with'),\n",
       " (0.9581453659370776, 'not'),\n",
       " (0.8465735902799727, 'want'),\n",
       " (1.651292546497023, 'There'),\n",
       " (1.651292546497023, 'through'),\n",
       " (1.651292546497023, 'more'),\n",
       " (1.651292546497023, \"'d\"),\n",
       " (1.651292546497023, 'air'),\n",
       " (1.651292546497023, 'troubles'),\n",
       " (1.651292546497023, 'date'),\n",
       " (1.101986402162968, 'live'),\n",
       " (1.651292546497023, 'Tonight'),\n",
       " (1.651292546497023, 'Fills'),\n",
       " (1.3047189562170503, 'Baby'),\n",
       " (1.651292546497023, 'eat'),\n",
       " (1.651292546497023, 'tell'),\n",
       " (1.651292546497023, 'tired'),\n",
       " (2.201723395329364, 'comes'),\n",
       " (1.651292546497023, 'feel'),\n",
       " (1.651292546497023, 'Bubblin'),\n",
       " (1.651292546497023, 'He'),\n",
       " (1.651292546497023, 'discovering'),\n",
       " (1.651292546497023, 'stamp'),\n",
       " (1.651292546497023, 'everywhere'),\n",
       " (1.4693152028839571, 'room'),\n",
       " (1.651292546497023, 'Forget'),\n",
       " (1.651292546497023, 'story'),\n",
       " (1.651292546497023, 'worst'),\n",
       " (1.101986402162968, 'body'),\n",
       " (1.651292546497023, 'My'),\n",
       " (1.651292546497023, 'spaces'),\n",
       " (1.651292546497023, 'type'),\n",
       " (1.651292546497023, 'books'),\n",
       " (1.101986402162968, \"'ll\"),\n",
       " (1.651292546497023, 'Wine'),\n",
       " (1.651292546497023, 'Although'),\n",
       " (1.651292546497023, 'heard'),\n",
       " (0.9581453659370776, '?'),\n",
       " (1.651292546497023, 'wo'),\n",
       " (1.651292546497023, 'Declare'),\n",
       " (1.651292546497023, 'turn'),\n",
       " (1.3047189562170503, 'Here'),\n",
       " (1.651292546497023, 'children'),\n",
       " (1.651292546497023, 'everything'),\n",
       " (1.651292546497023, 'Heaven'),\n",
       " (1.3047189562170503, \"'bout\"),\n",
       " (1.651292546497023, 'Flipagram'),\n",
       " (1.3047189562170503, 'right'),\n",
       " (1.651292546497023, 'ancient'),\n",
       " (1.651292546497023, 'middle'),\n",
       " (1.651292546497023, 'should'),\n",
       " (1.651292546497023, 'wanted'),\n",
       " (1.651292546497023, 'Take'),\n",
       " (1.651292546497023, 'somebody'),\n",
       " (1.651292546497023, 'Are'),\n",
       " (1.651292546497023, 'plate'),\n",
       " (1.651292546497023, 'send'),\n",
       " (1.651292546497023, 'shot'),\n",
       " (1.3047189562170503, 'worry'),\n",
       " (1.651292546497023, 'past'),\n",
       " (1.651292546497023, 'fight'),\n",
       " (1.651292546497023, 'anything'),\n",
       " (1.651292546497023, 'Last'),\n",
       " (1.101986402162968, 'na'),\n",
       " (1.651292546497023, 'palm'),\n",
       " (1.651292546497023, 'style'),\n",
       " (2.201723395329364, 'white'),\n",
       " (1.651292546497023, 'From'),\n",
       " (1.651292546497023, 'uh'),\n",
       " (1.651292546497023, 'Girl'),\n",
       " (1.651292546497023, 'DJ'),\n",
       " (1.651292546497023, 'Man'),\n",
       " (1.651292546497023, 'sunshine'),\n",
       " (1.651292546497023, 'skies'),\n",
       " (1.651292546497023, 'sweet'),\n",
       " (1.3047189562170503, 'leave'),\n",
       " (1.651292546497023, 'taxi'),\n",
       " (1.651292546497023, 'ting'),\n",
       " (1.651292546497023, 'One'),\n",
       " (0.8465735902799727, 'Oh'),\n",
       " (1.651292546497023, 'ship'),\n",
       " (1.651292546497023, 'water'),\n",
       " (1.651292546497023, 'shape'),\n",
       " (1.3047189562170503, 'family'),\n",
       " (1.651292546497023, 'Sun'),\n",
       " (1.651292546497023, 'lights'),\n",
       " (1.3047189562170503, 'bar'),\n",
       " (1.651292546497023, 'hours'),\n",
       " (1.101986402162968, 'night'),\n",
       " (1.651292546497023, 'Van'),\n",
       " (1.651292546497023, 'thinking'),\n",
       " (1.101986402162968, 'when'),\n",
       " (1.651292546497023, 'lonely'),\n",
       " (1.3047189562170503, 'only'),\n",
       " (1.651292546497023, \"'Til\"),\n",
       " (1.651292546497023, 'dip'),\n",
       " (1.651292546497023, 'show'),\n",
       " (1.651292546497023, 'guess'),\n",
       " (0.8333333333333333, 'to'),\n",
       " (0.7554128118829954, 'and'),\n",
       " (1.651292546497023, 'head'),\n",
       " (1.651292546497023, 'carnival'),\n",
       " (1.3047189562170503, 'Me'),\n",
       " (1.651292546497023, 'mmmm'),\n",
       " (1.651292546497023, 'or'),\n",
       " (1.3047189562170503, 'blue'),\n",
       " (1.130562453282277, 'is'),\n",
       " (1.101986402162968, 'where'),\n",
       " (1.3047189562170503, 'Let'),\n",
       " (1.651292546497023, 'good'),\n",
       " (1.651292546497023, 'minutes'),\n",
       " (1.101986402162968, 'dance'),\n",
       " (1.651292546497023, 'Surrounded'),\n",
       " (1.651292546497023, 'Can'),\n",
       " (1.651292546497023, 'Moon'),\n",
       " (1.651292546497023, 'shining'),\n",
       " (0.9581453659370776, 'get'),\n",
       " (1.3047189562170503, 'by'),\n",
       " (1.101986402162968, 'give'),\n",
       " (1.651292546497023, 'oh'),\n",
       " (1.651292546497023, 'hurry'),\n",
       " (0.9581453659370776, ')'),\n",
       " (1.3047189562170503, 'sky'),\n",
       " (1.651292546497023, 'around'),\n",
       " (1.651292546497023, 'pretending'),\n",
       " (1.3047189562170503, 'heart'),\n",
       " (1.651292546497023, 'swinging'),\n",
       " (1.651292546497023, 'cure'),\n",
       " (1.651292546497023, 'sour'),\n",
       " (1.651292546497023, 'unfair'),\n",
       " (1.651292546497023, 'Emotional'),\n",
       " (1.651292546497023, 'CK'),\n",
       " (1.651292546497023, 'perish'),\n",
       " (1.651292546497023, 'drive'),\n",
       " (1.651292546497023, 'sexy'),\n",
       " (0.9581453659370776, 'out'),\n",
       " (1.651292546497023, 'matters'),\n",
       " (1.651292546497023, 'laugh'),\n",
       " (1.651292546497023, 'tune'),\n",
       " (1.651292546497023, 'went'),\n",
       " (1.651292546497023, 'morning'),\n",
       " (1.8366440036049465, 'no'),\n",
       " (1.651292546497023, 'leaders'),\n",
       " (1.651292546497023, 'ask'),\n",
       " (1.651292546497023, 'place'),\n",
       " (1.651292546497023, 'young'),\n",
       " (1.651292546497023, 'ashes'),\n",
       " (1.651292546497023, 'Leave'),\n",
       " (1.651292546497023, 'blurry'),\n",
       " (1.651292546497023, 'nobody'),\n",
       " (1.101986402162968, 'at'),\n",
       " (1.651292546497023, 'her'),\n",
       " (1.651292546497023, 'Look'),\n",
       " (1.651292546497023, 'straight'),\n",
       " (1.651292546497023, 'film'),\n",
       " (1.651292546497023, 'Start'),\n",
       " (1.651292546497023, 'yeah'),\n",
       " (1.651292546497023, 'fa'),\n",
       " (1.651292546497023, 'food')]"
      ]
     },
     "execution_count": 86,
     "metadata": {},
     "output_type": "execute_result"
    }
   ],
   "source": [
    "tfidf_representation[0]"
   ]
  },
  {
   "cell_type": "code",
   "execution_count": 89,
   "metadata": {},
   "outputs": [
    {
     "name": "stdout",
     "output_type": "stream",
     "text": [
      "[(1.651292546497023, 'off'), (1.651292546497023, 'standing'), (1.651292546497023, 'imagine'), (1.651292546497023, 'business'), (1.651292546497023, 'scar'), (1.651292546497023, 'lover'), (1.651292546497023, 'When'), (1.651292546497023, 'radio'), (1.651292546497023, 'uses'), (1.651292546497023, 'La'), (1.651292546497023, 'hang'), (1.651292546497023, 'bumpa'), (1.3468722693102944, 'own'), (1.651292546497023, 'between'), (1.651292546497023, 'staying'), (1.651292546497023, 'feels'), (1.651292546497023, 'mi'), (0.8465735902799727, 'now'), (0.8154290342094731, 'your'), (1.651292546497023, 'makes'), (2.1745315936950838, 'them'), (1.651292546497023, 'won'), (0.7554128118829954, 'of'), (1.651292546497023, 'done'), (1.651292546497023, 'tight'), (1.651292546497023, 'dancefloor'), (0.8465735902799727, 'up'), (1.651292546497023, 'lines'), (1.651292546497023, 'animal'), (0.9581453659370776, 'So'), (1.651292546497023, 'base'), (1.651292546497023, 'reach'), (1.651292546497023, 'faded'), (1.651292546497023, 'true'), (1.101986402162968, 'too'), (1.3047189562170503, 'but'), (1.3047189562170503, 'shit'), (1.651292546497023, 'pissed'), (0.5526802578289132, 'a'), (1.651292546497023, 'his'), (1.651292546497023, 'filled'), (1.651292546497023, 'some'), (1.651292546497023, 'swear'), (1.3047189562170503, 'cause'), (0.8465735902799727, 'all'), (1.651292546497023, 'put'), (1.651292546497023, 'replay'), (1.651292546497023, 'above'), (1.651292546497023, 'pure'), (1.651292546497023, 'alone'), (1.651292546497023, 'Praising'), (1.651292546497023, 'rush'), (1.651292546497023, 'here'), (1.651292546497023, 'wait'), (1.651292546497023, 'shots'), (1.651292546497023, 'fake'), (1.3047189562170503, 'Every'), (1.651292546497023, 'hair'), (1.651292546497023, 'man'), (1.651292546497023, 'scared'), (1.651292546497023, 'Through'), (1.101986402162968, 'It'), (0.7554128118829954, 'are'), (1.651292546497023, 'Of'), (1.3047189562170503, 'will'), (0.8465735902799727, 'we'), (1.651292546497023, 'old'), (1.651292546497023, 'madman'), (1.3047189562170503, 'life'), (1.651292546497023, 'took'), (1.651292546497023, 'hand'), (1.27752715458277, '('), (1.651292546497023, 'faces'), (1.651292546497023, 'thang'), (1.651292546497023, 'trust'), (1.651292546497023, 'pledge'), (1.3047189562170503, '.'), (1.101986402162968, 'club'), (1.651292546497023, 'serve'), (1.651292546497023, 'shoes'), (1.651292546497023, 'bedsheets'), (1.651292546497023, 'Young'), (1.651292546497023, 'far'), (1.651292546497023, 'bubblin'), (1.651292546497023, 'speakers'), (1.651292546497023, 'enemies'), (1.651292546497023, 'today'), (1.651292546497023, 'lead'), (1.651292546497023, 'four'), (1.651292546497023, 'Body'), (1.3047189562170503, 'run'), (1.651292546497023, 'late'), (1.651292546497023, 'Mi'), (1.101986402162968, 'start'), (0.5526802578289132, ','), (1.2590213531383254, 'that'), (0.9581453659370776, 'heat'), (1.651292546497023, 'bag'), (1.651292546497023, 'forgot'), (1.3047189562170503, 'been'), (1.651292546497023, 'beyond'), (1.651292546497023, 'return'), (1.3047189562170503, 'high'), (1.651292546497023, 'low'), (1.3047189562170503, 'free'), (0.9581453659370776, 'come'), (1.651292546497023, 'dear'), (0.7554128118829954, \"'re\"), (1.3047189562170503, 'forever'), (1.651292546497023, 'If'), (1.101986402162968, \"'m\"), (1.651292546497023, 'says'), (1.651292546497023, 'conversation'), (1.3047189562170503, 'have'), (1.651292546497023, 'level'), (1.3047189562170503, 'without'), (0.6783374719693662, \"'s\"), (1.651292546497023, 'Right'), (1.651292546497023, 'short'), (1.8347694961078034, 'currency'), (1.651292546497023, 'thing'), (1.651292546497023, 'simple'), (1.101986402162968, 'be'), (1.651292546497023, 'Ai'), (0.9581453659370776, 'so'), (1.651292546497023, 'line'), (1.651292546497023, '9'), (1.3047189562170503, 'follow'), (1.651292546497023, 'might'), (1.3047189562170503, 'again'), (1.651292546497023, 'Turn'), (1.651292546497023, 'over'), (1.651292546497023, 'tonight'), (1.651292546497023, 'Gulls'), (1.651292546497023, 'wine'), (0.9581453659370776, 'can'), (1.651292546497023, 'car'), (1.3047189562170503, 'eyes'), (1.651292546497023, 'reminds'), (1.651292546497023, 'waistline'), (1.101986402162968, 'how'), (1.651292546497023, 'begin'), (1.651292546497023, 'moment'), (1.651292546497023, 'rooftop'), (1.8347694961078034, 'language'), (1.651292546497023, 'wave'), (1.651292546497023, 'bright'), (1.651292546497023, 'house'), (1.3047189562170503, 'Ca'), (1.651292546497023, 'world'), (1.651292546497023, 'look'), (0.5526802578289132, 'it'), (1.651292546497023, 'miss'), (1.651292546497023, 'Mama'), (1.651292546497023, 'ceiling'), (1.3047189562170503, 'boy'), (1.651292546497023, 'same'), (1.651292546497023, 'stop'), (1.101986402162968, 'dreams'), (1.8366440036049465, 'Do'), (1.651292546497023, 'seen'), (1.3047189562170503, 'That'), (1.651292546497023, 'hot'), (1.651292546497023, 'kiss'), (1.3047189562170503, 'way'), (1.651292546497023, 'care'), (1.651292546497023, 'bomb'), (2.6094379124341005, '!'), (1.651292546497023, 'bout'), (1.651292546497023, 'inch'), (1.3047189562170503, 'hard'), (1.651292546497023, 'Them'), (1.651292546497023, 'Why'), (1.651292546497023, 'golden'), (1.651292546497023, 'score'), (1.651292546497023, 'first'), (1.651292546497023, 'tomorrow'), (1.3047189562170503, 'music'), (1.651292546497023, 'songs'), (1.651292546497023, 'cry'), (1.651292546497023, 'friend'), (0.8465735902799727, 'for'), (1.101986402162968, 'This'), (1.651292546497023, 'smile'), (0.9581453659370776, 'just'), (1.651292546497023, 'big'), (1.651292546497023, 'alright'), (1.651292546497023, 'Said'), (1.651292546497023, 'sandpit'), (1.3047189562170503, 'ca'), (1.651292546497023, 'stand'), (1.651292546497023, 'drop'), (1.651292546497023, 'behind'), (1.651292546497023, 'given'), (1.651292546497023, 'knew'), (1.651292546497023, 'bubbly'), (1.651292546497023, 'nights'), (1.3047189562170503, \"'\"), (1.3047189562170503, 'see'), (1.651292546497023, 'falling'), (1.651292546497023, 'going'), (1.651292546497023, 'try'), (1.651292546497023, 'Then'), (1.651292546497023, 'Stop'), (1.651292546497023, 'light'), (1.651292546497023, 'week'), (1.651292546497023, 'changes'), (1.651292546497023, 'learn'), (0.8465735902799727, 'make'), (1.651292546497023, 'broke'), (1.651292546497023, 'race'), (1.101986402162968, 'need'), (0.7554128118829954, 'We'), (1.3047189562170503, 'what'), (1.651292546497023, 'lied'), (1.651292546497023, 'di'), (1.651292546497023, 'wonderful'), (1.651292546497023, 'were'), (1.651292546497023, 'perfect'), (1.651292546497023, 'God'), (1.3047189562170503, 'sun'), (1.3047189562170503, 'time'), (1.651292546497023, 'spinning'), (1.651292546497023, 'single'), (1.651292546497023, 'every'), (1.3047189562170503, 'then'), (1.651292546497023, 'set'), (0.7554128118829954, 'You'), (1.651292546497023, 'sitting'), (1.651292546497023, 'handmade'), (1.3047189562170503, 'there'), (1.651292546497023, 'spot'), (1.651292546497023, 'Up'), (1.651292546497023, 'lies'), (1.651292546497023, 'active'), (1.3047189562170503, 'our'), (1.3047189562170503, 'while'), (1.651292546497023, 'absurd'), (1.651292546497023, 'fading'), (1.651292546497023, 'sad'), (1.651292546497023, 'Forever'), (1.651292546497023, 'melody'), (1.651292546497023, 'disagree'), (1.3047189562170503, 'party'), (1.651292546497023, 'him'), (1.651292546497023, 'even'), (1.651292546497023, 'emotional'), (0.9581453659370776, 'ever'), (1.3047189562170503, 'really'), (1.651292546497023, 'thrifty'), (1.651292546497023, 'die'), (1.651292546497023, 'star'), (1.651292546497023, 'stops'), (1.651292546497023, 'many'), (1.651292546497023, 'window'), (1.101986402162968, 'got'), (1.3047189562170503, 'space'), (1.651292546497023, 'Sooner'), (1.651292546497023, 'secrets'), (1.651292546497023, 'jukebox'), (1.101986402162968, 'love'), (1.651292546497023, 'keep'), (1.651292546497023, 'girl'), (1.651292546497023, 'views'), (1.651292546497023, 'Because'), (1.651292546497023, 'playing'), (1.3047189562170503, 'No'), (1.8347694961078034, 'Protect'), (1.651292546497023, 'saying'), (1.651292546497023, 'sea'), (1.101986402162968, 'baby'), (1.3047189562170503, 'friends'), (1.3047189562170503, 'back'), (1.651292546497023, 'hate'), (0.6783374719693662, 'like'), (0.6115717756571049, 'And'), (0.6115717756571049, 'me'), (0.8465735902799727, 'know'), (1.130562453282277, \"n't\"), (1.651292546497023, 'Where'), (1.651292546497023, 'may'), (1.651292546497023, 'seem'), (1.651292546497023, 'road'), (1.651292546497023, 'adore'), (1.101986402162968, 'happy'), (1.651292546497023, 'stay'), (1.651292546497023, 'wan'), (1.651292546497023, 'slow'), (0.9581453659370776, 'on'), (1.651292546497023, 'waist'), (1.651292546497023, 'down'), (1.651292546497023, 'ours'), (1.3047189562170503, \"'Cause\"), (0.6783374719693662, 'I'), (1.651292546497023, 'Drinking'), (2.201723395329364, 'justice'), (1.651292546497023, 'Daddy'), (1.651292546497023, 'gon'), (1.651292546497023, 'future'), (1.651292546497023, 'pon'), (1.651292546497023, 'Beyond'), (1.651292546497023, 'Hoping'), (1.651292546497023, 'find'), (1.651292546497023, 'from'), (1.651292546497023, 'town'), (1.651292546497023, 'record'), (1.3047189562170503, 'Everything'), (1.651292546497023, 'talk'), (1.2590213531383254, 'do'), (0.8465735902799727, 'they'), (1.3047189562170503, 'something'), (1.101986402162968, 'Is'), (1.651292546497023, 'stars'), (1.3047189562170503, 'beat'), (1.651292546497023, 'Your'), (1.101986402162968, 'play'), (0.8465735902799727, 'never'), (1.651292546497023, 'After'), (1.651292546497023, 'apartment'), (1.651292546497023, 'read'), (1.651292546497023, 'till'), (1.651292546497023, 'things'), (1.651292546497023, 'feeling'), (1.651292546497023, 'table'), (1.651292546497023, 'power'), (1.651292546497023, 'driver'), (1.651292546497023, 'beautiful'), (1.651292546497023, 'smell'), (1.651292546497023, 'adventures'), (1.651292546497023, 'Gyal'), (1.3047189562170503, 'Get'), (1.651292546497023, 'Not'), (1.651292546497023, 'flip'), (1.651292546497023, 'lazy'), (1.651292546497023, \"'cause\"), (1.651292546497023, 'Shorty'), (1.651292546497023, 'chance'), (1.651292546497023, 'sign'), (1.651292546497023, 'approach'), (1.3047189562170503, 'Yeah'), (1.651292546497023, 'fast'), (1.651292546497023, 'Like'), (1.651292546497023, 'played'), (1.651292546497023, 'black'), (1.3047189562170503, 'day'), (1.651292546497023, 'Trying'), (1.651292546497023, 'Come'), (1.651292546497023, ';'), (1.651292546497023, 'song'), (1.651292546497023, 'allegiance'), (1.651292546497023, 'three'), (1.651292546497023, 'later'), (1.651292546497023, 'Youth'), (1.651292546497023, 'magnet'), (1.3047189562170503, 'Tell'), (1.3047189562170503, 'new'), (1.3047189562170503, 'one'), (1.651292546497023, 'ya'), (1.651292546497023, 'getting'), (1.651292546497023, 'trip'), (1.651292546497023, 'okay'), (1.3047189562170503, 'best'), (1.101986402162968, 'take'), (1.651292546497023, 'break'), (1.651292546497023, 'step-by-step'), (1.651292546497023, 'coming'), (1.651292546497023, 'doing'), (1.651292546497023, 'point'), (1.3047189562170503, 'about'), (1.3047189562170503, 'They'), (1.651292546497023, 'gyal'), (1.3047189562170503, 'trying'), (1.651292546497023, 'singing'), (1.651292546497023, 'did'), (1.651292546497023, 'push'), (0.7554128118829954, 'The'), (1.651292546497023, '...'), (1.651292546497023, 'sore'), (0.6115717756571049, 'the'), (1.651292546497023, 'think'), (1.651292546497023, 'Sitting'), (1.651292546497023, 'damage'), (1.651292546497023, 'touch'), (1.651292546497023, 'much'), (1.651292546497023, 'brand'), (1.101986402162968, 'Just'), (1.3047189562170503, 'us'), (1.651292546497023, 'backseat'), (1.651292546497023, 'd-day'), (1.651292546497023, 'magic'), (1.4496877291300558, 'Make'), (1.651292546497023, 'hide'), (1.651292546497023, 'meet'), (1.3047189562170503, 'ends'), (1.651292546497023, 'dirty'), (1.651292546497023, 'She'), (1.651292546497023, 'fills'), (1.3047189562170503, 'was'), (1.651292546497023, 'two'), (1.651292546497023, 'end'), (0.8465735902799727, 'this'), (1.3047189562170503, 'mind'), (1.651292546497023, 'expecting'), (1.651292546497023, 'diamonds'), (1.651292546497023, 'Dreamers'), (1.101986402162968, 'go'), (1.651292546497023, 'Some'), (1.3047189562170503, 'crazy'), (0.7554128118829954, 'my'), (1.651292546497023, 'watching'), (0.6783374719693662, 'in'), (1.651292546497023, 'babe'), (1.651292546497023, 'pull'), (0.8333333333333333, 'you'), (1.101986402162968, \"'ve\"), (1.651292546497023, 'Sky'), (1.651292546497023, 'Grab'), (1.651292546497023, 'say'), (1.4109559837999543, 'let'), (1.651292546497023, 'fill'), (1.651292546497023, 'skin'), (1.651292546497023, 'Fill'), (1.651292546497023, 'into'), (1.651292546497023, 'shake'), (1.651292546497023, 'goes'), (1.3047189562170503, 'gone'), (1.651292546497023, 'Flip'), (1.3047189562170503, 'its'), (2.7521542441617046, 'independence'), (1.651292546497023, 'she'), (1.651292546497023, 'stable'), (1.651292546497023, 'could'), (1.651292546497023, 'next'), (1.101986402162968, 'To'), (1.651292546497023, 'horse'), (1.651292546497023, 'realize'), (1.651292546497023, 'thick'), (1.651292546497023, 'Say'), (1.651292546497023, 'stove'), (1.651292546497023, 'legs'), (1.651292546497023, 'By'), (0.9581453659370776, 'with'), (0.9581453659370776, 'not'), (0.8465735902799727, 'want'), (1.651292546497023, 'There'), (1.651292546497023, 'through'), (1.651292546497023, 'more'), (1.651292546497023, \"'d\"), (1.651292546497023, 'air'), (1.651292546497023, 'troubles'), (1.651292546497023, 'date'), (1.101986402162968, 'live'), (1.651292546497023, 'Tonight'), (1.651292546497023, 'Fills'), (1.3047189562170503, 'Baby'), (1.651292546497023, 'eat'), (1.651292546497023, 'tell'), (1.651292546497023, 'tired'), (1.651292546497023, 'comes'), (1.651292546497023, 'feel'), (1.651292546497023, 'Bubblin'), (1.651292546497023, 'He'), (1.651292546497023, 'discovering'), (1.8347694961078034, 'stamp'), (1.651292546497023, 'everywhere'), (1.101986402162968, 'room'), (1.651292546497023, 'Forget'), (1.651292546497023, 'story'), (1.651292546497023, 'worst'), (1.101986402162968, 'body'), (1.651292546497023, 'My'), (1.651292546497023, 'spaces'), (1.651292546497023, 'type'), (1.651292546497023, 'books'), (1.101986402162968, \"'ll\"), (1.651292546497023, 'Wine'), (1.651292546497023, 'Although'), (1.651292546497023, 'heard'), (0.9581453659370776, '?'), (1.651292546497023, 'wo'), (2.7521542441617046, 'Declare'), (1.651292546497023, 'turn'), (1.3047189562170503, 'Here'), (1.651292546497023, 'children'), (1.651292546497023, 'everything'), (1.651292546497023, 'Heaven'), (1.3047189562170503, \"'bout\"), (1.651292546497023, 'Flipagram'), (1.3047189562170503, 'right'), (1.651292546497023, 'ancient'), (1.651292546497023, 'middle'), (1.651292546497023, 'should'), (1.651292546497023, 'wanted'), (1.651292546497023, 'Take'), (1.651292546497023, 'somebody'), (1.651292546497023, 'Are'), (1.651292546497023, 'plate'), (1.651292546497023, 'send'), (1.651292546497023, 'shot'), (1.3047189562170503, 'worry'), (1.651292546497023, 'past'), (1.651292546497023, 'fight'), (1.651292546497023, 'anything'), (1.651292546497023, 'Last'), (1.101986402162968, 'na'), (1.651292546497023, 'palm'), (1.651292546497023, 'style'), (1.651292546497023, 'white'), (1.651292546497023, 'From'), (1.651292546497023, 'uh'), (1.651292546497023, 'Girl'), (1.651292546497023, 'DJ'), (1.651292546497023, 'Man'), (1.651292546497023, 'sunshine'), (1.651292546497023, 'skies'), (1.651292546497023, 'sweet'), (1.3047189562170503, 'leave'), (1.651292546497023, 'taxi'), (1.651292546497023, 'ting'), (1.651292546497023, 'One'), (0.8465735902799727, 'Oh'), (1.651292546497023, 'ship'), (1.651292546497023, 'water'), (1.651292546497023, 'shape'), (1.3047189562170503, 'family'), (1.651292546497023, 'Sun'), (1.651292546497023, 'lights'), (1.3047189562170503, 'bar'), (1.651292546497023, 'hours'), (1.101986402162968, 'night'), (1.651292546497023, 'Van'), (1.651292546497023, 'thinking'), (1.101986402162968, 'when'), (1.651292546497023, 'lonely'), (1.3047189562170503, 'only'), (1.651292546497023, \"'Til\"), (1.651292546497023, 'dip'), (1.651292546497023, 'show'), (1.651292546497023, 'guess'), (0.8333333333333333, 'to'), (0.7554128118829954, 'and'), (1.651292546497023, 'head'), (1.651292546497023, 'carnival'), (1.3047189562170503, 'Me'), (1.651292546497023, 'mmmm'), (1.651292546497023, 'or'), (1.3047189562170503, 'blue'), (0.6783374719693662, 'is'), (1.101986402162968, 'where'), (1.3047189562170503, 'Let'), (1.651292546497023, 'good'), (1.651292546497023, 'minutes'), (1.101986402162968, 'dance'), (1.651292546497023, 'Surrounded'), (1.651292546497023, 'Can'), (1.651292546497023, 'Moon'), (1.651292546497023, 'shining'), (0.9581453659370776, 'get'), (1.3047189562170503, 'by'), (1.101986402162968, 'give'), (1.651292546497023, 'oh'), (1.651292546497023, 'hurry'), (1.27752715458277, ')'), (1.3047189562170503, 'sky'), (1.651292546497023, 'around'), (1.651292546497023, 'pretending'), (1.3047189562170503, 'heart'), (1.651292546497023, 'swinging'), (1.651292546497023, 'cure'), (1.651292546497023, 'sour'), (1.651292546497023, 'unfair'), (1.651292546497023, 'Emotional'), (1.651292546497023, 'CK'), (1.651292546497023, 'perish'), (1.651292546497023, 'drive'), (1.651292546497023, 'sexy'), (0.9581453659370776, 'out'), (1.651292546497023, 'matters'), (1.651292546497023, 'laugh'), (1.651292546497023, 'tune'), (1.651292546497023, 'went'), (1.651292546497023, 'morning'), (1.101986402162968, 'no'), (1.651292546497023, 'leaders'), (1.651292546497023, 'ask'), (1.651292546497023, 'place'), (1.651292546497023, 'young'), (1.651292546497023, 'ashes'), (1.651292546497023, 'Leave'), (1.651292546497023, 'blurry'), (1.651292546497023, 'nobody'), (1.101986402162968, 'at'), (1.651292546497023, 'her'), (1.651292546497023, 'Look'), (1.651292546497023, 'straight'), (1.651292546497023, 'film'), (1.8347694961078034, 'Start'), (1.651292546497023, 'yeah'), (1.651292546497023, 'fa'), (1.651292546497023, 'food')] Declare independence! Don't let them do that to you! Declare independence! Don't let them do that to you! (justice) Declare independence! Don't let them do that to you! Declare independence! Don't let them do that to you! (justice) Start your own currency! Make your own stamp Protect your language (justice) Declare independence Don't let them do that to you Declare independence Don't let them do that to you\n"
     ]
    }
   ],
   "source": [
    "print (tfidf_representation[1], lyric2)"
   ]
  },
  {
   "cell_type": "code",
   "execution_count": 90,
   "metadata": {},
   "outputs": [
    {
     "name": "stdout",
     "output_type": "stream",
     "text": [
      "[(1.651292546497023, 'off'), (1.651292546497023, 'standing'), (1.651292546497023, 'imagine'), (1.6936333810225874, 'business'), (1.651292546497023, 'scar'), (1.651292546497023, 'lover'), (1.651292546497023, 'When'), (1.651292546497023, 'radio'), (1.651292546497023, 'uses'), (1.651292546497023, 'La'), (1.651292546497023, 'hang'), (1.651292546497023, 'bumpa'), (1.2997788333204239, 'own'), (1.651292546497023, 'between'), (1.651292546497023, 'staying'), (1.651292546497023, 'feels'), (1.651292546497023, 'mi'), (0.8682806054153566, 'now'), (0.658615758399959, 'your'), (1.7359742155481523, 'makes'), (1.3047189562170503, 'them'), (1.651292546497023, 'won'), (0.7941519304410977, 'of'), (1.651292546497023, 'done'), (1.7359742155481523, 'tight'), (1.651292546497023, 'dancefloor'), (0.9116946356861244, 'up'), (1.6936333810225874, 'lines'), (1.651292546497023, 'animal'), (0.9581453659370776, 'So'), (1.6936333810225874, 'base'), (1.6936333810225874, 'reach'), (1.651292546497023, 'faded'), (1.651292546497023, 'true'), (1.101986402162968, 'too'), (1.3047189562170503, 'but'), (1.3381732884277437, 'shit'), (1.651292546497023, 'pissed'), (1.062846649670987, 'a'), (1.651292546497023, 'his'), (1.651292546497023, 'filled'), (1.651292546497023, 'some'), (1.6936333810225874, 'swear'), (1.3381732884277437, 'cause'), (0.9116946356861244, 'all'), (1.651292546497023, 'put'), (1.6936333810225874, 'replay'), (1.6936333810225874, 'above'), (1.651292546497023, 'pure'), (1.651292546497023, 'alone'), (1.651292546497023, 'Praising'), (1.651292546497023, 'rush'), (1.651292546497023, 'here'), (1.651292546497023, 'wait'), (1.651292546497023, 'shots'), (1.651292546497023, 'fake'), (1.3047189562170503, 'Every'), (1.651292546497023, 'hair'), (1.651292546497023, 'man'), (1.651292546497023, 'scared'), (1.651292546497023, 'Through'), (1.101986402162968, 'It'), (0.7941519304410977, 'are'), (1.651292546497023, 'Of'), (1.3381732884277437, 'will'), (1.1504718021753475, 'we'), (1.651292546497023, 'old'), (1.651292546497023, 'madman'), (1.3047189562170503, 'life'), (1.651292546497023, 'took'), (1.651292546497023, 'hand'), (0.9581453659370776, '('), (1.651292546497023, 'faces'), (1.6936333810225874, 'thang'), (1.651292546497023, 'trust'), (1.651292546497023, 'pledge'), (1.3047189562170503, '.'), (1.1302424637568902, 'club'), (1.651292546497023, 'serve'), (1.651292546497023, 'shoes'), (1.651292546497023, 'bedsheets'), (1.6936333810225874, 'Young'), (1.651292546497023, 'far'), (1.651292546497023, 'bubblin'), (1.651292546497023, 'speakers'), (1.651292546497023, 'enemies'), (1.651292546497023, 'today'), (1.651292546497023, 'lead'), (1.651292546497023, 'four'), (1.651292546497023, 'Body'), (1.3047189562170503, 'run'), (1.651292546497023, 'late'), (1.651292546497023, 'Mi'), (1.101986402162968, 'start'), (0.7935921650876702, ','), (0.7941519304410977, 'that'), (0.9827131958329, 'heat'), (1.651292546497023, 'bag'), (1.651292546497023, 'forgot'), (1.3381732884277437, 'been'), (1.651292546497023, 'beyond'), (1.651292546497023, 'return'), (1.3381732884277437, 'high'), (1.6936333810225874, 'low'), (1.3381732884277437, 'free'), (0.9581453659370776, 'come'), (1.651292546497023, 'dear'), (0.7554128118829954, \"'re\"), (1.3381732884277437, 'forever'), (1.651292546497023, 'If'), (1.101986402162968, \"'m\"), (1.651292546497023, 'says'), (1.651292546497023, 'conversation'), (1.3047189562170503, 'have'), (1.6936333810225874, 'level'), (1.3047189562170503, 'without'), (0.8348768885776815, \"'s\"), (1.651292546497023, 'Right'), (1.651292546497023, 'short'), (1.651292546497023, 'currency'), (3.0908809203662226, 'thing'), (1.651292546497023, 'simple'), (1.2150106485386571, 'be'), (1.6936333810225874, 'Ai'), (1.031848855624545, 'so'), (1.651292546497023, 'line'), (1.651292546497023, '9'), (1.3047189562170503, 'follow'), (1.6936333810225874, 'might'), (1.3047189562170503, 'again'), (1.651292546497023, 'Turn'), (1.651292546497023, 'over'), (1.651292546497023, 'tonight'), (1.651292546497023, 'Gulls'), (1.651292546497023, 'wine'), (1.1792558349994802, 'can'), (1.651292546497023, 'car'), (1.3047189562170503, 'eyes'), (1.651292546497023, 'reminds'), (1.651292546497023, 'waistline'), (1.101986402162968, 'how'), (1.651292546497023, 'begin'), (1.651292546497023, 'moment'), (1.6936333810225874, 'rooftop'), (1.651292546497023, 'language'), (1.6936333810225874, 'wave'), (1.7359742155481523, 'bright'), (1.651292546497023, 'house'), (1.3047189562170503, 'Ca'), (1.6936333810225874, 'world'), (1.6936333810225874, 'look'), (0.5951941238157527, 'it'), (1.651292546497023, 'miss'), (1.651292546497023, 'Mama'), (1.6936333810225874, 'ceiling'), (1.3047189562170503, 'boy'), (1.651292546497023, 'same'), (1.651292546497023, 'stop'), (1.101986402162968, 'dreams'), (2.0344364347624024, 'Do'), (1.651292546497023, 'seen'), (1.3716276206384375, 'That'), (1.6936333810225874, 'hot'), (1.651292546497023, 'kiss'), (1.3047189562170503, 'way'), (1.6936333810225874, 'care'), (1.651292546497023, 'bomb'), (1.3047189562170503, '!'), (1.6936333810225874, 'bout'), (1.651292546497023, 'inch'), (1.3047189562170503, 'hard'), (1.7359742155481523, 'Them'), (1.651292546497023, 'Why'), (1.651292546497023, 'golden'), (1.651292546497023, 'score'), (1.651292546497023, 'first'), (1.905337553650411, 'tomorrow'), (1.3381732884277437, 'music'), (1.651292546497023, 'songs'), (1.651292546497023, 'cry'), (1.651292546497023, 'friend'), (0.8682806054153566, 'for'), (1.1302424637568902, 'This'), (1.651292546497023, 'smile'), (0.9581453659370776, 'just'), (1.7359742155481523, 'big'), (1.8206558845992817, 'alright'), (1.651292546497023, 'Said'), (1.651292546497023, 'sandpit'), (1.3047189562170503, 'ca'), (1.651292546497023, 'stand'), (1.651292546497023, 'drop'), (1.651292546497023, 'behind'), (1.651292546497023, 'given'), (1.651292546497023, 'knew'), (1.651292546497023, 'bubbly'), (1.6936333810225874, 'nights'), (1.3381732884277437, \"'\"), (1.3047189562170503, 'see'), (1.651292546497023, 'falling'), (1.651292546497023, 'going'), (1.651292546497023, 'try'), (1.651292546497023, 'Then'), (1.651292546497023, 'Stop'), (1.7359742155481523, 'light'), (1.651292546497023, 'week'), (1.651292546497023, 'changes'), (1.651292546497023, 'learn'), (0.8682806054153566, 'make'), (1.651292546497023, 'broke'), (1.651292546497023, 'race'), (1.101986402162968, 'need'), (0.7554128118829954, 'We'), (1.3716276206384375, 'what'), (1.651292546497023, 'lied'), (1.651292546497023, 'di'), (1.651292546497023, 'wonderful'), (1.651292546497023, 'were'), (1.651292546497023, 'perfect'), (1.651292546497023, 'God'), (1.3047189562170503, 'sun'), (1.3047189562170503, 'time'), (1.6936333810225874, 'spinning'), (1.651292546497023, 'single'), (1.651292546497023, 'every'), (1.3047189562170503, 'then'), (1.651292546497023, 'set'), (0.7941519304410977, 'You'), (1.651292546497023, 'sitting'), (1.651292546497023, 'handmade'), (1.5054449494812117, 'there'), (1.6936333810225874, 'spot'), (1.651292546497023, 'Up'), (1.651292546497023, 'lies'), (1.651292546497023, 'active'), (1.3047189562170503, 'our'), (1.3047189562170503, 'while'), (1.651292546497023, 'absurd'), (1.651292546497023, 'fading'), (1.651292546497023, 'sad'), (1.651292546497023, 'Forever'), (1.651292546497023, 'melody'), (1.651292546497023, 'disagree'), (1.3381732884277437, 'party'), (1.651292546497023, 'him'), (1.651292546497023, 'even'), (1.651292546497023, 'emotional'), (0.9581453659370776, 'ever'), (1.3047189562170503, 'really'), (1.651292546497023, 'thrifty'), (1.651292546497023, 'die'), (1.651292546497023, 'star'), (1.6936333810225874, 'stops'), (1.651292546497023, 'many'), (1.651292546497023, 'window'), (1.1584985253508124, 'got'), (1.3381732884277437, 'space'), (1.651292546497023, 'Sooner'), (1.6936333810225874, 'secrets'), (1.651292546497023, 'jukebox'), (1.101986402162968, 'love'), (1.7359742155481523, 'keep'), (1.651292546497023, 'girl'), (1.6936333810225874, 'views'), (1.651292546497023, 'Because'), (1.651292546497023, 'playing'), (1.3047189562170503, 'No'), (1.651292546497023, 'Protect'), (1.6936333810225874, 'saying'), (1.651292546497023, 'sea'), (1.101986402162968, 'baby'), (1.3047189562170503, 'friends'), (1.3047189562170503, 'back'), (1.651292546497023, 'hate'), (0.7305172775054712, 'like'), (0.658615758399959, 'And'), (0.6272531032380562, 'me'), (0.9334016508215084, 'know'), (1.3566749439387324, \"n't\"), (1.651292546497023, 'Where'), (1.651292546497023, 'may'), (1.651292546497023, 'seem'), (1.651292546497023, 'road'), (1.651292546497023, 'adore'), (1.101986402162968, 'happy'), (1.651292546497023, 'stay'), (1.8206558845992817, 'wan'), (1.651292546497023, 'slow'), (1.0564166855203676, 'on'), (1.651292546497023, 'waist'), (1.778315050073717, 'down'), (1.6936333810225874, 'ours'), (1.3047189562170503, \"'Cause\"), (0.8174836200656465, 'I'), (1.651292546497023, 'Drinking'), (1.651292546497023, 'justice'), (1.651292546497023, 'Daddy'), (1.651292546497023, 'gon'), (1.6936333810225874, 'future'), (1.651292546497023, 'pon'), (1.651292546497023, 'Beyond'), (1.651292546497023, 'Hoping'), (1.651292546497023, 'find'), (1.651292546497023, 'from'), (1.651292546497023, 'town'), (1.6936333810225874, 'record'), (1.3381732884277437, 'Everything'), (1.651292546497023, 'talk'), (0.8328910489992001, 'do'), (0.8465735902799727, 'they'), (1.3047189562170503, 'something'), (1.1302424637568902, 'Is'), (1.7359742155481523, 'stars'), (1.405081952849131, 'beat'), (1.651292546497023, 'Your'), (1.1302424637568902, 'play'), (0.8899876205507405, 'never'), (1.651292546497023, 'After'), (1.651292546497023, 'apartment'), (1.651292546497023, 'read'), (1.651292546497023, 'till'), (1.651292546497023, 'things'), (1.6936333810225874, 'feeling'), (1.651292546497023, 'table'), (1.651292546497023, 'power'), (1.651292546497023, 'driver'), (1.651292546497023, 'beautiful'), (1.651292546497023, 'smell'), (1.651292546497023, 'adventures'), (1.651292546497023, 'Gyal'), (1.405081952849131, 'Get'), (1.651292546497023, 'Not'), (1.651292546497023, 'flip'), (1.651292546497023, 'lazy'), (1.651292546497023, \"'cause\"), (1.6936333810225874, 'Shorty'), (1.651292546497023, 'chance'), (1.651292546497023, 'sign'), (1.651292546497023, 'approach'), (1.3716276206384375, 'Yeah'), (1.651292546497023, 'fast'), (1.8206558845992817, 'Like'), (1.651292546497023, 'played'), (1.651292546497023, 'black'), (1.3047189562170503, 'day'), (1.651292546497023, 'Trying'), (1.651292546497023, 'Come'), (1.651292546497023, ';'), (1.651292546497023, 'song'), (1.651292546497023, 'allegiance'), (1.651292546497023, 'three'), (1.651292546497023, 'later'), (1.651292546497023, 'Youth'), (1.651292546497023, 'magnet'), (1.3047189562170503, 'Tell'), (1.3381732884277437, 'new'), (1.3716276206384375, 'one'), (1.651292546497023, 'ya'), (1.651292546497023, 'getting'), (1.651292546497023, 'trip'), (1.651292546497023, 'okay'), (1.3047189562170503, 'best'), (1.1584985253508124, 'take'), (1.651292546497023, 'break'), (1.651292546497023, 'step-by-step'), (1.651292546497023, 'coming'), (1.651292546497023, 'doing'), (1.651292546497023, 'point'), (1.3381732884277437, 'about'), (1.3047189562170503, 'They'), (1.651292546497023, 'gyal'), (1.3047189562170503, 'trying'), (1.651292546497023, 'singing'), (1.651292546497023, 'did'), (1.651292546497023, 'push'), (0.8716301675573023, 'The'), (1.651292546497023, '...'), (1.651292546497023, 'sore'), (1.0349676203427929, 'the'), (1.651292546497023, 'think'), (1.651292546497023, 'Sitting'), (1.651292546497023, 'damage'), (1.651292546497023, 'touch'), (1.651292546497023, 'much'), (1.651292546497023, 'brand'), (1.1584985253508124, 'Just'), (1.3716276206384375, 'us'), (1.651292546497023, 'backseat'), (1.6936333810225874, 'd-day'), (1.651292546497023, 'magic'), (1.3047189562170503, 'Make'), (1.651292546497023, 'hide'), (1.651292546497023, 'meet'), (1.3381732884277437, 'ends'), (1.6936333810225874, 'dirty'), (1.651292546497023, 'She'), (1.651292546497023, 'fills'), (1.3047189562170503, 'was'), (1.651292546497023, 'two'), (1.6936333810225874, 'end'), (0.8899876205507405, 'this'), (1.3047189562170503, 'mind'), (1.651292546497023, 'expecting'), (1.651292546497023, 'diamonds'), (1.651292546497023, 'Dreamers'), (1.1302424637568902, 'go'), (1.651292546497023, 'Some'), (1.3047189562170503, 'crazy'), (0.7747823711620464, 'my'), (1.651292546497023, 'watching'), (0.7131240089934363, 'in'), (1.651292546497023, 'babe'), (1.651292546497023, 'pull'), (0.5897435897435898, 'you'), (1.1302424637568902, \"'ve\"), (1.6936333810225874, 'Sky'), (1.651292546497023, 'Grab'), (1.651292546497023, 'say'), (0.8682806054153566, 'let'), (1.651292546497023, 'fill'), (1.651292546497023, 'skin'), (1.651292546497023, 'Fill'), (1.651292546497023, 'into'), (1.651292546497023, 'shake'), (1.651292546497023, 'goes'), (1.3381732884277437, 'gone'), (1.651292546497023, 'Flip'), (1.3381732884277437, 'its'), (1.651292546497023, 'independence'), (1.651292546497023, 'she'), (1.651292546497023, 'stable'), (1.651292546497023, 'could'), (1.6936333810225874, 'next'), (1.101986402162968, 'To'), (1.651292546497023, 'horse'), (1.651292546497023, 'realize'), (1.6936333810225874, 'thick'), (1.651292546497023, 'Say'), (1.651292546497023, 'stove'), (1.651292546497023, 'legs'), (1.651292546497023, 'By'), (0.9581453659370776, 'with'), (0.9581453659370776, 'not'), (0.8465735902799727, 'want'), (1.651292546497023, 'There'), (1.651292546497023, 'through'), (1.651292546497023, 'more'), (1.651292546497023, \"'d\"), (1.651292546497023, 'air'), (1.6936333810225874, 'troubles'), (1.651292546497023, 'date'), (1.1302424637568902, 'live'), (1.6936333810225874, 'Tonight'), (1.651292546497023, 'Fills'), (1.3047189562170503, 'Baby'), (1.651292546497023, 'eat'), (1.651292546497023, 'tell'), (1.651292546497023, 'tired'), (1.651292546497023, 'comes'), (1.651292546497023, 'feel'), (1.651292546497023, 'Bubblin'), (1.651292546497023, 'He'), (1.651292546497023, 'discovering'), (1.651292546497023, 'stamp'), (1.651292546497023, 'everywhere'), (1.101986402162968, 'room'), (1.6936333810225874, 'Forget'), (1.651292546497023, 'story'), (1.651292546497023, 'worst'), (1.101986402162968, 'body'), (1.651292546497023, 'My'), (1.651292546497023, 'spaces'), (1.651292546497023, 'type'), (1.6936333810225874, 'books'), (1.2432667101325792, \"'ll\"), (1.651292546497023, 'Wine'), (1.651292546497023, 'Although'), (1.651292546497023, 'heard'), (0.9827131958329, '?'), (1.6936333810225874, 'wo'), (1.651292546497023, 'Declare'), (1.651292546497023, 'turn'), (1.3047189562170503, 'Here'), (1.651292546497023, 'children'), (1.651292546497023, 'everything'), (1.651292546497023, 'Heaven'), (2.4421662513806326, \"'bout\"), (1.651292546497023, 'Flipagram'), (1.3047189562170503, 'right'), (1.651292546497023, 'ancient'), (1.651292546497023, 'middle'), (1.651292546497023, 'should'), (1.651292546497023, 'wanted'), (1.651292546497023, 'Take'), (1.651292546497023, 'somebody'), (1.651292546497023, 'Are'), (1.651292546497023, 'plate'), (1.651292546497023, 'send'), (1.651292546497023, 'shot'), (2.5090749158020196, 'worry'), (1.6936333810225874, 'past'), (1.651292546497023, 'fight'), (1.651292546497023, 'anything'), (1.651292546497023, 'Last'), (1.2150106485386571, 'na'), (1.6936333810225874, 'palm'), (1.651292546497023, 'style'), (1.651292546497023, 'white'), (1.651292546497023, 'From'), (1.651292546497023, 'uh'), (1.651292546497023, 'Girl'), (1.6936333810225874, 'DJ'), (1.651292546497023, 'Man'), (1.651292546497023, 'sunshine'), (1.651292546497023, 'skies'), (1.651292546497023, 'sweet'), (1.3047189562170503, 'leave'), (1.651292546497023, 'taxi'), (1.651292546497023, 'ting'), (1.651292546497023, 'One'), (0.9985226962276601, 'Oh'), (1.6936333810225874, 'ship'), (1.651292546497023, 'water'), (1.651292546497023, 'shape'), (1.3047189562170503, 'family'), (1.651292546497023, 'Sun'), (1.7359742155481523, 'lights'), (1.3047189562170503, 'bar'), (1.651292546497023, 'hours'), (1.3562909565082684, 'night'), (1.651292546497023, 'Van'), (1.6936333810225874, 'thinking'), (1.1302424637568902, 'when'), (1.651292546497023, 'lonely'), (1.3381732884277437, 'only'), (1.651292546497023, \"'Til\"), (1.6936333810225874, 'dip'), (1.6936333810225874, 'show'), (1.651292546497023, 'guess'), (0.5384615384615384, 'to'), (0.8328910489992001, 'and'), (1.651292546497023, 'head'), (1.651292546497023, 'carnival'), (1.3047189562170503, 'Me'), (1.651292546497023, 'mmmm'), (1.651292546497023, 'or'), (1.3047189562170503, 'blue'), (0.7653038145295413, 'is'), (1.1584985253508124, 'where'), (1.405081952849131, 'Let'), (1.651292546497023, 'good'), (1.651292546497023, 'minutes'), (1.101986402162968, 'dance'), (1.6936333810225874, 'Surrounded'), (1.651292546497023, 'Can'), (1.6936333810225874, 'Moon'), (1.7359742155481523, 'shining'), (1.0809845154161901, 'get'), (1.3381732884277437, 'by'), (1.101986402162968, 'give'), (1.651292546497023, 'oh'), (1.7359742155481523, 'hurry'), (0.9581453659370776, ')'), (1.3047189562170503, 'sky'), (1.651292546497023, 'around'), (1.651292546497023, 'pretending'), (1.3047189562170503, 'heart'), (1.651292546497023, 'swinging'), (1.651292546497023, 'cure'), (1.651292546497023, 'sour'), (1.651292546497023, 'unfair'), (1.651292546497023, 'Emotional'), (1.6936333810225874, 'CK'), (1.651292546497023, 'perish'), (1.651292546497023, 'drive'), (1.651292546497023, 'sexy'), (0.9581453659370776, 'out'), (1.6936333810225874, 'matters'), (1.651292546497023, 'laugh'), (1.651292546497023, 'tune'), (1.651292546497023, 'went'), (1.651292546497023, 'morning'), (1.328034894914346, 'no'), (1.651292546497023, 'leaders'), (1.6936333810225874, 'ask'), (1.651292546497023, 'place'), (1.651292546497023, 'young'), (1.651292546497023, 'ashes'), (1.651292546497023, 'Leave'), (1.6936333810225874, 'blurry'), (1.6936333810225874, 'nobody'), (1.101986402162968, 'at'), (1.651292546497023, 'her'), (1.651292546497023, 'Look'), (1.651292546497023, 'straight'), (1.651292546497023, 'film'), (1.651292546497023, 'Start'), (1.651292546497023, 'yeah'), (1.651292546497023, 'fa'), (1.651292546497023, 'food')] Oh, we can own the night Don't worry 'bout a thing Don't worry 'bout a thing Don't worry 'bout a thing I know we'll be alright Don't worry 'bout a thing Don't worry 'bout a thing Don't worry 'bout a thing I'll take you to the future Forget about the past You can keep all of your secrets I swear that I won't ask Let go of all your troubles, I don't care where you've been The only thing that matters now Is where the night will end Them bright big lights are shining on us That beat so tight it makes you wanna Get up get down like there's no tomorrow Like there's no tomorrow Like there's no tomorrow Oh, we can own the night Don't worry 'bout a thing Don't worry 'bout a thing Don't worry 'bout a thing I know we'll be alright Don't worry 'bout a thing Don't worry 'bout a thing Don't worry 'bout a thing Oh, we can own the night Don't worry 'bout a thing Don't worry 'bout a thing Don't worry 'bout a thing Let's get down to business And show me what you got Just keep the record spinning The music never stops You wanna live forever And reach above the stars Let's take it to next level Just light the space ship up Them bright big lights are shining on us That beat so tight it makes you wanna Get up get down like there's no tomorrow Like there's no tomorrow Like there's no tomorrow Oh, we can own the night Don't worry 'bout a thing Don't worry 'bout a thing Don't worry 'bout a thing I know we'll be alright Don't worry 'bout a thing Don't worry 'bout a thing Don't worry 'bout a thing Oh, we can own the night Don't worry 'bout a thing Don't worry 'bout a thing Don't worry 'bout a thing Yeah, on the rooftop Surrounded by the stars and the views hot Ain't nobody thinking 'bout what you got Everything's ours, wanna dip? Get a new spot Yeah, don't worry, don't worry The night never ends, no hurry no hurry Shorty look thick and the lines get blurry And the nights in your palm so we might get dirty DJ, let the beat play, make a heat wave, when you replay this Tonight we gone party like its d-day Young and free saying this the one on my CK shit The Moon is the light Sky is the ceiling The low is the base and the high is the feeling The world is the club, all in cause we can This' one for the books don't worry bout a thang Oh, we can own the night Don't worry 'bout a thing Don't worry 'bout a thing Don't worry 'bout a thing I know we'll be alright Don't worry 'bout a thing Don't worry 'bout a thing Don't worry 'bout a thing Oh, we can own the night Don't worry 'bout a thing Don't worry 'bout a thing Don't worry 'bout a thing\n"
     ]
    }
   ],
   "source": [
    "print (tfidf_representation[2], lyric3)"
   ]
  },
  {
   "cell_type": "code",
   "execution_count": 91,
   "metadata": {},
   "outputs": [
    {
     "name": "stdout",
     "output_type": "stream",
     "text": [
      "[(1.651292546497023, 'off'), (1.651292546497023, 'standing'), (1.651292546497023, 'imagine'), (1.651292546497023, 'business'), (1.6998599743351706, 'scar'), (1.651292546497023, 'lover'), (1.651292546497023, 'When'), (1.651292546497023, 'radio'), (1.6998599743351706, 'uses'), (2.331236536231091, 'La'), (1.651292546497023, 'hang'), (1.651292546497023, 'bumpa'), (1.101986402162968, 'own'), (1.651292546497023, 'between'), (1.651292546497023, 'staying'), (1.651292546497023, 'feels'), (1.651292546497023, 'mi'), (1.6931471805599454, 'now'), (0.6655339911562611, 'your'), (1.651292546497023, 'makes'), (1.3047189562170503, 'them'), (1.651292546497023, 'won'), (0.9109389790353767, 'of'), (1.651292546497023, 'done'), (1.651292546497023, 'tight'), (1.651292546497023, 'dancefloor'), (0.9461704832540871, 'up'), (1.651292546497023, 'lines'), (1.651292546497023, 'animal'), (0.9581453659370776, 'So'), (1.651292546497023, 'base'), (1.651292546497023, 'reach'), (1.651292546497023, 'faded'), (1.651292546497023, 'true'), (1.101986402162968, 'too'), (1.3047189562170503, 'but'), (1.3814671301121708, 'shit'), (1.651292546497023, 'pissed'), (0.6502120680340155, 'a'), (1.651292546497023, 'his'), (1.845562257849614, 'filled'), (1.651292546497023, 'some'), (1.651292546497023, 'swear'), (1.3047189562170503, 'cause'), (0.8465735902799727, 'all'), (1.651292546497023, 'put'), (1.651292546497023, 'replay'), (1.651292546497023, 'above'), (1.651292546497023, 'pure'), (1.651292546497023, 'alone'), (1.651292546497023, 'Praising'), (1.651292546497023, 'rush'), (1.651292546497023, 'here'), (1.651292546497023, 'wait'), (1.651292546497023, 'shots'), (1.7484274021733184, 'fake'), (1.5733375648499723, 'Every'), (1.651292546497023, 'hair'), (1.651292546497023, 'man'), (1.651292546497023, 'scared'), (1.651292546497023, 'Through'), (1.101986402162968, 'It'), (0.7554128118829954, 'are'), (1.651292546497023, 'Of'), (1.3047189562170503, 'will'), (0.8714728135235013, 'we'), (1.651292546497023, 'old'), (1.651292546497023, 'madman'), (1.3047189562170503, 'life'), (1.651292546497023, 'took'), (1.651292546497023, 'hand'), (1.6063025252474536, '('), (1.651292546497023, 'faces'), (1.651292546497023, 'thang'), (1.651292546497023, 'trust'), (1.6998599743351706, 'pledge'), (1.3047189562170503, '.'), (1.101986402162968, 'club'), (1.651292546497023, 'serve'), (1.651292546497023, 'shoes'), (1.651292546497023, 'bedsheets'), (1.651292546497023, 'Young'), (1.651292546497023, 'far'), (1.651292546497023, 'bubblin'), (1.7484274021733184, 'speakers'), (1.651292546497023, 'enemies'), (1.651292546497023, 'today'), (1.651292546497023, 'lead'), (1.651292546497023, 'four'), (1.651292546497023, 'Body'), (1.3047189562170503, 'run'), (1.651292546497023, 'late'), (1.651292546497023, 'Mi'), (1.134397766932467, 'start'), (0.6827226714357163, ','), (0.8442849073986419, 'that'), (0.9581453659370776, 'heat'), (1.651292546497023, 'bag'), (1.651292546497023, 'forgot'), (1.3047189562170503, 'been'), (1.651292546497023, 'beyond'), (1.651292546497023, 'return'), (1.3047189562170503, 'high'), (1.651292546497023, 'low'), (1.3047189562170503, 'free'), (0.9863261119940503, 'come'), (1.651292546497023, 'dear'), (0.7998488596408186, \"'re\"), (1.3047189562170503, 'forever'), (1.651292546497023, 'If'), (1.101986402162968, \"'m\"), (1.651292546497023, 'says'), (1.651292546497023, 'conversation'), (1.3047189562170503, 'have'), (1.651292546497023, 'level'), (1.6884598256926533, 'without'), (0.8179951867865887, \"'s\"), (1.651292546497023, 'Right'), (1.651292546497023, 'short'), (1.651292546497023, 'currency'), (1.651292546497023, 'thing'), (1.651292546497023, 'simple'), (1.101986402162968, 'be'), (1.651292546497023, 'Ai'), (0.9581453659370776, 'so'), (1.6998599743351706, 'line'), (1.651292546497023, '9'), (1.3047189562170503, 'follow'), (1.651292546497023, 'might'), (1.3814671301121708, 'again'), (1.651292546497023, 'Turn'), (1.651292546497023, 'over'), (1.651292546497023, 'tonight'), (1.651292546497023, 'Gulls'), (1.651292546497023, 'wine'), (0.9581453659370776, 'can'), (1.6998599743351706, 'car'), (1.3047189562170503, 'eyes'), (1.7484274021733184, 'reminds'), (1.651292546497023, 'waistline'), (1.134397766932467, 'how'), (1.651292546497023, 'begin'), (1.651292546497023, 'moment'), (1.651292546497023, 'rooftop'), (1.651292546497023, 'language'), (1.651292546497023, 'wave'), (1.651292546497023, 'bright'), (1.7484274021733184, 'house'), (1.3430930431646104, 'Ca'), (1.651292546497023, 'world'), (1.651292546497023, 'look'), (0.7639991799399682, 'it'), (1.6998599743351706, 'miss'), (1.6998599743351706, 'Mama'), (1.651292546497023, 'ceiling'), (1.3430930431646104, 'boy'), (1.7484274021733184, 'same'), (1.651292546497023, 'stop'), (1.134397766932467, 'dreams'), (1.101986402162968, 'Do'), (1.6998599743351706, 'seen'), (1.3430930431646104, 'That'), (1.651292546497023, 'hot'), (1.651292546497023, 'kiss'), (1.3047189562170503, 'way'), (1.651292546497023, 'care'), (1.651292546497023, 'bomb'), (2.225697042958498, '!'), (1.651292546497023, 'bout'), (1.8941296856877614, 'inch'), (1.3047189562170503, 'hard'), (1.651292546497023, 'Them'), (1.651292546497023, 'Why'), (1.651292546497023, 'golden'), (1.651292546497023, 'score'), (1.651292546497023, 'first'), (1.651292546497023, 'tomorrow'), (1.3047189562170503, 'music'), (1.651292546497023, 'songs'), (1.651292546497023, 'cry'), (1.651292546497023, 'friend'), (0.8465735902799727, 'for'), (1.134397766932467, 'This'), (1.7484274021733184, 'smile'), (0.9581453659370776, 'just'), (1.651292546497023, 'big'), (1.651292546497023, 'alright'), (1.651292546497023, 'Said'), (1.651292546497023, 'sandpit'), (1.6884598256926533, 'ca'), (1.651292546497023, 'stand'), (1.651292546497023, 'drop'), (1.651292546497023, 'behind'), (1.651292546497023, 'given'), (1.651292546497023, 'knew'), (1.651292546497023, 'bubbly'), (1.651292546497023, 'nights'), (1.3047189562170503, \"'\"), (1.3047189562170503, 'see'), (1.651292546497023, 'falling'), (1.651292546497023, 'going'), (1.651292546497023, 'try'), (1.651292546497023, 'Then'), (1.796994830011466, 'Stop'), (1.651292546497023, 'light'), (1.651292546497023, 'week'), (1.651292546497023, 'changes'), (1.651292546497023, 'learn'), (0.8714728135235013, 'make'), (1.651292546497023, 'broke'), (1.651292546497023, 'race'), (1.264043226010463, 'need'), (0.7998488596408186, 'We'), (1.3047189562170503, 'what'), (1.651292546497023, 'lied'), (1.651292546497023, 'di'), (1.651292546497023, 'wonderful'), (1.651292546497023, 'were'), (1.651292546497023, 'perfect'), (1.651292546497023, 'God'), (1.3047189562170503, 'sun'), (1.419841217059731, 'time'), (1.651292546497023, 'spinning'), (1.651292546497023, 'single'), (1.9426971135259095, 'every'), (1.3430930431646104, 'then'), (1.651292546497023, 'set'), (0.7554128118829954, 'You'), (1.651292546497023, 'sitting'), (1.651292546497023, 'handmade'), (1.3047189562170503, 'there'), (1.651292546497023, 'spot'), (1.651292546497023, 'Up'), (1.651292546497023, 'lies'), (1.651292546497023, 'active'), (1.3047189562170503, 'our'), (1.3047189562170503, 'while'), (1.6998599743351706, 'absurd'), (1.651292546497023, 'fading'), (1.651292546497023, 'sad'), (1.651292546497023, 'Forever'), (1.651292546497023, 'melody'), (1.651292546497023, 'disagree'), (1.3047189562170503, 'party'), (1.651292546497023, 'him'), (1.651292546497023, 'even'), (1.651292546497023, 'emotional'), (1.0145068580510233, 'ever'), (1.3047189562170503, 'really'), (1.651292546497023, 'thrifty'), (1.651292546497023, 'die'), (1.6998599743351706, 'star'), (1.651292546497023, 'stops'), (1.651292546497023, 'many'), (1.651292546497023, 'window'), (1.4261000498579586, 'got'), (1.3814671301121708, 'space'), (1.651292546497023, 'Sooner'), (1.651292546497023, 'secrets'), (1.651292546497023, 'jukebox'), (1.101986402162968, 'love'), (1.651292546497023, 'keep'), (1.651292546497023, 'girl'), (1.651292546497023, 'views'), (1.651292546497023, 'Because'), (1.6998599743351706, 'playing'), (1.3047189562170503, 'No'), (1.651292546497023, 'Protect'), (1.651292546497023, 'saying'), (1.651292546497023, 'sea'), (1.101986402162968, 'baby'), (1.3047189562170503, 'friends'), (1.3430930431646104, 'back'), (1.651292546497023, 'hate'), (0.6982885740861122, 'like'), (0.7015088014890319, 'And'), (0.6475465859898757, 'me'), (0.8465735902799727, 'know'), (0.937701799487065, \"n't\"), (1.651292546497023, 'Where'), (1.651292546497023, 'may'), (1.651292546497023, 'seem'), (1.796994830011466, 'road'), (1.651292546497023, 'adore'), (1.134397766932467, 'happy'), (1.651292546497023, 'stay'), (1.651292546497023, 'wan'), (1.651292546497023, 'slow'), (0.9863261119940503, 'on'), (1.651292546497023, 'waist'), (1.651292546497023, 'down'), (1.651292546497023, 'ours'), (1.3814671301121708, \"'Cause\"), (1.1970661270047638, 'I'), (1.651292546497023, 'Drinking'), (1.651292546497023, 'justice'), (1.6998599743351706, 'Daddy'), (1.651292546497023, 'gon'), (1.651292546497023, 'future'), (1.651292546497023, 'pon'), (1.651292546497023, 'Beyond'), (1.651292546497023, 'Hoping'), (1.651292546497023, 'find'), (1.651292546497023, 'from'), (1.6998599743351706, 'town'), (1.651292546497023, 'record'), (2.302445216853618, 'Everything'), (1.651292546497023, 'talk'), (0.7554128118829954, 'do'), (0.8963720367670299, 'they'), (1.3430930431646104, 'something'), (1.166809131701966, 'Is'), (1.651292546497023, 'stars'), (1.3047189562170503, 'beat'), (1.651292546497023, 'Your'), (1.101986402162968, 'play'), (0.8963720367670299, 'never'), (1.651292546497023, 'After'), (1.651292546497023, 'apartment'), (1.6998599743351706, 'read'), (1.7484274021733184, 'till'), (1.6998599743351706, 'things'), (1.651292546497023, 'feeling'), (1.651292546497023, 'table'), (1.651292546497023, 'power'), (1.651292546497023, 'driver'), (1.651292546497023, 'beautiful'), (1.651292546497023, 'smell'), (1.651292546497023, 'adventures'), (1.651292546497023, 'Gyal'), (1.3047189562170503, 'Get'), (1.651292546497023, 'Not'), (1.651292546497023, 'flip'), (1.651292546497023, 'lazy'), (1.651292546497023, \"'cause\"), (1.651292546497023, 'Shorty'), (1.651292546497023, 'chance'), (1.6998599743351706, 'sign'), (1.651292546497023, 'approach'), (1.3047189562170503, 'Yeah'), (1.651292546497023, 'fast'), (1.651292546497023, 'Like'), (1.651292546497023, 'played'), (1.6998599743351706, 'black'), (1.3047189562170503, 'day'), (1.651292546497023, 'Trying'), (1.651292546497023, 'Come'), (1.651292546497023, ';'), (1.6998599743351706, 'song'), (1.6998599743351706, 'allegiance'), (1.651292546497023, 'three'), (1.651292546497023, 'later'), (1.651292546497023, 'Youth'), (1.651292546497023, 'magnet'), (1.3047189562170503, 'Tell'), (1.3047189562170503, 'new'), (1.3047189562170503, 'one'), (1.651292546497023, 'ya'), (1.651292546497023, 'getting'), (1.651292546497023, 'trip'), (1.651292546497023, 'okay'), (1.3047189562170503, 'best'), (1.101986402162968, 'take'), (1.7484274021733184, 'break'), (1.651292546497023, 'step-by-step'), (1.651292546497023, 'coming'), (1.651292546497023, 'doing'), (1.651292546497023, 'point'), (1.3047189562170503, 'about'), (1.3047189562170503, 'They'), (1.651292546497023, 'gyal'), (1.3047189562170503, 'trying'), (1.651292546497023, 'singing'), (1.651292546497023, 'did'), (1.651292546497023, 'push'), (0.777630835761907, 'The'), (1.651292546497023, '...'), (1.651292546497023, 'sore'), (0.7914458273209592, 'the'), (1.651292546497023, 'think'), (1.651292546497023, 'Sitting'), (1.651292546497023, 'damage'), (1.651292546497023, 'touch'), (1.651292546497023, 'much'), (1.651292546497023, 'brand'), (1.101986402162968, 'Just'), (1.3047189562170503, 'us'), (1.651292546497023, 'backseat'), (1.651292546497023, 'd-day'), (1.651292546497023, 'magic'), (1.3047189562170503, 'Make'), (1.651292546497023, 'hide'), (1.651292546497023, 'meet'), (1.3047189562170503, 'ends'), (1.651292546497023, 'dirty'), (1.651292546497023, 'She'), (1.651292546497023, 'fills'), (1.3047189562170503, 'was'), (1.651292546497023, 'two'), (1.651292546497023, 'end'), (0.8465735902799727, 'this'), (1.3047189562170503, 'mind'), (1.651292546497023, 'expecting'), (1.651292546497023, 'diamonds'), (1.651292546497023, 'Dreamers'), (1.101986402162968, 'go'), (1.651292546497023, 'Some'), (1.3047189562170503, 'crazy'), (0.8220668835197302, 'my'), (1.651292546497023, 'watching'), (0.7980440846698427, 'in'), (1.651292546497023, 'babe'), (1.651292546497023, 'pull'), (0.6764705882352942, 'you'), (1.3612773203189605, \"'ve\"), (1.651292546497023, 'Sky'), (1.651292546497023, 'Grab'), (1.651292546497023, 'say'), (0.8465735902799727, 'let'), (1.651292546497023, 'fill'), (1.6998599743351706, 'skin'), (1.651292546497023, 'Fill'), (1.651292546497023, 'into'), (1.651292546497023, 'shake'), (1.651292546497023, 'goes'), (1.3047189562170503, 'gone'), (1.651292546497023, 'Flip'), (1.3047189562170503, 'its'), (1.651292546497023, 'independence'), (1.651292546497023, 'she'), (1.651292546497023, 'stable'), (1.7484274021733184, 'could'), (1.651292546497023, 'next'), (1.101986402162968, 'To'), (1.651292546497023, 'horse'), (1.651292546497023, 'realize'), (1.651292546497023, 'thick'), (1.651292546497023, 'Say'), (1.6998599743351706, 'stove'), (1.651292546497023, 'legs'), (1.651292546497023, 'By'), (1.099049096221942, 'with'), (0.9581453659370776, 'not'), (0.9212712600105585, 'want'), (1.651292546497023, 'There'), (1.651292546497023, 'through'), (1.651292546497023, 'more'), (1.651292546497023, \"'d\"), (1.651292546497023, 'air'), (1.651292546497023, 'troubles'), (1.651292546497023, 'date'), (1.4909227793969568, 'live'), (1.651292546497023, 'Tonight'), (1.6998599743351706, 'Fills'), (1.3047189562170503, 'Baby'), (1.651292546497023, 'eat'), (1.651292546497023, 'tell'), (1.651292546497023, 'tired'), (1.651292546497023, 'comes'), (1.651292546497023, 'feel'), (1.651292546497023, 'Bubblin'), (1.651292546497023, 'He'), (1.651292546497023, 'discovering'), (1.651292546497023, 'stamp'), (1.651292546497023, 'everywhere'), (1.166809131701966, 'room'), (1.651292546497023, 'Forget'), (1.651292546497023, 'story'), (1.651292546497023, 'worst'), (1.101986402162968, 'body'), (1.651292546497023, 'My'), (1.6998599743351706, 'spaces'), (1.651292546497023, 'type'), (1.651292546497023, 'books'), (1.134397766932467, \"'ll\"), (1.651292546497023, 'Wine'), (1.651292546497023, 'Although'), (1.6998599743351706, 'heard'), (0.9863261119940503, '?'), (1.651292546497023, 'wo'), (1.651292546497023, 'Declare'), (1.7484274021733184, 'turn'), (1.3047189562170503, 'Here'), (1.651292546497023, 'children'), (2.039831969202205, 'everything'), (1.651292546497023, 'Heaven'), (1.3047189562170503, \"'bout\"), (1.651292546497023, 'Flipagram'), (1.3047189562170503, 'right'), (1.6998599743351706, 'ancient'), (1.6998599743351706, 'middle'), (1.651292546497023, 'should'), (1.651292546497023, 'wanted'), (1.651292546497023, 'Take'), (1.651292546497023, 'somebody'), (1.651292546497023, 'Are'), (1.651292546497023, 'plate'), (1.651292546497023, 'send'), (1.651292546497023, 'shot'), (1.3047189562170503, 'worry'), (1.651292546497023, 'past'), (1.651292546497023, 'fight'), (1.651292546497023, 'anything'), (1.651292546497023, 'Last'), (1.101986402162968, 'na'), (1.651292546497023, 'palm'), (1.651292546497023, 'style'), (1.651292546497023, 'white'), (1.6998599743351706, 'From'), (1.651292546497023, 'uh'), (1.651292546497023, 'Girl'), (1.651292546497023, 'DJ'), (1.651292546497023, 'Man'), (1.651292546497023, 'sunshine'), (1.651292546497023, 'skies'), (1.651292546497023, 'sweet'), (1.3430930431646104, 'leave'), (1.651292546497023, 'taxi'), (1.651292546497023, 'ting'), (1.651292546497023, 'One'), (0.8465735902799727, 'Oh'), (1.651292546497023, 'ship'), (1.651292546497023, 'water'), (1.651292546497023, 'shape'), (1.3430930431646104, 'family'), (1.651292546497023, 'Sun'), (1.651292546497023, 'lights'), (1.3047189562170503, 'bar'), (1.651292546497023, 'hours'), (1.101986402162968, 'night'), (1.651292546497023, 'Van'), (1.651292546497023, 'thinking'), (1.101986402162968, 'when'), (1.651292546497023, 'lonely'), (1.3047189562170503, 'only'), (1.6998599743351706, \"'Til\"), (1.651292546497023, 'dip'), (1.651292546497023, 'show'), (1.7484274021733184, 'guess'), (0.5147058823529411, 'to'), (0.7554128118829954, 'and'), (1.6998599743351706, 'head'), (1.651292546497023, 'carnival'), (1.3047189562170503, 'Me'), (1.651292546497023, 'mmmm'), (1.651292546497023, 'or'), (1.3047189562170503, 'blue'), (0.7381907783196043, 'is'), (1.101986402162968, 'where'), (1.3047189562170503, 'Let'), (1.651292546497023, 'good'), (1.651292546497023, 'minutes'), (1.101986402162968, 'dance'), (1.651292546497023, 'Surrounded'), (1.651292546497023, 'Can'), (1.651292546497023, 'Moon'), (1.651292546497023, 'shining'), (0.9581453659370776, 'get'), (1.3047189562170503, 'by'), (1.101986402162968, 'give'), (1.651292546497023, 'oh'), (1.651292546497023, 'hurry'), (1.6063025252474536, ')'), (1.3430930431646104, 'sky'), (1.6998599743351706, 'around'), (1.796994830011466, 'pretending'), (1.3430930431646104, 'heart'), (1.651292546497023, 'swinging'), (1.651292546497023, 'cure'), (1.651292546497023, 'sour'), (1.651292546497023, 'unfair'), (1.651292546497023, 'Emotional'), (1.651292546497023, 'CK'), (1.651292546497023, 'perish'), (1.651292546497023, 'drive'), (1.651292546497023, 'sexy'), (0.9581453659370776, 'out'), (1.651292546497023, 'matters'), (1.651292546497023, 'laugh'), (1.651292546497023, 'tune'), (1.651292546497023, 'went'), (1.651292546497023, 'morning'), (1.101986402162968, 'no'), (1.651292546497023, 'leaders'), (1.651292546497023, 'ask'), (1.651292546497023, 'place'), (1.651292546497023, 'young'), (1.6998599743351706, 'ashes'), (1.6998599743351706, 'Leave'), (1.651292546497023, 'blurry'), (1.651292546497023, 'nobody'), (1.134397766932467, 'at'), (1.651292546497023, 'her'), (1.651292546497023, 'Look'), (1.651292546497023, 'straight'), (1.6998599743351706, 'film'), (1.651292546497023, 'Start'), (1.651292546497023, 'yeah'), (1.651292546497023, 'fa'), (1.6998599743351706, 'food')] Every inch of sky's got a star Every inch of skin's got a scar I guess that you've got everything now Every inch of space in your head Is filled up with the things that you read I guess you've got everything now And every film that you've ever seen Fills the spaces up in your dreams That reminds me (Everything now Everything now) Every inch of road's got a sign And every boy uses the same line I pledge allegiance to everything now Every song that I've ever heard Is playing at the same time, it's absurd And it reminds me, we've got everything now We turn the speakers up till they break 'Cause every time you smile it's a fake! Stop pretending, you've got I need it (Everything now!) I want it (Everything now!) I can't live without (Everything now!) I can't live without (Everything now!) (Everything now!) Everything now Every ancient road's got a town Daddy, how come you're never around? I miss you, like everything now Mama, leave the food on the stove Leave your car in the middle of the road This happy family with everything now We turn the speakers up till they break 'Cause every time you smile it's a fake! Stop pretending, you've got I need it (Everything now!) I want it (Everything now!) I can't live without (Everything now!) I can't live without (Everything now!) (Everything now!) 'Til every room in my house is filled with shit I couldn't live without I need it (Everything now!) I can't live without (Everything now!) (Everything now!) Everything now La La La La La La La La La La La La La La Stop pretending, you've got I need it (Everything now!) I want it (Everything now!) I can't live without (Everything now!) I can't live without (Everything now!) I can't live (Everything now!) And every room in my house is filled with shit I couldn't live without (Everything now!) I need it (Everything now!) I can't live without (Everything now!) I can't live (Everything now!) Every inch of space in my heart is filled with something I'll never start The ashes of everything now And then you're black again Can't make it back again From everything now\n"
     ]
    }
   ],
   "source": [
    "print (tfidf_representation[3], lyric4)"
   ]
  },
  {
   "cell_type": "code",
   "execution_count": 92,
   "metadata": {},
   "outputs": [
    {
     "name": "stdout",
     "output_type": "stream",
     "text": [
      "[(1.651292546497023, 'off'), (1.651292546497023, 'standing'), (1.7263512986105238, 'imagine'), (1.651292546497023, 'business'), (1.651292546497023, 'scar'), (1.651292546497023, 'lover'), (1.651292546497023, 'When'), (1.651292546497023, 'radio'), (1.651292546497023, 'uses'), (1.651292546497023, 'La'), (1.651292546497023, 'hang'), (1.651292546497023, 'bumpa'), (1.101986402162968, 'own'), (1.651292546497023, 'between'), (1.651292546497023, 'staying'), (1.651292546497023, 'feels'), (1.651292546497023, 'mi'), (0.8465735902799727, 'now'), (0.6115717756571049, 'your'), (1.651292546497023, 'makes'), (1.3047189562170503, 'them'), (1.7263512986105238, 'won'), (0.789749757877677, 'of'), (1.651292546497023, 'done'), (1.651292546497023, 'tight'), (1.651292546497023, 'dancefloor'), (0.8850542080199715, 'up'), (1.651292546497023, 'lines'), (1.651292546497023, 'animal'), (1.0888015522012244, 'So'), (1.651292546497023, 'base'), (1.651292546497023, 'reach'), (1.651292546497023, 'faded'), (1.7263512986105238, 'true'), (1.101986402162968, 'too'), (1.4233297704186, 'but'), (1.3047189562170503, 'shit'), (1.651292546497023, 'pissed'), (0.7034112372367985, 'a'), (1.651292546497023, 'his'), (1.651292546497023, 'filled'), (1.801410050724025, 'some'), (1.651292546497023, 'swear'), (1.3640243633178253, 'cause'), (0.8850542080199715, 'all'), (1.651292546497023, 'put'), (1.651292546497023, 'replay'), (1.651292546497023, 'above'), (1.651292546497023, 'pure'), (1.651292546497023, 'alone'), (1.7263512986105238, 'Praising'), (1.651292546497023, 'rush'), (1.651292546497023, 'here'), (1.7263512986105238, 'wait'), (1.651292546497023, 'shots'), (1.651292546497023, 'fake'), (1.3047189562170503, 'Every'), (1.651292546497023, 'hair'), (1.7263512986105238, 'man'), (1.651292546497023, 'scared'), (1.651292546497023, 'Through'), (1.1520766931703756, 'It'), (0.9270975418564034, 'are'), (1.651292546497023, 'Of'), (1.3640243633178253, 'will'), (1.0004960612399678, 'we'), (1.7263512986105238, 'old'), (1.7263512986105238, 'madman'), (1.3640243633178253, 'life'), (1.651292546497023, 'took'), (1.651292546497023, 'hand'), (0.9581453659370776, '('), (1.7263512986105238, 'faces'), (1.651292546497023, 'thang'), (1.651292546497023, 'trust'), (1.651292546497023, 'pledge'), (1.8384676201240255, '.'), (1.101986402162968, 'club'), (1.651292546497023, 'serve'), (1.651292546497023, 'shoes'), (1.651292546497023, 'bedsheets'), (1.651292546497023, 'Young'), (1.651292546497023, 'far'), (1.651292546497023, 'bubblin'), (1.651292546497023, 'speakers'), (1.651292546497023, 'enemies'), (1.7263512986105238, 'today'), (1.651292546497023, 'lead'), (1.651292546497023, 'four'), (1.651292546497023, 'Body'), (1.3047189562170503, 'run'), (1.651292546497023, 'late'), (1.651292546497023, 'Mi'), (1.101986402162968, 'start'), (1.1053605156578263, ','), (0.7554128118829954, 'that'), (1.0016974280251265, 'heat'), (1.651292546497023, 'bag'), (1.7263512986105238, 'forgot'), (1.3047189562170503, 'been'), (1.651292546497023, 'beyond'), (1.651292546497023, 'return'), (1.3047189562170503, 'high'), (1.651292546497023, 'low'), (1.3047189562170503, 'free'), (1.0016974280251265, 'come'), (1.651292546497023, 'dear'), (0.8240867038723585, \"'re\"), (2.01638384142635, 'forever'), (1.651292546497023, 'If'), (1.101986402162968, \"'m\"), (1.651292546497023, 'says'), (1.651292546497023, 'conversation'), (1.3640243633178253, 'have'), (1.651292546497023, 'level'), (1.3640243633178253, 'without'), (0.8633386006882843, \"'s\"), (1.651292546497023, 'Right'), (1.7263512986105238, 'short'), (1.651292546497023, 'currency'), (1.651292546497023, 'thing'), (1.651292546497023, 'simple'), (1.4025281482074137, 'be'), (1.651292546497023, 'Ai'), (1.0016974280251265, 'so'), (1.651292546497023, 'line'), (1.651292546497023, '9'), (1.3047189562170503, 'follow'), (1.651292546497023, 'might'), (1.3047189562170503, 'again'), (1.7263512986105238, 'Turn'), (1.651292546497023, 'over'), (1.651292546497023, 'tonight'), (1.651292546497023, 'Gulls'), (1.651292546497023, 'wine'), (1.0016974280251265, 'can'), (1.651292546497023, 'car'), (1.3047189562170503, 'eyes'), (1.651292546497023, 'reminds'), (1.651292546497023, 'waistline'), (1.101986402162968, 'how'), (1.651292546497023, 'begin'), (1.651292546497023, 'moment'), (1.651292546497023, 'rooftop'), (1.651292546497023, 'language'), (1.651292546497023, 'wave'), (1.651292546497023, 'bright'), (1.651292546497023, 'house'), (1.3047189562170503, 'Ca'), (1.651292546497023, 'world'), (1.651292546497023, 'look'), (0.5778020877302273, 'it'), (1.651292546497023, 'miss'), (1.651292546497023, 'Mama'), (1.651292546497023, 'ceiling'), (1.3047189562170503, 'boy'), (1.651292546497023, 'same'), (1.651292546497023, 'stop'), (1.1520766931703756, 'dreams'), (1.3524378572000062, 'Do'), (1.651292546497023, 'seen'), (1.3047189562170503, 'That'), (1.651292546497023, 'hot'), (1.651292546497023, 'kiss'), (1.3047189562170503, 'way'), (1.651292546497023, 'care'), (1.7263512986105238, 'bomb'), (1.3047189562170503, '!'), (1.651292546497023, 'bout'), (1.651292546497023, 'inch'), (1.3640243633178253, 'hard'), (1.651292546497023, 'Them'), (1.7263512986105238, 'Why'), (1.7263512986105238, 'golden'), (1.651292546497023, 'score'), (1.651292546497023, 'first'), (1.651292546497023, 'tomorrow'), (1.4233297704186, 'music'), (1.7263512986105238, 'songs'), (1.651292546497023, 'cry'), (1.651292546497023, 'friend'), (0.9620154434999689, 'for'), (1.101986402162968, 'This'), (1.651292546497023, 'smile'), (0.9581453659370776, 'just'), (1.651292546497023, 'big'), (1.651292546497023, 'alright'), (1.651292546497023, 'Said'), (1.7263512986105238, 'sandpit'), (1.3047189562170503, 'ca'), (1.651292546497023, 'stand'), (1.7263512986105238, 'drop'), (1.651292546497023, 'behind'), (1.7263512986105238, 'given'), (1.651292546497023, 'knew'), (1.651292546497023, 'bubbly'), (1.651292546497023, 'nights'), (1.3047189562170503, \"'\"), (1.3047189562170503, 'see'), (1.651292546497023, 'falling'), (1.651292546497023, 'going'), (1.651292546497023, 'try'), (1.651292546497023, 'Then'), (1.651292546497023, 'Stop'), (1.651292546497023, 'light'), (1.651292546497023, 'week'), (1.651292546497023, 'changes'), (1.651292546497023, 'learn'), (0.8465735902799727, 'make'), (1.651292546497023, 'broke'), (1.7263512986105238, 'race'), (1.101986402162968, 'need'), (0.789749757877677, 'We'), (1.3047189562170503, 'what'), (1.651292546497023, 'lied'), (1.651292546497023, 'di'), (1.651292546497023, 'wonderful'), (1.651292546497023, 'were'), (1.651292546497023, 'perfect'), (1.651292546497023, 'God'), (1.4233297704186, 'sun'), (1.3047189562170503, 'time'), (1.651292546497023, 'spinning'), (1.651292546497023, 'single'), (1.651292546497023, 'every'), (1.3047189562170503, 'then'), (1.651292546497023, 'set'), (0.7554128118829954, 'You'), (1.651292546497023, 'sitting'), (1.651292546497023, 'handmade'), (1.3047189562170503, 'there'), (1.651292546497023, 'spot'), (1.651292546497023, 'Up'), (1.651292546497023, 'lies'), (1.651292546497023, 'active'), (1.4233297704186, 'our'), (1.3640243633178253, 'while'), (1.651292546497023, 'absurd'), (1.7263512986105238, 'fading'), (1.7263512986105238, 'sad'), (2.4018800676320335, 'Forever'), (1.7263512986105238, 'melody'), (1.651292546497023, 'disagree'), (1.3047189562170503, 'party'), (1.651292546497023, 'him'), (1.651292546497023, 'even'), (1.651292546497023, 'emotional'), (1.0888015522012244, 'ever'), (1.6012459917209254, 'really'), (1.651292546497023, 'thrifty'), (1.7263512986105238, 'die'), (1.651292546497023, 'star'), (1.651292546497023, 'stops'), (1.8764688028375258, 'many'), (1.651292546497023, 'window'), (1.101986402162968, 'got'), (1.3047189562170503, 'space'), (1.7263512986105238, 'Sooner'), (1.651292546497023, 'secrets'), (1.651292546497023, 'jukebox'), (1.101986402162968, 'love'), (1.651292546497023, 'keep'), (1.651292546497023, 'girl'), (1.651292546497023, 'views'), (1.651292546497023, 'Because'), (1.651292546497023, 'playing'), (1.3047189562170503, 'No'), (1.651292546497023, 'Protect'), (1.651292546497023, 'saying'), (1.651292546497023, 'sea'), (1.101986402162968, 'baby'), (1.3047189562170503, 'friends'), (1.3047189562170503, 'back'), (1.651292546497023, 'hate'), (0.8016715577819783, 'like'), (0.6393704927324277, 'And'), (0.6115717756571049, 'me'), (0.8465735902799727, 'know'), (0.7708380363288252, \"n't\"), (1.651292546497023, 'Where'), (1.651292546497023, 'may'), (1.651292546497023, 'seem'), (1.651292546497023, 'road'), (1.651292546497023, 'adore'), (1.101986402162968, 'happy'), (1.7263512986105238, 'stay'), (1.651292546497023, 'wan'), (1.651292546497023, 'slow'), (0.9581453659370776, 'on'), (1.651292546497023, 'waist'), (1.651292546497023, 'down'), (1.651292546497023, 'ours'), (1.3047189562170503, \"'Cause\"), (0.8633386006882843, 'I'), (1.651292546497023, 'Drinking'), (1.651292546497023, 'justice'), (1.651292546497023, 'Daddy'), (1.7263512986105238, 'gon'), (1.651292546497023, 'future'), (1.651292546497023, 'pon'), (1.651292546497023, 'Beyond'), (1.7263512986105238, 'Hoping'), (1.651292546497023, 'find'), (1.651292546497023, 'from'), (1.651292546497023, 'town'), (1.651292546497023, 'record'), (1.3047189562170503, 'Everything'), (1.651292546497023, 'talk'), (0.8584236498670401, 'do'), (0.9235348257599701, 'they'), (1.3047189562170503, 'something'), (1.101986402162968, 'Is'), (1.651292546497023, 'stars'), (1.3640243633178253, 'beat'), (1.651292546497023, 'Your'), (1.1520766931703756, 'play'), (0.9235348257599701, 'never'), (1.651292546497023, 'After'), (1.651292546497023, 'apartment'), (1.651292546497023, 'read'), (1.651292546497023, 'till'), (1.651292546497023, 'things'), (1.651292546497023, 'feeling'), (1.651292546497023, 'table'), (1.7263512986105238, 'power'), (1.651292546497023, 'driver'), (1.651292546497023, 'beautiful'), (1.651292546497023, 'smell'), (1.7263512986105238, 'adventures'), (1.651292546497023, 'Gyal'), (1.3047189562170503, 'Get'), (1.651292546497023, 'Not'), (1.651292546497023, 'flip'), (1.651292546497023, 'lazy'), (1.651292546497023, \"'cause\"), (1.651292546497023, 'Shorty'), (1.651292546497023, 'chance'), (1.651292546497023, 'sign'), (1.651292546497023, 'approach'), (1.3047189562170503, 'Yeah'), (1.651292546497023, 'fast'), (1.651292546497023, 'Like'), (1.7263512986105238, 'played'), (1.651292546497023, 'black'), (1.3047189562170503, 'day'), (1.651292546497023, 'Trying'), (1.651292546497023, 'Come'), (1.651292546497023, ';'), (1.651292546497023, 'song'), (1.651292546497023, 'allegiance'), (1.651292546497023, 'three'), (1.7263512986105238, 'later'), (1.7263512986105238, 'Youth'), (1.651292546497023, 'magnet'), (1.3047189562170503, 'Tell'), (1.3047189562170503, 'new'), (1.3047189562170503, 'one'), (1.651292546497023, 'ya'), (1.7263512986105238, 'getting'), (1.7263512986105238, 'trip'), (1.651292546497023, 'okay'), (1.3640243633178253, 'best'), (1.101986402162968, 'take'), (1.651292546497023, 'break'), (1.651292546497023, 'step-by-step'), (1.651292546497023, 'coming'), (1.651292546497023, 'doing'), (1.651292546497023, 'point'), (1.3047189562170503, 'about'), (1.3047189562170503, 'They'), (1.651292546497023, 'gyal'), (1.3047189562170503, 'trying'), (1.651292546497023, 'singing'), (1.651292546497023, 'did'), (1.651292546497023, 'push'), (0.8240867038723585, 'The'), (1.651292546497023, '...'), (1.651292546497023, 'sore'), (1.000753814711626, 'the'), (1.651292546497023, 'think'), (1.7263512986105238, 'Sitting'), (1.651292546497023, 'damage'), (1.651292546497023, 'touch'), (1.651292546497023, 'much'), (1.651292546497023, 'brand'), (1.101986402162968, 'Just'), (1.4233297704186, 'us'), (1.651292546497023, 'backseat'), (1.651292546497023, 'd-day'), (1.651292546497023, 'magic'), (1.3047189562170503, 'Make'), (1.651292546497023, 'hide'), (1.651292546497023, 'meet'), (1.3047189562170503, 'ends'), (1.651292546497023, 'dirty'), (1.651292546497023, 'She'), (1.651292546497023, 'fills'), (1.3047189562170503, 'was'), (1.651292546497023, 'two'), (1.651292546497023, 'end'), (0.8850542080199715, 'this'), (1.3047189562170503, 'mind'), (1.7263512986105238, 'expecting'), (1.801410050724025, 'diamonds'), (1.651292546497023, 'Dreamers'), (1.101986402162968, 'go'), (1.801410050724025, 'Some'), (1.3047189562170503, 'crazy'), (0.7554128118829954, 'my'), (1.7263512986105238, 'watching'), (0.8016715577819783, 'in'), (1.651292546497023, 'babe'), (1.651292546497023, 'pull'), (0.6590909090909091, 'you'), (1.101986402162968, \"'ve\"), (1.651292546497023, 'Sky'), (1.651292546497023, 'Grab'), (1.7263512986105238, 'say'), (0.9620154434999689, 'let'), (1.651292546497023, 'fill'), (1.651292546497023, 'skin'), (1.651292546497023, 'Fill'), (1.7263512986105238, 'into'), (1.651292546497023, 'shake'), (1.651292546497023, 'goes'), (1.3640243633178253, 'gone'), (1.651292546497023, 'Flip'), (1.3047189562170503, 'its'), (1.651292546497023, 'independence'), (1.651292546497023, 'she'), (1.651292546497023, 'stable'), (1.651292546497023, 'could'), (1.651292546497023, 'next'), (1.101986402162968, 'To'), (1.7263512986105238, 'horse'), (1.651292546497023, 'realize'), (1.651292546497023, 'thick'), (1.651292546497023, 'Say'), (1.651292546497023, 'stove'), (1.651292546497023, 'legs'), (1.651292546497023, 'By'), (0.9581453659370776, 'with'), (1.0016974280251265, 'not'), (1.269860385419959, 'want'), (1.651292546497023, 'There'), (1.651292546497023, 'through'), (1.651292546497023, 'more'), (1.651292546497023, \"'d\"), (1.651292546497023, 'air'), (1.651292546497023, 'troubles'), (1.651292546497023, 'date'), (1.4025281482074137, 'live'), (1.651292546497023, 'Tonight'), (1.651292546497023, 'Fills'), (1.3047189562170503, 'Baby'), (1.651292546497023, 'eat'), (1.651292546497023, 'tell'), (1.651292546497023, 'tired'), (1.651292546497023, 'comes'), (1.651292546497023, 'feel'), (1.651292546497023, 'Bubblin'), (1.651292546497023, 'He'), (1.651292546497023, 'discovering'), (1.651292546497023, 'stamp'), (1.651292546497023, 'everywhere'), (1.101986402162968, 'room'), (1.651292546497023, 'Forget'), (1.651292546497023, 'story'), (1.7263512986105238, 'worst'), (1.101986402162968, 'body'), (1.651292546497023, 'My'), (1.651292546497023, 'spaces'), (1.651292546497023, 'type'), (1.651292546497023, 'books'), (1.101986402162968, \"'ll\"), (1.651292546497023, 'Wine'), (1.651292546497023, 'Although'), (1.651292546497023, 'heard'), (1.2630098005534203, '?'), (1.651292546497023, 'wo'), (1.651292546497023, 'Declare'), (1.651292546497023, 'turn'), (1.3047189562170503, 'Here'), (1.651292546497023, 'children'), (1.651292546497023, 'everything'), (1.7263512986105238, 'Heaven'), (1.3047189562170503, \"'bout\"), (1.651292546497023, 'Flipagram'), (1.3047189562170503, 'right'), (1.651292546497023, 'ancient'), (1.651292546497023, 'middle'), (1.651292546497023, 'should'), (1.651292546497023, 'wanted'), (1.651292546497023, 'Take'), (1.651292546497023, 'somebody'), (1.7263512986105238, 'Are'), (1.651292546497023, 'plate'), (1.651292546497023, 'send'), (1.651292546497023, 'shot'), (1.3047189562170503, 'worry'), (1.651292546497023, 'past'), (1.651292546497023, 'fight'), (1.651292546497023, 'anything'), (1.651292546497023, 'Last'), (1.1520766931703756, 'na'), (1.651292546497023, 'palm'), (1.7263512986105238, 'style'), (1.651292546497023, 'white'), (1.651292546497023, 'From'), (1.651292546497023, 'uh'), (1.651292546497023, 'Girl'), (1.651292546497023, 'DJ'), (1.651292546497023, 'Man'), (1.651292546497023, 'sunshine'), (1.7263512986105238, 'skies'), (1.651292546497023, 'sweet'), (1.3047189562170503, 'leave'), (1.651292546497023, 'taxi'), (1.651292546497023, 'ting'), (1.651292546497023, 'One'), (0.8850542080199715, 'Oh'), (1.651292546497023, 'ship'), (1.7263512986105238, 'water'), (1.651292546497023, 'shape'), (1.3047189562170503, 'family'), (1.651292546497023, 'Sun'), (1.651292546497023, 'lights'), (1.3047189562170503, 'bar'), (1.651292546497023, 'hours'), (1.101986402162968, 'night'), (1.651292546497023, 'Van'), (1.651292546497023, 'thinking'), (1.1520766931703756, 'when'), (1.651292546497023, 'lonely'), (1.3640243633178253, 'only'), (1.651292546497023, \"'Til\"), (1.651292546497023, 'dip'), (1.651292546497023, 'show'), (1.651292546497023, 'guess'), (0.7954545454545454, 'to'), (0.8927605958617219, 'and'), (1.651292546497023, 'head'), (1.651292546497023, 'carnival'), (1.3047189562170503, 'Me'), (1.651292546497023, 'mmmm'), (1.8764688028375258, 'or'), (1.3640243633178253, 'blue'), (0.7400045148756722, 'is'), (1.101986402162968, 'where'), (1.4233297704186, 'Let'), (1.651292546497023, 'good'), (1.651292546497023, 'minutes'), (1.2021669841777831, 'dance'), (1.651292546497023, 'Surrounded'), (1.7263512986105238, 'Can'), (1.651292546497023, 'Moon'), (1.651292546497023, 'shining'), (1.0016974280251265, 'get'), (1.3640243633178253, 'by'), (1.101986402162968, 'give'), (1.651292546497023, 'oh'), (1.651292546497023, 'hurry'), (0.9581453659370776, ')'), (1.3047189562170503, 'sky'), (1.651292546497023, 'around'), (1.651292546497023, 'pretending'), (1.3047189562170503, 'heart'), (1.7263512986105238, 'swinging'), (1.651292546497023, 'cure'), (1.651292546497023, 'sour'), (1.651292546497023, 'unfair'), (1.651292546497023, 'Emotional'), (1.651292546497023, 'CK'), (1.7263512986105238, 'perish'), (1.651292546497023, 'drive'), (1.651292546497023, 'sexy'), (1.0016974280251265, 'out'), (1.651292546497023, 'matters'), (1.651292546497023, 'laugh'), (1.7263512986105238, 'tune'), (1.651292546497023, 'went'), (1.651292546497023, 'morning'), (1.101986402162968, 'no'), (1.7263512986105238, 'leaders'), (1.651292546497023, 'ask'), (1.651292546497023, 'place'), (2.7021150760860375, 'young'), (1.651292546497023, 'ashes'), (1.651292546497023, 'Leave'), (1.651292546497023, 'blurry'), (1.651292546497023, 'nobody'), (1.101986402162968, 'at'), (1.651292546497023, 'her'), (1.651292546497023, 'Look'), (1.651292546497023, 'straight'), (1.651292546497023, 'film'), (1.651292546497023, 'Start'), (1.651292546497023, 'yeah'), (1.651292546497023, 'fa'), (1.651292546497023, 'food')] Let's dance in style, let's dance for a while, Heaven can wait we're only watching the skies. Hoping for the best, but expecting the worst, Are you gonna drop the bomb or not? Let us die young or let us live forever We don't have the power, but we never say never Sitting in a sandpit, life is a short trip The music's for the sad man. Can you imagine when this race is won? Turn our golden the faces into the sun, Praising our leaders, we're getting in tune The music's played by the, the madman. Forever young, I want to be forever young. Do you really want to live forever? Forever, and ever Forever young, I want to be forever young Do you really want to live forever? Forever young. Some are like water, some are like the heat Some are a melody and some are the beat Sooner or later they all will be gone Why don't they stay young? It's so hard to get old without a cause I don't want to perish like a fading horse Youth's like diamonds in the sun, And diamonds are forever So many adventures given up today, So many songs we forgot to play. So many dreams swinging out of the blue Oh let it come true. Forever young, I want to be forever young. Do you really want to live forever, Forever, and ever? Forever young, I want to be forever young. Do you really want to live forever, Forever, and ever? Forever young I want to be forever young Do you really want to live forever, Forever young\n"
     ]
    }
   ],
   "source": [
    "print (tfidf_representation[4], lyric5)"
   ]
  },
  {
   "cell_type": "code",
   "execution_count": 93,
   "metadata": {},
   "outputs": [
    {
     "name": "stdout",
     "output_type": "stream",
     "text": [
      "[(1.651292546497023, 'off'), (1.651292546497023, 'standing'), (1.651292546497023, 'imagine'), (1.651292546497023, 'business'), (1.651292546497023, 'scar'), (1.651292546497023, 'lover'), (1.651292546497023, 'When'), (1.651292546497023, 'radio'), (1.651292546497023, 'uses'), (1.651292546497023, 'La'), (1.651292546497023, 'hang'), (1.6836708317224547, 'bumpa'), (1.101986402162968, 'own'), (1.651292546497023, 'between'), (1.651292546497023, 'staying'), (1.651292546497023, 'feels'), (1.8779405430750455, 'mi'), (0.8465735902799727, 'now'), (0.7075046032111605, 'your'), (1.651292546497023, 'makes'), (1.3047189562170503, 'them'), (1.651292546497023, 'won'), (0.7702248278022698, 'of'), (1.651292546497023, 'done'), (1.651292546497023, 'tight'), (1.6836708317224547, 'dancefloor'), (0.9627699654164396, 'up'), (1.651292546497023, 'lines'), (2.039831969202205, 'animal'), (1.0332940220890052, 'So'), (1.651292546497023, 'base'), (1.651292546497023, 'reach'), (1.651292546497023, 'faded'), (1.651292546497023, 'true'), (1.101986402162968, 'too'), (1.330301680848757, 'but'), (1.3047189562170503, 'shit'), (1.651292546497023, 'pissed'), (0.8777862918459209, 'a'), (1.651292546497023, 'his'), (1.651292546497023, 'filled'), (1.651292546497023, 'some'), (1.651292546497023, 'swear'), (1.3047189562170503, 'cause'), (0.863173072442325, 'all'), (1.651292546497023, 'put'), (1.651292546497023, 'replay'), (1.651292546497023, 'above'), (1.6836708317224547, 'pure'), (1.651292546497023, 'alone'), (1.651292546497023, 'Praising'), (1.651292546497023, 'rush'), (1.651292546497023, 'here'), (1.651292546497023, 'wait'), (1.651292546497023, 'shots'), (1.651292546497023, 'fake'), (1.3047189562170503, 'Every'), (1.651292546497023, 'hair'), (1.651292546497023, 'man'), (1.651292546497023, 'scared'), (1.651292546497023, 'Through'), (1.101986402162968, 'It'), (0.7702248278022698, 'are'), (1.651292546497023, 'Of'), (1.3047189562170503, 'will'), (0.8465735902799727, 'we'), (1.651292546497023, 'old'), (1.651292546497023, 'madman'), (1.3047189562170503, 'life'), (1.6836708317224547, 'took'), (1.651292546497023, 'hand'), (0.9581453659370776, '('), (1.651292546497023, 'faces'), (1.651292546497023, 'thang'), (1.651292546497023, 'trust'), (1.651292546497023, 'pledge'), (1.3047189562170503, '.'), (1.1235939786759672, 'club'), (1.651292546497023, 'serve'), (1.6836708317224547, 'shoes'), (1.651292546497023, 'bedsheets'), (1.651292546497023, 'Young'), (1.651292546497023, 'far'), (2.0074536839767734, 'bubblin'), (1.651292546497023, 'speakers'), (1.651292546497023, 'enemies'), (1.651292546497023, 'today'), (1.651292546497023, 'lead'), (1.6836708317224547, 'four'), (1.6836708317224547, 'Body'), (1.3047189562170503, 'run'), (1.651292546497023, 'late'), (1.7484274021733184, 'Mi'), (1.1235939786759672, 'start'), (0.7910913494413855, ','), (0.7850368437215443, 'that'), (0.9581453659370776, 'heat'), (1.651292546497023, 'bag'), (1.651292546497023, 'forgot'), (1.3047189562170503, 'been'), (1.651292546497023, 'beyond'), (1.651292546497023, 'return'), (1.3047189562170503, 'high'), (1.651292546497023, 'low'), (1.3047189562170503, 'free'), (1.070868350164969, 'come'), (1.651292546497023, 'dear'), (0.7554128118829954, \"'re\"), (1.3047189562170503, 'forever'), (1.651292546497023, 'If'), (1.101986402162968, \"'m\"), (1.651292546497023, 'says'), (1.651292546497023, 'conversation'), (1.3047189562170503, 'have'), (1.651292546497023, 'level'), (1.3047189562170503, 'without'), (0.6783374719693662, \"'s\"), (1.6836708317224547, 'Right'), (1.651292546497023, 'short'), (1.651292546497023, 'currency'), (1.651292546497023, 'thing'), (1.651292546497023, 'simple'), (1.101986402162968, 'be'), (1.651292546497023, 'Ai'), (1.1272298422789149, 'so'), (1.651292546497023, 'line'), (1.6836708317224547, '9'), (1.330301680848757, 'follow'), (1.651292546497023, 'might'), (1.3047189562170503, 'again'), (1.651292546497023, 'Turn'), (1.651292546497023, 'over'), (1.7160491169478866, 'tonight'), (1.651292546497023, 'Gulls'), (2.331236536231091, 'wine'), (0.9581453659370776, 'can'), (1.651292546497023, 'car'), (1.3047189562170503, 'eyes'), (1.651292546497023, 'reminds'), (1.7808056873987501, 'waistline'), (1.2964545907799623, 'how'), (1.651292546497023, 'begin'), (1.6836708317224547, 'moment'), (1.651292546497023, 'rooftop'), (1.651292546497023, 'language'), (1.651292546497023, 'wave'), (1.651292546497023, 'bright'), (1.651292546497023, 'house'), (1.3047189562170503, 'Ca'), (1.651292546497023, 'world'), (1.651292546497023, 'look'), (0.6177014646323147, 'it'), (1.651292546497023, 'miss'), (1.651292546497023, 'Mama'), (1.651292546497023, 'ceiling'), (1.3047189562170503, 'boy'), (1.651292546497023, 'same'), (1.651292546497023, 'stop'), (1.101986402162968, 'dreams'), (1.101986402162968, 'Do'), (1.651292546497023, 'seen'), (1.3047189562170503, 'That'), (1.651292546497023, 'hot'), (1.651292546497023, 'kiss'), (1.4070498547438777, 'way'), (1.651292546497023, 'care'), (1.651292546497023, 'bomb'), (1.3047189562170503, '!'), (1.651292546497023, 'bout'), (1.651292546497023, 'inch'), (1.3047189562170503, 'hard'), (1.651292546497023, 'Them'), (1.651292546497023, 'Why'), (1.651292546497023, 'golden'), (1.6836708317224547, 'score'), (1.651292546497023, 'first'), (1.651292546497023, 'tomorrow'), (1.3047189562170503, 'music'), (1.651292546497023, 'songs'), (1.651292546497023, 'cry'), (1.651292546497023, 'friend'), (0.9959689297411444, 'for'), (1.101986402162968, 'This'), (1.651292546497023, 'smile'), (1.1084426782409327, 'just'), (1.651292546497023, 'big'), (1.651292546497023, 'alright'), (1.651292546497023, 'Said'), (1.651292546497023, 'sandpit'), (1.3047189562170503, 'ca'), (1.651292546497023, 'stand'), (1.651292546497023, 'drop'), (1.651292546497023, 'behind'), (1.651292546497023, 'given'), (1.651292546497023, 'knew'), (1.7808056873987501, 'bubbly'), (1.651292546497023, 'nights'), (1.5605462025341188, \"'\"), (1.3047189562170503, 'see'), (1.651292546497023, 'falling'), (1.651292546497023, 'going'), (1.651292546497023, 'try'), (1.6836708317224547, 'Then'), (1.651292546497023, 'Stop'), (1.651292546497023, 'light'), (1.651292546497023, 'week'), (1.651292546497023, 'changes'), (1.651292546497023, 'learn'), (0.8465735902799727, 'make'), (1.7160491169478866, 'broke'), (1.651292546497023, 'race'), (1.101986402162968, 'need'), (0.7554128118829954, 'We'), (1.3047189562170503, 'what'), (1.651292546497023, 'lied'), (1.6836708317224547, 'di'), (1.651292546497023, 'wonderful'), (1.651292546497023, 'were'), (1.651292546497023, 'perfect'), (1.6836708317224547, 'God'), (1.3047189562170503, 'sun'), (1.3047189562170503, 'time'), (1.651292546497023, 'spinning'), (1.651292546497023, 'single'), (1.651292546497023, 'every'), (1.3047189562170503, 'then'), (1.651292546497023, 'set'), (0.7998488596408186, 'You'), (1.651292546497023, 'sitting'), (1.651292546497023, 'handmade'), (1.3047189562170503, 'there'), (1.651292546497023, 'spot'), (1.651292546497023, 'Up'), (1.651292546497023, 'lies'), (1.7484274021733184, 'active'), (1.3047189562170503, 'our'), (1.3047189562170503, 'while'), (1.651292546497023, 'absurd'), (1.651292546497023, 'fading'), (1.651292546497023, 'sad'), (1.651292546497023, 'Forever'), (1.651292546497023, 'melody'), (1.651292546497023, 'disagree'), (1.6884598256926533, 'party'), (1.651292546497023, 'him'), (1.651292546497023, 'even'), (1.7484274021733184, 'emotional'), (0.9581453659370776, 'ever'), (1.3047189562170503, 'really'), (1.651292546497023, 'thrifty'), (1.651292546497023, 'die'), (1.651292546497023, 'star'), (1.651292546497023, 'stops'), (1.651292546497023, 'many'), (1.651292546497023, 'window'), (1.101986402162968, 'got'), (1.3047189562170503, 'space'), (1.651292546497023, 'Sooner'), (1.651292546497023, 'secrets'), (1.651292546497023, 'jukebox'), (1.2532394377539635, 'love'), (1.651292546497023, 'keep'), (1.6836708317224547, 'girl'), (1.651292546497023, 'views'), (1.651292546497023, 'Because'), (1.651292546497023, 'playing'), (1.330301680848757, 'No'), (1.651292546497023, 'Protect'), (1.651292546497023, 'saying'), (1.651292546497023, 'sea'), (1.1884167082149655, 'baby'), (1.3558844054804642, 'friends'), (1.330301680848757, 'back'), (1.651292546497023, 'hate'), (0.8512470236478321, 'like'), (0.6235633791013617, 'And'), (0.8993702583192719, 'me'), (0.8797725546046776, 'know'), (0.6783374719693662, \"n't\"), (1.651292546497023, 'Where'), (1.651292546497023, 'may'), (1.651292546497023, 'seem'), (1.651292546497023, 'road'), (1.6836708317224547, 'adore'), (1.101986402162968, 'happy'), (1.651292546497023, 'stay'), (1.651292546497023, 'wan'), (1.651292546497023, 'slow'), (0.9581453659370776, 'on'), (1.651292546497023, 'waist'), (1.651292546497023, 'down'), (1.651292546497023, 'ours'), (1.3047189562170503, \"'Cause\"), (0.6783374719693662, 'I'), (1.651292546497023, 'Drinking'), (1.651292546497023, 'justice'), (1.651292546497023, 'Daddy'), (1.651292546497023, 'gon'), (1.651292546497023, 'future'), (1.9426971135259095, 'pon'), (1.651292546497023, 'Beyond'), (1.651292546497023, 'Hoping'), (1.651292546497023, 'find'), (1.6836708317224547, 'from'), (1.651292546497023, 'town'), (1.651292546497023, 'record'), (1.3047189562170503, 'Everything'), (1.651292546497023, 'talk'), (0.7554128118829954, 'do'), (0.863173072442325, 'they'), (1.3047189562170503, 'something'), (1.101986402162968, 'Is'), (1.651292546497023, 'stars'), (1.3047189562170503, 'beat'), (1.651292546497023, 'Your'), (1.101986402162968, 'play'), (0.8465735902799727, 'never'), (1.7160491169478866, 'After'), (1.651292546497023, 'apartment'), (1.651292546497023, 'read'), (1.651292546497023, 'till'), (1.651292546497023, 'things'), (1.651292546497023, 'feeling'), (1.651292546497023, 'table'), (1.651292546497023, 'power'), (1.651292546497023, 'driver'), (1.6836708317224547, 'beautiful'), (1.651292546497023, 'smell'), (1.651292546497023, 'adventures'), (2.590262818034546, 'Gyal'), (1.3047189562170503, 'Get'), (1.651292546497023, 'Not'), (1.7808056873987501, 'flip'), (1.7484274021733184, 'lazy'), (1.651292546497023, \"'cause\"), (1.651292546497023, 'Shorty'), (1.651292546497023, 'chance'), (1.651292546497023, 'sign'), (1.6836708317224547, 'approach'), (1.3047189562170503, 'Yeah'), (1.651292546497023, 'fast'), (1.651292546497023, 'Like'), (1.651292546497023, 'played'), (1.651292546497023, 'black'), (1.330301680848757, 'day'), (1.651292546497023, 'Trying'), (1.651292546497023, 'Come'), (1.651292546497023, ';'), (1.651292546497023, 'song'), (1.651292546497023, 'allegiance'), (1.6836708317224547, 'three'), (1.651292546497023, 'later'), (1.651292546497023, 'Youth'), (1.651292546497023, 'magnet'), (1.3047189562170503, 'Tell'), (1.3047189562170503, 'new'), (1.330301680848757, 'one'), (1.8131839726241823, 'ya'), (1.651292546497023, 'getting'), (1.651292546497023, 'trip'), (1.651292546497023, 'okay'), (1.3047189562170503, 'best'), (1.1235939786759672, 'take'), (1.651292546497023, 'break'), (1.651292546497023, 'step-by-step'), (1.651292546497023, 'coming'), (1.651292546497023, 'doing'), (1.651292546497023, 'point'), (1.3047189562170503, 'about'), (1.3047189562170503, 'They'), (1.9426971135259095, 'gyal'), (1.3047189562170503, 'trying'), (1.651292546497023, 'singing'), (1.651292546497023, 'did'), (1.651292546497023, 'push'), (0.7554128118829954, 'The'), (1.651292546497023, '...'), (1.6836708317224547, 'sore'), (0.6715297928783897, 'the'), (1.651292546497023, 'think'), (1.651292546497023, 'Sitting'), (1.651292546497023, 'damage'), (1.651292546497023, 'touch'), (1.651292546497023, 'much'), (1.651292546497023, 'brand'), (1.101986402162968, 'Just'), (1.3047189562170503, 'us'), (1.651292546497023, 'backseat'), (1.651292546497023, 'd-day'), (1.651292546497023, 'magic'), (1.330301680848757, 'Make'), (1.651292546497023, 'hide'), (1.6836708317224547, 'meet'), (1.330301680848757, 'ends'), (1.651292546497023, 'dirty'), (1.7484274021733184, 'She'), (1.651292546497023, 'fills'), (1.3047189562170503, 'was'), (1.6836708317224547, 'two'), (1.651292546497023, 'end'), (0.863173072442325, 'this'), (1.3047189562170503, 'mind'), (1.651292546497023, 'expecting'), (1.651292546497023, 'diamonds'), (1.651292546497023, 'Dreamers'), (1.101986402162968, 'go'), (1.651292546497023, 'Some'), (1.3814671301121708, 'crazy'), (0.7702248278022698, 'my'), (1.651292546497023, 'watching'), (0.6783374719693662, 'in'), (1.651292546497023, 'babe'), (1.651292546497023, 'pull'), (1.0, 'you'), (1.101986402162968, \"'ve\"), (1.651292546497023, 'Sky'), (1.651292546497023, 'Grab'), (1.651292546497023, 'say'), (0.8465735902799727, 'let'), (1.651292546497023, 'fill'), (1.651292546497023, 'skin'), (1.651292546497023, 'Fill'), (1.651292546497023, 'into'), (1.651292546497023, 'shake'), (1.651292546497023, 'goes'), (1.3047189562170503, 'gone'), (1.7484274021733184, 'Flip'), (1.330301680848757, 'its'), (1.651292546497023, 'independence'), (1.845562257849614, 'she'), (1.651292546497023, 'stable'), (1.651292546497023, 'could'), (1.651292546497023, 'next'), (1.166809131701966, 'To'), (1.651292546497023, 'horse'), (1.651292546497023, 'realize'), (1.651292546497023, 'thick'), (1.651292546497023, 'Say'), (1.651292546497023, 'stove'), (1.651292546497023, 'legs'), (1.651292546497023, 'By'), (0.9769325299750594, 'with'), (0.9581453659370776, 'not'), (0.9129715189293822, 'want'), (1.651292546497023, 'There'), (1.651292546497023, 'through'), (1.6836708317224547, 'more'), (1.651292546497023, \"'d\"), (1.651292546497023, 'air'), (1.651292546497023, 'troubles'), (1.651292546497023, 'date'), (1.101986402162968, 'live'), (1.651292546497023, 'Tonight'), (1.651292546497023, 'Fills'), (1.3814671301121708, 'Baby'), (1.651292546497023, 'eat'), (1.651292546497023, 'tell'), (1.651292546497023, 'tired'), (1.651292546497023, 'comes'), (1.651292546497023, 'feel'), (1.6836708317224547, 'Bubblin'), (1.651292546497023, 'He'), (1.651292546497023, 'discovering'), (1.651292546497023, 'stamp'), (1.651292546497023, 'everywhere'), (1.101986402162968, 'room'), (1.651292546497023, 'Forget'), (1.651292546497023, 'story'), (1.651292546497023, 'worst'), (1.2532394377539635, 'body'), (1.6836708317224547, 'My'), (1.651292546497023, 'spaces'), (1.651292546497023, 'type'), (1.651292546497023, 'books'), (1.101986402162968, \"'ll\"), (1.845562257849614, 'Wine'), (1.651292546497023, 'Although'), (1.651292546497023, 'heard'), (0.9581453659370776, '?'), (1.651292546497023, 'wo'), (1.651292546497023, 'Declare'), (1.651292546497023, 'turn'), (1.3047189562170503, 'Here'), (1.651292546497023, 'children'), (1.651292546497023, 'everything'), (1.651292546497023, 'Heaven'), (1.330301680848757, \"'bout\"), (1.8779405430750455, 'Flipagram'), (1.3047189562170503, 'right'), (1.651292546497023, 'ancient'), (1.651292546497023, 'middle'), (1.651292546497023, 'should'), (1.651292546497023, 'wanted'), (1.651292546497023, 'Take'), (1.651292546497023, 'somebody'), (1.651292546497023, 'Are'), (1.651292546497023, 'plate'), (1.6836708317224547, 'send'), (1.7484274021733184, 'shot'), (1.330301680848757, 'worry'), (1.651292546497023, 'past'), (1.651292546497023, 'fight'), (1.651292546497023, 'anything'), (1.651292546497023, 'Last'), (1.1235939786759672, 'na'), (1.651292546497023, 'palm'), (1.651292546497023, 'style'), (1.651292546497023, 'white'), (1.651292546497023, 'From'), (1.651292546497023, 'uh'), (1.651292546497023, 'Girl'), (1.651292546497023, 'DJ'), (1.651292546497023, 'Man'), (1.651292546497023, 'sunshine'), (1.651292546497023, 'skies'), (1.651292546497023, 'sweet'), (1.3047189562170503, 'leave'), (1.651292546497023, 'taxi'), (1.7160491169478866, 'ting'), (1.651292546497023, 'One'), (0.8465735902799727, 'Oh'), (1.651292546497023, 'ship'), (1.651292546497023, 'water'), (1.651292546497023, 'shape'), (1.3047189562170503, 'family'), (1.651292546497023, 'Sun'), (1.651292546497023, 'lights'), (1.3047189562170503, 'bar'), (1.651292546497023, 'hours'), (1.101986402162968, 'night'), (1.651292546497023, 'Van'), (1.651292546497023, 'thinking'), (1.101986402162968, 'when'), (1.651292546497023, 'lonely'), (1.3047189562170503, 'only'), (1.651292546497023, \"'Til\"), (1.651292546497023, 'dip'), (1.651292546497023, 'show'), (1.651292546497023, 'guess'), (0.5098039215686274, 'to'), (0.7850368437215443, 'and'), (1.651292546497023, 'head'), (1.7808056873987501, 'carnival'), (1.4070498547438777, 'Me'), (1.651292546497023, 'mmmm'), (1.651292546497023, 'or'), (1.3047189562170503, 'blue'), (0.7182396762028583, 'is'), (1.1235939786759672, 'where'), (1.3047189562170503, 'Let'), (1.845562257849614, 'good'), (1.6836708317224547, 'minutes'), (1.1235939786759672, 'dance'), (1.651292546497023, 'Surrounded'), (1.651292546497023, 'Can'), (1.651292546497023, 'Moon'), (1.651292546497023, 'shining'), (0.9581453659370776, 'get'), (1.3047189562170503, 'by'), (1.101986402162968, 'give'), (1.651292546497023, 'oh'), (1.651292546497023, 'hurry'), (0.9581453659370776, ')'), (1.3047189562170503, 'sky'), (1.651292546497023, 'around'), (1.651292546497023, 'pretending'), (1.3047189562170503, 'heart'), (1.651292546497023, 'swinging'), (1.6836708317224547, 'cure'), (1.651292546497023, 'sour'), (1.651292546497023, 'unfair'), (1.6836708317224547, 'Emotional'), (1.651292546497023, 'CK'), (1.651292546497023, 'perish'), (1.7484274021733184, 'drive'), (1.6836708317224547, 'sexy'), (0.9957196940130415, 'out'), (1.651292546497023, 'matters'), (1.651292546497023, 'laugh'), (1.651292546497023, 'tune'), (1.651292546497023, 'went'), (1.6836708317224547, 'morning'), (1.2316318612409642, 'no'), (1.651292546497023, 'leaders'), (1.651292546497023, 'ask'), (1.651292546497023, 'place'), (1.651292546497023, 'young'), (1.651292546497023, 'ashes'), (1.651292546497023, 'Leave'), (1.651292546497023, 'blurry'), (1.651292546497023, 'nobody'), (1.101986402162968, 'at'), (1.6836708317224547, 'her'), (1.651292546497023, 'Look'), (1.651292546497023, 'straight'), (1.651292546497023, 'film'), (1.651292546497023, 'Start'), (1.651292546497023, 'yeah'), (1.6836708317224547, 'fa'), (1.651292546497023, 'food')] My girl come flip it like a Flipagram Flip it like a Flipagram Make ya bumpa flip like a Flipagram Flip it like a Flipagram Flip it like a Flipagram Gyal wine up pon mi body gyal Wine like its a carnival Gyal me love the way how you wine for me Gyal your wine is so emotional So wine up pon mi body gyal Me want you come wine your waistline for me Baby you bubblin', you bubblin', you bubblin' baby, Gyal you a party animal Gyal you active no you no lazy Gyal you a party animal To how you wine you drive me crazy Gyal you a party animal You wine so good, you just so good Gyal me love how you party She took one shot, two shot, three shot, four After 9 minutes she come back for more She take of her shoes and pon di dancefloor And she start to broke out broke out like a sore Then she approach me just like a cure Me know that she like me tonight me a score She sexy, she beautiful and she pure Gyal a you me adore Gyal wine up pon mi body gyal Wine just a carnival Gyal me love the way how you wine for me Gyal your wine is so emotional So wine up pon mi body gyal Me want you come wine your waistline for me Baby you bubblin', you bubblin', you bubblin' baby, Gyal you a party animal To how you wine you drive me crazy Gyal you a party animal Gyal you active no you no lazy Gyal you a party animal You dance so good, you just so good Gyal me love how you party Gyal ya ting bubbly, bubbly, bubbly Mi na know where ya from but ya ting bubbly God a send ya fa meet me tonight Mi a follow you morning all day No worry 'bout your friends they are with my friends After the club a party pon mi ends So gyal just flip it like a Flipagram, flip it like a Flipagram Right this moment Wine up pon mi body gyal Wine just like a carnival Gyal me love the way how you wine for me Gyal your wine is so emotional So wine up pon mi body gyal Me want you come wine your waistline for me Baby you bubblin', you bubblin, you bubblin baby, Gyal you a party animal Gyal you active no you no lazy Gyal you a party animal To how you wine you drive me crazy Gyal you a party animal You just so good, you wine so good Gyal me love how you Wine up pon me body gyal Wine just like a carnival Gyal me love the way that you wine for me Emotional Body gyal Mi want you come wine your waistline for me Bubblin', you bubblin', you bubblin' baby, Gyal you a party animal Gyal you a party animal Gyal you a party animal\n"
     ]
    }
   ],
   "source": [
    "print (tfidf_representation[5], lyric6)"
   ]
  },
  {
   "cell_type": "code",
   "execution_count": 94,
   "metadata": {},
   "outputs": [
    {
     "name": "stdout",
     "output_type": "stream",
     "text": [
      "[(1.6813160473424231, 'off'), (1.651292546497023, 'standing'), (1.651292546497023, 'imagine'), (1.651292546497023, 'business'), (1.651292546497023, 'scar'), (1.651292546497023, 'lover'), (1.651292546497023, 'When'), (1.651292546497023, 'radio'), (1.651292546497023, 'uses'), (1.651292546497023, 'La'), (1.651292546497023, 'hang'), (1.651292546497023, 'bumpa'), (1.101986402162968, 'own'), (1.6813160473424231, 'between'), (1.651292546497023, 'staying'), (1.651292546497023, 'feels'), (1.651292546497023, 'mi'), (0.8927503315679711, 'now'), (0.6338107493173633, 'your'), (1.651292546497023, 'makes'), (1.3047189562170503, 'them'), (1.651292546497023, 'won'), (0.7966171470766132, 'of'), (1.651292546497023, 'done'), (1.651292546497023, 'tight'), (1.651292546497023, 'dancefloor'), (0.8465735902799727, 'up'), (1.651292546497023, 'lines'), (1.651292546497023, 'animal'), (0.9929870156075168, 'So'), (1.651292546497023, 'base'), (1.651292546497023, 'reach'), (1.6813160473424231, 'faded'), (1.651292546497023, 'true'), (1.101986402162968, 'too'), (1.3047189562170503, 'but'), (1.3047189562170503, 'shit'), (1.651292546497023, 'pissed'), (0.5928751856710159, 'a'), (1.651292546497023, 'his'), (1.651292546497023, 'filled'), (1.651292546497023, 'some'), (1.651292546497023, 'swear'), (1.3047189562170503, 'cause'), (0.8465735902799727, 'all'), (1.651292546497023, 'put'), (1.651292546497023, 'replay'), (1.651292546497023, 'above'), (1.651292546497023, 'pure'), (1.7413630490332241, 'alone'), (1.651292546497023, 'Praising'), (1.7413630490332241, 'rush'), (1.651292546497023, 'here'), (1.651292546497023, 'wait'), (1.651292546497023, 'shots'), (1.651292546497023, 'fake'), (1.3047189562170503, 'Every'), (1.651292546497023, 'hair'), (1.651292546497023, 'man'), (1.7413630490332241, 'scared'), (1.651292546497023, 'Through'), (1.101986402162968, 'It'), (0.7691475902808679, 'are'), (1.651292546497023, 'Of'), (1.3047189562170503, 'will'), (0.8465735902799727, 'we'), (1.651292546497023, 'old'), (1.651292546497023, 'madman'), (1.3047189562170503, 'life'), (1.651292546497023, 'took'), (1.651292546497023, 'hand'), (1.0104078404427363, '('), (1.651292546497023, 'faces'), (1.651292546497023, 'thang'), (1.651292546497023, 'trust'), (1.651292546497023, 'pledge'), (1.3047189562170503, '.'), (1.101986402162968, 'club'), (1.651292546497023, 'serve'), (1.651292546497023, 'shoes'), (1.651292546497023, 'bedsheets'), (1.651292546497023, 'Young'), (1.651292546497023, 'far'), (1.651292546497023, 'bubblin'), (1.651292546497023, 'speakers'), (1.651292546497023, 'enemies'), (1.651292546497023, 'today'), (1.651292546497023, 'lead'), (1.651292546497023, 'four'), (1.651292546497023, 'Body'), (1.3758854447379802, 'run'), (1.651292546497023, 'late'), (1.651292546497023, 'Mi'), (1.101986402162968, 'start'), (1.055116855855198, ','), (0.7691475902808679, 'that'), (0.975566190772297, 'heat'), (1.651292546497023, 'bag'), (1.651292546497023, 'forgot'), (1.4470519332589102, 'been'), (1.651292546497023, 'beyond'), (1.651292546497023, 'return'), (1.3284411190573602, 'high'), (1.651292546497023, 'low'), (1.3758854447379802, 'free'), (0.9581453659370776, 'come'), (1.651292546497023, 'dear'), (0.7966171470766132, \"'re\"), (1.3047189562170503, 'forever'), (1.651292546497023, 'If'), (1.122022518565931, \"'m\"), (1.651292546497023, 'says'), (1.651292546497023, 'conversation'), (1.4707740960992202, 'have'), (1.651292546497023, 'level'), (1.3047189562170503, 'without'), (0.6783374719693662, \"'s\"), (1.651292546497023, 'Right'), (1.651292546497023, 'short'), (1.651292546497023, 'currency'), (1.651292546497023, 'thing'), (1.7413630490332241, 'simple'), (1.101986402162968, 'be'), (1.651292546497023, 'Ai'), (0.9581453659370776, 'so'), (1.651292546497023, 'line'), (1.651292546497023, '9'), (1.3047189562170503, 'follow'), (1.651292546497023, 'might'), (1.3047189562170503, 'again'), (1.651292546497023, 'Turn'), (1.651292546497023, 'over'), (1.651292546497023, 'tonight'), (1.651292546497023, 'Gulls'), (1.651292546497023, 'wine'), (1.0800911397836146, 'can'), (1.651292546497023, 'car'), (1.3284411190573602, 'eyes'), (1.651292546497023, 'reminds'), (1.651292546497023, 'waistline'), (1.101986402162968, 'how'), (1.651292546497023, 'begin'), (1.651292546497023, 'moment'), (1.651292546497023, 'rooftop'), (1.651292546497023, 'language'), (1.651292546497023, 'wave'), (1.651292546497023, 'bright'), (1.651292546497023, 'house'), (1.3047189562170503, 'Ca'), (1.651292546497023, 'world'), (1.651292546497023, 'look'), (1.085263051736775, 'it'), (1.651292546497023, 'miss'), (1.651292546497023, 'Mama'), (1.651292546497023, 'ceiling'), (1.3047189562170503, 'boy'), (1.651292546497023, 'same'), (1.651292546497023, 'stop'), (1.101986402162968, 'dreams'), (1.101986402162968, 'Do'), (1.651292546497023, 'seen'), (1.3047189562170503, 'That'), (1.651292546497023, 'hot'), (1.651292546497023, 'kiss'), (1.3047189562170503, 'way'), (1.651292546497023, 'care'), (1.651292546497023, 'bomb'), (1.3047189562170503, '!'), (1.651292546497023, 'bout'), (1.651292546497023, 'inch'), (1.3047189562170503, 'hard'), (1.651292546497023, 'Them'), (1.651292546497023, 'Why'), (1.651292546497023, 'golden'), (1.651292546497023, 'score'), (1.651292546497023, 'first'), (1.651292546497023, 'tomorrow'), (1.3047189562170503, 'music'), (1.651292546497023, 'songs'), (1.651292546497023, 'cry'), (1.651292546497023, 'friend'), (0.8465735902799727, 'for'), (1.101986402162968, 'This'), (1.651292546497023, 'smile'), (0.9929870156075168, 'just'), (1.651292546497023, 'big'), (1.651292546497023, 'alright'), (1.651292546497023, 'Said'), (1.651292546497023, 'sandpit'), (1.3047189562170503, 'ca'), (1.651292546497023, 'stand'), (1.651292546497023, 'drop'), (1.651292546497023, 'behind'), (1.651292546497023, 'given'), (1.651292546497023, 'knew'), (1.651292546497023, 'bubbly'), (1.651292546497023, 'nights'), (1.3047189562170503, \"'\"), (1.3284411190573602, 'see'), (1.651292546497023, 'falling'), (1.651292546497023, 'going'), (1.6813160473424231, 'try'), (1.651292546497023, 'Then'), (1.651292546497023, 'Stop'), (1.651292546497023, 'light'), (1.651292546497023, 'week'), (1.651292546497023, 'changes'), (1.651292546497023, 'learn'), (0.8619658373759721, 'make'), (1.651292546497023, 'broke'), (1.651292546497023, 'race'), (1.122022518565931, 'need'), (0.810351925474486, 'We'), (1.5656627474604603, 'what'), (1.651292546497023, 'lied'), (1.651292546497023, 'di'), (1.651292546497023, 'wonderful'), (1.651292546497023, 'were'), (1.6813160473424231, 'perfect'), (1.651292546497023, 'God'), (1.3047189562170503, 'sun'), (1.3521632818976703, 'time'), (1.651292546497023, 'spinning'), (1.6813160473424231, 'single'), (1.651292546497023, 'every'), (1.3047189562170503, 'then'), (1.7413630490332241, 'set'), (0.8790258174638491, 'You'), (1.651292546497023, 'sitting'), (1.651292546497023, 'handmade'), (1.3047189562170503, 'there'), (1.651292546497023, 'spot'), (1.651292546497023, 'Up'), (1.6813160473424231, 'lies'), (1.651292546497023, 'active'), (1.3047189562170503, 'our'), (1.3047189562170503, 'while'), (1.651292546497023, 'absurd'), (1.651292546497023, 'fading'), (1.651292546497023, 'sad'), (1.651292546497023, 'Forever'), (1.651292546497023, 'melody'), (1.651292546497023, 'disagree'), (1.3047189562170503, 'party'), (1.651292546497023, 'him'), (1.651292546497023, 'even'), (1.651292546497023, 'emotional'), (0.975566190772297, 'ever'), (1.3284411190573602, 'really'), (1.651292546497023, 'thrifty'), (1.651292546497023, 'die'), (1.651292546497023, 'star'), (1.651292546497023, 'stops'), (1.651292546497023, 'many'), (1.651292546497023, 'window'), (1.122022518565931, 'got'), (1.3047189562170503, 'space'), (1.651292546497023, 'Sooner'), (1.651292546497023, 'secrets'), (1.651292546497023, 'jukebox'), (1.162094751371857, 'love'), (1.651292546497023, 'keep'), (1.651292546497023, 'girl'), (1.651292546497023, 'views'), (1.651292546497023, 'Because'), (1.651292546497023, 'playing'), (1.3047189562170503, 'No'), (1.651292546497023, 'Protect'), (1.651292546497023, 'saying'), (1.651292546497023, 'sea'), (1.1420586349688941, 'baby'), (1.3047189562170503, 'friends'), (1.3047189562170503, 'back'), (1.651292546497023, 'hate'), (0.6906708805506273, 'like'), (0.6338107493173633, 'And'), (0.6782886966378799, 'me'), (0.9389270728559698, 'know'), (0.7770047406194559, \"n't\"), (1.651292546497023, 'Where'), (1.651292546497023, 'may'), (1.651292546497023, 'seem'), (1.651292546497023, 'road'), (1.651292546497023, 'adore'), (1.101986402162968, 'happy'), (1.651292546497023, 'stay'), (1.651292546497023, 'wan'), (1.651292546497023, 'slow'), (0.9581453659370776, 'on'), (1.651292546497023, 'waist'), (1.651292546497023, 'down'), (1.651292546497023, 'ours'), (1.3284411190573602, \"'Cause\"), (1.3566749439387324, 'I'), (1.651292546497023, 'Drinking'), (1.651292546497023, 'justice'), (1.651292546497023, 'Daddy'), (1.651292546497023, 'gon'), (1.651292546497023, 'future'), (1.651292546497023, 'pon'), (1.651292546497023, 'Beyond'), (1.651292546497023, 'Hoping'), (1.651292546497023, 'find'), (1.651292546497023, 'from'), (1.651292546497023, 'town'), (1.651292546497023, 'record'), (1.3047189562170503, 'Everything'), (1.651292546497023, 'talk'), (0.8652910390659765, 'do'), (0.8619658373759721, 'they'), (1.3047189562170503, 'something'), (1.101986402162968, 'Is'), (1.651292546497023, 'stars'), (1.3047189562170503, 'beat'), (1.651292546497023, 'Your'), (1.101986402162968, 'play'), (0.8619658373759721, 'never'), (1.651292546497023, 'After'), (1.651292546497023, 'apartment'), (1.651292546497023, 'read'), (1.651292546497023, 'till'), (1.651292546497023, 'things'), (1.651292546497023, 'feeling'), (1.651292546497023, 'table'), (1.651292546497023, 'power'), (1.651292546497023, 'driver'), (1.651292546497023, 'beautiful'), (1.651292546497023, 'smell'), (1.651292546497023, 'adventures'), (1.651292546497023, 'Gyal'), (1.3047189562170503, 'Get'), (1.651292546497023, 'Not'), (1.651292546497023, 'flip'), (1.651292546497023, 'lazy'), (1.651292546497023, \"'cause\"), (1.651292546497023, 'Shorty'), (1.651292546497023, 'chance'), (1.651292546497023, 'sign'), (1.651292546497023, 'approach'), (1.3284411190573602, 'Yeah'), (1.651292546497023, 'fast'), (1.651292546497023, 'Like'), (1.651292546497023, 'played'), (1.651292546497023, 'black'), (1.3047189562170503, 'day'), (1.651292546497023, 'Trying'), (1.651292546497023, 'Come'), (1.651292546497023, ';'), (1.651292546497023, 'song'), (1.651292546497023, 'allegiance'), (1.651292546497023, 'three'), (1.651292546497023, 'later'), (1.651292546497023, 'Youth'), (1.651292546497023, 'magnet'), (1.3284411190573602, 'Tell'), (1.3047189562170503, 'new'), (1.3047189562170503, 'one'), (1.651292546497023, 'ya'), (1.651292546497023, 'getting'), (1.651292546497023, 'trip'), (1.651292546497023, 'okay'), (1.3047189562170503, 'best'), (1.1420586349688941, 'take'), (1.651292546497023, 'break'), (1.6813160473424231, 'step-by-step'), (2.9723265836946413, 'coming'), (1.651292546497023, 'doing'), (1.651292546497023, 'point'), (1.3047189562170503, 'about'), (1.3047189562170503, 'They'), (1.651292546497023, 'gyal'), (1.3284411190573602, 'trying'), (1.651292546497023, 'singing'), (1.7413630490332241, 'did'), (1.651292546497023, 'push'), (0.7554128118829954, 'The'), (1.651292546497023, '...'), (1.651292546497023, 'sore'), (0.6449302361474923, 'the'), (1.651292546497023, 'think'), (1.651292546497023, 'Sitting'), (1.651292546497023, 'damage'), (1.7713865498786248, 'touch'), (1.651292546497023, 'much'), (1.651292546497023, 'brand'), (1.1821308677748201, 'Just'), (1.3047189562170503, 'us'), (1.651292546497023, 'backseat'), (1.651292546497023, 'd-day'), (1.651292546497023, 'magic'), (1.3047189562170503, 'Make'), (1.651292546497023, 'hide'), (1.651292546497023, 'meet'), (1.3047189562170503, 'ends'), (1.651292546497023, 'dirty'), (1.651292546497023, 'She'), (1.651292546497023, 'fills'), (1.3047189562170503, 'was'), (1.651292546497023, 'two'), (1.651292546497023, 'end'), (0.8773580844719717, 'this'), (1.3047189562170503, 'mind'), (1.651292546497023, 'expecting'), (1.651292546497023, 'diamonds'), (1.651292546497023, 'Dreamers'), (1.101986402162968, 'go'), (1.651292546497023, 'Some'), (1.3047189562170503, 'crazy'), (0.7691475902808679, 'my'), (1.651292546497023, 'watching'), (0.6906708805506273, 'in'), (2.371856566786633, 'babe'), (1.651292546497023, 'pull'), (0.6727272727272727, 'you'), (1.2222031005807463, \"'ve\"), (1.651292546497023, 'Sky'), (1.651292546497023, 'Grab'), (1.651292546497023, 'say'), (0.8619658373759721, 'let'), (1.651292546497023, 'fill'), (1.651292546497023, 'skin'), (1.651292546497023, 'Fill'), (1.651292546497023, 'into'), (1.6813160473424231, 'shake'), (1.651292546497023, 'goes'), (1.3047189562170503, 'gone'), (1.651292546497023, 'Flip'), (1.3047189562170503, 'its'), (1.651292546497023, 'independence'), (1.651292546497023, 'she'), (1.651292546497023, 'stable'), (1.651292546497023, 'could'), (1.651292546497023, 'next'), (1.122022518565931, 'To'), (1.651292546497023, 'horse'), (1.651292546497023, 'realize'), (1.651292546497023, 'thick'), (1.651292546497023, 'Say'), (1.651292546497023, 'stove'), (1.6813160473424231, 'legs'), (1.651292546497023, 'By'), (1.0104078404427363, 'with'), (0.975566190772297, 'not'), (0.8619658373759721, 'want'), (1.651292546497023, 'There'), (1.7413630490332241, 'through'), (1.651292546497023, 'more'), (1.651292546497023, \"'d\"), (1.651292546497023, 'air'), (1.651292546497023, 'troubles'), (1.651292546497023, 'date'), (1.101986402162968, 'live'), (1.651292546497023, 'Tonight'), (1.651292546497023, 'Fills'), (1.3284411190573602, 'Baby'), (1.651292546497023, 'eat'), (1.6813160473424231, 'tell'), (1.651292546497023, 'tired'), (1.651292546497023, 'comes'), (3.092420587076243, 'feel'), (1.651292546497023, 'Bubblin'), (1.651292546497023, 'He'), (1.651292546497023, 'discovering'), (1.651292546497023, 'stamp'), (1.651292546497023, 'everywhere'), (1.101986402162968, 'room'), (1.651292546497023, 'Forget'), (1.651292546497023, 'story'), (1.651292546497023, 'worst'), (1.122022518565931, 'body'), (1.651292546497023, 'My'), (1.651292546497023, 'spaces'), (1.6813160473424231, 'type'), (1.651292546497023, 'books'), (1.101986402162968, \"'ll\"), (1.651292546497023, 'Wine'), (1.651292546497023, 'Although'), (1.651292546497023, 'heard'), (0.9581453659370776, '?'), (1.651292546497023, 'wo'), (1.651292546497023, 'Declare'), (1.651292546497023, 'turn'), (1.3047189562170503, 'Here'), (1.651292546497023, 'children'), (1.651292546497023, 'everything'), (1.651292546497023, 'Heaven'), (1.3047189562170503, \"'bout\"), (1.651292546497023, 'Flipagram'), (1.3996076075782904, 'right'), (1.651292546497023, 'ancient'), (1.651292546497023, 'middle'), (1.651292546497023, 'should'), (1.651292546497023, 'wanted'), (1.651292546497023, 'Take'), (1.651292546497023, 'somebody'), (1.651292546497023, 'Are'), (1.651292546497023, 'plate'), (1.651292546497023, 'send'), (1.651292546497023, 'shot'), (1.3047189562170503, 'worry'), (1.651292546497023, 'past'), (1.6813160473424231, 'fight'), (1.651292546497023, 'anything'), (1.651292546497023, 'Last'), (1.101986402162968, 'na'), (1.651292546497023, 'palm'), (1.651292546497023, 'style'), (1.651292546497023, 'white'), (1.651292546497023, 'From'), (1.6813160473424231, 'uh'), (1.651292546497023, 'Girl'), (1.651292546497023, 'DJ'), (1.651292546497023, 'Man'), (1.651292546497023, 'sunshine'), (1.651292546497023, 'skies'), (1.651292546497023, 'sweet'), (1.3047189562170503, 'leave'), (1.651292546497023, 'taxi'), (1.651292546497023, 'ting'), (1.651292546497023, 'One'), (0.8465735902799727, 'Oh'), (1.651292546497023, 'ship'), (1.651292546497023, 'water'), (1.651292546497023, 'shape'), (1.3047189562170503, 'family'), (1.651292546497023, 'Sun'), (1.651292546497023, 'lights'), (1.3047189562170503, 'bar'), (1.651292546497023, 'hours'), (1.122022518565931, 'night'), (1.651292546497023, 'Van'), (1.651292546497023, 'thinking'), (1.162094751371857, 'when'), (1.6813160473424231, 'lonely'), (1.3047189562170503, 'only'), (1.651292546497023, \"'Til\"), (1.651292546497023, 'dip'), (1.651292546497023, 'show'), (1.651292546497023, 'guess'), (0.6090909090909091, 'to'), (0.8378214822702312, 'and'), (1.651292546497023, 'head'), (1.651292546497023, 'carnival'), (1.3047189562170503, 'Me'), (1.651292546497023, 'mmmm'), (1.651292546497023, 'or'), (1.3047189562170503, 'blue'), (0.6783374719693662, 'is'), (1.101986402162968, 'where'), (1.3047189562170503, 'Let'), (1.651292546497023, 'good'), (1.651292546497023, 'minutes'), (1.101986402162968, 'dance'), (1.651292546497023, 'Surrounded'), (1.651292546497023, 'Can'), (1.651292546497023, 'Moon'), (1.651292546497023, 'shining'), (0.975566190772297, 'get'), (1.3047189562170503, 'by'), (1.122022518565931, 'give'), (1.651292546497023, 'oh'), (1.651292546497023, 'hurry'), (1.0104078404427363, ')'), (1.3047189562170503, 'sky'), (1.651292546497023, 'around'), (1.651292546497023, 'pretending'), (1.3047189562170503, 'heart'), (1.651292546497023, 'swinging'), (1.651292546497023, 'cure'), (1.651292546497023, 'sour'), (1.651292546497023, 'unfair'), (1.651292546497023, 'Emotional'), (1.651292546497023, 'CK'), (1.651292546497023, 'perish'), (1.651292546497023, 'drive'), (1.651292546497023, 'sexy'), (0.9581453659370776, 'out'), (1.651292546497023, 'matters'), (1.651292546497023, 'laugh'), (1.651292546497023, 'tune'), (1.651292546497023, 'went'), (1.651292546497023, 'morning'), (1.101986402162968, 'no'), (1.651292546497023, 'leaders'), (1.651292546497023, 'ask'), (1.651292546497023, 'place'), (1.651292546497023, 'young'), (1.651292546497023, 'ashes'), (1.651292546497023, 'Leave'), (1.651292546497023, 'blurry'), (1.651292546497023, 'nobody'), (1.101986402162968, 'at'), (1.651292546497023, 'her'), (1.651292546497023, 'Look'), (1.651292546497023, 'straight'), (1.651292546497023, 'film'), (1.651292546497023, 'Start'), (1.651292546497023, 'yeah'), (1.651292546497023, 'fa'), (1.651292546497023, 'food')] Yeah, uh Tell me what you really like Baby I can take my time We don't ever have to fight Just take it step-by-step I can see it in your eyes 'Cause they never tell me lies I can feel that body shake And the heat between your legs You've been scared of love and what it did to you You don't have to run, I know what you've been through Just a simple touch and it can set you free We don't have to rush when you're alone with me I feel it coming, I feel it coming, babe I feel it coming, I feel it coming, babe I feel it coming, I feel it coming, babe I feel it coming, I feel it coming, babe You are not the single type So baby, this the perfect time I'm just trying to get you high And faded off this touch You don't need a lonely night So baby, I can make it right You just got to let me try To give you what you want You've been scared of love and what it did to you You don't have to run, I know what you've been through Just a simple touch and it can set you free We don't have to rush when you're alone with me I feel it coming, I feel it coming, babe I feel it coming, I feel it coming, babe I feel it coming, I feel it coming, babe I feel it coming, I feel it coming, babe I feel it coming, I feel it coming, babe I feel it coming, I feel it coming, babe I feel it coming, I feel it coming, babe I feel it coming, I feel it coming, babe You've been scared of love and what it did to you You don't have to run, I know what you've been through Just a simple touch and it can set you free We don't have to rush when you're alone with me I feel it coming, I feel it coming, babe I feel it coming, I feel it coming, babe (I know what you feel right now) I feel it coming, I feel it coming, babe I feel it coming, I feel it coming, babe (I know what you feel right now) I feel it coming, I feel it coming, babe I feel it coming, I feel it coming, babe (I know what you feel right now) I feel it coming, I feel it coming, babe I feel it coming, I feel it coming, babe I feel it coming, babe I feel it coming, babe I feel it coming, babe I feel it coming, babe\n"
     ]
    }
   ],
   "source": [
    "print (tfidf_representation[6], lyric7)"
   ]
  },
  {
   "cell_type": "code",
   "execution_count": 95,
   "metadata": {},
   "outputs": [
    {
     "name": "stdout",
     "output_type": "stream",
     "text": [
      "[(1.651292546497023, 'off'), (1.651292546497023, 'standing'), (1.651292546497023, 'imagine'), (1.651292546497023, 'business'), (1.651292546497023, 'scar'), (1.651292546497023, 'lover'), (1.7484274021733184, 'When'), (1.651292546497023, 'radio'), (1.651292546497023, 'uses'), (1.651292546497023, 'La'), (1.651292546497023, 'hang'), (1.651292546497023, 'bumpa'), (1.101986402162968, 'own'), (1.651292546497023, 'between'), (1.845562257849614, 'staying'), (1.651292546497023, 'feels'), (1.651292546497023, 'mi'), (0.9461704832540871, 'now'), (0.6835213963226466, 'your'), (1.651292546497023, 'makes'), (1.4582153040072916, 'them'), (1.651292546497023, 'won'), (0.7554128118829954, 'of'), (1.651292546497023, 'done'), (1.651292546497023, 'tight'), (1.651292546497023, 'dancefloor'), (0.8465735902799727, 'up'), (1.651292546497023, 'lines'), (1.651292546497023, 'animal'), (0.9581453659370776, 'So'), (1.651292546497023, 'base'), (1.651292546497023, 'reach'), (1.651292546497023, 'faded'), (1.651292546497023, 'true'), (1.2964545907799623, 'too'), (1.3047189562170503, 'but'), (1.3047189562170503, 'shit'), (1.7484274021733184, 'pissed'), (0.6177014646323147, 'a'), (1.7484274021733184, 'his'), (1.651292546497023, 'filled'), (1.651292546497023, 'some'), (1.651292546497023, 'swear'), (1.3047189562170503, 'cause'), (0.9461704832540871, 'all'), (1.651292546497023, 'put'), (1.651292546497023, 'replay'), (1.651292546497023, 'above'), (1.651292546497023, 'pure'), (1.651292546497023, 'alone'), (1.651292546497023, 'Praising'), (1.651292546497023, 'rush'), (1.651292546497023, 'here'), (1.651292546497023, 'wait'), (1.651292546497023, 'shots'), (1.651292546497023, 'fake'), (1.3047189562170503, 'Every'), (1.651292546497023, 'hair'), (1.651292546497023, 'man'), (1.651292546497023, 'scared'), (1.651292546497023, 'Through'), (1.166809131701966, 'It'), (0.7554128118829954, 'are'), (1.651292546497023, 'Of'), (1.3047189562170503, 'will'), (0.8963720367670299, 'we'), (1.651292546497023, 'old'), (1.651292546497023, 'madman'), (1.3047189562170503, 'life'), (1.651292546497023, 'took'), (1.651292546497023, 'hand'), (0.9581453659370776, '('), (1.651292546497023, 'faces'), (1.651292546497023, 'thang'), (1.651292546497023, 'trust'), (1.651292546497023, 'pledge'), (1.4582153040072916, '.'), (1.101986402162968, 'club'), (1.651292546497023, 'serve'), (1.651292546497023, 'shoes'), (1.651292546497023, 'bedsheets'), (1.651292546497023, 'Young'), (1.7484274021733184, 'far'), (1.651292546497023, 'bubblin'), (1.651292546497023, 'speakers'), (1.7484274021733184, 'enemies'), (1.651292546497023, 'today'), (1.651292546497023, 'lead'), (1.651292546497023, 'four'), (1.651292546497023, 'Body'), (1.3047189562170503, 'run'), (1.651292546497023, 'late'), (1.651292546497023, 'Mi'), (1.101986402162968, 'start'), (0.7477438782391178, ','), (0.7554128118829954, 'that'), (0.9581453659370776, 'heat'), (1.651292546497023, 'bag'), (1.651292546497023, 'forgot'), (1.3047189562170503, 'been'), (1.651292546497023, 'beyond'), (1.651292546497023, 'return'), (1.3047189562170503, 'high'), (1.651292546497023, 'low'), (1.3047189562170503, 'free'), (0.9581453659370776, 'come'), (1.7484274021733184, 'dear'), (0.7998488596408186, \"'re\"), (1.3047189562170503, 'forever'), (1.7484274021733184, 'If'), (1.4909227793969568, \"'m\"), (1.7484274021733184, 'says'), (1.651292546497023, 'conversation'), (1.3047189562170503, 'have'), (1.651292546497023, 'level'), (1.3047189562170503, 'without'), (0.7581418804363506, \"'s\"), (1.651292546497023, 'Right'), (1.651292546497023, 'short'), (1.651292546497023, 'currency'), (1.651292546497023, 'thing'), (1.651292546497023, 'simple'), (1.101986402162968, 'be'), (1.651292546497023, 'Ai'), (0.9581453659370776, 'so'), (1.651292546497023, 'line'), (1.651292546497023, '9'), (1.3047189562170503, 'follow'), (1.651292546497023, 'might'), (1.3047189562170503, 'again'), (1.651292546497023, 'Turn'), (1.651292546497023, 'over'), (1.651292546497023, 'tonight'), (1.651292546497023, 'Gulls'), (1.651292546497023, 'wine'), (0.9581453659370776, 'can'), (1.651292546497023, 'car'), (1.3047189562170503, 'eyes'), (1.651292546497023, 'reminds'), (1.651292546497023, 'waistline'), (1.101986402162968, 'how'), (1.651292546497023, 'begin'), (1.651292546497023, 'moment'), (1.651292546497023, 'rooftop'), (1.651292546497023, 'language'), (1.651292546497023, 'wave'), (1.651292546497023, 'bright'), (1.651292546497023, 'house'), (1.4582153040072916, 'Ca'), (1.651292546497023, 'world'), (1.651292546497023, 'look'), (0.8777862918459209, 'it'), (1.651292546497023, 'miss'), (1.651292546497023, 'Mama'), (1.651292546497023, 'ceiling'), (1.3047189562170503, 'boy'), (1.651292546497023, 'same'), (1.651292546497023, 'stop'), (1.101986402162968, 'dreams'), (1.101986402162968, 'Do'), (1.651292546497023, 'seen'), (1.3047189562170503, 'That'), (1.651292546497023, 'hot'), (1.651292546497023, 'kiss'), (1.4582153040072916, 'way'), (1.651292546497023, 'care'), (1.651292546497023, 'bomb'), (1.3047189562170503, '!'), (1.651292546497023, 'bout'), (1.651292546497023, 'inch'), (1.3814671301121708, 'hard'), (1.651292546497023, 'Them'), (1.651292546497023, 'Why'), (1.651292546497023, 'golden'), (1.651292546497023, 'score'), (1.651292546497023, 'first'), (1.651292546497023, 'tomorrow'), (1.3047189562170503, 'music'), (1.651292546497023, 'songs'), (1.651292546497023, 'cry'), (1.651292546497023, 'friend'), (0.9461704832540871, 'for'), (1.101986402162968, 'This'), (1.651292546497023, 'smile'), (1.4090373028486436, 'just'), (1.651292546497023, 'big'), (1.651292546497023, 'alright'), (1.7484274021733184, 'Said'), (1.651292546497023, 'sandpit'), (1.5349634779024122, 'ca'), (1.651292546497023, 'stand'), (1.651292546497023, 'drop'), (1.7484274021733184, 'behind'), (1.651292546497023, 'given'), (1.7484274021733184, 'knew'), (1.651292546497023, 'bubbly'), (1.651292546497023, 'nights'), (1.3047189562170503, \"'\"), (1.5349634779024122, 'see'), (1.651292546497023, 'falling'), (1.651292546497023, 'going'), (1.651292546497023, 'try'), (1.651292546497023, 'Then'), (1.651292546497023, 'Stop'), (1.651292546497023, 'light'), (1.651292546497023, 'week'), (1.7484274021733184, 'changes'), (1.651292546497023, 'learn'), (0.8465735902799727, 'make'), (1.651292546497023, 'broke'), (1.651292546497023, 'race'), (1.101986402162968, 'need'), (0.8887209551564652, 'We'), (1.3047189562170503, 'what'), (1.9426971135259095, 'lied'), (1.651292546497023, 'di'), (1.651292546497023, 'wonderful'), (1.651292546497023, 'were'), (1.651292546497023, 'perfect'), (1.651292546497023, 'God'), (1.3047189562170503, 'sun'), (1.3047189562170503, 'time'), (1.651292546497023, 'spinning'), (1.651292546497023, 'single'), (1.651292546497023, 'every'), (1.3047189562170503, 'then'), (1.651292546497023, 'set'), (0.7554128118829954, 'You'), (1.7484274021733184, 'sitting'), (1.651292546497023, 'handmade'), (1.3047189562170503, 'there'), (1.651292546497023, 'spot'), (1.651292546497023, 'Up'), (1.651292546497023, 'lies'), (1.651292546497023, 'active'), (1.3047189562170503, 'our'), (1.4582153040072916, 'while'), (1.651292546497023, 'absurd'), (1.651292546497023, 'fading'), (1.651292546497023, 'sad'), (1.651292546497023, 'Forever'), (1.651292546497023, 'melody'), (1.9426971135259095, 'disagree'), (1.3047189562170503, 'party'), (1.7484274021733184, 'him'), (1.845562257849614, 'even'), (1.651292546497023, 'emotional'), (1.0145068580510233, 'ever'), (1.3047189562170503, 'really'), (1.651292546497023, 'thrifty'), (1.651292546497023, 'die'), (1.651292546497023, 'star'), (1.651292546497023, 'stops'), (1.651292546497023, 'many'), (1.651292546497023, 'window'), (1.101986402162968, 'got'), (1.3047189562170503, 'space'), (1.651292546497023, 'Sooner'), (1.651292546497023, 'secrets'), (1.651292546497023, 'jukebox'), (1.101986402162968, 'love'), (1.651292546497023, 'keep'), (1.651292546497023, 'girl'), (1.651292546497023, 'views'), (1.651292546497023, 'Because'), (1.651292546497023, 'playing'), (1.3047189562170503, 'No'), (1.651292546497023, 'Protect'), (1.651292546497023, 'saying'), (1.651292546497023, 'sea'), (1.101986402162968, 'baby'), (1.3047189562170503, 'friends'), (1.3047189562170503, 'back'), (1.651292546497023, 'hate'), (0.7980440846698427, 'like'), (0.6115717756571049, 'And'), (0.6475465859898757, 'me'), (0.8465735902799727, 'know'), (0.957652901603811, \"n't\"), (1.651292546497023, 'Where'), (1.651292546497023, 'may'), (1.651292546497023, 'seem'), (1.651292546497023, 'road'), (1.651292546497023, 'adore'), (1.101986402162968, 'happy'), (1.651292546497023, 'stay'), (1.651292546497023, 'wan'), (1.651292546497023, 'slow'), (0.9581453659370776, 'on'), (1.651292546497023, 'waist'), (1.651292546497023, 'down'), (1.651292546497023, 'ours'), (1.3047189562170503, \"'Cause\"), (1.3566749439387324, 'I'), (1.651292546497023, 'Drinking'), (1.651292546497023, 'justice'), (1.651292546497023, 'Daddy'), (1.651292546497023, 'gon'), (1.651292546497023, 'future'), (1.651292546497023, 'pon'), (1.651292546497023, 'Beyond'), (1.651292546497023, 'Hoping'), (1.651292546497023, 'find'), (1.651292546497023, 'from'), (1.651292546497023, 'town'), (1.651292546497023, 'record'), (1.3047189562170503, 'Everything'), (1.651292546497023, 'talk'), (0.8442849073986419, 'do'), (0.9461704832540871, 'they'), (1.3047189562170503, 'something'), (1.4909227793969568, 'Is'), (1.651292546497023, 'stars'), (1.3047189562170503, 'beat'), (1.651292546497023, 'Your'), (1.101986402162968, 'play'), (0.8465735902799727, 'never'), (1.651292546497023, 'After'), (1.845562257849614, 'apartment'), (1.651292546497023, 'read'), (1.651292546497023, 'till'), (1.651292546497023, 'things'), (1.651292546497023, 'feeling'), (1.651292546497023, 'table'), (1.651292546497023, 'power'), (1.651292546497023, 'driver'), (1.651292546497023, 'beautiful'), (1.651292546497023, 'smell'), (1.651292546497023, 'adventures'), (1.651292546497023, 'Gyal'), (1.4582153040072916, 'Get'), (1.651292546497023, 'Not'), (1.651292546497023, 'flip'), (1.651292546497023, 'lazy'), (1.845562257849614, \"'cause\"), (1.651292546497023, 'Shorty'), (1.651292546497023, 'chance'), (1.651292546497023, 'sign'), (1.651292546497023, 'approach'), (1.3047189562170503, 'Yeah'), (1.651292546497023, 'fast'), (1.651292546497023, 'Like'), (1.651292546497023, 'played'), (1.651292546497023, 'black'), (1.3047189562170503, 'day'), (1.7484274021733184, 'Trying'), (1.651292546497023, 'Come'), (1.7484274021733184, ';'), (1.651292546497023, 'song'), (1.651292546497023, 'allegiance'), (1.651292546497023, 'three'), (1.651292546497023, 'later'), (1.651292546497023, 'Youth'), (1.651292546497023, 'magnet'), (1.3047189562170503, 'Tell'), (1.3047189562170503, 'new'), (1.3047189562170503, 'one'), (1.651292546497023, 'ya'), (1.651292546497023, 'getting'), (1.651292546497023, 'trip'), (1.651292546497023, 'okay'), (1.3047189562170503, 'best'), (1.101986402162968, 'take'), (1.651292546497023, 'break'), (1.651292546497023, 'step-by-step'), (1.651292546497023, 'coming'), (1.651292546497023, 'doing'), (1.651292546497023, 'point'), (1.3047189562170503, 'about'), (1.3047189562170503, 'They'), (1.651292546497023, 'gyal'), (1.4582153040072916, 'trying'), (1.651292546497023, 'singing'), (1.651292546497023, 'did'), (1.651292546497023, 'push'), (0.7554128118829954, 'The'), (1.7484274021733184, '...'), (1.651292546497023, 'sore'), (0.6115717756571049, 'the'), (1.9426971135259095, 'think'), (1.651292546497023, 'Sitting'), (1.651292546497023, 'damage'), (1.651292546497023, 'touch'), (1.651292546497023, 'much'), (1.651292546497023, 'brand'), (1.101986402162968, 'Just'), (1.3047189562170503, 'us'), (1.651292546497023, 'backseat'), (1.651292546497023, 'd-day'), (1.651292546497023, 'magic'), (1.3047189562170503, 'Make'), (1.651292546497023, 'hide'), (1.651292546497023, 'meet'), (1.3047189562170503, 'ends'), (1.651292546497023, 'dirty'), (1.651292546497023, 'She'), (1.651292546497023, 'fills'), (1.5349634779024122, 'was'), (1.651292546497023, 'two'), (1.651292546497023, 'end'), (1.1951627156893732, 'this'), (1.3814671301121708, 'mind'), (1.651292546497023, 'expecting'), (1.651292546497023, 'diamonds'), (1.651292546497023, 'Dreamers'), (1.101986402162968, 'go'), (1.651292546497023, 'Some'), (1.3047189562170503, 'crazy'), (0.7554128118829954, 'my'), (1.651292546497023, 'watching'), (0.7182396762028583, 'in'), (1.651292546497023, 'babe'), (1.651292546497023, 'pull'), (0.6470588235294118, 'you'), (1.101986402162968, \"'ve\"), (1.651292546497023, 'Sky'), (1.651292546497023, 'Grab'), (1.651292546497023, 'say'), (0.8465735902799727, 'let'), (1.651292546497023, 'fill'), (1.651292546497023, 'skin'), (1.651292546497023, 'Fill'), (1.651292546497023, 'into'), (1.651292546497023, 'shake'), (1.651292546497023, 'goes'), (1.3047189562170503, 'gone'), (1.651292546497023, 'Flip'), (1.3047189562170503, 'its'), (1.651292546497023, 'independence'), (1.651292546497023, 'she'), (1.7484274021733184, 'stable'), (1.651292546497023, 'could'), (1.651292546497023, 'next'), (1.101986402162968, 'To'), (1.651292546497023, 'horse'), (1.7484274021733184, 'realize'), (1.651292546497023, 'thick'), (1.651292546497023, 'Say'), (1.651292546497023, 'stove'), (1.651292546497023, 'legs'), (1.651292546497023, 'By'), (0.9581453659370776, 'with'), (1.1272298422789149, 'not'), (0.8465735902799727, 'want'), (1.651292546497023, 'There'), (1.651292546497023, 'through'), (1.651292546497023, 'more'), (1.7484274021733184, \"'d\"), (1.651292546497023, 'air'), (1.651292546497023, 'troubles'), (1.651292546497023, 'date'), (1.101986402162968, 'live'), (1.651292546497023, 'Tonight'), (1.651292546497023, 'Fills'), (1.3047189562170503, 'Baby'), (1.651292546497023, 'eat'), (1.651292546497023, 'tell'), (1.845562257849614, 'tired'), (1.651292546497023, 'comes'), (1.651292546497023, 'feel'), (1.651292546497023, 'Bubblin'), (1.7484274021733184, 'He'), (1.651292546497023, 'discovering'), (1.651292546497023, 'stamp'), (1.651292546497023, 'everywhere'), (1.101986402162968, 'room'), (1.651292546497023, 'Forget'), (1.651292546497023, 'story'), (1.651292546497023, 'worst'), (1.101986402162968, 'body'), (1.651292546497023, 'My'), (1.651292546497023, 'spaces'), (1.651292546497023, 'type'), (1.651292546497023, 'books'), (1.101986402162968, \"'ll\"), (1.651292546497023, 'Wine'), (1.651292546497023, 'Although'), (1.651292546497023, 'heard'), (1.296314318620752, '?'), (1.651292546497023, 'wo'), (1.651292546497023, 'Declare'), (1.651292546497023, 'turn'), (1.4582153040072916, 'Here'), (1.7484274021733184, 'children'), (1.651292546497023, 'everything'), (1.651292546497023, 'Heaven'), (1.3047189562170503, \"'bout\"), (1.651292546497023, 'Flipagram'), (1.3814671301121708, 'right'), (1.651292546497023, 'ancient'), (1.651292546497023, 'middle'), (1.7484274021733184, 'should'), (1.7484274021733184, 'wanted'), (1.651292546497023, 'Take'), (1.651292546497023, 'somebody'), (1.651292546497023, 'Are'), (1.651292546497023, 'plate'), (1.651292546497023, 'send'), (1.651292546497023, 'shot'), (1.3047189562170503, 'worry'), (1.651292546497023, 'past'), (1.651292546497023, 'fight'), (1.7484274021733184, 'anything'), (1.651292546497023, 'Last'), (1.101986402162968, 'na'), (1.651292546497023, 'palm'), (1.651292546497023, 'style'), (1.651292546497023, 'white'), (1.651292546497023, 'From'), (1.651292546497023, 'uh'), (1.651292546497023, 'Girl'), (1.651292546497023, 'DJ'), (1.651292546497023, 'Man'), (1.651292546497023, 'sunshine'), (1.651292546497023, 'skies'), (1.651292546497023, 'sweet'), (1.3047189562170503, 'leave'), (1.651292546497023, 'taxi'), (1.651292546497023, 'ting'), (1.651292546497023, 'One'), (0.8963720367670299, 'Oh'), (1.651292546497023, 'ship'), (1.651292546497023, 'water'), (1.651292546497023, 'shape'), (1.3047189562170503, 'family'), (1.651292546497023, 'Sun'), (1.651292546497023, 'lights'), (1.3814671301121708, 'bar'), (1.651292546497023, 'hours'), (1.101986402162968, 'night'), (1.651292546497023, 'Van'), (1.651292546497023, 'thinking'), (1.101986402162968, 'when'), (1.651292546497023, 'lonely'), (1.3047189562170503, 'only'), (1.651292546497023, \"'Til\"), (1.651292546497023, 'dip'), (1.651292546497023, 'show'), (1.651292546497023, 'guess'), (0.6470588235294118, 'to'), (0.7554128118829954, 'and'), (1.651292546497023, 'head'), (1.651292546497023, 'carnival'), (1.3047189562170503, 'Me'), (1.651292546497023, 'mmmm'), (1.651292546497023, 'or'), (1.3047189562170503, 'blue'), (0.6783374719693662, 'is'), (1.101986402162968, 'where'), (1.3047189562170503, 'Let'), (1.651292546497023, 'good'), (1.651292546497023, 'minutes'), (1.101986402162968, 'dance'), (1.651292546497023, 'Surrounded'), (1.651292546497023, 'Can'), (1.651292546497023, 'Moon'), (1.651292546497023, 'shining'), (0.9581453659370776, 'get'), (1.3047189562170503, 'by'), (1.166809131701966, 'give'), (1.651292546497023, 'oh'), (1.651292546497023, 'hurry'), (0.9581453659370776, ')'), (1.3047189562170503, 'sky'), (1.651292546497023, 'around'), (1.651292546497023, 'pretending'), (1.3047189562170503, 'heart'), (1.651292546497023, 'swinging'), (1.651292546497023, 'cure'), (1.651292546497023, 'sour'), (1.651292546497023, 'unfair'), (1.651292546497023, 'Emotional'), (1.651292546497023, 'CK'), (1.651292546497023, 'perish'), (1.651292546497023, 'drive'), (1.651292546497023, 'sexy'), (0.9581453659370776, 'out'), (1.651292546497023, 'matters'), (1.651292546497023, 'laugh'), (1.651292546497023, 'tune'), (1.7484274021733184, 'went'), (1.651292546497023, 'morning'), (1.101986402162968, 'no'), (1.651292546497023, 'leaders'), (1.651292546497023, 'ask'), (1.651292546497023, 'place'), (1.651292546497023, 'young'), (1.651292546497023, 'ashes'), (1.651292546497023, 'Leave'), (1.651292546497023, 'blurry'), (1.651292546497023, 'nobody'), (1.101986402162968, 'at'), (1.651292546497023, 'her'), (1.651292546497023, 'Look'), (1.651292546497023, 'straight'), (1.651292546497023, 'film'), (1.651292546497023, 'Start'), (1.7484274021733184, 'yeah'), (1.651292546497023, 'fa'), (1.651292546497023, 'food')] Can't you see I'm trying? I don't even like it. I just lied to Get to your apartment, now I'm staying Here just for a while I can't think 'cause I'm just way too tired Is this it? Is this it? Is this... it? Said they'd give you anything you ever wanted When they lied, I knew it was just stable children Trying hard not to realize I was sitting right behind them Oh dear, can't you see? It's them it's not me We're not enemies; We just disagree If I was like him all pissed in this bar He changes his mind, says I went too far We all disagree I think we should disagree, yeah Is this it Is this it Is this it Can't you see I'm trying? I don't even like it. I just lied to Get to your apartment, now I'm staying Here just for a while I can't think 'cause I'm just way too tired\n"
     ]
    }
   ],
   "source": [
    "print (tfidf_representation[7], lyric8)"
   ]
  },
  {
   "cell_type": "code",
   "execution_count": 96,
   "metadata": {},
   "outputs": [
    {
     "name": "stdout",
     "output_type": "stream",
     "text": [
      "[(1.651292546497023, 'off'), (1.651292546497023, 'standing'), (1.651292546497023, 'imagine'), (1.651292546497023, 'business'), (1.651292546497023, 'scar'), (1.68187203809882, 'lover'), (1.651292546497023, 'When'), (1.68187203809882, 'radio'), (1.651292546497023, 'uses'), (1.651292546497023, 'La'), (1.651292546497023, 'hang'), (1.651292546497023, 'bumpa'), (1.101986402162968, 'own'), (1.651292546497023, 'between'), (1.651292546497023, 'staying'), (1.651292546497023, 'feels'), (1.651292546497023, 'mi'), (1.019023766077745, 'now'), (0.8267544374623825, 'your'), (1.651292546497023, 'makes'), (1.3047189562170503, 'them'), (1.651292546497023, 'won'), (0.8393475687588837, 'of'), (1.651292546497023, 'done'), (1.651292546497023, 'tight'), (1.651292546497023, 'dancefloor'), (0.8936054564066379, 'up'), (1.651292546497023, 'lines'), (1.651292546497023, 'animal'), (0.9758887986396161, 'So'), (1.651292546497023, 'base'), (1.651292546497023, 'reach'), (1.651292546497023, 'faded'), (1.651292546497023, 'true'), (1.2040221801410205, 'too'), (1.3047189562170503, 'but'), (1.3047189562170503, 'shit'), (1.651292546497023, 'pissed'), (0.6345588145443077, 'a'), (1.651292546497023, 'his'), (1.651292546497023, 'filled'), (1.651292546497023, 'some'), (1.651292546497023, 'swear'), (1.3047189562170503, 'cause'), (0.8622508789888611, 'all'), (1.7430310213024132, 'put'), (1.651292546497023, 'replay'), (1.651292546497023, 'above'), (1.651292546497023, 'pure'), (1.651292546497023, 'alone'), (1.651292546497023, 'Praising'), (1.651292546497023, 'rush'), (1.651292546497023, 'here'), (1.651292546497023, 'wait'), (1.68187203809882, 'shots'), (1.651292546497023, 'fake'), (1.4496877291300558, 'Every'), (1.651292546497023, 'hair'), (1.651292546497023, 'man'), (1.651292546497023, 'scared'), (1.651292546497023, 'Through'), (1.101986402162968, 'It'), (0.7694019380289768, 'are'), (1.651292546497023, 'Of'), (1.3047189562170503, 'will'), (0.8936054564066379, 'we'), (1.651292546497023, 'old'), (1.651292546497023, 'madman'), (1.3047189562170503, 'life'), (1.651292546497023, 'took'), (1.68187203809882, 'hand'), (1.1000928275573854, '('), (1.651292546497023, 'faces'), (1.651292546497023, 'thang'), (1.68187203809882, 'trust'), (1.651292546497023, 'pledge'), (1.3047189562170503, '.'), (1.1223935577585786, 'club'), (1.651292546497023, 'serve'), (1.651292546497023, 'shoes'), (1.7430310213024132, 'bedsheets'), (1.651292546497023, 'Young'), (1.651292546497023, 'far'), (1.651292546497023, 'bubblin'), (1.651292546497023, 'speakers'), (1.651292546497023, 'enemies'), (1.651292546497023, 'today'), (1.8347694961078034, 'lead'), (1.651292546497023, 'four'), (1.651292546497023, 'Body'), (1.3047189562170503, 'run'), (1.651292546497023, 'late'), (1.651292546497023, 'Mi'), (1.1428007133541889, 'start'), (1.0439515981212804, ','), (0.7833910641749581, 'that'), (0.9581453659370776, 'heat'), (1.68187203809882, 'bag'), (1.651292546497023, 'forgot'), (1.3047189562170503, 'been'), (1.651292546497023, 'beyond'), (1.651292546497023, 'return'), (1.3047189562170503, 'high'), (1.651292546497023, 'low'), (1.3047189562170503, 'free'), (1.2597837218802317, 'come'), (1.651292546497023, 'dear'), (0.7694019380289768, \"'re\"), (1.3047189562170503, 'forever'), (1.651292546497023, 'If'), (1.57135098086201, \"'m\"), (1.651292546497023, 'says'), (1.68187203809882, 'conversation'), (1.3047189562170503, 'have'), (1.651292546497023, 'level'), (1.3047189562170503, 'without'), (0.7034610820423057, \"'s\"), (1.651292546497023, 'Right'), (1.651292546497023, 'short'), (1.651292546497023, 'currency'), (1.651292546497023, 'thing'), (1.651292546497023, 'simple'), (1.4285008916927362, 'be'), (1.651292546497023, 'Ai'), (0.9758887986396161, 'so'), (1.651292546497023, 'line'), (1.651292546497023, '9'), (1.4496877291300558, 'follow'), (1.651292546497023, 'might'), (1.3047189562170503, 'again'), (1.651292546497023, 'Turn'), (1.68187203809882, 'over'), (1.651292546497023, 'tonight'), (1.651292546497023, 'Gulls'), (1.651292546497023, 'wine'), (0.9758887986396161, 'can'), (1.651292546497023, 'car'), (1.3047189562170503, 'eyes'), (1.651292546497023, 'reminds'), (1.651292546497023, 'waistline'), (1.1223935577585786, 'how'), (1.68187203809882, 'begin'), (1.651292546497023, 'moment'), (1.651292546497023, 'rooftop'), (1.651292546497023, 'language'), (1.651292546497023, 'wave'), (1.651292546497023, 'bright'), (1.651292546497023, 'house'), (1.3047189562170503, 'Ca'), (1.651292546497023, 'world'), (1.651292546497023, 'look'), (0.5629150774183376, 'it'), (1.651292546497023, 'miss'), (1.651292546497023, 'Mama'), (1.651292546497023, 'ceiling'), (1.3530418805213853, 'boy'), (1.651292546497023, 'same'), (1.68187203809882, 'stop'), (1.101986402162968, 'dreams'), (1.101986402162968, 'Do'), (1.651292546497023, 'seen'), (1.3047189562170503, 'That'), (1.651292546497023, 'hot'), (1.68187203809882, 'kiss'), (1.3047189562170503, 'way'), (1.651292546497023, 'care'), (1.651292546497023, 'bomb'), (1.3047189562170503, '!'), (1.651292546497023, 'bout'), (1.651292546497023, 'inch'), (1.3047189562170503, 'hard'), (1.651292546497023, 'Them'), (1.651292546497023, 'Why'), (1.651292546497023, 'golden'), (1.651292546497023, 'score'), (1.68187203809882, 'first'), (1.651292546497023, 'tomorrow'), (1.3047189562170503, 'music'), (1.651292546497023, 'songs'), (1.651292546497023, 'cry'), (1.651292546497023, 'friend'), (0.8936054564066379, 'for'), (1.101986402162968, 'This'), (1.651292546497023, 'smile'), (0.9758887986396161, 'just'), (1.651292546497023, 'big'), (1.651292546497023, 'alright'), (1.651292546497023, 'Said'), (1.651292546497023, 'sandpit'), (1.3047189562170503, 'ca'), (1.651292546497023, 'stand'), (1.651292546497023, 'drop'), (1.651292546497023, 'behind'), (1.651292546497023, 'given'), (1.651292546497023, 'knew'), (1.651292546497023, 'bubbly'), (1.651292546497023, 'nights'), (1.3047189562170503, \"'\"), (1.3047189562170503, 'see'), (1.7430310213024132, 'falling'), (1.68187203809882, 'going'), (1.651292546497023, 'try'), (1.651292546497023, 'Then'), (1.651292546497023, 'Stop'), (1.651292546497023, 'light'), (1.68187203809882, 'week'), (1.651292546497023, 'changes'), (1.651292546497023, 'learn'), (0.8622508789888611, 'make'), (1.651292546497023, 'broke'), (1.651292546497023, 'race'), (1.101986402162968, 'need'), (0.8253584426129024, 'We'), (1.3047189562170503, 'what'), (1.651292546497023, 'lied'), (1.651292546497023, 'di'), (1.651292546497023, 'wonderful'), (1.7430310213024132, 'were'), (1.651292546497023, 'perfect'), (1.651292546497023, 'God'), (1.3047189562170503, 'sun'), (1.3047189562170503, 'time'), (1.651292546497023, 'spinning'), (1.651292546497023, 'single'), (1.651292546497023, 'every'), (1.377203342673553, 'then'), (1.651292546497023, 'set'), (0.7694019380289768, 'You'), (1.651292546497023, 'sitting'), (1.7124515297006162, 'handmade'), (1.3047189562170503, 'there'), (1.651292546497023, 'spot'), (1.651292546497023, 'Up'), (1.651292546497023, 'lies'), (1.651292546497023, 'active'), (1.328880418369218, 'our'), (1.3047189562170503, 'while'), (1.651292546497023, 'absurd'), (1.651292546497023, 'fading'), (1.651292546497023, 'sad'), (1.651292546497023, 'Forever'), (1.651292546497023, 'melody'), (1.651292546497023, 'disagree'), (1.3047189562170503, 'party'), (1.651292546497023, 'him'), (1.651292546497023, 'even'), (1.651292546497023, 'emotional'), (0.9581453659370776, 'ever'), (1.3047189562170503, 'really'), (1.68187203809882, 'thrifty'), (1.651292546497023, 'die'), (1.651292546497023, 'star'), (1.651292546497023, 'stops'), (1.651292546497023, 'many'), (1.651292546497023, 'window'), (1.101986402162968, 'got'), (1.3047189562170503, 'space'), (1.651292546497023, 'Sooner'), (1.651292546497023, 'secrets'), (1.68187203809882, 'jukebox'), (1.612165292053231, 'love'), (1.651292546497023, 'keep'), (1.651292546497023, 'girl'), (1.651292546497023, 'views'), (1.651292546497023, 'Because'), (1.651292546497023, 'playing'), (1.3047189562170503, 'No'), (1.651292546497023, 'Protect'), (1.651292546497023, 'saying'), (1.651292546497023, 'sea'), (1.3876865805015153, 'baby'), (1.328880418369218, 'friends'), (1.3047189562170503, 'back'), (1.651292546497023, 'hate'), (0.8039555223340636, 'like'), (0.7248258081861984, 'And'), (0.713500404933289, 'me'), (0.8779281676977494, 'know'), (0.7160228870787755, \"n't\"), (1.651292546497023, 'Where'), (1.7124515297006162, 'may'), (1.651292546497023, 'seem'), (1.651292546497023, 'road'), (1.651292546497023, 'adore'), (1.101986402162968, 'happy'), (1.651292546497023, 'stay'), (1.651292546497023, 'wan'), (1.68187203809882, 'slow'), (1.6678826740386163, 'on'), (1.7124515297006162, 'waist'), (1.651292546497023, 'down'), (1.651292546497023, 'ours'), (1.3047189562170503, \"'Cause\"), (1.3566749439387324, 'I'), (1.68187203809882, 'Drinking'), (1.651292546497023, 'justice'), (1.651292546497023, 'Daddy'), (1.651292546497023, 'gon'), (1.651292546497023, 'future'), (1.651292546497023, 'pon'), (1.651292546497023, 'Beyond'), (1.651292546497023, 'Hoping'), (1.68187203809882, 'find'), (1.651292546497023, 'from'), (1.651292546497023, 'town'), (1.651292546497023, 'record'), (1.3047189562170503, 'Everything'), (1.7736105129042097, 'talk'), (0.8253584426129024, 'do'), (0.8465735902799727, 'they'), (1.4496877291300558, 'something'), (1.101986402162968, 'Is'), (1.651292546497023, 'stars'), (1.3047189562170503, 'beat'), (1.7124515297006162, 'Your'), (1.1223935577585786, 'play'), (0.8465735902799727, 'never'), (1.651292546497023, 'After'), (1.651292546497023, 'apartment'), (1.651292546497023, 'read'), (1.651292546497023, 'till'), (1.651292546497023, 'things'), (1.651292546497023, 'feeling'), (1.68187203809882, 'table'), (1.651292546497023, 'power'), (1.68187203809882, 'driver'), (1.651292546497023, 'beautiful'), (1.7430310213024132, 'smell'), (1.651292546497023, 'adventures'), (1.651292546497023, 'Gyal'), (1.3047189562170503, 'Get'), (1.651292546497023, 'Not'), (1.651292546497023, 'flip'), (1.651292546497023, 'lazy'), (1.651292546497023, \"'cause\"), (1.651292546497023, 'Shorty'), (1.68187203809882, 'chance'), (1.651292546497023, 'sign'), (1.651292546497023, 'approach'), (1.3047189562170503, 'Yeah'), (1.68187203809882, 'fast'), (1.651292546497023, 'Like'), (1.651292546497023, 'played'), (1.651292546497023, 'black'), (1.4496877291300558, 'day'), (1.651292546497023, 'Trying'), (2.2628823785329573, 'Come'), (1.651292546497023, ';'), (1.651292546497023, 'song'), (1.651292546497023, 'allegiance'), (1.651292546497023, 'three'), (1.651292546497023, 'later'), (1.651292546497023, 'Youth'), (1.7430310213024132, 'magnet'), (1.328880418369218, 'Tell'), (1.4496877291300558, 'new'), (1.3047189562170503, 'one'), (1.651292546497023, 'ya'), (1.651292546497023, 'getting'), (1.651292546497023, 'trip'), (1.68187203809882, 'okay'), (1.328880418369218, 'best'), (1.101986402162968, 'take'), (1.651292546497023, 'break'), (1.651292546497023, 'step-by-step'), (1.651292546497023, 'coming'), (1.7124515297006162, 'doing'), (1.651292546497023, 'point'), (1.328880418369218, 'about'), (1.3047189562170503, 'They'), (1.651292546497023, 'gyal'), (1.3047189562170503, 'trying'), (1.7124515297006162, 'singing'), (1.651292546497023, 'did'), (1.7430310213024132, 'push'), (0.7833910641749581, 'The'), (1.651292546497023, '...'), (1.651292546497023, 'sore'), (0.7927782277036545, 'the'), (1.651292546497023, 'think'), (1.651292546497023, 'Sitting'), (1.651292546497023, 'damage'), (1.651292546497023, 'touch'), (1.7124515297006162, 'much'), (1.8347694961078034, 'brand'), (1.101986402162968, 'Just'), (1.3047189562170503, 'us'), (1.68187203809882, 'backseat'), (1.651292546497023, 'd-day'), (1.651292546497023, 'magic'), (1.3047189562170503, 'Make'), (1.651292546497023, 'hide'), (1.651292546497023, 'meet'), (1.3047189562170503, 'ends'), (1.651292546497023, 'dirty'), (1.651292546497023, 'She'), (1.651292546497023, 'fills'), (1.3530418805213853, 'was'), (1.651292546497023, 'two'), (1.651292546497023, 'end'), (0.8465735902799727, 'this'), (1.3530418805213853, 'mind'), (1.651292546497023, 'expecting'), (1.651292546497023, 'diamonds'), (1.651292546497023, 'Dreamers'), (1.1428007133541889, 'go'), (1.651292546497023, 'Some'), (1.3530418805213853, 'crazy'), (1.2170539747003815, 'my'), (1.651292546497023, 'watching'), (1.0175062079540493, 'in'), (1.651292546497023, 'babe'), (1.7430310213024132, 'pull'), (0.6481481481481481, 'you'), (1.101986402162968, \"'ve\"), (1.651292546497023, 'Sky'), (1.7124515297006162, 'Grab'), (1.651292546497023, 'say'), (0.8936054564066379, 'let'), (1.68187203809882, 'fill'), (1.651292546497023, 'skin'), (1.68187203809882, 'Fill'), (1.651292546497023, 'into'), (1.651292546497023, 'shake'), (1.651292546497023, 'goes'), (1.3047189562170503, 'gone'), (1.651292546497023, 'Flip'), (1.3047189562170503, 'its'), (1.651292546497023, 'independence'), (1.651292546497023, 'she'), (1.651292546497023, 'stable'), (1.651292546497023, 'could'), (1.651292546497023, 'next'), (1.101986402162968, 'To'), (1.651292546497023, 'horse'), (1.651292546497023, 'realize'), (1.651292546497023, 'thick'), (1.7124515297006162, 'Say'), (1.651292546497023, 'stove'), (1.651292546497023, 'legs'), (1.651292546497023, 'By'), (1.348500885392924, 'with'), (0.9936322313421544, 'not'), (0.8779281676977494, 'want'), (1.651292546497023, 'There'), (1.651292546497023, 'through'), (1.651292546497023, 'more'), (1.651292546497023, \"'d\"), (1.651292546497023, 'air'), (1.651292546497023, 'troubles'), (1.68187203809882, 'date'), (1.101986402162968, 'live'), (1.651292546497023, 'Tonight'), (1.651292546497023, 'Fills'), (1.3047189562170503, 'Baby'), (1.68187203809882, 'eat'), (1.651292546497023, 'tell'), (1.651292546497023, 'tired'), (1.651292546497023, 'comes'), (1.651292546497023, 'feel'), (1.651292546497023, 'Bubblin'), (1.651292546497023, 'He'), (1.8347694961078034, 'discovering'), (1.651292546497023, 'stamp'), (1.651292546497023, 'everywhere'), (1.1632078689497996, 'room'), (1.651292546497023, 'Forget'), (1.68187203809882, 'story'), (1.651292546497023, 'worst'), (1.4489080472883469, 'body'), (1.651292546497023, 'My'), (1.651292546497023, 'spaces'), (1.651292546497023, 'type'), (1.651292546497023, 'books'), (1.1223935577585786, \"'ll\"), (1.651292546497023, 'Wine'), (1.7430310213024132, 'Although'), (1.651292546497023, 'heard'), (0.9581453659370776, '?'), (1.651292546497023, 'wo'), (1.651292546497023, 'Declare'), (1.651292546497023, 'turn'), (1.3047189562170503, 'Here'), (1.651292546497023, 'children'), (1.651292546497023, 'everything'), (1.651292546497023, 'Heaven'), (1.3047189562170503, \"'bout\"), (1.651292546497023, 'Flipagram'), (1.3047189562170503, 'right'), (1.651292546497023, 'ancient'), (1.651292546497023, 'middle'), (1.651292546497023, 'should'), (1.651292546497023, 'wanted'), (1.68187203809882, 'Take'), (1.7124515297006162, 'somebody'), (1.651292546497023, 'Are'), (1.68187203809882, 'plate'), (1.651292546497023, 'send'), (1.651292546497023, 'shot'), (1.3047189562170503, 'worry'), (1.651292546497023, 'past'), (1.651292546497023, 'fight'), (1.651292546497023, 'anything'), (1.7430310213024132, 'Last'), (1.101986402162968, 'na'), (1.651292546497023, 'palm'), (1.651292546497023, 'style'), (1.651292546497023, 'white'), (1.651292546497023, 'From'), (1.651292546497023, 'uh'), (1.7124515297006162, 'Girl'), (1.651292546497023, 'DJ'), (1.68187203809882, 'Man'), (1.651292546497023, 'sunshine'), (1.651292546497023, 'skies'), (1.68187203809882, 'sweet'), (1.328880418369218, 'leave'), (1.68187203809882, 'taxi'), (1.651292546497023, 'ting'), (1.68187203809882, 'One'), (0.940637322533303, 'Oh'), (1.651292546497023, 'ship'), (1.651292546497023, 'water'), (1.8347694961078034, 'shape'), (1.328880418369218, 'family'), (1.651292546497023, 'Sun'), (1.651292546497023, 'lights'), (1.328880418369218, 'bar'), (1.7124515297006162, 'hours'), (1.1632078689497996, 'night'), (1.68187203809882, 'Van'), (1.651292546497023, 'thinking'), (1.101986402162968, 'when'), (1.651292546497023, 'lonely'), (1.3047189562170503, 'only'), (1.651292546497023, \"'Til\"), (1.651292546497023, 'dip'), (1.651292546497023, 'show'), (1.651292546497023, 'guess'), (0.5185185185185185, 'to'), (0.9372714517807534, 'and'), (1.651292546497023, 'head'), (1.651292546497023, 'carnival'), (1.328880418369218, 'Me'), (1.8959284793113966, 'mmmm'), (1.651292546497023, 'or'), (1.3047189562170503, 'blue'), (0.7537083021881847, 'is'), (1.1223935577585786, 'where'), (1.3047189562170503, 'Let'), (1.651292546497023, 'good'), (1.651292546497023, 'minutes'), (1.1223935577585786, 'dance'), (1.651292546497023, 'Surrounded'), (1.651292546497023, 'Can'), (1.651292546497023, 'Moon'), (1.651292546497023, 'shining'), (0.9758887986396161, 'get'), (1.3047189562170503, 'by'), (1.1223935577585786, 'give'), (2.201723395329364, 'oh'), (1.651292546497023, 'hurry'), (1.1000928275573854, ')'), (1.3047189562170503, 'sky'), (1.651292546497023, 'around'), (1.651292546497023, 'pretending'), (1.377203342673553, 'heart'), (1.651292546497023, 'swinging'), (1.651292546497023, 'cure'), (1.68187203809882, 'sour'), (1.651292546497023, 'unfair'), (1.651292546497023, 'Emotional'), (1.651292546497023, 'CK'), (1.651292546497023, 'perish'), (1.651292546497023, 'drive'), (1.651292546497023, 'sexy'), (0.9758887986396161, 'out'), (1.651292546497023, 'matters'), (1.651292546497023, 'laugh'), (1.651292546497023, 'tune'), (1.651292546497023, 'went'), (1.651292546497023, 'morning'), (1.101986402162968, 'no'), (1.651292546497023, 'leaders'), (1.651292546497023, 'ask'), (1.68187203809882, 'place'), (1.651292546497023, 'young'), (1.651292546497023, 'ashes'), (1.651292546497023, 'Leave'), (1.651292546497023, 'blurry'), (1.651292546497023, 'nobody'), (1.1223935577585786, 'at'), (1.651292546497023, 'her'), (1.651292546497023, 'Look'), (1.651292546497023, 'straight'), (1.651292546497023, 'film'), (1.651292546497023, 'Start'), (1.651292546497023, 'yeah'), (1.651292546497023, 'fa'), (1.651292546497023, 'food')] The club isn't the best place to find a lover So the bar is where I go (mmmm) Me and my friends at the table doing shots Drinking fast and then we talk slow (mmmm) And you come over and start up a conversation with just me And trust me I'll give it a chance now (mmmm) Take my hand, stop, put Van The Man on the jukebox And then we start to dance And now I'm singing like Girl, you know I want your love Your love was handmade for somebody like me Come on now, follow my lead I may be crazy, don't mind me Say, boy, let's not talk too much Grab on my waist and put that body on me Come on now, follow my lead Come, come on now, follow my lead (mmmm) I'm in love with the shape of you We push and pull like a magnet do Although my heart is falling too I'm in love with your body Last night you were in my room And now my bedsheets smell like you Every day discovering something brand new I'm in love with your body Oh I oh I oh I oh I I'm in love with your body Oh I oh I oh I oh I I'm in love with your body Oh I oh I oh I oh I I'm in love with your body Every day discovering something brand new I'm in love with the shape of you One week in we let the story begin We're going out on our first date (mmmm) You and me are thrifty, so go all you can eat Fill up your bag and I fill up a plate (mmmm) We talk for hours and hours about the sweet and the sour And how your family is doing okay (mmmm) And leave and get in a taxi, then kiss in the backseat Tell the driver make the radio play And I'm singing like Girl, you know I want your love Your love was handmade for somebody like me Come on now, follow my lead I may be crazy, don't mind me Say, boy, let's not talk too much Grab on my waist and put that body on me Come on now, follow my lead Come, come on now, follow my lead (mmmm) I'm in love with the shape of you We push and pull like a magnet do Although my heart is falling too I'm in love with your body Last night you were in my room And now my bedsheets smell like you Every day discovering something brand new I'm in love with your body Oh I oh I oh I oh I I'm in love with your body Oh I oh I oh I oh I I'm in love with your body Oh I oh I oh I oh I I'm in love with your body Every day discovering something brand new I'm in love with the shape of you Come on, be my baby, come on Come on, be my baby, come on Come on, be my baby, come on Come on, be my baby, come on Come on, be my baby, come on Come on, be my baby, come on Come on, be my baby, come on Come on, be my baby, come on I'm in love with the shape of you We push and pull like a magnet do Although my heart is falling too I'm in love with your body Last night you were in my room And now my bedsheets smell like you Every day discovering something brand new I'm in love with your body Come on, be my baby, come on Come on, be my baby, come on I'm in love with your body Come on, be my baby, come on Come on, be my baby, come on I'm in love with your body Come on, be my baby, come on Come on, be my baby, come on I'm in love with your body Every day discovering something brand new I'm in love with the shape of you\n"
     ]
    }
   ],
   "source": [
    "print (tfidf_representation[8], lyric9)"
   ]
  },
  {
   "cell_type": "code",
   "execution_count": 97,
   "metadata": {},
   "outputs": [
    {
     "name": "stdout",
     "output_type": "stream",
     "text": [
      "[(1.651292546497023, 'off'), (2.1230904169247435, 'standing'), (1.651292546497023, 'imagine'), (1.651292546497023, 'business'), (1.651292546497023, 'scar'), (1.651292546497023, 'lover'), (1.651292546497023, 'When'), (1.651292546497023, 'radio'), (1.651292546497023, 'uses'), (1.651292546497023, 'La'), (1.8871914817108832, 'hang'), (1.651292546497023, 'bumpa'), (1.57426628880424, 'own'), (1.651292546497023, 'between'), (1.651292546497023, 'staying'), (1.8871914817108832, 'feels'), (1.651292546497023, 'mi'), (0.8465735902799727, 'now'), (0.7863065687019919, 'your'), (1.651292546497023, 'makes'), (1.3047189562170503, 'them'), (1.651292546497023, 'won'), (0.7554128118829954, 'of'), (1.651292546497023, 'done'), (1.651292546497023, 'tight'), (1.651292546497023, 'dancefloor'), (0.8465735902799727, 'up'), (1.651292546497023, 'lines'), (1.651292546497023, 'animal'), (0.9581453659370776, 'So'), (1.651292546497023, 'base'), (1.651292546497023, 'reach'), (1.651292546497023, 'faded'), (1.651292546497023, 'true'), (1.101986402162968, 'too'), (1.3047189562170503, 'but'), (1.3047189562170503, 'shit'), (1.651292546497023, 'pissed'), (0.8684975480168635, 'a'), (1.651292546497023, 'his'), (1.651292546497023, 'filled'), (1.651292546497023, 'some'), (1.651292546497023, 'swear'), (1.3047189562170503, 'cause'), (0.8465735902799727, 'all'), (1.651292546497023, 'put'), (1.651292546497023, 'replay'), (1.651292546497023, 'above'), (1.651292546497023, 'pure'), (1.651292546497023, 'alone'), (1.651292546497023, 'Praising'), (1.651292546497023, 'rush'), (1.8871914817108832, 'here'), (1.651292546497023, 'wait'), (1.651292546497023, 'shots'), (1.651292546497023, 'fake'), (1.3047189562170503, 'Every'), (2.1230904169247435, 'hair'), (1.651292546497023, 'man'), (1.651292546497023, 'scared'), (1.651292546497023, 'Through'), (1.4168396599238158, 'It'), (0.7554128118829954, 'are'), (1.651292546497023, 'Of'), (1.3047189562170503, 'will'), (0.8465735902799727, 'we'), (1.651292546497023, 'old'), (1.651292546497023, 'madman'), (1.677495800850493, 'life'), (1.651292546497023, 'took'), (1.651292546497023, 'hand'), (0.9581453659370776, '('), (1.651292546497023, 'faces'), (1.651292546497023, 'thang'), (1.651292546497023, 'trust'), (1.651292546497023, 'pledge'), (1.3047189562170503, '.'), (1.101986402162968, 'club'), (1.651292546497023, 'serve'), (1.651292546497023, 'shoes'), (1.651292546497023, 'bedsheets'), (1.651292546497023, 'Young'), (1.651292546497023, 'far'), (1.651292546497023, 'bubblin'), (1.651292546497023, 'speakers'), (1.651292546497023, 'enemies'), (1.651292546497023, 'today'), (1.651292546497023, 'lead'), (1.651292546497023, 'four'), (1.651292546497023, 'Body'), (1.4911073785337716, 'run'), (1.651292546497023, 'late'), (1.651292546497023, 'Mi'), (1.101986402162968, 'start'), (0.789543225469876, ','), (0.7554128118829954, 'that'), (1.09502327535666, 'heat'), (1.651292546497023, 'bag'), (1.651292546497023, 'forgot'), (1.3047189562170503, 'been'), (1.651292546497023, 'beyond'), (1.651292546497023, 'return'), (1.3047189562170503, 'high'), (1.651292546497023, 'low'), (1.3047189562170503, 'free'), (0.9581453659370776, 'come'), (1.651292546497023, 'dear'), (0.8633289278662803, \"'re\"), (1.3047189562170503, 'forever'), (1.651292546497023, 'If'), (1.101986402162968, \"'m\"), (1.651292546497023, 'says'), (1.651292546497023, 'conversation'), (1.3047189562170503, 'have'), (1.651292546497023, 'level'), (1.3047189562170503, 'without'), (0.9690535313848089, \"'s\"), (1.651292546497023, 'Right'), (1.651292546497023, 'short'), (1.651292546497023, 'currency'), (1.651292546497023, 'thing'), (1.651292546497023, 'simple'), (1.101986402162968, 'be'), (1.651292546497023, 'Ai'), (0.9581453659370776, 'so'), (1.651292546497023, 'line'), (1.651292546497023, '9'), (1.3047189562170503, 'follow'), (1.651292546497023, 'might'), (1.8638842231672146, 'again'), (1.651292546497023, 'Turn'), (1.651292546497023, 'over'), (1.651292546497023, 'tonight'), (1.8871914817108832, 'Gulls'), (1.651292546497023, 'wine'), (0.9581453659370776, 'can'), (1.651292546497023, 'car'), (1.677495800850493, 'eyes'), (1.651292546497023, 'reminds'), (1.651292546497023, 'waistline'), (1.101986402162968, 'how'), (1.651292546497023, 'begin'), (1.651292546497023, 'moment'), (1.651292546497023, 'rooftop'), (1.651292546497023, 'language'), (1.651292546497023, 'wave'), (1.651292546497023, 'bright'), (1.651292546497023, 'house'), (1.3047189562170503, 'Ca'), (1.651292546497023, 'world'), (1.651292546497023, 'look'), (0.6316345803759007, 'it'), (1.651292546497023, 'miss'), (1.651292546497023, 'Mama'), (1.651292546497023, 'ceiling'), (1.3047189562170503, 'boy'), (1.651292546497023, 'same'), (1.651292546497023, 'stop'), (1.259413031043392, 'dreams'), (1.101986402162968, 'Do'), (1.651292546497023, 'seen'), (1.3047189562170503, 'That'), (1.651292546497023, 'hot'), (1.651292546497023, 'kiss'), (1.3047189562170503, 'way'), (1.651292546497023, 'care'), (1.651292546497023, 'bomb'), (1.3047189562170503, '!'), (1.651292546497023, 'bout'), (1.651292546497023, 'inch'), (1.3047189562170503, 'hard'), (1.651292546497023, 'Them'), (1.651292546497023, 'Why'), (1.651292546497023, 'golden'), (1.651292546497023, 'score'), (1.651292546497023, 'first'), (1.651292546497023, 'tomorrow'), (1.3047189562170503, 'music'), (1.651292546497023, 'songs'), (1.8871914817108832, 'cry'), (2.1230904169247435, 'friend'), (0.8465735902799727, 'for'), (1.101986402162968, 'This'), (1.651292546497023, 'smile'), (0.9581453659370776, 'just'), (1.651292546497023, 'big'), (1.651292546497023, 'alright'), (1.651292546497023, 'Said'), (1.651292546497023, 'sandpit'), (1.3047189562170503, 'ca'), (1.8871914817108832, 'stand'), (1.651292546497023, 'drop'), (1.651292546497023, 'behind'), (1.651292546497023, 'given'), (1.651292546497023, 'knew'), (1.651292546497023, 'bubbly'), (1.651292546497023, 'nights'), (1.3047189562170503, \"'\"), (1.3047189562170503, 'see'), (1.651292546497023, 'falling'), (1.651292546497023, 'going'), (1.651292546497023, 'try'), (1.651292546497023, 'Then'), (1.651292546497023, 'Stop'), (1.651292546497023, 'light'), (1.651292546497023, 'week'), (1.651292546497023, 'changes'), (1.651292546497023, 'learn'), (0.967512674605683, 'make'), (1.651292546497023, 'broke'), (1.651292546497023, 'race'), (1.7316929176846638, 'need'), (0.7554128118829954, 'We'), (1.3047189562170503, 'what'), (1.651292546497023, 'lied'), (1.651292546497023, 'di'), (2.5948882873524646, 'wonderful'), (1.651292546497023, 'were'), (1.651292546497023, 'perfect'), (1.651292546497023, 'God'), (1.3047189562170503, 'sun'), (1.3047189562170503, 'time'), (1.651292546497023, 'spinning'), (1.651292546497023, 'single'), (1.651292546497023, 'every'), (1.3047189562170503, 'then'), (1.651292546497023, 'set'), (0.8633289278662803, 'You'), (1.651292546497023, 'sitting'), (1.651292546497023, 'handmade'), (1.4911073785337716, 'there'), (1.651292546497023, 'spot'), (2.1230904169247435, 'Up'), (1.651292546497023, 'lies'), (1.651292546497023, 'active'), (1.3047189562170503, 'our'), (1.3047189562170503, 'while'), (1.651292546497023, 'absurd'), (1.651292546497023, 'fading'), (1.651292546497023, 'sad'), (1.651292546497023, 'Forever'), (1.651292546497023, 'melody'), (1.651292546497023, 'disagree'), (1.3047189562170503, 'party'), (1.651292546497023, 'him'), (1.651292546497023, 'even'), (1.651292546497023, 'emotional'), (0.9581453659370776, 'ever'), (1.3047189562170503, 'really'), (1.651292546497023, 'thrifty'), (1.651292546497023, 'die'), (1.651292546497023, 'star'), (1.651292546497023, 'stops'), (1.651292546497023, 'many'), (1.651292546497023, 'window'), (1.101986402162968, 'got'), (1.3047189562170503, 'space'), (1.651292546497023, 'Sooner'), (1.651292546497023, 'secrets'), (1.651292546497023, 'jukebox'), (1.101986402162968, 'love'), (1.651292546497023, 'keep'), (1.651292546497023, 'girl'), (1.651292546497023, 'views'), (1.8871914817108832, 'Because'), (1.651292546497023, 'playing'), (1.677495800850493, 'No'), (1.651292546497023, 'Protect'), (1.651292546497023, 'saying'), (1.8871914817108832, 'sea'), (1.101986402162968, 'baby'), (1.3047189562170503, 'friends'), (1.3047189562170503, 'back'), (1.8871914817108832, 'hate'), (0.6783374719693662, 'like'), (0.7863065687019919, 'And'), (0.8736739652244355, 'me'), (0.967512674605683, 'know'), (0.6783374719693662, \"n't\"), (1.651292546497023, 'Where'), (1.651292546497023, 'may'), (1.8871914817108832, 'seem'), (1.651292546497023, 'road'), (1.651292546497023, 'adore'), (1.259413031043392, 'happy'), (1.651292546497023, 'stay'), (1.651292546497023, 'wan'), (1.651292546497023, 'slow'), (1.368779094195825, 'on'), (1.651292546497023, 'waist'), (1.651292546497023, 'down'), (1.651292546497023, 'ours'), (1.3047189562170503, \"'Cause\"), (0.9690535313848089, 'I'), (1.651292546497023, 'Drinking'), (1.651292546497023, 'justice'), (1.651292546497023, 'Daddy'), (1.651292546497023, 'gon'), (1.651292546497023, 'future'), (1.651292546497023, 'pon'), (1.651292546497023, 'Beyond'), (1.651292546497023, 'Hoping'), (1.651292546497023, 'find'), (1.651292546497023, 'from'), (1.651292546497023, 'town'), (1.651292546497023, 'record'), (1.3047189562170503, 'Everything'), (1.651292546497023, 'talk'), (0.7554128118829954, 'do'), (0.8465735902799727, 'they'), (1.3047189562170503, 'something'), (1.101986402162968, 'Is'), (1.651292546497023, 'stars'), (1.3047189562170503, 'beat'), (1.651292546497023, 'Your'), (1.101986402162968, 'play'), (0.8465735902799727, 'never'), (1.651292546497023, 'After'), (1.651292546497023, 'apartment'), (1.651292546497023, 'read'), (1.651292546497023, 'till'), (1.651292546497023, 'things'), (1.651292546497023, 'feeling'), (1.651292546497023, 'table'), (1.651292546497023, 'power'), (1.651292546497023, 'driver'), (1.651292546497023, 'beautiful'), (1.651292546497023, 'smell'), (1.651292546497023, 'adventures'), (1.651292546497023, 'Gyal'), (1.3047189562170503, 'Get'), (1.8871914817108832, 'Not'), (1.651292546497023, 'flip'), (1.651292546497023, 'lazy'), (1.651292546497023, \"'cause\"), (1.651292546497023, 'Shorty'), (1.651292546497023, 'chance'), (1.651292546497023, 'sign'), (1.651292546497023, 'approach'), (1.3047189562170503, 'Yeah'), (1.651292546497023, 'fast'), (1.651292546497023, 'Like'), (1.651292546497023, 'played'), (1.651292546497023, 'black'), (1.3047189562170503, 'day'), (1.651292546497023, 'Trying'), (1.651292546497023, 'Come'), (1.651292546497023, ';'), (1.651292546497023, 'song'), (1.651292546497023, 'allegiance'), (1.651292546497023, 'three'), (1.651292546497023, 'later'), (1.651292546497023, 'Youth'), (1.651292546497023, 'magnet'), (1.3047189562170503, 'Tell'), (1.3047189562170503, 'new'), (1.3047189562170503, 'one'), (1.651292546497023, 'ya'), (1.651292546497023, 'getting'), (1.651292546497023, 'trip'), (1.651292546497023, 'okay'), (1.3047189562170503, 'best'), (1.101986402162968, 'take'), (1.651292546497023, 'break'), (1.651292546497023, 'step-by-step'), (1.651292546497023, 'coming'), (1.651292546497023, 'doing'), (1.651292546497023, 'point'), (1.3047189562170503, 'about'), (1.4911073785337716, 'They'), (1.651292546497023, 'gyal'), (1.3047189562170503, 'trying'), (1.651292546497023, 'singing'), (1.651292546497023, 'did'), (1.651292546497023, 'push'), (0.9712450438495653, 'The'), (1.651292546497023, '...'), (1.651292546497023, 'sore'), (0.961041361746879, 'the'), (1.651292546497023, 'think'), (1.651292546497023, 'Sitting'), (1.651292546497023, 'damage'), (1.651292546497023, 'touch'), (1.651292546497023, 'much'), (1.651292546497023, 'brand'), (1.101986402162968, 'Just'), (1.3047189562170503, 'us'), (1.651292546497023, 'backseat'), (1.651292546497023, 'd-day'), (1.8871914817108832, 'magic'), (1.3047189562170503, 'Make'), (1.8871914817108832, 'hide'), (1.651292546497023, 'meet'), (1.3047189562170503, 'ends'), (1.651292546497023, 'dirty'), (1.651292546497023, 'She'), (1.8871914817108832, 'fills'), (1.3047189562170503, 'was'), (1.651292546497023, 'two'), (1.651292546497023, 'end'), (0.8465735902799727, 'this'), (1.3047189562170503, 'mind'), (1.651292546497023, 'expecting'), (1.651292546497023, 'diamonds'), (1.651292546497023, 'Dreamers'), (1.259413031043392, 'go'), (1.651292546497023, 'Some'), (1.3047189562170503, 'crazy'), (1.2949933917994207, 'my'), (1.651292546497023, 'watching'), (1.3566749439387324, 'in'), (1.651292546497023, 'babe'), (1.651292546497023, 'pull'), (0.6428571428571428, 'you'), (1.101986402162968, \"'ve\"), (1.651292546497023, 'Sky'), (1.651292546497023, 'Grab'), (1.651292546497023, 'say'), (0.8465735902799727, 'let'), (1.651292546497023, 'fill'), (1.651292546497023, 'skin'), (1.651292546497023, 'Fill'), (1.651292546497023, 'into'), (1.651292546497023, 'shake'), (1.651292546497023, 'goes'), (1.3047189562170503, 'gone'), (1.651292546497023, 'Flip'), (1.3047189562170503, 'its'), (1.651292546497023, 'independence'), (1.651292546497023, 'she'), (1.651292546497023, 'stable'), (1.651292546497023, 'could'), (1.651292546497023, 'next'), (1.259413031043392, 'To'), (1.651292546497023, 'horse'), (1.651292546497023, 'realize'), (1.651292546497023, 'thick'), (1.651292546497023, 'Say'), (1.651292546497023, 'stove'), (1.651292546497023, 'legs'), (1.651292546497023, 'By'), (0.9581453659370776, 'with'), (0.9581453659370776, 'not'), (0.8465735902799727, 'want'), (1.8871914817108832, 'There'), (1.651292546497023, 'through'), (1.651292546497023, 'more'), (1.651292546497023, \"'d\"), (1.8871914817108832, 'air'), (1.651292546497023, 'troubles'), (1.651292546497023, 'date'), (1.101986402162968, 'live'), (1.651292546497023, 'Tonight'), (1.651292546497023, 'Fills'), (1.3047189562170503, 'Baby'), (1.651292546497023, 'eat'), (1.651292546497023, 'tell'), (1.651292546497023, 'tired'), (1.651292546497023, 'comes'), (1.651292546497023, 'feel'), (1.651292546497023, 'Bubblin'), (1.651292546497023, 'He'), (1.651292546497023, 'discovering'), (1.651292546497023, 'stamp'), (1.8871914817108832, 'everywhere'), (1.101986402162968, 'room'), (1.651292546497023, 'Forget'), (1.651292546497023, 'story'), (1.651292546497023, 'worst'), (1.101986402162968, 'body'), (1.651292546497023, 'My'), (1.651292546497023, 'spaces'), (1.651292546497023, 'type'), (1.651292546497023, 'books'), (1.101986402162968, \"'ll\"), (1.651292546497023, 'Wine'), (1.651292546497023, 'Although'), (1.651292546497023, 'heard'), (0.9581453659370776, '?'), (1.651292546497023, 'wo'), (1.651292546497023, 'Declare'), (1.651292546497023, 'turn'), (1.8638842231672146, 'Here'), (1.651292546497023, 'children'), (1.651292546497023, 'everything'), (1.651292546497023, 'Heaven'), (1.3047189562170503, \"'bout\"), (1.651292546497023, 'Flipagram'), (1.3047189562170503, 'right'), (1.651292546497023, 'ancient'), (1.651292546497023, 'middle'), (1.651292546497023, 'should'), (1.651292546497023, 'wanted'), (1.651292546497023, 'Take'), (1.651292546497023, 'somebody'), (1.651292546497023, 'Are'), (1.651292546497023, 'plate'), (1.651292546497023, 'send'), (1.651292546497023, 'shot'), (1.3047189562170503, 'worry'), (1.651292546497023, 'past'), (1.651292546497023, 'fight'), (1.651292546497023, 'anything'), (1.651292546497023, 'Last'), (1.101986402162968, 'na'), (1.651292546497023, 'palm'), (1.651292546497023, 'style'), (1.651292546497023, 'white'), (1.651292546497023, 'From'), (1.651292546497023, 'uh'), (1.651292546497023, 'Girl'), (1.651292546497023, 'DJ'), (1.651292546497023, 'Man'), (2.3589893521386043, 'sunshine'), (1.651292546497023, 'skies'), (1.651292546497023, 'sweet'), (1.3047189562170503, 'leave'), (1.651292546497023, 'taxi'), (1.651292546497023, 'ting'), (1.651292546497023, 'One'), (0.967512674605683, 'Oh'), (1.651292546497023, 'ship'), (1.651292546497023, 'water'), (1.651292546497023, 'shape'), (1.3047189562170503, 'family'), (1.8871914817108832, 'Sun'), (1.651292546497023, 'lights'), (1.3047189562170503, 'bar'), (1.651292546497023, 'hours'), (1.101986402162968, 'night'), (1.651292546497023, 'Van'), (1.651292546497023, 'thinking'), (1.101986402162968, 'when'), (1.651292546497023, 'lonely'), (1.3047189562170503, 'only'), (1.651292546497023, \"'Til\"), (1.651292546497023, 'dip'), (1.651292546497023, 'show'), (1.651292546497023, 'guess'), (0.7857142857142857, 'to'), (1.0791611598328505, 'and'), (1.651292546497023, 'head'), (1.651292546497023, 'carnival'), (1.3047189562170503, 'Me'), (1.651292546497023, 'mmmm'), (1.651292546497023, 'or'), (1.4911073785337716, 'blue'), (0.775242825107847, 'is'), (1.101986402162968, 'where'), (1.3047189562170503, 'Let'), (1.651292546497023, 'good'), (1.651292546497023, 'minutes'), (1.101986402162968, 'dance'), (1.651292546497023, 'Surrounded'), (1.651292546497023, 'Can'), (1.651292546497023, 'Moon'), (1.651292546497023, 'shining'), (0.9581453659370776, 'get'), (1.3047189562170503, 'by'), (1.101986402162968, 'give'), (1.651292546497023, 'oh'), (1.651292546497023, 'hurry'), (0.9581453659370776, ')'), (1.4911073785337716, 'sky'), (1.651292546497023, 'around'), (1.651292546497023, 'pretending'), (1.3047189562170503, 'heart'), (1.651292546497023, 'swinging'), (1.651292546497023, 'cure'), (1.651292546497023, 'sour'), (1.8871914817108832, 'unfair'), (1.651292546497023, 'Emotional'), (1.651292546497023, 'CK'), (1.651292546497023, 'perish'), (1.651292546497023, 'drive'), (1.651292546497023, 'sexy'), (1.09502327535666, 'out'), (1.651292546497023, 'matters'), (1.8871914817108832, 'laugh'), (1.651292546497023, 'tune'), (1.651292546497023, 'went'), (1.651292546497023, 'morning'), (1.101986402162968, 'no'), (1.651292546497023, 'leaders'), (1.651292546497023, 'ask'), (1.651292546497023, 'place'), (1.651292546497023, 'young'), (1.651292546497023, 'ashes'), (1.651292546497023, 'Leave'), (1.651292546497023, 'blurry'), (1.651292546497023, 'nobody'), (1.4168396599238158, 'at'), (1.651292546497023, 'her'), (2.1230904169247435, 'Look'), (2.1230904169247435, 'straight'), (1.651292546497023, 'film'), (1.651292546497023, 'Start'), (1.651292546497023, 'yeah'), (1.651292546497023, 'fa'), (1.651292546497023, 'food')] Here I go out to sea again The sunshine fills my hair And dreams hang in the air Gulls in the sky and in my blue eyes You know it feels unfair There's magic everywhere Look at me standing Here on my own again Up straight in the sunshine No need to run and hide It's a wonderful, wonderful life No need to laugh and cry It's a wonderful, wonderful life Sun in your eyes The heat is in your hair They seem to hate you Because you're there And I need a friend Oh, I need a friend To make me happy Not stand here on my own Look at me standing Here on my own again Up straight in the sunshine\n"
     ]
    }
   ],
   "source": [
    "print (tfidf_representation[9], lyric10)"
   ]
  },
  {
   "cell_type": "code",
   "execution_count": null,
   "metadata": {
    "collapsed": true
   },
   "outputs": [],
   "source": []
  }
 ],
 "metadata": {
  "kernelspec": {
   "display_name": "Python 3",
   "language": "python",
   "name": "python3"
  },
  "language_info": {
   "codemirror_mode": {
    "name": "ipython",
    "version": 3
   },
   "file_extension": ".py",
   "mimetype": "text/x-python",
   "name": "python",
   "nbconvert_exporter": "python",
   "pygments_lexer": "ipython3",
   "version": "3.6.3"
  }
 },
 "nbformat": 4,
 "nbformat_minor": 2
}
